{
 "cells": [
  {
   "cell_type": "markdown",
   "metadata": {},
   "source": [
    "# Getting started\n",
    "\n",
    "It is assumed that you have read\n",
    "[start](start.ipynb)\n",
    "and followed the installation instructions there."
   ]
  },
  {
   "cell_type": "markdown",
   "metadata": {},
   "source": [
    "# Corpus\n",
    "\n",
    "This is\n",
    "\n",
    "* `quran` Q'uran"
   ]
  },
  {
   "cell_type": "markdown",
   "metadata": {},
   "source": [
    "# First acquaintance\n",
    "\n",
    "We just want to grasp what the corpus is about and how we can find our way in the data.\n",
    "\n",
    "Open a terminal or command prompt and say one of the following\n",
    "\n",
    "```text-fabric quran```\n",
    "\n",
    "Wait and see a lot happening before your browser starts up and shows you an interface on the corpus:"
   ]
  },
  {
   "cell_type": "markdown",
   "metadata": {},
   "source": [
    "Text-Fabric needs an app to deal with the corpus-specific things.\n",
    "It downloads/finds/caches the latest version of the **app**:\n",
    "\n",
    "```\n",
    "Using TF-app in /Users/dirk/text-fabric-data/annotation/app-quran/code:\n",
    "\t#c55d75da760bfdc6ae272b3ade9629fe34d059ce (latest commit)\n",
    "```\n",
    "\n",
    "It downloads/finds/caches the latest version of the **data**:\n",
    "\n",
    "```\n",
    "Using data in /Users/dirk/text-fabric-data/q-ran/quran/tf/0.4:\n",
    "\trv0.5=#60bd6788dadb13974e89df55cde7687c0593e65f (latest release)\n",
    "```\n",
    "\n",
    "The data is preprocessed in order to speed up typical Text-Fabric operations.\n",
    "The result is cached on your computer.\n",
    "Preprocessing costs time. Next time you use this corpus on this machine, the startup time is much quicker.\n",
    "\n",
    "```\n",
    "TF setup done.\n",
    "```\n",
    "\n",
    "Then the app goes on to act as a local webserver serving the corpus that has just been downloaded\n",
    "and it will open your browser for you and load the corpus page\n",
    "\n",
    "```\n",
    " * Running on http://localhost:8105/ (Press CTRL+C to quit)\n",
    "Opening quran in browser\n",
    "Listening at port 18985\n",
    "```"
   ]
  },
  {
   "cell_type": "markdown",
   "metadata": {},
   "source": [
    "<img src=\"images/q-bare.png\" width=\"600\">"
   ]
  },
  {
   "cell_type": "markdown",
   "metadata": {},
   "source": [
    "# Help!\n",
    "\n",
    "Indeed, that is what you need. Click the vertical `Help` tab.\n",
    "\n",
    "From there, click around a little bit. Don't read closely, just note the kinds of information that is presented to you.\n",
    "\n",
    "Later on, it will make more sense!"
   ]
  },
  {
   "cell_type": "markdown",
   "metadata": {},
   "source": [
    "# Browsing\n",
    "\n",
    "First we browse our data. Click the browse button.\n",
    "\n",
    "<img src=\"images/q-browse.png\" width=\"800\">\n",
    "\n",
    "and then, in the table of *documents* (suras), click on one.\n",
    "\n",
    "<img src=\"images/q-documents.png\" width=\"200\">\n"
   ]
  },
  {
   "cell_type": "markdown",
   "metadata": {},
   "source": [
    "Now you're looking at the ayas of a sura: the marks in an Arabic unicode  characters.\n",
    "\n",
    "<img src=\"images/q-sura.png\" width=\"1000\">"
   ]
  },
  {
   "cell_type": "markdown",
   "metadata": {},
   "source": [
    "Now click the *Options* tab and select the `text-trans-full` format to see the sura tablet in ascii transcription.\n",
    "\n",
    "<img src=\"images/q-ascii.png\" width=\"1000\">"
   ]
  },
  {
   "cell_type": "markdown",
   "metadata": {},
   "source": [
    "You can click a triangle to see how a line is broken down:\n",
    "\n",
    "<img src=\"images/q-drill.png\" width=\"800\">"
   ]
  },
  {
   "cell_type": "markdown",
   "metadata": {},
   "source": [
    "# Searching\n",
    "\n",
    "An  aya is a verse in a  sura.\n",
    "Let's find all the ayas that contain a verb followed by the word for Allah.\n",
    "\n",
    "Enter this query in the search pad and press the search icon above it.\n",
    "\n",
    "```\n",
    "aya\n",
    "  word pos=verb\n",
    "  <: word pos=noun\n",
    "          posx=proper\n",
    "          root=Alh\n",
    "```\n",
    "\n",
    "<img src=\"images/q-search.png\" width=\"1200\">"
   ]
  },
  {
   "cell_type": "markdown",
   "metadata": {},
   "source": [
    "In English:\n",
    "\n",
    "search all `aya`s that contain a `word` and a `word`  where:\n",
    "\n",
    "* `<:` the second `word` follows immediately on the first `word`\n",
    "* the first `word` has value `verb`  for feature `pos` (part-of-speech)\n",
    "* the second `word` has\n",
    "  * value `noun`  for feature `pos`\n",
    "  * value `proper` for feature `posx` (subcategorisation of part-of-speech)\n",
    "  * value `Alh` for feature `root` (basic word form, more fundamental than lemma)"
   ]
  },
  {
   "cell_type": "markdown",
   "metadata": {},
   "source": [
    "You can expand results by clicking the triangle.\n",
    "\n",
    "You can see the result in context by  clicking the browse icon.\n",
    "\n",
    "You can go back to the result list by clicking the results icon.\n",
    "\n",
    "<img src=\"images/q-back.png\" width=\"1000\">"
   ]
  },
  {
   "cell_type": "markdown",
   "metadata": {},
   "source": [
    "This corpus has a feature for ayas in which an English translation is given: `translation@en`.\n",
    "\n",
    "We can trigger the display of these translations by mentioning the feature in the query without posing additional constraints:\n",
    "\n",
    "```\n",
    "aya translation@en*\n",
    "  word pos=verb\n",
    "  <: word pos=noun\n",
    "          posx=proper\n",
    "          root=Alh\n",
    "```\n",
    "\n",
    "The `*` means: any value or even no value.\n",
    "\n",
    "<img src=\"images/q-search2.png\" width=\"1200\">"
   ]
  },
  {
   "cell_type": "markdown",
   "metadata": {},
   "source": [
    "# Computing\n",
    "\n",
    "We have found verbs associated with Allah.\n",
    "\n",
    "The question comes to mind: are there verbs that are associated with Allah only in this way?\n",
    "\n",
    "Let us look for verbs, followed by nouns, and for each verb, count how many different nouns occur in that position.\n",
    "\n",
    "*This is a typical question where you want to leave the search mode and enter computing mode*.\n",
    "\n",
    "Let's do that!"
   ]
  },
  {
   "cell_type": "markdown",
   "metadata": {},
   "source": [
    "If you have followed the installation instructions, you are set.\n",
    "Go to the browser window that opened when you gave the command `jupyter notebook` in your terminal.\n",
    "\n",
    "Then continue reading, and, ... executing.\n",
    "\n",
    "You can execute a cell by putting your cursor inside it and pressing `Shift Enter`."
   ]
  },
  {
   "cell_type": "markdown",
   "metadata": {},
   "source": [
    "First we load the Text-Fabric module, as follows:"
   ]
  },
  {
   "cell_type": "code",
   "execution_count": 1,
   "metadata": {},
   "outputs": [],
   "source": [
    "import collections\n",
    "import seaborn as sns\n",
    "from tf.app import use"
   ]
  },
  {
   "cell_type": "markdown",
   "metadata": {},
   "source": [
    "Now we load the TF-app for the corpus `quran` and that app loads the corpus data.\n",
    "\n",
    "We give a name to the result of all that loading: `A`."
   ]
  },
  {
   "cell_type": "code",
   "execution_count": 2,
   "metadata": {},
   "outputs": [
    {
     "data": {
      "text/html": [
       "<b title=\"local github\">TF-app:</b> <span title=\"repo clone offline under ~/github\">~/github/annotation/app-quran/code</span>"
      ],
      "text/plain": [
       "<IPython.core.display.HTML object>"
      ]
     },
     "metadata": {},
     "output_type": "display_data"
    },
    {
     "data": {
      "text/html": [
       "<b title=\"local github\">data:</b> <span title=\"repo clone offline under ~/github\">~/github/q-ran/quran/tf/0.4</span>"
      ],
      "text/plain": [
       "<IPython.core.display.HTML object>"
      ]
     },
     "metadata": {},
     "output_type": "display_data"
    },
    {
     "data": {
      "text/html": [
       "<b>Text-Fabric:</b> <a target=\"_blank\" href=\"https://annotation.github.io/text-fabric/cheatsheet.html\" title=\"text-fabric-api\">Text-Fabric API 8.3.0</a>, <a target=\"_blank\" href=\"https://github.com/annotation/app-quran\" title=\"quran TF-app\">app-quran</a>, <a target=\"_blank\" href=\"https://annotation.github.io/text-fabric/about/searchusage.html\" title=\"Search Templates Introduction and Reference\">Search Reference</a><br><b>Data:</b> <a target=\"_blank\" href=\"https://github.com/q-ran/quran/blob/master/docs/features.md\" title=\"provenance of Quran\">QURAN</a>, <a target=\"_blank\" href=\"https://annotation.github.io/text-fabric/writing/arabic.html\" title=\"How TF features represent text\">Character table</a>, <a target=\"_blank\" href=\"https://github.com/q-ran/quran/blob/master/docs/features.md\" title=\"QURAN feature documentation\">Feature docs</a><br><b>Features:</b><br><details><summary><b>Quran</b></summary><a target=\"_blank\" href=\"https://github.com/q-ran/quran/blob/master/docs/features.md\" title=\"~/github/q-ran/quran/tf/0.4/a.tf\">a</a><br><a target=\"_blank\" href=\"https://github.com/q-ran/quran/blob/master/docs/features.md\" title=\"~/github/q-ran/quran/tf/0.4/ascii.tf\">ascii</a><br><a target=\"_blank\" href=\"https://github.com/q-ran/quran/blob/master/docs/features.md\" title=\"~/github/q-ran/quran/tf/0.4/ax.tf\">ax</a><br><a target=\"_blank\" href=\"https://github.com/q-ran/quran/blob/master/docs/features.md\" title=\"~/github/q-ran/quran/tf/0.4/case.tf\">case</a><br><a target=\"_blank\" href=\"https://github.com/q-ran/quran/blob/master/docs/features.md\" title=\"~/github/q-ran/quran/tf/0.4/component.tf\">component</a><br><a target=\"_blank\" href=\"https://github.com/q-ran/quran/blob/master/docs/features.md\" title=\"~/github/q-ran/quran/tf/0.4/definite.tf\">definite</a><br><a target=\"_blank\" href=\"https://github.com/q-ran/quran/blob/master/docs/features.md\" title=\"~/github/q-ran/quran/tf/0.4/f.tf\">f</a><br><a target=\"_blank\" href=\"https://github.com/q-ran/quran/blob/master/docs/features.md\" title=\"~/github/q-ran/quran/tf/0.4/formation.tf\">formation</a><br><a target=\"_blank\" href=\"https://github.com/q-ran/quran/blob/master/docs/features.md\" title=\"~/github/q-ran/quran/tf/0.4/fx.tf\">fx</a><br><a target=\"_blank\" href=\"https://github.com/q-ran/quran/blob/master/docs/features.md\" title=\"~/github/q-ran/quran/tf/0.4/gn.tf\">gn</a><br><a target=\"_blank\" href=\"https://github.com/q-ran/quran/blob/master/docs/features.md\" title=\"~/github/q-ran/quran/tf/0.4/interjection.tf\">interjection</a><br><a target=\"_blank\" href=\"https://github.com/q-ran/quran/blob/master/docs/features.md\" title=\"~/github/q-ran/quran/tf/0.4/l.tf\">l</a><br><a target=\"_blank\" href=\"https://github.com/q-ran/quran/blob/master/docs/features.md\" title=\"~/github/q-ran/quran/tf/0.4/lemma.tf\">lemma</a><br><a target=\"_blank\" href=\"https://github.com/q-ran/quran/blob/master/docs/features.md\" title=\"~/github/q-ran/quran/tf/0.4/lx.tf\">lx</a><br><a target=\"_blank\" href=\"https://github.com/q-ran/quran/blob/master/docs/features.md\" title=\"~/github/q-ran/quran/tf/0.4/mood.tf\">mood</a><br><a target=\"_blank\" href=\"https://github.com/q-ran/quran/blob/master/docs/features.md\" title=\"~/github/q-ran/quran/tf/0.4/n.tf\">n</a><br><a target=\"_blank\" href=\"https://github.com/q-ran/quran/blob/master/docs/features.md\" title=\"~/github/q-ran/quran/tf/0.4/name.tf\">name</a><br><a target=\"_blank\" href=\"https://github.com/q-ran/quran/blob/master/docs/features.md\" title=\"~/github/q-ran/quran/tf/0.4/name@en.tf\">name@ll</a><br><a target=\"_blank\" href=\"https://github.com/q-ran/quran/blob/master/docs/features.md\" title=\"~/github/q-ran/quran/tf/0.4/nameAscii.tf\">nameAscii</a><br><a target=\"_blank\" href=\"https://github.com/q-ran/quran/blob/master/docs/features.md\" title=\"~/github/q-ran/quran/tf/0.4/nameTrans.tf\">nameTrans</a><br><a target=\"_blank\" href=\"https://github.com/q-ran/quran/blob/master/docs/features.md\" title=\"~/github/q-ran/quran/tf/0.4/nu.tf\">nu</a><br><a target=\"_blank\" href=\"https://github.com/q-ran/quran/blob/master/docs/features.md\" title=\"~/github/q-ran/quran/tf/0.4/number.tf\">number</a><br><a target=\"_blank\" href=\"https://github.com/q-ran/quran/blob/master/docs/features.md\" title=\"~/github/q-ran/quran/tf/0.4/order.tf\">order</a><br><a target=\"_blank\" href=\"https://github.com/q-ran/quran/blob/master/docs/features.md\" title=\"~/github/q-ran/quran/tf/0.4/otype.tf\">otype</a><br><a target=\"_blank\" href=\"https://github.com/q-ran/quran/blob/master/docs/features.md\" title=\"~/github/q-ran/quran/tf/0.4/pos.tf\">pos</a><br><a target=\"_blank\" href=\"https://github.com/q-ran/quran/blob/master/docs/features.md\" title=\"~/github/q-ran/quran/tf/0.4/posx.tf\">posx</a><br><a target=\"_blank\" href=\"https://github.com/q-ran/quran/blob/master/docs/features.md\" title=\"~/github/q-ran/quran/tf/0.4/ps.tf\">ps</a><br><a target=\"_blank\" href=\"https://github.com/q-ran/quran/blob/master/docs/features.md\" title=\"~/github/q-ran/quran/tf/0.4/root.tf\">root</a><br><a target=\"_blank\" href=\"https://github.com/q-ran/quran/blob/master/docs/features.md\" title=\"~/github/q-ran/quran/tf/0.4/sp.tf\">sp</a><br><a target=\"_blank\" href=\"https://github.com/q-ran/quran/blob/master/docs/features.md\" title=\"~/github/q-ran/quran/tf/0.4/space.tf\">space</a><br><a target=\"_blank\" href=\"https://github.com/q-ran/quran/blob/master/docs/features.md\" title=\"~/github/q-ran/quran/tf/0.4/tense.tf\">tense</a><br><a target=\"_blank\" href=\"https://github.com/q-ran/quran/blob/master/docs/features.md\" title=\"~/github/q-ran/quran/tf/0.4/translation@en.tf\">translation@ll</a><br><a target=\"_blank\" href=\"https://github.com/q-ran/quran/blob/master/docs/features.md\" title=\"~/github/q-ran/quran/tf/0.4/type.tf\">type</a><br><a target=\"_blank\" href=\"https://github.com/q-ran/quran/blob/master/docs/features.md\" title=\"~/github/q-ran/quran/tf/0.4/unicode.tf\">unicode</a><br><a target=\"_blank\" href=\"https://github.com/q-ran/quran/blob/master/docs/features.md\" title=\"~/github/q-ran/quran/tf/0.4/voice.tf\">voice</a><br><a target=\"_blank\" href=\"https://github.com/q-ran/quran/blob/master/docs/features.md\" title=\"~/github/q-ran/quran/tf/0.4/w.tf\">w</a><br><a target=\"_blank\" href=\"https://github.com/q-ran/quran/blob/master/docs/features.md\" title=\"~/github/q-ran/quran/tf/0.4/wx.tf\">wx</a><br><b><i><a target=\"_blank\" href=\"https://github.com/q-ran/quran/blob/master/docs/features.md\" title=\"~/github/q-ran/quran/tf/0.4/oslots.tf\">oslots</a></i></b><br></details>"
      ],
      "text/plain": [
       "<IPython.core.display.HTML object>"
      ]
     },
     "metadata": {},
     "output_type": "display_data"
    },
    {
     "data": {
      "text/html": [
       "<style>tr.tf.ltr, td.tf.ltr, th.tf.ltr { text-align: left ! important;}\n",
       "tr.tf.rtl, td.tf.rtl, th.tf.rtl { text-align: right ! important;}\n",
       "@font-face {\n",
       "  font-family: \"Ezra SIL\";\n",
       "  src: local('Ezra SIL'), local('EzraSIL'),\n",
       "    url('/server/static/fonts/SILEOT.woff') format('woff'),\n",
       "    url('https://github.com/annotation/text-fabric/blob/master/tf/server/static/fonts/SILEOT.woff?raw=true') format('woff');\n",
       "}\n",
       "\n",
       "@font-face {\n",
       "  font-family: \"SBL Hebrew\";\n",
       "  src: local('SBL Hebrew'), local('SBLHebrew'),\n",
       "    url('/server/static/fonts/SBL_Hbrw.woff') format('woff'),\n",
       "    url('https://github.com/annotation/text-fabric/blob/master/tf/server/static/fonts/SBL_Hbrw.woff?raw=true') format('woff');\n",
       "}\n",
       "\n",
       "@font-face {\n",
       "  font-family: \"Estrangelo Edessa\";\n",
       "  src: local('Estrangelo Edessa'), local('EstrangeloEdessa');\n",
       "    url('/server/static/fonts/SyrCOMEdessa.woff') format('woff'),\n",
       "    url('https://github.com/annotation/text-fabric/blob/master/tf/server/static/fonts/SyrCOMEdessa.woff?raw=true') format('woff');\n",
       "}\n",
       "\n",
       "@font-face {\n",
       "  font-family: AmiriQuran;\n",
       "  font-style: normal;\n",
       "  font-weight: 400;\n",
       "  src: local('Amiri Quran'), local('AmiriQuran'),\n",
       "    url('/server/static/fonts/AmiriQuran.woff') format('woff'),\n",
       "    url('https://github.com/annotation/text-fabric/blob/master/tf/server/static/fonts/AmiriQuran.woff?raw=true') format('woff');\n",
       "}\n",
       "\n",
       "@font-face {\n",
       "  font-family: AmiriQuranColored;\n",
       "  font-style: normal;\n",
       "  font-weight: 400;\n",
       "  src: local('Amiri Quran Colored'), local('AmiriQuranColored'),\n",
       "    url('/server/static/fonts/AmiriQuranColored.woff') format('woff'),\n",
       "    url('https://github.com/annotation/text-fabric/blob/master/tf/server/static/fonts/AmiriQuranColored.woff?raw=true') format('woff');\n",
       "}\n",
       "\n",
       "@font-face {\n",
       "  font-family: \"Santakku\";\n",
       "  src: local('Santakku'),\n",
       "    url('/server/static/fonts/Santakku.woff') format('woff'),\n",
       "    url('https://github.com/annotation/text-fabric/blob/master/tf/server/static/fonts/Santakku.woff?raw=true') format('woff');\n",
       "}\n",
       "\n",
       "@font-face {\n",
       "  font-family: \"SantakkuM\";\n",
       "  src: local('SantakkuM'),\n",
       "    url('/server/static/fonts/SantakkuM.woff') format('woff'),\n",
       "    url('https://github.com/annotation/text-fabric/blob/master/tf/server/static/fonts/SantakkuM.woff?raw=true') format('woff');\n",
       "}\n",
       "/* bypassing some classical notebook settings */\n",
       "div#notebook {\n",
       "  line-height: unset;\n",
       "}\n",
       "/* neutral text */\n",
       ".txtn,.txtn a:visited,.txtn a:link {\n",
       "    font-family: sans-serif;\n",
       "    font-size: medium;\n",
       "    direction: ltr;\n",
       "    text-decoration: none;\n",
       "    color: var(--text-color);\n",
       "}\n",
       "/* transcription text */\n",
       ".txtt,.txtt a:visited,.txtt a:link {\n",
       "    font-family: monospace;\n",
       "    font-size: medium;\n",
       "    direction: ltr;\n",
       "    text-decoration: none;\n",
       "    color: var(--text-color);\n",
       "}\n",
       "/* source text */\n",
       ".txto,.txto a:visited,.txto a:link {\n",
       "    font-family: serif;\n",
       "    font-size: medium;\n",
       "    direction: ltr;\n",
       "    text-decoration: none;\n",
       "    color: var(--text-color);\n",
       "}\n",
       "/* phonetic text */\n",
       ".txtp,.txtp a:visited,.txtp a:link {\n",
       "    font-family: Gentium, sans-serif;\n",
       "    font-size: medium;\n",
       "    direction: ltr;\n",
       "    text-decoration: none;\n",
       "    color: var(--text-color);\n",
       "}\n",
       "/* original script text */\n",
       ".txtu,.txtu a:visited,.txtu a:link {\n",
       "    font-family: Gentium, sans-serif;\n",
       "    font-size: medium;\n",
       "    text-decoration: none;\n",
       "    color: var(--text-color);\n",
       "}\n",
       "/* hebrew */\n",
       ".txtu.hbo,.lex.hbo {\n",
       "    font-family: \"Ezra SIL\", \"SBL Hebrew\", sans-serif;\n",
       "    font-size: large;\n",
       "    direction: rtl ! important;\n",
       "    unicode-bidi: embed;\n",
       "}\n",
       "/* syriac */\n",
       ".txtu.syc,.lex.syc {\n",
       "    font-family: \"Estrangelo Edessa\", sans-serif;\n",
       "    font-size: medium;\n",
       "    direction: rtl ! important;\n",
       "    unicode-bidi: embed;\n",
       "}\n",
       "/* neo aramaic */\n",
       ".txtu.cld,.lex.cld {\n",
       "    font-family: \"CharisSIL-R\", sans-serif;\n",
       "    font-size: medium;\n",
       "    direction: ltr ! important;\n",
       "    unicode-bidi: embed;\n",
       "}\n",
       "/* standard arabic */\n",
       ".txtu.ara,.lex.ara {\n",
       "    font-family: \"AmiriQuran\", sans-serif;\n",
       "    font-size: large;\n",
       "    direction: rtl ! important;\n",
       "    unicode-bidi: embed;\n",
       "}\n",
       "/* cuneiform */\n",
       ".txtu.akk,.lex.akk {\n",
       "    font-family: Santakku, sans-serif;\n",
       "    font-size: large;\n",
       "    direction: ltr ! important;\n",
       "    unicode-bidi: embed;\n",
       "}\n",
       "/* greek */\n",
       ".txtu.grc,.lex.grc a:link {\n",
       "    font-family: Gentium, sans-serif;\n",
       "    font-size: medium;\n",
       "    direction: ltr ! important;\n",
       "    unicode-bidi: embed;\n",
       "}\n",
       "a:hover {\n",
       "    text-decoration: underline | important;\n",
       "    color: #0000ff | important;\n",
       "}\n",
       ".ltr {\n",
       "    direction: ltr ! important;\n",
       "}\n",
       ".rtl {\n",
       "    direction: rtl ! important;\n",
       "}\n",
       ".features {\n",
       "    font-family: monospace;\n",
       "    font-size: medium;\n",
       "    font-weight: bold;\n",
       "    color: var(--features);\n",
       "    display: flex;\n",
       "    flex-flow: column nowrap;\n",
       "    justify-content: flex-start;\n",
       "    align-items: flex-start;\n",
       "    align-content: flex-start;\n",
       "    padding: 0.1rem;\n",
       "    margin: 0.1rem;\n",
       "    direction: ltr;\n",
       "    border: var(--meta-width) solid var(--meta-color);\n",
       "    border-radius: var(--meta-width);\n",
       "}\n",
       ".features div,.features span {\n",
       "    padding: 0;\n",
       "    margin: -0.1rem 0;\n",
       "}\n",
       ".features .f {\n",
       "    font-family: sans-serif;\n",
       "    font-size: small;\n",
       "    font-weight: normal;\n",
       "    color: #5555bb;\n",
       "}\n",
       ".features .xft {\n",
       "  color: #000000;\n",
       "  background-color: #eeeeee;\n",
       "  font-size: medium;\n",
       "  margin: 0.1rem 0rem;\n",
       "}\n",
       ".features .xft .f {\n",
       "  color: #000000;\n",
       "  background-color: #eeeeee;\n",
       "  font-size: small;\n",
       "  font-weight: normal;\n",
       "}\n",
       ".section {\n",
       "    font-family: sans-serif;\n",
       "    font-size: small;\n",
       "    font-weight: bold;\n",
       "    color: var(--section);\n",
       "    unicode-bidi: embed;\n",
       "    text-align: start;\n",
       "}\n",
       ".structure {\n",
       "    font-family: sans-serif;\n",
       "    font-size: small;\n",
       "    font-weight: bold;\n",
       "    color: var(--structure);\n",
       "    unicode-bidi: embed;\n",
       "    text-align: start;\n",
       "}\n",
       ".comments {\n",
       "    display: flex;\n",
       "    justify-content: flex-start;\n",
       "    align-items: flex-start;\n",
       "    align-content: flex-start;\n",
       "    flex-flow: column nowrap;\n",
       "}\n",
       ".nd, a:link.nd {\n",
       "    font-family: sans-serif;\n",
       "    font-size: small;\n",
       "    color: var(--node);\n",
       "    vertical-align: super;\n",
       "    direction: ltr ! important;\n",
       "    unicode-bidi: embed;\n",
       "}\n",
       ".lex {\n",
       "  color: var(--lex-color);;\n",
       "}\n",
       ".children,.children.ltr {\n",
       "    display: flex;\n",
       "    border: 0;\n",
       "    background-color: #ffffff;\n",
       "    justify-content: flex-start;\n",
       "    align-items: flex-start;\n",
       "    align-content: flex-start;\n",
       "}\n",
       ".children.stretch {\n",
       "    align-items: stretch;\n",
       "}\n",
       ".children.hor {\n",
       "    flex-flow: row nowrap;\n",
       "}\n",
       ".children.hor.wrap {\n",
       "    flex-flow: row wrap;\n",
       "}\n",
       ".children.ver {\n",
       "    flex-flow: column nowrap;\n",
       "}\n",
       ".children.ver.wrap {\n",
       "    flex-flow: column wrap;\n",
       "}\n",
       ".contnr {\n",
       "    width: fit-content;\n",
       "    display: flex;\n",
       "    justify-content: flex-start;\n",
       "    align-items: flex-start;\n",
       "    align-content: flex-start;\n",
       "    flex-flow: column nowrap;\n",
       "    background: #ffffff none repeat scroll 0 0;\n",
       "    padding:  0.5rem 0.1rem 0.1rem 0.1rem;\n",
       "    margin: 0.8rem 0.1rem 0.1rem 0.1rem;\n",
       "    border-style: solid;\n",
       "    font-size: small;\n",
       "}\n",
       ".contnr.trm {\n",
       "    background-attachment: local;\n",
       "}\n",
       ".contnr.cnul {\n",
       "    padding:  0;\n",
       "    margin: 0;\n",
       "    border-style: solid;\n",
       "    font-size: xx-small;\n",
       "}\n",
       ".contnr.cnul,.lbl.cnul {\n",
       "    border-color: var(--border-color-nul);\n",
       "    border-width: var(--border-width-nul);\n",
       "    border-radius: var(--border-width-nul);\n",
       "}\n",
       ".contnr.c0,.lbl.c0 {\n",
       "    border-color: var(--border-color0);\n",
       "    border-width: var(--border-width0);\n",
       "    border-radius: var(--border-width0);\n",
       "}\n",
       ".contnr.c1,.lbl.c1 {\n",
       "    border-color: var(--border-color1);\n",
       "    border-width: var(--border-width1);\n",
       "    border-radius: var(--border-width1);\n",
       "}\n",
       ".contnr.c2,.lbl.c2 {\n",
       "    border-color: var(--border-color2);\n",
       "    border-width: var(--border-width2);\n",
       "    border-radius: var(--border-width2);\n",
       "}\n",
       ".contnr.c3,.lbl.c3 {\n",
       "    border-color: var(--border-color3);\n",
       "    border-width: var(--border-width3);\n",
       "    border-radius: var(--border-width3);\n",
       "}\n",
       ".contnr.c4,.lbl.c4 {\n",
       "    border-color: var(--border-color4);\n",
       "    border-width: var(--border-width4);\n",
       "    border-radius: var(--border-width4);\n",
       "}\n",
       "span.plain {\n",
       "    display: inline-block;\n",
       "    white-space: pre-wrap;\n",
       "}\n",
       ".plain {\n",
       "    background-color: #ffffff;\n",
       "}\n",
       ".plain.l,.contnr.l,.contnr.l>.lbl {\n",
       "    border-left-style: dotted\n",
       "}\n",
       ".plain.r,.contnr.r,.contnr.r>.lbl {\n",
       "    border-right-style: dotted\n",
       "}\n",
       ".plain.lno,.contnr.lno,.contnr.lno>.lbl {\n",
       "    border-left-style: none\n",
       "}\n",
       ".plain.rno,.contnr.rno,.contnr.rno>.lbl {\n",
       "    border-right-style: none\n",
       "}\n",
       ".plain.l {\n",
       "    padding-left: 0.2rem;\n",
       "    margin-left: 0.1rem;\n",
       "    border-width: var(--border-width-plain);\n",
       "}\n",
       ".plain.r {\n",
       "    padding-right: 0.2rem;\n",
       "    margin-right: 0.1rem;\n",
       "    border-width: var(--border-width-plain);\n",
       "}\n",
       ".lbl {\n",
       "    font-family: monospace;\n",
       "    margin-top: -1.2rem;\n",
       "    margin-left: 1rem;\n",
       "    background: #ffffff none repeat scroll 0 0;\n",
       "    padding: 0 0.3rem;\n",
       "    border-style: solid;\n",
       "    display: block;\n",
       "    color: var(--label)\n",
       "}\n",
       ".lbl.trm {\n",
       "    background-attachment: local;\n",
       "    margin-top: 0.1rem;\n",
       "    margin-left: 0.1rem;\n",
       "    padding: 0.1rem 0.1rem;\n",
       "    border-style: none;\n",
       "}\n",
       ".lbl.cnul {\n",
       "    font-size: xx-small;\n",
       "}\n",
       ".lbl.c0 {\n",
       "    font-size: small;\n",
       "}\n",
       ".lbl.c1 {\n",
       "    font-size: small;\n",
       "}\n",
       ".lbl.c2 {\n",
       "    font-size: medium;\n",
       "}\n",
       ".lbl.c3 {\n",
       "    font-size: medium;\n",
       "}\n",
       ".lbl.c4 {\n",
       "    font-size: large;\n",
       "}\n",
       ".occs, a:link.occs {\n",
       "    font-size: small;\n",
       "}\n",
       "\n",
       "/* PROVENANCE */\n",
       "\n",
       "div.prov {\n",
       "\tmargin: 2rem;\n",
       "\tpadding: 1rem;\n",
       "\tborder: 0.1rem solid var(--fog-rim);\n",
       "}\n",
       "div.pline {\n",
       "\tdisplay: flex;\n",
       "\tflex-flow: row nowrap;\n",
       "\tjustify-content: stretch;\n",
       "\talign-items: baseline;\n",
       "}\n",
       "div.p2line {\n",
       "\tmargin-left: 2em;\n",
       "\tdisplay: flex;\n",
       "\tflex-flow: row nowrap;\n",
       "\tjustify-content: stretch;\n",
       "\talign-items: baseline;\n",
       "}\n",
       "div.psline {\n",
       "\tdisplay: flex;\n",
       "\tflex-flow: row nowrap;\n",
       "\tjustify-content: stretch;\n",
       "\talign-items: baseline;\n",
       "\tbackground-color: var(--gold-mist-back);\n",
       "}\n",
       "div.pname {\n",
       "\tflex: 0 0 5rem;\n",
       "\tfont-weight: bold;\n",
       "}\n",
       "div.pval {\n",
       "    flex: 1 1 auto;\n",
       "}\n",
       "\n",
       ":root {\n",
       "\t--node:               hsla(120, 100%,  20%, 1.0  );\n",
       "\t--label:              hsla(  0, 100%,  20%, 1.0  );\n",
       "\t--section:            hsla(  0, 100%,  25%, 1.0  );\n",
       "\t--structure:          hsla(120, 100%,  25%, 1.0  );\n",
       "\t--features:           hsla(  0,   0%,  30%, 1.0  );\n",
       "  --text-color:         hsla( 60,  80%,  10%, 1.0  );\n",
       "  --lex-color:          hsla(220,  90%,  60%, 1.0  );\n",
       "  --meta-color:         hsla(  0,   0%,  90%, 0.7  );\n",
       "  --meta-width:         0.15rem;\n",
       "  --border-color-nul:   hsla(  0,   0%,  90%, 0.5  );\n",
       "  --border-color0:      hsla(  0,   0%,  90%, 0.9  );\n",
       "  --border-color1:      hsla(  0,   0%,  80%, 0.9  );\n",
       "  --border-color2:      hsla(  0,   0%,  70%, 0.9  );\n",
       "  --border-color3:      hsla(  0,   0%,  80%, 0.8  );\n",
       "  --border-color4:      hsla(  0,   0%,  60%, 0.9  );\n",
       "  --border-width-nul:   0.1rem;\n",
       "  --border-width0:      0.1rem;\n",
       "  --border-width1:      0.15rem;\n",
       "  --border-width2:      0.2rem;\n",
       "  --border-width3:      0.3rem;\n",
       "  --border-width4:      0.25rem;\n",
       "  --border-width-plain: 0.1rem;\n",
       "}\n",
       ".hl {\n",
       "  background-color: var(--hl-strong);\n",
       "}\n",
       "span.hl {\n",
       "\tbackground-color: var(--hl-strong);\n",
       "\tborder-width: 0;\n",
       "\tborder-radius: 0.1rem;\n",
       "\tborder-style: solid;\n",
       "}\n",
       "div.contnr.hl,div.lbl.hl {\n",
       "  background-color: var(--hl-strong);\n",
       "}\n",
       "div.contnr.hl {\n",
       "  border-color: var(--hl-rim) ! important;\n",
       "\tborder-width: 0.2rem ! important;\n",
       "}\n",
       "\n",
       "span.hlbx {\n",
       "\tborder-color: var(--hl-rim);\n",
       "\tborder-width: 0.2rem ! important;\n",
       "\tborder-style: solid;\n",
       "\tborder-radius: 0.3rem;\n",
       "  padding: 0.2rem;\n",
       "  margin: 0.2rem;\n",
       "}\n",
       "\n",
       "span.plain {\n",
       "  display: inline-block;\n",
       "  white-space: pre-wrap;\n",
       "}\n",
       "\n",
       ":root {\n",
       "\t--hl-strong:        hsla( 60, 100%,  70%, 0.9  );\n",
       "\t--hl-rim:           hsla( 55,  80%,  50%, 1.0  );\n",
       "}\n",
       "</style>"
      ],
      "text/plain": [
       "<IPython.core.display.HTML object>"
      ]
     },
     "metadata": {},
     "output_type": "display_data"
    },
    {
     "data": {
      "text/html": [
       "<div><b>Text-Fabric API:</b> names <a target=\"_blank\" href=\"https://annotation.github.io/text-fabric/cheatsheet.html\" title=\"doc\">N F E L T S C TF</a> directly usable</div><hr>"
      ],
      "text/plain": [
       "<IPython.core.display.HTML object>"
      ]
     },
     "metadata": {},
     "output_type": "display_data"
    }
   ],
   "source": [
    "A = use(\"quran:clone\", checkout=\"clone\", hoist=globals())\n",
    "# A = use('quran', hoist=globals())"
   ]
  },
  {
   "cell_type": "markdown",
   "metadata": {},
   "source": [
    "Some bits are familiar from above, when you ran the `text-fabric` command in the terminal.\n",
    "\n",
    "Other bits are links to the documentation, they point to the same places as the links on the Text-Fabric browser.\n",
    "\n",
    "You see a list of all the data features that have been loaded.\n",
    "\n",
    "And a list of references to the API documentation, which tells you how you can use this data in your program statements."
   ]
  },
  {
   "cell_type": "markdown",
   "metadata": {},
   "source": [
    "# Searching (revisited)\n",
    "\n",
    "We do the same search again, but now inside our program.\n",
    "\n",
    "That means that we can capture the results in a list for further processing."
   ]
  },
  {
   "cell_type": "code",
   "execution_count": 3,
   "metadata": {},
   "outputs": [
    {
     "name": "stdout",
     "output_type": "stream",
     "text": [
      "  0.34s 529 results\n"
     ]
    }
   ],
   "source": [
    "results = A.search(\n",
    "    \"\"\"\n",
    "aya\n",
    "  word pos=verb\n",
    "  <: word pos=noun\n",
    "          posx=proper\n",
    "          root=Alh\n",
    "\"\"\"\n",
    ")"
   ]
  },
  {
   "cell_type": "markdown",
   "metadata": {},
   "source": [
    "In less than a second, we have all the results!\n",
    "\n",
    "Let's look at the first one:"
   ]
  },
  {
   "cell_type": "code",
   "execution_count": 4,
   "metadata": {},
   "outputs": [
    {
     "data": {
      "text/plain": [
       "(128233, 131, 132)"
      ]
     },
     "execution_count": 4,
     "metadata": {},
     "output_type": "execute_result"
    }
   ],
   "source": [
    "results[0]"
   ]
  },
  {
   "cell_type": "markdown",
   "metadata": {},
   "source": [
    "Each result is a list of numbers: for a\n",
    "\n",
    "1. aya\n",
    "1. word\n",
    "1. word"
   ]
  },
  {
   "cell_type": "markdown",
   "metadata": {},
   "source": [
    "Here is the  second one:"
   ]
  },
  {
   "cell_type": "code",
   "execution_count": 5,
   "metadata": {},
   "outputs": [
    {
     "data": {
      "text/plain": [
       "(128243, 341, 342)"
      ]
     },
     "execution_count": 5,
     "metadata": {},
     "output_type": "execute_result"
    }
   ],
   "source": [
    "results[1]"
   ]
  },
  {
   "cell_type": "markdown",
   "metadata": {},
   "source": [
    "And here the last one:"
   ]
  },
  {
   "cell_type": "code",
   "execution_count": 6,
   "metadata": {},
   "outputs": [
    {
     "data": {
      "text/plain": [
       "(134357, 127588, 127589)"
      ]
     },
     "execution_count": 6,
     "metadata": {},
     "output_type": "execute_result"
    }
   ],
   "source": [
    "results[-1]"
   ]
  },
  {
   "cell_type": "markdown",
   "metadata": {},
   "source": [
    "Now we modify the query to get all pairs of proper verbs followed by a proper noun."
   ]
  },
  {
   "cell_type": "code",
   "execution_count": 7,
   "metadata": {},
   "outputs": [
    {
     "name": "stdout",
     "output_type": "stream",
     "text": [
      "  0.30s 2103 results\n"
     ]
    }
   ],
   "source": [
    "results = A.search(\n",
    "    \"\"\"\n",
    "aya\n",
    "  word pos=verb\n",
    "  <: word pos=noun\n",
    "\"\"\"\n",
    ")"
   ]
  },
  {
   "cell_type": "markdown",
   "metadata": {},
   "source": [
    "We are going to make buckets for the root of each verb found, and in those buckets we throw the roots of all nouns found after them.\n",
    "We also count the number of occurrences of each noun root in the buckets."
   ]
  },
  {
   "cell_type": "code",
   "execution_count": 9,
   "metadata": {},
   "outputs": [],
   "source": [
    "buckets = collections.defaultdict(collections.Counter)"
   ]
  },
  {
   "cell_type": "code",
   "execution_count": 10,
   "metadata": {},
   "outputs": [],
   "source": [
    "for (aya, verb, noun) in results:\n",
    "    buckets[F.root.v(verb)][F.root.v(noun)] += 1"
   ]
  },
  {
   "cell_type": "markdown",
   "metadata": {},
   "source": [
    "How many buckets do we have?"
   ]
  },
  {
   "cell_type": "code",
   "execution_count": 11,
   "metadata": {},
   "outputs": [
    {
     "data": {
      "text/plain": [
       "359"
      ]
     },
     "execution_count": 11,
     "metadata": {},
     "output_type": "execute_result"
    }
   ],
   "source": [
    "len(buckets)"
   ]
  },
  {
   "cell_type": "markdown",
   "metadata": {},
   "source": [
    "How many nouns are there in each bucket?"
   ]
  },
  {
   "cell_type": "code",
   "execution_count": 12,
   "metadata": {},
   "outputs": [
    {
     "data": {
      "text/plain": [
       "1"
      ]
     },
     "execution_count": 12,
     "metadata": {},
     "output_type": "execute_result"
    }
   ],
   "source": [
    "min(len(nouns) for (bucket, nouns) in buckets.items())"
   ]
  },
  {
   "cell_type": "code",
   "execution_count": 13,
   "metadata": {},
   "outputs": [
    {
     "data": {
      "text/plain": [
       "115"
      ]
     },
     "execution_count": 13,
     "metadata": {},
     "output_type": "execute_result"
    }
   ],
   "source": [
    "max(len(nouns) for (bucket, nouns) in buckets.items())"
   ]
  },
  {
   "cell_type": "markdown",
   "metadata": {},
   "source": [
    "Lets get a picture of the distribution."
   ]
  },
  {
   "cell_type": "code",
   "execution_count": 15,
   "metadata": {},
   "outputs": [
    {
     "data": {
      "text/plain": [
       "<matplotlib.axes._subplots.AxesSubplot at 0x7f85b8c02510>"
      ]
     },
     "execution_count": 15,
     "metadata": {},
     "output_type": "execute_result"
    },
    {
     "data": {
      "image/png": "[encoded data removed]",
      "text/plain": [
       "<Figure size 432x288 with 1 Axes>"
      ]
     },
     "metadata": {},
     "output_type": "display_data"
    }
   ],
   "source": [
    "sns.set(color_codes=True)\n",
    "sns.distplot(list(len(nouns) for nouns in buckets.values()), axlabel=\"number of nouns\")"
   ]
  },
  {
   "cell_type": "markdown",
   "metadata": {},
   "source": [
    "We collect the buckets of length 1 in two sets: those with Allah in the bucket and those with another word:"
   ]
  },
  {
   "cell_type": "code",
   "execution_count": 16,
   "metadata": {},
   "outputs": [
    {
     "name": "stdout",
     "output_type": "stream",
     "text": [
      "with    Alh:  39\n",
      "without Alh: 163\n"
     ]
    }
   ],
   "source": [
    "buckets1A = {\n",
    "    bucket for (bucket, nouns) in buckets.items() if len(nouns) == 1 and \"Alh\" in nouns\n",
    "}\n",
    "buckets1N = {\n",
    "    bucket\n",
    "    for (bucket, nouns) in buckets.items()\n",
    "    if len(nouns) == 1 and \"Alh\" not in nouns\n",
    "}\n",
    "print(f\"with    Alh: {len(buckets1A):>3}\")\n",
    "print(f\"without Alh: {len(buckets1N):>3}\")"
   ]
  },
  {
   "cell_type": "markdown",
   "metadata": {},
   "source": [
    "Finally we show the roots of the verbs that are associated only with `Alh`:"
   ]
  },
  {
   "cell_type": "code",
   "execution_count": 17,
   "metadata": {},
   "outputs": [
    {
     "data": {
      "text/plain": [
       "['$qq',\n",
       " 'Axr',\n",
       " 'Edd',\n",
       " 'Efw',\n",
       " 'Ehd',\n",
       " 'Ejl',\n",
       " 'Ejz',\n",
       " 'Hdd',\n",
       " 'Hrb',\n",
       " 'HwT',\n",
       " 'Hyf',\n",
       " 'Sdq',\n",
       " 'TbE',\n",
       " 'bsT',\n",
       " 'frD',\n",
       " 'fsH',\n",
       " 'gDb',\n",
       " 'hwn',\n",
       " 'jdl',\n",
       " 'kfy',\n",
       " 'krh',\n",
       " 'mHS',\n",
       " 'mHn',\n",
       " 'mHq',\n",
       " 'mHw',\n",
       " 'mkr',\n",
       " 'mnn',\n",
       " 'myz',\n",
       " 'nqm',\n",
       " 'nsx',\n",
       " 'qrD',\n",
       " 'rDw',\n",
       " 'sxT',\n",
       " 'twb',\n",
       " 'wfq',\n",
       " 'wld',\n",
       " 'xsf',\n",
       " 'xtm',\n",
       " 'xzy']"
      ]
     },
     "execution_count": 17,
     "metadata": {},
     "output_type": "execute_result"
    }
   ],
   "source": [
    "sorted(buckets1A)"
   ]
  },
  {
   "cell_type": "markdown",
   "metadata": {},
   "source": [
    "And now we want to find them back in the text and show the translations of the ayas they contain.\n",
    "\n",
    "We compute a query out of the `bucket1A` contents, and run it."
   ]
  },
  {
   "cell_type": "code",
   "execution_count": 18,
   "metadata": {},
   "outputs": [
    {
     "data": {
      "text/plain": [
       "'Ejz|xsf|Hrb|frD|xtm|mHq|rDw|nsx|wld|$qq|Hdd|mHw|Hyf|bsT|TbE|fsH|jdl|Ejl|sxT|wfq|mHn|mHS|qrD|Efw|Edd|hwn|Axr|twb|nqm|gDb|Ehd|mkr|krh|mnn|xzy|HwT|Sdq|kfy|myz'"
      ]
     },
     "execution_count": 18,
     "metadata": {},
     "output_type": "execute_result"
    }
   ],
   "source": [
    "condition = \"|\".join(buckets1A)\n",
    "condition"
   ]
  },
  {
   "cell_type": "code",
   "execution_count": 19,
   "metadata": {},
   "outputs": [],
   "source": [
    "query = f\"\"\"\n",
    "aya\n",
    "  word pos=verb\n",
    "       root={condition}\n",
    "  <: word pos=noun\n",
    "\"\"\""
   ]
  },
  {
   "cell_type": "code",
   "execution_count": 20,
   "metadata": {},
   "outputs": [
    {
     "name": "stdout",
     "output_type": "stream",
     "text": [
      "\n",
      "aya\n",
      "  word pos=verb\n",
      "       root=Ejz|xsf|Hrb|frD|xtm|mHq|rDw|nsx|wld|$qq|Hdd|mHw|Hyf|bsT|TbE|fsH|jdl|Ejl|sxT|wfq|mHn|mHS|qrD|Efw|Edd|hwn|Axr|twb|nqm|gDb|Ehd|mkr|krh|mnn|xzy|HwT|Sdq|kfy|myz\n",
      "  <: word pos=noun    \n",
      "\n"
     ]
    }
   ],
   "source": [
    "print(query)"
   ]
  },
  {
   "cell_type": "code",
   "execution_count": 21,
   "metadata": {},
   "outputs": [
    {
     "name": "stdout",
     "output_type": "stream",
     "text": [
      "  0.29s 78 results\n"
     ]
    }
   ],
   "source": [
    "results = A.search(query)"
   ]
  },
  {
   "cell_type": "markdown",
   "metadata": {},
   "source": [
    "Now we can show the results quite easily:"
   ]
  },
  {
   "cell_type": "code",
   "execution_count": 22,
   "metadata": {},
   "outputs": [
    {
     "data": {
      "text/html": [
       "<table><tr class=\"tf rtl\"><th class=\"tf rtl\">n</th><th class=\"tf rtl\">p</th><th class=\"tf rtl\">aya</th><th class=\"tf\">word</th><th class=\"tf\">word</th></tr>\n",
       "<tr class=\"tf rtl\"><td class=\"tf rtl\">1</td><td class=\"tf rtl\"><span class=\"section ltr\"><a target=\"_blank\" href=\"http://tanzil.net/#2:7\" title=\"show this passage on Tanzil\" sec=\"2:7\">2:7</a></span></td><td class=\"tf rtl\"><div class=\"rtl\"><span class=\"plain rtl  hl\" ><span class=\"txtu ara\">خَتَمَ </span></span><span class=\"plain rtl  hl\" ><span class=\"txtu ara\">ٱللَّهُ </span></span><span class=\"txtu ara\">عَلَىٰ </span><span class=\"txtu ara\">قُلُوبِ</span><span class=\"txtu ara\">هِمْ </span><span class=\"txtu ara\">وَ</span><span class=\"txtu ara\">عَلَىٰ </span><span class=\"txtu ara\">سَمْعِ</span><span class=\"txtu ara\">هِمْ </span><span class=\"txtu ara\">وَ</span><span class=\"txtu ara\">عَلَىٰٓ </span><span class=\"txtu ara\">أَبْصَٰرِ</span><span class=\"txtu ara\">هِمْ </span><span class=\"txtu ara\">غِشَٰوَةٌ </span><span class=\"txtu ara\">وَ</span><span class=\"txtu ara\">لَ</span><span class=\"txtu ara\">هُمْ </span><span class=\"txtu ara\">عَذَابٌ </span><span class=\"txtu ara\">عَظِيمٌ</span></div></td><td class=\"tf rtl\"><div class=\"rtl\"><span class=\"plain rtl  hl\" ><span class=\"txtu ara\">خَتَمَ </span></span></div></td><td class=\"tf rtl\"><div class=\"rtl\"><span class=\"plain rtl  hl\" ><span class=\"txtu ara\">ٱللَّهُ </span></span></div></td></tr>\n",
       "<tr class=\"tf rtl\"><td class=\"tf rtl\">2</td><td class=\"tf rtl\"><span class=\"section ltr\"><a target=\"_blank\" href=\"http://tanzil.net/#2:245\" title=\"show this passage on Tanzil\" sec=\"2:245\">2:245</a></span></td><td class=\"tf rtl\"><div class=\"rtl\"><span class=\"txtu ara\">مَّن </span><span class=\"txtu ara\">ذَا </span><span class=\"txtu ara\">ٱلَّذِى </span><span class=\"plain rtl  hl\" ><span class=\"txtu ara\">يُقْرِضُ </span></span><span class=\"plain rtl  hl\" ><span class=\"txtu ara\">ٱللَّهَ </span></span><span class=\"txtu ara\">قَرْضًا </span><span class=\"txtu ara\">حَسَنًا </span><span class=\"txtu ara\">فَ</span><span class=\"txtu ara\">يُضَٰعِفَ</span><span class=\"txtu ara\">هُۥ </span><span class=\"txtu ara\">لَ</span><span class=\"txtu ara\">هُۥٓ </span><span class=\"txtu ara\">أَضْعَافًا </span><span class=\"txtu ara\">كَثِيرَةً </span><span class=\"txtu ara\">وَ</span><span class=\"txtu ara\">ٱللَّهُ </span><span class=\"txtu ara\">يَقْبِضُ </span><span class=\"txtu ara\">وَ</span><span class=\"txtu ara\">يَبْصُۜطُ </span><span class=\"txtu ara\">وَ</span><span class=\"txtu ara\">إِلَيْ</span><span class=\"txtu ara\">هِ </span><span class=\"txtu ara\">تُرْجَعُ</span><span class=\"txtu ara\">ونَ</span></div></td><td class=\"tf rtl\"><div class=\"rtl\"><span class=\"plain rtl  hl\" ><span class=\"txtu ara\">يُقْرِضُ </span></span></div></td><td class=\"tf rtl\"><div class=\"rtl\"><span class=\"plain rtl  hl\" ><span class=\"txtu ara\">ٱللَّهَ </span></span></div></td></tr>\n",
       "<tr class=\"tf rtl\"><td class=\"tf rtl\">3</td><td class=\"tf rtl\"><span class=\"section ltr\"><a target=\"_blank\" href=\"http://tanzil.net/#2:276\" title=\"show this passage on Tanzil\" sec=\"2:276\">2:276</a></span></td><td class=\"tf rtl\"><div class=\"rtl\"><span class=\"plain rtl  hl\" ><span class=\"txtu ara\">يَمْحَقُ </span></span><span class=\"plain rtl  hl\" ><span class=\"txtu ara\">ٱللَّهُ </span></span><span class=\"txtu ara\">ٱل</span><span class=\"txtu ara\">رِّبَوٰا۟ </span><span class=\"txtu ara\">وَ</span><span class=\"txtu ara\">يُرْبِى </span><span class=\"txtu ara\">ٱل</span><span class=\"txtu ara\">صَّدَقَٰتِ </span><span class=\"txtu ara\">وَ</span><span class=\"txtu ara\">ٱللَّهُ </span><span class=\"txtu ara\">لَا </span><span class=\"txtu ara\">يُحِبُّ </span><span class=\"txtu ara\">كُلَّ </span><span class=\"txtu ara\">كَفَّارٍ </span><span class=\"txtu ara\">أَثِيمٍ</span></div></td><td class=\"tf rtl\"><div class=\"rtl\"><span class=\"plain rtl  hl\" ><span class=\"txtu ara\">يَمْحَقُ </span></span></div></td><td class=\"tf rtl\"><div class=\"rtl\"><span class=\"plain rtl  hl\" ><span class=\"txtu ara\">ٱللَّهُ </span></span></div></td></tr>\n",
       "<tr class=\"tf rtl\"><td class=\"tf rtl\">4</td><td class=\"tf rtl\"><span class=\"section ltr\"><a target=\"_blank\" href=\"http://tanzil.net/#3:54\" title=\"show this passage on Tanzil\" sec=\"3:54\">3:54</a></span></td><td class=\"tf rtl\"><div class=\"rtl\"><span class=\"txtu ara\">وَ</span><span class=\"txtu ara\">مَكَرُ</span><span class=\"txtu ara\">وا۟ </span><span class=\"txtu ara\">وَ</span><span class=\"plain rtl  hl\" ><span class=\"txtu ara\">مَكَرَ </span></span><span class=\"plain rtl  hl\" ><span class=\"txtu ara\">ٱللَّهُ </span></span><span class=\"txtu ara\">وَ</span><span class=\"txtu ara\">ٱللَّهُ </span><span class=\"txtu ara\">خَيْرُ </span><span class=\"txtu ara\">ٱلْ</span><span class=\"txtu ara\">مَٰكِرِينَ</span></div></td><td class=\"tf rtl\"><div class=\"rtl\"><span class=\"plain rtl  hl\" ><span class=\"txtu ara\">مَكَرَ </span></span></div></td><td class=\"tf rtl\"><div class=\"rtl\"><span class=\"plain rtl  hl\" ><span class=\"txtu ara\">ٱللَّهُ </span></span></div></td></tr>\n",
       "<tr class=\"tf rtl\"><td class=\"tf rtl\">5</td><td class=\"tf rtl\"><span class=\"section ltr\"><a target=\"_blank\" href=\"http://tanzil.net/#3:95\" title=\"show this passage on Tanzil\" sec=\"3:95\">3:95</a></span></td><td class=\"tf rtl\"><div class=\"rtl\"><span class=\"txtu ara\">قُلْ </span><span class=\"plain rtl  hl\" ><span class=\"txtu ara\">صَدَقَ </span></span><span class=\"plain rtl  hl\" ><span class=\"txtu ara\">ٱللَّهُ </span></span><span class=\"txtu ara\">فَ</span><span class=\"txtu ara\">ٱتَّبِعُ</span><span class=\"txtu ara\">وا۟ </span><span class=\"txtu ara\">مِلَّةَ </span><span class=\"txtu ara\">إِبْرَٰهِيمَ </span><span class=\"txtu ara\">حَنِيفًا </span><span class=\"txtu ara\">وَ</span><span class=\"txtu ara\">مَا </span><span class=\"txtu ara\">كَانَ </span><span class=\"txtu ara\">مِنَ </span><span class=\"txtu ara\">ٱلْ</span><span class=\"txtu ara\">مُشْرِكِينَ</span></div></td><td class=\"tf rtl\"><div class=\"rtl\"><span class=\"plain rtl  hl\" ><span class=\"txtu ara\">صَدَقَ </span></span></div></td><td class=\"tf rtl\"><div class=\"rtl\"><span class=\"plain rtl  hl\" ><span class=\"txtu ara\">ٱللَّهُ </span></span></div></td></tr>\n",
       "<tr class=\"tf rtl\"><td class=\"tf rtl\">6</td><td class=\"tf rtl\"><span class=\"section ltr\"><a target=\"_blank\" href=\"http://tanzil.net/#3:141\" title=\"show this passage on Tanzil\" sec=\"3:141\">3:141</a></span></td><td class=\"tf rtl\"><div class=\"rtl\"><span class=\"txtu ara\">وَ</span><span class=\"txtu ara\">لِ</span><span class=\"plain rtl  hl\" ><span class=\"txtu ara\">يُمَحِّصَ </span></span><span class=\"plain rtl  hl\" ><span class=\"txtu ara\">ٱللَّهُ </span></span><span class=\"txtu ara\">ٱلَّذِينَ </span><span class=\"txtu ara\">ءَامَنُ</span><span class=\"txtu ara\">وا۟ </span><span class=\"txtu ara\">وَ</span><span class=\"txtu ara\">يَمْحَقَ </span><span class=\"txtu ara\">ٱلْ</span><span class=\"txtu ara\">كَٰفِرِينَ</span></div></td><td class=\"tf rtl\"><div class=\"rtl\"><span class=\"plain rtl  hl\" ><span class=\"txtu ara\">يُمَحِّصَ </span></span></div></td><td class=\"tf rtl\"><div class=\"rtl\"><span class=\"plain rtl  hl\" ><span class=\"txtu ara\">ٱللَّهُ </span></span></div></td></tr>\n",
       "<tr class=\"tf rtl\"><td class=\"tf rtl\">7</td><td class=\"tf rtl\"><span class=\"section ltr\"><a target=\"_blank\" href=\"http://tanzil.net/#3:155\" title=\"show this passage on Tanzil\" sec=\"3:155\">3:155</a></span></td><td class=\"tf rtl\"><div class=\"rtl\"><span class=\"txtu ara\">إِنَّ </span><span class=\"txtu ara\">ٱلَّذِينَ </span><span class=\"txtu ara\">تَوَلَّ</span><span class=\"txtu ara\">وْا۟ </span><span class=\"txtu ara\">مِن</span><span class=\"txtu ara\">كُمْ </span><span class=\"txtu ara\">يَوْمَ </span><span class=\"txtu ara\">ٱلْتَقَى </span><span class=\"txtu ara\">ٱلْ</span><span class=\"txtu ara\">جَمْعَانِ </span><span class=\"txtu ara\">إِنَّ</span><span class=\"txtu ara\">مَا </span><span class=\"txtu ara\">ٱسْتَزَلَّ</span><span class=\"txtu ara\">هُمُ </span><span class=\"txtu ara\">ٱل</span><span class=\"txtu ara\">شَّيْطَٰنُ </span><span class=\"txtu ara\">بِ</span><span class=\"txtu ara\">بَعْضِ </span><span class=\"txtu ara\">مَا </span><span class=\"txtu ara\">كَسَبُ</span><span class=\"txtu ara\">وا۟ </span><span class=\"txtu ara\">وَ</span><span class=\"txtu ara\">لَ</span><span class=\"txtu ara\">قَدْ </span><span class=\"plain rtl  hl\" ><span class=\"txtu ara\">عَفَا </span></span><span class=\"plain rtl  hl\" ><span class=\"txtu ara\">ٱللَّهُ </span></span><span class=\"txtu ara\">عَنْ</span><span class=\"txtu ara\">هُمْ </span><span class=\"txtu ara\">إِنَّ </span><span class=\"txtu ara\">ٱللَّهَ </span><span class=\"txtu ara\">غَفُورٌ </span><span class=\"txtu ara\">حَلِيمٌ</span></div></td><td class=\"tf rtl\"><div class=\"rtl\"><span class=\"plain rtl  hl\" ><span class=\"txtu ara\">عَفَا </span></span></div></td><td class=\"tf rtl\"><div class=\"rtl\"><span class=\"plain rtl  hl\" ><span class=\"txtu ara\">ٱللَّهُ </span></span></div></td></tr>\n",
       "<tr class=\"tf rtl\"><td class=\"tf rtl\">8</td><td class=\"tf rtl\"><span class=\"section ltr\"><a target=\"_blank\" href=\"http://tanzil.net/#3:164\" title=\"show this passage on Tanzil\" sec=\"3:164\">3:164</a></span></td><td class=\"tf rtl\"><div class=\"rtl\"><span class=\"txtu ara\">لَ</span><span class=\"txtu ara\">قَدْ </span><span class=\"plain rtl  hl\" ><span class=\"txtu ara\">مَنَّ </span></span><span class=\"plain rtl  hl\" ><span class=\"txtu ara\">ٱللَّهُ </span></span><span class=\"txtu ara\">عَلَى </span><span class=\"txtu ara\">ٱلْ</span><span class=\"txtu ara\">مُؤْمِنِينَ </span><span class=\"txtu ara\">إِذْ </span><span class=\"txtu ara\">بَعَثَ </span><span class=\"txtu ara\">فِي</span><span class=\"txtu ara\">هِمْ </span><span class=\"txtu ara\">رَسُولًا </span><span class=\"txtu ara\">مِّنْ </span><span class=\"txtu ara\">أَنفُسِ</span><span class=\"txtu ara\">هِمْ </span><span class=\"txtu ara\">يَتْلُوا۟ </span><span class=\"txtu ara\">عَلَيْ</span><span class=\"txtu ara\">هِمْ </span><span class=\"txtu ara\">ءَايَٰتِ</span><span class=\"txtu ara\">هِۦ </span><span class=\"txtu ara\">وَ</span><span class=\"txtu ara\">يُزَكِّي</span><span class=\"txtu ara\">هِمْ </span><span class=\"txtu ara\">وَ</span><span class=\"txtu ara\">يُعَلِّمُ</span><span class=\"txtu ara\">هُمُ </span><span class=\"txtu ara\">ٱلْ</span><span class=\"txtu ara\">كِتَٰبَ </span><span class=\"txtu ara\">وَ</span><span class=\"txtu ara\">ٱلْ</span><span class=\"txtu ara\">حِكْمَةَ </span><span class=\"txtu ara\">وَ</span><span class=\"txtu ara\">إِن </span><span class=\"txtu ara\">كَانُ</span><span class=\"txtu ara\">وا۟ </span><span class=\"txtu ara\">مِن </span><span class=\"txtu ara\">قَبْلُ </span><span class=\"txtu ara\">لَ</span><span class=\"txtu ara\">فِى </span><span class=\"txtu ara\">ضَلَٰلٍ </span><span class=\"txtu ara\">مُّبِينٍ</span></div></td><td class=\"tf rtl\"><div class=\"rtl\"><span class=\"plain rtl  hl\" ><span class=\"txtu ara\">مَنَّ </span></span></div></td><td class=\"tf rtl\"><div class=\"rtl\"><span class=\"plain rtl  hl\" ><span class=\"txtu ara\">ٱللَّهُ </span></span></div></td></tr>\n",
       "<tr class=\"tf rtl\"><td class=\"tf rtl\">9</td><td class=\"tf rtl\"><span class=\"section ltr\"><a target=\"_blank\" href=\"http://tanzil.net/#4:17\" title=\"show this passage on Tanzil\" sec=\"4:17\">4:17</a></span></td><td class=\"tf rtl\"><div class=\"rtl\"><span class=\"txtu ara\">إِنَّ</span><span class=\"txtu ara\">مَا </span><span class=\"txtu ara\">ٱل</span><span class=\"txtu ara\">تَّوْبَةُ </span><span class=\"txtu ara\">عَلَى </span><span class=\"txtu ara\">ٱللَّهِ </span><span class=\"txtu ara\">لِ</span><span class=\"txtu ara\">لَّذِينَ </span><span class=\"txtu ara\">يَعْمَلُ</span><span class=\"txtu ara\">ونَ </span><span class=\"txtu ara\">ٱل</span><span class=\"txtu ara\">سُّوٓءَ </span><span class=\"txtu ara\">بِ</span><span class=\"txtu ara\">جَهَٰلَةٍ </span><span class=\"txtu ara\">ثُمَّ </span><span class=\"txtu ara\">يَتُوبُ</span><span class=\"txtu ara\">ونَ </span><span class=\"txtu ara\">مِن </span><span class=\"txtu ara\">قَرِيبٍ </span><span class=\"txtu ara\">فَ</span><span class=\"txtu ara\">أُو۟لَٰٓئِكَ </span><span class=\"plain rtl  hl\" ><span class=\"txtu ara\">يَتُوبُ </span></span><span class=\"plain rtl  hl\" ><span class=\"txtu ara\">ٱللَّهُ </span></span><span class=\"txtu ara\">عَلَيْ</span><span class=\"txtu ara\">هِمْ </span><span class=\"txtu ara\">وَ</span><span class=\"txtu ara\">كَانَ </span><span class=\"txtu ara\">ٱللَّهُ </span><span class=\"txtu ara\">عَلِيمًا </span><span class=\"txtu ara\">حَكِيمًا</span></div></td><td class=\"tf rtl\"><div class=\"rtl\"><span class=\"plain rtl  hl\" ><span class=\"txtu ara\">يَتُوبُ </span></span></div></td><td class=\"tf rtl\"><div class=\"rtl\"><span class=\"plain rtl  hl\" ><span class=\"txtu ara\">ٱللَّهُ </span></span></div></td></tr>\n",
       "<tr class=\"tf rtl\"><td class=\"tf rtl\">10</td><td class=\"tf rtl\"><span class=\"section ltr\"><a target=\"_blank\" href=\"http://tanzil.net/#4:35\" title=\"show this passage on Tanzil\" sec=\"4:35\">4:35</a></span></td><td class=\"tf rtl\"><div class=\"rtl\"><span class=\"txtu ara\">وَ</span><span class=\"txtu ara\">إِنْ </span><span class=\"txtu ara\">خِفْ</span><span class=\"txtu ara\">تُمْ </span><span class=\"txtu ara\">شِقَاقَ </span><span class=\"txtu ara\">بَيْنِ</span><span class=\"txtu ara\">هِمَا </span><span class=\"txtu ara\">فَ</span><span class=\"txtu ara\">ٱبْعَثُ</span><span class=\"txtu ara\">وا۟ </span><span class=\"txtu ara\">حَكَمًا </span><span class=\"txtu ara\">مِّنْ </span><span class=\"txtu ara\">أَهْلِ</span><span class=\"txtu ara\">هِۦ </span><span class=\"txtu ara\">وَ</span><span class=\"txtu ara\">حَكَمًا </span><span class=\"txtu ara\">مِّنْ </span><span class=\"txtu ara\">أَهْلِ</span><span class=\"txtu ara\">هَآ </span><span class=\"txtu ara\">إِن </span><span class=\"txtu ara\">يُرِيدَ</span><span class=\"txtu ara\">آ </span><span class=\"txtu ara\">إِصْلَٰحًا </span><span class=\"plain rtl  hl\" ><span class=\"txtu ara\">يُوَفِّقِ </span></span><span class=\"plain rtl  hl\" ><span class=\"txtu ara\">ٱللَّهُ </span></span><span class=\"txtu ara\">بَيْنَ</span><span class=\"txtu ara\">هُمَآ </span><span class=\"txtu ara\">إِنَّ </span><span class=\"txtu ara\">ٱللَّهَ </span><span class=\"txtu ara\">كَانَ </span><span class=\"txtu ara\">عَلِيمًا </span><span class=\"txtu ara\">خَبِيرًا</span></div></td><td class=\"tf rtl\"><div class=\"rtl\"><span class=\"plain rtl  hl\" ><span class=\"txtu ara\">يُوَفِّقِ </span></span></div></td><td class=\"tf rtl\"><div class=\"rtl\"><span class=\"plain rtl  hl\" ><span class=\"txtu ara\">ٱللَّهُ </span></span></div></td></tr></table>"
      ],
      "text/plain": [
       "<IPython.core.display.HTML object>"
      ]
     },
     "metadata": {},
     "output_type": "display_data"
    }
   ],
   "source": [
    "A.table(results, end=10)"
   ]
  },
  {
   "cell_type": "markdown",
   "metadata": {},
   "source": [
    "We check the results in transcription"
   ]
  },
  {
   "cell_type": "code",
   "execution_count": 23,
   "metadata": {},
   "outputs": [
    {
     "data": {
      "text/html": [
       "<table><tr class=\"tf ltr\"><th class=\"tf ltr\">n</th><th class=\"tf ltr\">p</th><th class=\"tf ltr\">aya</th><th class=\"tf\">word</th><th class=\"tf\">word</th></tr>\n",
       "<tr class=\"tf ltr\"><td class=\"tf ltr\">1</td><td class=\"tf ltr\"><span class=\"section ltr\"><a target=\"_blank\" href=\"http://tanzil.net/#2:7\" title=\"show this passage on Tanzil\" sec=\"2:7\">2:7</a></span></td><td class=\"tf ltr\"><div class=\"ltr\"><span class=\"plain ltr  hl\" ><span class=\"txtt\">xatama </span></span><span class=\"plain ltr  hl\" ><span class=\"txtt\">{ll~ahu </span></span><span class=\"txtt\">EalaY` </span><span class=\"txtt\">quluwbi</span><span class=\"txtt\">himo </span><span class=\"txtt\">wa</span><span class=\"txtt\">EalaY` </span><span class=\"txtt\">samoEi</span><span class=\"txtt\">himo </span><span class=\"txtt\">wa</span><span class=\"txtt\">EalaY`^ </span><span class=\"txtt\">>aboSa`ri</span><span class=\"txtt\">himo </span><span class=\"txtt\">gi<span>$</span>a`wapN </span><span class=\"txtt\">wa</span><span class=\"txtt\">la</span><span class=\"txtt\">humo </span><span class=\"txtt\">Ea*aAbN </span><span class=\"txtt\">EaZiymN</span></div></td><td class=\"tf ltr\"><div class=\"ltr\"><span class=\"plain ltr  hl\" ><span class=\"txtt\">xatama </span></span></div></td><td class=\"tf ltr\"><div class=\"ltr\"><span class=\"plain ltr  hl\" ><span class=\"txtt\">{ll~ahu </span></span></div></td></tr>\n",
       "<tr class=\"tf ltr\"><td class=\"tf ltr\">2</td><td class=\"tf ltr\"><span class=\"section ltr\"><a target=\"_blank\" href=\"http://tanzil.net/#2:245\" title=\"show this passage on Tanzil\" sec=\"2:245\">2:245</a></span></td><td class=\"tf ltr\"><div class=\"ltr\"><span class=\"txtt\">m~an </span><span class=\"txtt\">*aA </span><span class=\"txtt\">{l~a*iY </span><span class=\"plain ltr  hl\" ><span class=\"txtt\">yuqoriDu </span></span><span class=\"plain ltr  hl\" ><span class=\"txtt\">{ll~aha </span></span><span class=\"txtt\">qaroDFA </span><span class=\"txtt\">HasanFA </span><span class=\"txtt\">fa</span><span class=\"txtt\">yuDa`Eifa</span><span class=\"txtt\">hu, </span><span class=\"txtt\">la</span><span class=\"txtt\">hu,^ </span><span class=\"txtt\">>aDoEaAfFA </span><span class=\"txtt\">kaviyrapF </span><span class=\"txtt\">wa</span><span class=\"txtt\">{ll~ahu </span><span class=\"txtt\">yaqobiDu </span><span class=\"txtt\">wa</span><span class=\"txtt\">yaboS:uTu </span><span class=\"txtt\">wa</span><span class=\"txtt\">&lt;ilayo</span><span class=\"txtt\">hi </span><span class=\"txtt\">turojaEu</span><span class=\"txtt\">wna</span></div></td><td class=\"tf ltr\"><div class=\"ltr\"><span class=\"plain ltr  hl\" ><span class=\"txtt\">yuqoriDu </span></span></div></td><td class=\"tf ltr\"><div class=\"ltr\"><span class=\"plain ltr  hl\" ><span class=\"txtt\">{ll~aha </span></span></div></td></tr>\n",
       "<tr class=\"tf ltr\"><td class=\"tf ltr\">3</td><td class=\"tf ltr\"><span class=\"section ltr\"><a target=\"_blank\" href=\"http://tanzil.net/#2:276\" title=\"show this passage on Tanzil\" sec=\"2:276\">2:276</a></span></td><td class=\"tf ltr\"><div class=\"ltr\"><span class=\"plain ltr  hl\" ><span class=\"txtt\">yamoHaqu </span></span><span class=\"plain ltr  hl\" ><span class=\"txtt\">{ll~ahu </span></span><span class=\"txtt\">{l</span><span class=\"txtt\">r~ibaw`A@ </span><span class=\"txtt\">wa</span><span class=\"txtt\">yurobiY </span><span class=\"txtt\">{l</span><span class=\"txtt\">S~adaqa`ti </span><span class=\"txtt\">wa</span><span class=\"txtt\">{ll~ahu </span><span class=\"txtt\">laA </span><span class=\"txtt\">yuHib~u </span><span class=\"txtt\">kul~a </span><span class=\"txtt\">kaf~aArK </span><span class=\"txtt\">>aviymK</span></div></td><td class=\"tf ltr\"><div class=\"ltr\"><span class=\"plain ltr  hl\" ><span class=\"txtt\">yamoHaqu </span></span></div></td><td class=\"tf ltr\"><div class=\"ltr\"><span class=\"plain ltr  hl\" ><span class=\"txtt\">{ll~ahu </span></span></div></td></tr>\n",
       "<tr class=\"tf ltr\"><td class=\"tf ltr\">4</td><td class=\"tf ltr\"><span class=\"section ltr\"><a target=\"_blank\" href=\"http://tanzil.net/#3:54\" title=\"show this passage on Tanzil\" sec=\"3:54\">3:54</a></span></td><td class=\"tf ltr\"><div class=\"ltr\"><span class=\"txtt\">wa</span><span class=\"txtt\">makaru</span><span class=\"txtt\">wA@ </span><span class=\"txtt\">wa</span><span class=\"plain ltr  hl\" ><span class=\"txtt\">makara </span></span><span class=\"plain ltr  hl\" ><span class=\"txtt\">{ll~ahu </span></span><span class=\"txtt\">wa</span><span class=\"txtt\">{ll~ahu </span><span class=\"txtt\">xayoru </span><span class=\"txtt\">{lo</span><span class=\"txtt\">ma`kiriyna</span></div></td><td class=\"tf ltr\"><div class=\"ltr\"><span class=\"plain ltr  hl\" ><span class=\"txtt\">makara </span></span></div></td><td class=\"tf ltr\"><div class=\"ltr\"><span class=\"plain ltr  hl\" ><span class=\"txtt\">{ll~ahu </span></span></div></td></tr>\n",
       "<tr class=\"tf ltr\"><td class=\"tf ltr\">5</td><td class=\"tf ltr\"><span class=\"section ltr\"><a target=\"_blank\" href=\"http://tanzil.net/#3:95\" title=\"show this passage on Tanzil\" sec=\"3:95\">3:95</a></span></td><td class=\"tf ltr\"><div class=\"ltr\"><span class=\"txtt\">qulo </span><span class=\"plain ltr  hl\" ><span class=\"txtt\">Sadaqa </span></span><span class=\"plain ltr  hl\" ><span class=\"txtt\">{ll~ahu </span></span><span class=\"txtt\">fa</span><span class=\"txtt\">{t~abiEu</span><span class=\"txtt\">wA@ </span><span class=\"txtt\">mil~apa </span><span class=\"txtt\">&lt;ibora`hiyma </span><span class=\"txtt\">HaniyfFA </span><span class=\"txtt\">wa</span><span class=\"txtt\">maA </span><span class=\"txtt\">kaAna </span><span class=\"txtt\">mina </span><span class=\"txtt\">{lo</span><span class=\"txtt\">mu<span>$</span>orikiyna</span></div></td><td class=\"tf ltr\"><div class=\"ltr\"><span class=\"plain ltr  hl\" ><span class=\"txtt\">Sadaqa </span></span></div></td><td class=\"tf ltr\"><div class=\"ltr\"><span class=\"plain ltr  hl\" ><span class=\"txtt\">{ll~ahu </span></span></div></td></tr>\n",
       "<tr class=\"tf ltr\"><td class=\"tf ltr\">6</td><td class=\"tf ltr\"><span class=\"section ltr\"><a target=\"_blank\" href=\"http://tanzil.net/#3:141\" title=\"show this passage on Tanzil\" sec=\"3:141\">3:141</a></span></td><td class=\"tf ltr\"><div class=\"ltr\"><span class=\"txtt\">wa</span><span class=\"txtt\">li</span><span class=\"plain ltr  hl\" ><span class=\"txtt\">yumaH~iSa </span></span><span class=\"plain ltr  hl\" ><span class=\"txtt\">{ll~ahu </span></span><span class=\"txtt\">{l~a*iyna </span><span class=\"txtt\">'aAmanu</span><span class=\"txtt\">wA@ </span><span class=\"txtt\">wa</span><span class=\"txtt\">yamoHaqa </span><span class=\"txtt\">{lo</span><span class=\"txtt\">ka`firiyna</span></div></td><td class=\"tf ltr\"><div class=\"ltr\"><span class=\"plain ltr  hl\" ><span class=\"txtt\">yumaH~iSa </span></span></div></td><td class=\"tf ltr\"><div class=\"ltr\"><span class=\"plain ltr  hl\" ><span class=\"txtt\">{ll~ahu </span></span></div></td></tr>\n",
       "<tr class=\"tf ltr\"><td class=\"tf ltr\">7</td><td class=\"tf ltr\"><span class=\"section ltr\"><a target=\"_blank\" href=\"http://tanzil.net/#3:155\" title=\"show this passage on Tanzil\" sec=\"3:155\">3:155</a></span></td><td class=\"tf ltr\"><div class=\"ltr\"><span class=\"txtt\">&lt;in~a </span><span class=\"txtt\">{l~a*iyna </span><span class=\"txtt\">tawal~a</span><span class=\"txtt\">woA@ </span><span class=\"txtt\">min</span><span class=\"txtt\">kumo </span><span class=\"txtt\">yawoma </span><span class=\"txtt\">{lotaqaY </span><span class=\"txtt\">{lo</span><span class=\"txtt\">jamoEaAni </span><span class=\"txtt\">&lt;in~a</span><span class=\"txtt\">maA </span><span class=\"txtt\">{sotazal~a</span><span class=\"txtt\">humu </span><span class=\"txtt\">{l</span><span class=\"txtt\"><span>$</span>~ayoTa`nu </span><span class=\"txtt\">bi</span><span class=\"txtt\">baEoDi </span><span class=\"txtt\">maA </span><span class=\"txtt\">kasabu</span><span class=\"txtt\">wA@ </span><span class=\"txtt\">wa</span><span class=\"txtt\">la</span><span class=\"txtt\">qado </span><span class=\"plain ltr  hl\" ><span class=\"txtt\">EafaA </span></span><span class=\"plain ltr  hl\" ><span class=\"txtt\">{ll~ahu </span></span><span class=\"txtt\">Eano</span><span class=\"txtt\">humo </span><span class=\"txtt\">&lt;in~a </span><span class=\"txtt\">{ll~aha </span><span class=\"txtt\">gafuwrN </span><span class=\"txtt\">HaliymN</span></div></td><td class=\"tf ltr\"><div class=\"ltr\"><span class=\"plain ltr  hl\" ><span class=\"txtt\">EafaA </span></span></div></td><td class=\"tf ltr\"><div class=\"ltr\"><span class=\"plain ltr  hl\" ><span class=\"txtt\">{ll~ahu </span></span></div></td></tr>\n",
       "<tr class=\"tf ltr\"><td class=\"tf ltr\">8</td><td class=\"tf ltr\"><span class=\"section ltr\"><a target=\"_blank\" href=\"http://tanzil.net/#3:164\" title=\"show this passage on Tanzil\" sec=\"3:164\">3:164</a></span></td><td class=\"tf ltr\"><div class=\"ltr\"><span class=\"txtt\">la</span><span class=\"txtt\">qado </span><span class=\"plain ltr  hl\" ><span class=\"txtt\">man~a </span></span><span class=\"plain ltr  hl\" ><span class=\"txtt\">{ll~ahu </span></span><span class=\"txtt\">EalaY </span><span class=\"txtt\">{lo</span><span class=\"txtt\">mu&amp;ominiyna </span><span class=\"txtt\">&lt;i*o </span><span class=\"txtt\">baEava </span><span class=\"txtt\">fiy</span><span class=\"txtt\">himo </span><span class=\"txtt\">rasuwlFA </span><span class=\"txtt\">m~ino </span><span class=\"txtt\">>anfusi</span><span class=\"txtt\">himo </span><span class=\"txtt\">yatoluwA@ </span><span class=\"txtt\">Ealayo</span><span class=\"txtt\">himo </span><span class=\"txtt\">'aAya`ti</span><span class=\"txtt\">hi. </span><span class=\"txtt\">wa</span><span class=\"txtt\">yuzak~iy</span><span class=\"txtt\">himo </span><span class=\"txtt\">wa</span><span class=\"txtt\">yuEal~imu</span><span class=\"txtt\">humu </span><span class=\"txtt\">{lo</span><span class=\"txtt\">kita`ba </span><span class=\"txtt\">wa</span><span class=\"txtt\">{lo</span><span class=\"txtt\">Hikomapa </span><span class=\"txtt\">wa</span><span class=\"txtt\">&lt;in </span><span class=\"txtt\">kaAnu</span><span class=\"txtt\">wA@ </span><span class=\"txtt\">min </span><span class=\"txtt\">qabolu </span><span class=\"txtt\">la</span><span class=\"txtt\">fiY </span><span class=\"txtt\">Dala`lK </span><span class=\"txtt\">m~ubiynK</span></div></td><td class=\"tf ltr\"><div class=\"ltr\"><span class=\"plain ltr  hl\" ><span class=\"txtt\">man~a </span></span></div></td><td class=\"tf ltr\"><div class=\"ltr\"><span class=\"plain ltr  hl\" ><span class=\"txtt\">{ll~ahu </span></span></div></td></tr>\n",
       "<tr class=\"tf ltr\"><td class=\"tf ltr\">9</td><td class=\"tf ltr\"><span class=\"section ltr\"><a target=\"_blank\" href=\"http://tanzil.net/#4:17\" title=\"show this passage on Tanzil\" sec=\"4:17\">4:17</a></span></td><td class=\"tf ltr\"><div class=\"ltr\"><span class=\"txtt\">&lt;in~a</span><span class=\"txtt\">maA </span><span class=\"txtt\">{l</span><span class=\"txtt\">t~awobapu </span><span class=\"txtt\">EalaY </span><span class=\"txtt\">{ll~ahi </span><span class=\"txtt\">li</span><span class=\"txtt\">l~a*iyna </span><span class=\"txtt\">yaEomalu</span><span class=\"txtt\">wna </span><span class=\"txtt\">{l</span><span class=\"txtt\">s~uw^'a </span><span class=\"txtt\">bi</span><span class=\"txtt\">jaha`lapK </span><span class=\"txtt\">vum~a </span><span class=\"txtt\">yatuwbu</span><span class=\"txtt\">wna </span><span class=\"txtt\">min </span><span class=\"txtt\">qariybK </span><span class=\"txtt\">fa</span><span class=\"txtt\">>uw@la`^}ika </span><span class=\"plain ltr  hl\" ><span class=\"txtt\">yatuwbu </span></span><span class=\"plain ltr  hl\" ><span class=\"txtt\">{ll~ahu </span></span><span class=\"txtt\">Ealayo</span><span class=\"txtt\">himo </span><span class=\"txtt\">wa</span><span class=\"txtt\">kaAna </span><span class=\"txtt\">{ll~ahu </span><span class=\"txtt\">EaliymFA </span><span class=\"txtt\">HakiymFA</span></div></td><td class=\"tf ltr\"><div class=\"ltr\"><span class=\"plain ltr  hl\" ><span class=\"txtt\">yatuwbu </span></span></div></td><td class=\"tf ltr\"><div class=\"ltr\"><span class=\"plain ltr  hl\" ><span class=\"txtt\">{ll~ahu </span></span></div></td></tr>\n",
       "<tr class=\"tf ltr\"><td class=\"tf ltr\">10</td><td class=\"tf ltr\"><span class=\"section ltr\"><a target=\"_blank\" href=\"http://tanzil.net/#4:35\" title=\"show this passage on Tanzil\" sec=\"4:35\">4:35</a></span></td><td class=\"tf ltr\"><div class=\"ltr\"><span class=\"txtt\">wa</span><span class=\"txtt\">&lt;ino </span><span class=\"txtt\">xifo</span><span class=\"txtt\">tumo </span><span class=\"txtt\"><span>$</span>iqaAqa </span><span class=\"txtt\">bayoni</span><span class=\"txtt\">himaA </span><span class=\"txtt\">fa</span><span class=\"txtt\">{boEavu</span><span class=\"txtt\">wA@ </span><span class=\"txtt\">HakamFA </span><span class=\"txtt\">m~ino </span><span class=\"txtt\">>aholi</span><span class=\"txtt\">hi. </span><span class=\"txtt\">wa</span><span class=\"txtt\">HakamFA </span><span class=\"txtt\">m~ino </span><span class=\"txtt\">>aholi</span><span class=\"txtt\">haA^ </span><span class=\"txtt\">&lt;in </span><span class=\"txtt\">yuriyda</span><span class=\"txtt\">A^ </span><span class=\"txtt\">&lt;iSola`HFA </span><span class=\"plain ltr  hl\" ><span class=\"txtt\">yuwaf~iqi </span></span><span class=\"plain ltr  hl\" ><span class=\"txtt\">{ll~ahu </span></span><span class=\"txtt\">bayona</span><span class=\"txtt\">humaA^ </span><span class=\"txtt\">&lt;in~a </span><span class=\"txtt\">{ll~aha </span><span class=\"txtt\">kaAna </span><span class=\"txtt\">EaliymFA </span><span class=\"txtt\">xabiyrFA</span></div></td><td class=\"tf ltr\"><div class=\"ltr\"><span class=\"plain ltr  hl\" ><span class=\"txtt\">yuwaf~iqi </span></span></div></td><td class=\"tf ltr\"><div class=\"ltr\"><span class=\"plain ltr  hl\" ><span class=\"txtt\">{ll~ahu </span></span></div></td></tr></table>"
      ],
      "text/plain": [
       "<IPython.core.display.HTML object>"
      ]
     },
     "metadata": {},
     "output_type": "display_data"
    }
   ],
   "source": [
    "A.table(results, end=10, fmt=\"text-trans-full\")"
   ]
  },
  {
   "cell_type": "markdown",
   "metadata": {},
   "source": [
    "Even better, we have a transcription that only shows the roots of the words:"
   ]
  },
  {
   "cell_type": "code",
   "execution_count": 24,
   "metadata": {},
   "outputs": [
    {
     "data": {
      "text/html": [
       "<table><tr class=\"tf ltr\"><th class=\"tf ltr\">n</th><th class=\"tf ltr\">p</th><th class=\"tf ltr\">aya</th><th class=\"tf\">word</th><th class=\"tf\">word</th></tr>\n",
       "<tr class=\"tf ltr\"><td class=\"tf ltr\">1</td><td class=\"tf ltr\"><span class=\"section ltr\"><a target=\"_blank\" href=\"http://tanzil.net/#2:7\" title=\"show this passage on Tanzil\" sec=\"2:7\">2:7</a></span></td><td class=\"tf ltr\"><div class=\"ltr\"><span class=\"plain ltr  hl\" ><span class=\"txtt\">xtm </span></span><span class=\"plain ltr  hl\" ><span class=\"txtt\">Alh </span></span><span class=\"txtt\"> </span><span class=\"txtt\">qlb</span><span class=\"txtt\"> </span><span class=\"txtt\"> </span><span class=\"txtt\">smE</span><span class=\"txtt\"> </span><span class=\"txtt\"> </span><span class=\"txtt\">bSr</span><span class=\"txtt\"> </span><span class=\"txtt\">g<span>$</span>w </span><span class=\"txtt\"> </span><span class=\"txtt\">E*b </span><span class=\"txtt\">EZm</span></div></td><td class=\"tf ltr\"><div class=\"ltr\"><span class=\"plain ltr  hl\" ><span class=\"txtt\">xtm </span></span></div></td><td class=\"tf ltr\"><div class=\"ltr\"><span class=\"plain ltr  hl\" ><span class=\"txtt\">Alh </span></span></div></td></tr>\n",
       "<tr class=\"tf ltr\"><td class=\"tf ltr\">2</td><td class=\"tf ltr\"><span class=\"section ltr\"><a target=\"_blank\" href=\"http://tanzil.net/#2:245\" title=\"show this passage on Tanzil\" sec=\"2:245\">2:245</a></span></td><td class=\"tf ltr\"><div class=\"ltr\"><span class=\"txtt\"> </span><span class=\"txtt\"> </span><span class=\"txtt\"> </span><span class=\"plain ltr  hl\" ><span class=\"txtt\">qrD </span></span><span class=\"plain ltr  hl\" ><span class=\"txtt\">Alh </span></span><span class=\"txtt\">qrD </span><span class=\"txtt\">Hsn </span><span class=\"txtt\">DEf</span><span class=\"txtt\"> </span><span class=\"txtt\"> </span><span class=\"txtt\">DEf </span><span class=\"txtt\">kvr </span><span class=\"txtt\">Alh </span><span class=\"txtt\">qbD </span><span class=\"txtt\">bsT </span><span class=\"txtt\"> </span><span class=\"txtt\">rjE</span></div></td><td class=\"tf ltr\"><div class=\"ltr\"><span class=\"plain ltr  hl\" ><span class=\"txtt\">qrD </span></span></div></td><td class=\"tf ltr\"><div class=\"ltr\"><span class=\"plain ltr  hl\" ><span class=\"txtt\">Alh </span></span></div></td></tr>\n",
       "<tr class=\"tf ltr\"><td class=\"tf ltr\">3</td><td class=\"tf ltr\"><span class=\"section ltr\"><a target=\"_blank\" href=\"http://tanzil.net/#2:276\" title=\"show this passage on Tanzil\" sec=\"2:276\">2:276</a></span></td><td class=\"tf ltr\"><div class=\"ltr\"><span class=\"plain ltr  hl\" ><span class=\"txtt\">mHq </span></span><span class=\"plain ltr  hl\" ><span class=\"txtt\">Alh </span></span><span class=\"txtt\">rbw </span><span class=\"txtt\">rbw </span><span class=\"txtt\">Sdq </span><span class=\"txtt\">Alh </span><span class=\"txtt\"> </span><span class=\"txtt\">Hbb </span><span class=\"txtt\">kll </span><span class=\"txtt\">kfr </span><span class=\"txtt\">Avm</span></div></td><td class=\"tf ltr\"><div class=\"ltr\"><span class=\"plain ltr  hl\" ><span class=\"txtt\">mHq </span></span></div></td><td class=\"tf ltr\"><div class=\"ltr\"><span class=\"plain ltr  hl\" ><span class=\"txtt\">Alh </span></span></div></td></tr>\n",
       "<tr class=\"tf ltr\"><td class=\"tf ltr\">4</td><td class=\"tf ltr\"><span class=\"section ltr\"><a target=\"_blank\" href=\"http://tanzil.net/#3:54\" title=\"show this passage on Tanzil\" sec=\"3:54\">3:54</a></span></td><td class=\"tf ltr\"><div class=\"ltr\"><span class=\"txtt\">mkr</span><span class=\"txtt\"> </span><span class=\"plain ltr  hl\" ><span class=\"txtt\">mkr </span></span><span class=\"plain ltr  hl\" ><span class=\"txtt\">Alh </span></span><span class=\"txtt\">Alh </span><span class=\"txtt\">xyr </span><span class=\"txtt\">mkr</span></div></td><td class=\"tf ltr\"><div class=\"ltr\"><span class=\"plain ltr  hl\" ><span class=\"txtt\">mkr </span></span></div></td><td class=\"tf ltr\"><div class=\"ltr\"><span class=\"plain ltr  hl\" ><span class=\"txtt\">Alh </span></span></div></td></tr>\n",
       "<tr class=\"tf ltr\"><td class=\"tf ltr\">5</td><td class=\"tf ltr\"><span class=\"section ltr\"><a target=\"_blank\" href=\"http://tanzil.net/#3:95\" title=\"show this passage on Tanzil\" sec=\"3:95\">3:95</a></span></td><td class=\"tf ltr\"><div class=\"ltr\"><span class=\"txtt\">qwl </span><span class=\"plain ltr  hl\" ><span class=\"txtt\">Sdq </span></span><span class=\"plain ltr  hl\" ><span class=\"txtt\">Alh </span></span><span class=\"txtt\">tbE</span><span class=\"txtt\"> </span><span class=\"txtt\">mll </span><span class=\"txtt\"> </span><span class=\"txtt\">Hnf </span><span class=\"txtt\"> </span><span class=\"txtt\">kwn </span><span class=\"txtt\"> </span><span class=\"txtt\"><span>$</span>rk</span></div></td><td class=\"tf ltr\"><div class=\"ltr\"><span class=\"plain ltr  hl\" ><span class=\"txtt\">Sdq </span></span></div></td><td class=\"tf ltr\"><div class=\"ltr\"><span class=\"plain ltr  hl\" ><span class=\"txtt\">Alh </span></span></div></td></tr>\n",
       "<tr class=\"tf ltr\"><td class=\"tf ltr\">6</td><td class=\"tf ltr\"><span class=\"section ltr\"><a target=\"_blank\" href=\"http://tanzil.net/#3:141\" title=\"show this passage on Tanzil\" sec=\"3:141\">3:141</a></span></td><td class=\"tf ltr\"><div class=\"ltr\"><span class=\"plain ltr  hl\" ><span class=\"txtt\">mHS </span></span><span class=\"plain ltr  hl\" ><span class=\"txtt\">Alh </span></span><span class=\"txtt\"> </span><span class=\"txtt\">Amn</span><span class=\"txtt\"> </span><span class=\"txtt\">mHq </span><span class=\"txtt\">kfr</span></div></td><td class=\"tf ltr\"><div class=\"ltr\"><span class=\"plain ltr  hl\" ><span class=\"txtt\">mHS </span></span></div></td><td class=\"tf ltr\"><div class=\"ltr\"><span class=\"plain ltr  hl\" ><span class=\"txtt\">Alh </span></span></div></td></tr>\n",
       "<tr class=\"tf ltr\"><td class=\"tf ltr\">7</td><td class=\"tf ltr\"><span class=\"section ltr\"><a target=\"_blank\" href=\"http://tanzil.net/#3:155\" title=\"show this passage on Tanzil\" sec=\"3:155\">3:155</a></span></td><td class=\"tf ltr\"><div class=\"ltr\"><span class=\"txtt\"> </span><span class=\"txtt\"> </span><span class=\"txtt\">wly</span><span class=\"txtt\"> </span><span class=\"txtt\"> </span><span class=\"txtt\">ywm </span><span class=\"txtt\">lqy </span><span class=\"txtt\">jmE </span><span class=\"txtt\"> </span><span class=\"txtt\">zll</span><span class=\"txtt\"> </span><span class=\"txtt\"><span>$</span>Tn </span><span class=\"txtt\">bED </span><span class=\"txtt\"> </span><span class=\"txtt\">ksb</span><span class=\"txtt\"> </span><span class=\"txtt\"> </span><span class=\"plain ltr  hl\" ><span class=\"txtt\">Efw </span></span><span class=\"plain ltr  hl\" ><span class=\"txtt\">Alh </span></span><span class=\"txtt\"> </span><span class=\"txtt\"> </span><span class=\"txtt\">Alh </span><span class=\"txtt\">gfr </span><span class=\"txtt\">Hlm</span></div></td><td class=\"tf ltr\"><div class=\"ltr\"><span class=\"plain ltr  hl\" ><span class=\"txtt\">Efw </span></span></div></td><td class=\"tf ltr\"><div class=\"ltr\"><span class=\"plain ltr  hl\" ><span class=\"txtt\">Alh </span></span></div></td></tr>\n",
       "<tr class=\"tf ltr\"><td class=\"tf ltr\">8</td><td class=\"tf ltr\"><span class=\"section ltr\"><a target=\"_blank\" href=\"http://tanzil.net/#3:164\" title=\"show this passage on Tanzil\" sec=\"3:164\">3:164</a></span></td><td class=\"tf ltr\"><div class=\"ltr\"><span class=\"txtt\"> </span><span class=\"plain ltr  hl\" ><span class=\"txtt\">mnn </span></span><span class=\"plain ltr  hl\" ><span class=\"txtt\">Alh </span></span><span class=\"txtt\"> </span><span class=\"txtt\">Amn </span><span class=\"txtt\"> </span><span class=\"txtt\">bEv </span><span class=\"txtt\"> </span><span class=\"txtt\">rsl </span><span class=\"txtt\"> </span><span class=\"txtt\">nfs</span><span class=\"txtt\"> </span><span class=\"txtt\">tlw </span><span class=\"txtt\"> </span><span class=\"txtt\">Ayy</span><span class=\"txtt\"> </span><span class=\"txtt\">zkw</span><span class=\"txtt\"> </span><span class=\"txtt\">Elm</span><span class=\"txtt\"> </span><span class=\"txtt\">ktb </span><span class=\"txtt\">Hkm </span><span class=\"txtt\"> </span><span class=\"txtt\">kwn</span><span class=\"txtt\"> </span><span class=\"txtt\"> </span><span class=\"txtt\">qbl </span><span class=\"txtt\"> </span><span class=\"txtt\">Dll </span><span class=\"txtt\">byn</span></div></td><td class=\"tf ltr\"><div class=\"ltr\"><span class=\"plain ltr  hl\" ><span class=\"txtt\">mnn </span></span></div></td><td class=\"tf ltr\"><div class=\"ltr\"><span class=\"plain ltr  hl\" ><span class=\"txtt\">Alh </span></span></div></td></tr>\n",
       "<tr class=\"tf ltr\"><td class=\"tf ltr\">9</td><td class=\"tf ltr\"><span class=\"section ltr\"><a target=\"_blank\" href=\"http://tanzil.net/#4:17\" title=\"show this passage on Tanzil\" sec=\"4:17\">4:17</a></span></td><td class=\"tf ltr\"><div class=\"ltr\"><span class=\"txtt\"> </span><span class=\"txtt\">twb </span><span class=\"txtt\"> </span><span class=\"txtt\">Alh </span><span class=\"txtt\"> </span><span class=\"txtt\">Eml</span><span class=\"txtt\"> </span><span class=\"txtt\">swA </span><span class=\"txtt\">jhl </span><span class=\"txtt\"> </span><span class=\"txtt\">twb</span><span class=\"txtt\"> </span><span class=\"txtt\"> </span><span class=\"txtt\">qrb </span><span class=\"txtt\"> </span><span class=\"plain ltr  hl\" ><span class=\"txtt\">twb </span></span><span class=\"plain ltr  hl\" ><span class=\"txtt\">Alh </span></span><span class=\"txtt\"> </span><span class=\"txtt\">kwn </span><span class=\"txtt\">Alh </span><span class=\"txtt\">Elm </span><span class=\"txtt\">Hkm</span></div></td><td class=\"tf ltr\"><div class=\"ltr\"><span class=\"plain ltr  hl\" ><span class=\"txtt\">twb </span></span></div></td><td class=\"tf ltr\"><div class=\"ltr\"><span class=\"plain ltr  hl\" ><span class=\"txtt\">Alh </span></span></div></td></tr>\n",
       "<tr class=\"tf ltr\"><td class=\"tf ltr\">10</td><td class=\"tf ltr\"><span class=\"section ltr\"><a target=\"_blank\" href=\"http://tanzil.net/#4:35\" title=\"show this passage on Tanzil\" sec=\"4:35\">4:35</a></span></td><td class=\"tf ltr\"><div class=\"ltr\"><span class=\"txtt\"> </span><span class=\"txtt\">xwf</span><span class=\"txtt\"> </span><span class=\"txtt\"><span>$</span>qq </span><span class=\"txtt\">byn</span><span class=\"txtt\"> </span><span class=\"txtt\">bEv</span><span class=\"txtt\"> </span><span class=\"txtt\">Hkm </span><span class=\"txtt\"> </span><span class=\"txtt\">Ahl</span><span class=\"txtt\"> </span><span class=\"txtt\">Hkm </span><span class=\"txtt\"> </span><span class=\"txtt\">Ahl</span><span class=\"txtt\"> </span><span class=\"txtt\"> </span><span class=\"txtt\">rwd</span><span class=\"txtt\"> </span><span class=\"txtt\">SlH </span><span class=\"plain ltr  hl\" ><span class=\"txtt\">wfq </span></span><span class=\"plain ltr  hl\" ><span class=\"txtt\">Alh </span></span><span class=\"txtt\">byn</span><span class=\"txtt\"> </span><span class=\"txtt\"> </span><span class=\"txtt\">Alh </span><span class=\"txtt\">kwn </span><span class=\"txtt\">Elm </span><span class=\"txtt\">xbr</span></div></td><td class=\"tf ltr\"><div class=\"ltr\"><span class=\"plain ltr  hl\" ><span class=\"txtt\">wfq </span></span></div></td><td class=\"tf ltr\"><div class=\"ltr\"><span class=\"plain ltr  hl\" ><span class=\"txtt\">Alh </span></span></div></td></tr></table>"
      ],
      "text/plain": [
       "<IPython.core.display.HTML object>"
      ]
     },
     "metadata": {},
     "output_type": "display_data"
    }
   ],
   "source": [
    "A.table(results, end=10, fmt=\"root-trans-full\")"
   ]
  },
  {
   "cell_type": "markdown",
   "metadata": {},
   "source": [
    "But we wanted the translations of the relevant ayas. Here they come:"
   ]
  },
  {
   "cell_type": "code",
   "execution_count": 25,
   "metadata": {},
   "outputs": [
    {
     "name": "stdout",
     "output_type": "stream",
     "text": [
      "God has set a seal on their hearts and on their hearing, and on their eyes is a covering, and there awaits them a mighty chastisement.\n",
      "-----\n",
      "Who is he that will lend God a good loan, and He will multiply it for him manifold? God grasps, and outspreads; and unto Him you shall be returned.\n",
      "-----\n",
      "God blots out usury, but freewill offerings He augments with interest. God loves not any guilty ingrate.\n",
      "-----\n",
      "And they devised, and God devised, and God is the best of devisers.\n",
      "-----\n",
      "Say: 'God has spoken the truth; therefore follow the creed of Abraham, a man of pure faith and no idolater.'\n",
      "-----\n",
      "and that God may prove the believers, and blot out the unbelievers.\n",
      "-----\n",
      "Those of you who turned away the day the two hosts encountered -- Satan made them slip for somewhat they had earned; but God has pardoned them; God is All-forgiving, All-clement.\n",
      "-----\n",
      "Truly God was gracious to the believers when He raised up among them a Messenger from themselves, to recite to them His signs and to purify them, and to teach them the Book and the Wisdom, though before they were in manifest error.\n",
      "-----\n",
      "God shall turn only towards those who do evil in ignorance, then shortly repent; God will return towards those; God is All-knowing, All-wise.\n",
      "-----\n",
      "And if you fear a breach between the two, bring forth an arbiter from his people and from her people an arbiter, if they desire to set things right; God will compose their differences; surely God is All-knowing, All-aware.\n",
      "-----\n",
      "And whoso slays a believer wilfully, his recompense is Gehenna, therein dwelling forever, and God will be wroth with him and will curse him, and prepare for him a mighty chastisement.\n",
      "-----\n",
      "O believers, when you are journeying in the path of God, be discriminating, and do not say to him who offers you a greeting, 'Thou art not a believer,' seeking the chance goods of the present life. With God are spoils abundant. So you were aforetime; but God has been gracious to you. So be discriminating; surely God is aware of the things you do.\n",
      "-----\n",
      "Ha, there you are; you have disputed on their behalf in the present life; but who will dispute with God on their behalf on the Resurrection Day, or who will be a guardian for them?\n",
      "-----\n",
      "So, for their breaking the compact, and disbelieving in the signs of God, and slaying the Prophets without right, and for their saying, 'Our hearts are uncircumcised' -- nay, but God sealed them for their unbelief, so they believe not, except a few --\n",
      "-----\n",
      "And they supposed there should be no trial; but blind they were, and deaf. Then God turned towards them; then again blind they were, many of them, and deaf; and God sees the things they do.\n",
      "-----\n",
      "Thou seest many of them making unbelievers their friends. Evil is that they have forwarded to their account, that God is angered against them, and in the chastisement they shall dwell forever.\n",
      "-----\n",
      "O believers, slay not the game while you are in pilgrim sanctity; whosoever of you slays it wilfully, there shall be recompense -- the like of what he has slain, in flocks as shall be judged by two men of equity among you, an offering to reach the Kaaba; or expiation -- food for poor persons or the equivalent of that in fasting, so that he may taste the mischief of his action. God has pardoned what is past; but whoever offends again, God will take vengeance on him, God is All-mighty, Vengeful.\n",
      "-----\n",
      "O believers, slay not the game while you are in pilgrim sanctity; whosoever of you slays it wilfully, there shall be recompense -- the like of what he has slain, in flocks as shall be judged by two men of equity among you, an offering to reach the Kaaba; or expiation -- food for poor persons or the equivalent of that in fasting, so that he may taste the mischief of his action. God has pardoned what is past; but whoever offends again, God will take vengeance on him, God is All-mighty, Vengeful.\n",
      "-----\n",
      "O believers, question not concerning things which, if they were revealed to you, would vex you; yet if you question concerning them when the Koran is being sent down, they will be revealed to you. God has effaced those things; for God is All-forgiving, All-clement.\n",
      "-----\n",
      "God said, 'This is the day the truthful shall be profited by their truthfulness. For them await gardens underneath which rivers flow, therein dwelling forever and ever; God being well-pleased with them and they well-pleased with Him; that is the mighty triumph.'\n",
      "-----\n",
      "Even so We have tried some of them by others that they may say, Are these the ones God has been gracious to among us?' Knows not God very well the thankful?\n",
      "-----\n",
      "Those cities We relate to thee tidings of; their Messengers came to them with the clear signs, but they were not the ones to believe in that they had cried lies before; so God seals the hearts of the unbelievers.\n",
      "-----\n",
      "That, because they had made a breach with God and with His Messenger; and whosoever makes a breach with God and with His Messenger, surely God is terrible in retribution.\n",
      "-----\n",
      "And when the unbelievers were devising against thee, to confine thee, or slay thee, or to expel thee, and were devising, and God was devising; and God is the best of devisers.\n",
      "-----\n",
      "that God may distinguish the corrupt from the good, and place the corrupt one upon another, and so heap them up all together, and put them in Gehenna; those are the losers.\n",
      "-----\n",
      "and He will remove the rage within their hearts; and God turns towards whomsoever He will; God is All-knowing, All-wise\n",
      "-----\n",
      "then God thereafter turns towards whom He will; God is All-forgiving, All-compassionate.\n",
      "-----\n",
      "God pardon thee! Why gavest thou them leave, till it was clear to thee which of them spoke the truth, and thou knewest the liars?\n",
      "-----\n",
      "If they had desired to go forth, they would have made some preparation for it; but God was averse that they should be aroused, so He made them pause, and it was said to them, 'Tarry you with the tarriers.'\n",
      "-----\n",
      "Do they not know that whosoever opposes God and His Messenger -- for him awaits the fire of Gehenna, therein to dwell forever? That is the mighty degradation.\n",
      "-----\n",
      "And some of them have made covenant with God: 'If He gives us of His bounty, we will make offerings and be of the righteous.'\n",
      "-----\n",
      "God has prepared for them gardens underneath which rivers flow, therein to dwell forever; that is the mighty triumph.\n",
      "-----\n",
      "The way is open only against those who ask leave of thee, being rich; they are well-pleased to be with those behind; God has set a seal on their hearts, so they know not.\n",
      "-----\n",
      "And the Outstrippers, the first of the Emigrants and the Helpers, and those who followed them in good-doing -- God will be well-pleased with them and they are well-pleased with Him; and He has prepared for them gardens underneath which rivers flow, therein to dwell forever and ever; that is the mighty triumph.\n",
      "-----\n",
      "And those who have taken a mosque in opposition and unbelief, and to divide the believers, and as a place of ambush for those who fought God and His Messenger aforetime -- they will swear 'We desired nothing but good'; and God testifies they are truly liars.\n",
      "-----\n",
      "God has turned towards the Prophet and the Emigrants and the Helpers who followed him in the hour of difficulty, after the hearts of a part of them well-nigh swerved aside; then He turned towards them; surely He is Gentle to them, and All-compassionate.\n",
      "-----\n",
      "If God should hasten unto men evil as they would hasten good, their term would be already decided for them. But We leave those, who look not to encounter Us, in their insolence wandering blindly.\n",
      "-----\n",
      "They said, 'Why, art thou indeed Joseph?' 'I am Joseph,' he said. 'This is my brother. God has indeed been gracious unto us. Whosoever fears God, and is patient -- surely God leaves not to waste the wage of the good-doers.\n",
      "-----\n",
      "God blots out, and He establishes whatsoever He will; and with Him is the Essence of the Book.\n",
      "-----\n",
      "Do they feel secure, those who devise evil things, that God will not cause the earth to swallow them, or that the chastisement will not come upon them, from whence they are not aware?\n",
      "-----\n",
      "Those -- God has set a seal on their hearts, and their hearing, and their eyes, and those -- they are the heedless ones;\n",
      "-----\n",
      "Hast thou not seen how to God bow all who are in the and all who are in the earth, heavens the sun and the moon, the stars and the mountains, the trees and the beasts, and many of mankind? And many merit the chastisement; and whom God abases, there is none to honour him. God does whatsoever He will.\n",
      "-----\n",
      "We sent not ever any Messenger or Prophet before thee, but that Satan cast into his fancy, when he was fancying; but God annuls what Satan casts, then God confirms His signs -- surely God is All-knowing, All-wise --\n",
      "-----\n",
      "What, is there sickness in their hearts, or are they in doubt, or do they fear that God may be unjust towards them and His Messenger? Nay, but those -- they are the evildoers.\n",
      "-----\n",
      "and in the morning those who had longed to be in his place the day before were saying, 'Ah, God outspreads and straitens His provision to whomsoever He will of His servants. Had God not been gracious to us, He would have made us to be swallowed too. Ah, the unbelievers do not prosper,\n",
      "-----\n",
      "Even so God seals the hearts of those that know not.\n",
      "-----\n",
      "When the believers saw the Confederates they said, 'This is what God and His Messenger promised us, and God and His Messenger have spoken truly.' And it only increased them in faith and surrender.\n",
      "-----\n",
      "And God sent back those that were unbelievers in their rage, and they attained no good; God spared the believers of fighting. Surely God is All-strong, All-mighty.\n",
      "-----\n",
      "Men and women who have surrendered, believing men and believing women, obedient men and obedient women, truthful men and truthful women, enduring men and enduring women, humble men and humble women, men and women who give in charity, men who fast and women who fast, men and women who guard their private parts, men and women who remember God oft -- for them God has prepared forgiveness and a mighty wage.\n",
      "-----\n",
      "There is no fault in the Prophet, touching what God has ordained for him -- God's wont with those who passed away before; and God's commandment is doom decreed;\n",
      "-----\n",
      "That God may chastise the hypocrites, men and women alike, and the idolaters, men and women alike; and that God may turn again unto the believers, men and women alike. God is All-forgiving, All-compassionate.\n",
      "-----\n",
      "'God has begotten?' They are truly liars.\n",
      "-----\n",
      "(Those who dispute concerning the signs of God, without any authority come to them, very hateful is that in the sight of God and the believers; 'so God sets a seal on every heart proud', arrogant.)\n",
      "-----\n",
      "Or do they say, 'He has forged against God a lie?' But if God wills, He will set a seal on thy heart; and God blots out falsehood and verifies the truth by His words; He knows the thoughts within the breasts.\n",
      "-----\n",
      "Had God expanded His provision to His servants, they would have been insolent in the earth; but He sends down in measure whatsoever He will; surely He is aware of and sees His servants.\n",
      "-----\n",
      "And some of them there are give ear to thee, till, when they go forth from thee, they say to those who have been given knowledge, 'What said he just now?' Those are they upon whose hearts God has set a seal, and they have followed their caprices.\n",
      "-----\n",
      "That is because they have followed what angers God, and have been averse to His good pleasure, so He has made their works to fail.\n",
      "-----\n",
      "and that He may chastise the hypocrites, men and women alike, and the idolaters men and women alike, and those who think evil thoughts of God; against them shall be the evil turn of fortune. God is wroth with them, and has cursed them, and has prepared for them Gehenna -- an evil homecoming!\n",
      "-----\n",
      "God was well pleased with the believers when they were swearing fealty to thee under the tree, and He knew what was in their hearts, so He sent down the Shechina upon them, and rewarded them with a nigh victory\n",
      "-----\n",
      "and other spoils you were not able to take; God had encompassed them already. God is powerful over everything.\n",
      "-----\n",
      "God has indeed fulfilled the vision He vouchsafed to His Messenger truly: 'You shall enter the Holy Mosque, if God wills, in security, your heads shaved, your hair cut short, not fearing.' He knew what you knew not, and appointed ere that a nigh victory.\n",
      "-----\n",
      "Surely those who lower their voices in the presence of God's Messenger, those are they whose hearts God has tested for godfearing; they shall have forgiveness and a mighty wage.\n",
      "-----\n",
      "and God was gracious to us, and guarded us against the chastisement of the burning wind;\n",
      "-----\n",
      "Who is he that will lend to God a good loan, and He will multiply it for him, and his shall be a generous wage?\n",
      "-----\n",
      "O believers, when it is said to you 'Make room in the assemblies', then make room, and God will make room for you; and when it is said, 'Move up', move up, and God will raise up in rank those of you who believe and have been given knowledge. And God is aware of the things you do.\n",
      "-----\n",
      "Are you afraid, before your conspiring, to advance freewill offerings? If you do not so, and God turns again unto you, then perform the prayer, and pay the alms, and obey God and His Messenger. God is aware of the things you do.\n",
      "-----\n",
      "Hast thou not regarded those who have taken for friends a people against whom God is wrathful? They belong neither to you nor to them; and they swear upon falsehood, and that wittingly.\n",
      "-----\n",
      "God has made ready for them a chastisement terrible; surely they -- evil are the things they have been doing.\n",
      "-----\n",
      "Thou shalt not find any people who believe in God and the Last Day who are loving to anyone who opposes. God and His Messenger, not though they were their fathers, or their sons, or their brothers, or their clan. Those -- He has written faith upon their hearts, and He has confirmed them with a Spirit from Himself; and He shall admit them into gardens underneath which rivers flow, therein to dwell forever, God being well-pleased with them, and they well-pleased with Him. Those are God's party; why, surely God's party -- they are the prosperers.\n",
      "-----\n",
      "Thou shalt not find any people who believe in God and the Last Day who are loving to anyone who opposes. God and His Messenger, not though they were their fathers, or their sons, or their brothers, or their clan. Those -- He has written faith upon their hearts, and He has confirmed them with a Spirit from Himself; and He shall admit them into gardens underneath which rivers flow, therein to dwell forever, God being well-pleased with them, and they well-pleased with Him. Those are God's party; why, surely God's party -- they are the prosperers.\n",
      "-----\n",
      "That is because they made a breach with God and His Messenger; and whosoever makes a breach with God, God is terrible in retribution.\n",
      "-----\n",
      "O believers, take not for friends a people against whom God is wrathful, and who have despaired of the world to come, even as the unbelievers have despaired of the inhabitants of the tombs.\n",
      "-----\n",
      "But God will never defer any soul when its term comes. And God is aware of the things you do.\n",
      "-----\n",
      "God prepared for them a terrible chastisement. So fear God, O men possessed of minds! Believers, God has sent down to you, for a remembrance,\n",
      "-----\n",
      "God has ordained for you the absolution of your oaths. God is your Protector, and He is the All-knowing, the All-wise.\n",
      "-----\n",
      "Believers, turn to God in sincere repentance; it may be that your Lord will acquit you of your evil deeds, and will admit you into gardens underneath which rivers flow. Upon the day when God will not degrade the Prophet and those who believe with him, their light running before them, and on their right hands; and they say, 'Our 'Lord, perfect for us our light, and forgive us; surely Thou art powerful over everything.'\n",
      "-----\n",
      "Indeed, we thought that we should never be able to frustrate God in the earth, neither be able to frustrate Him by flight.\n",
      "-----\n",
      "their recompense is with their Lord-Gardens of Eden, underneath which rivers flow, therein dwelling for ever and ever. God is well-pleased with them, and they are well-pleased with Him; that is for him who fears his Lord.\n",
      "-----\n"
     ]
    }
   ],
   "source": [
    "for (aya, verb, noun) in results:\n",
    "    print(Fs(\"translation@en\").v(aya))\n",
    "    print(\"-----\")"
   ]
  }
 ],
 "metadata": {
  "kernelspec": {
   "display_name": "Python 3",
   "language": "python",
   "name": "python3"
  },
  "language_info": {
   "codemirror_mode": {
    "name": "ipython",
    "version": 3
   },
   "file_extension": ".py",
   "mimetype": "text/x-python",
   "name": "python",
   "nbconvert_exporter": "python",
   "pygments_lexer": "ipython3",
   "version": "3.7.7"
  }
 },
 "nbformat": 4,
 "nbformat_minor": 4
}
