{
 "cells": [
  {
   "cell_type": "code",
   "execution_count": 1,
   "metadata": {},
   "outputs": [],
   "source": [
    "%load_ext autoreload\n",
    "%autoreload 2"
   ]
  },
  {
   "cell_type": "code",
   "execution_count": 2,
   "metadata": {},
   "outputs": [],
   "source": [
    "from fixture import TestApp"
   ]
  },
  {
   "cell_type": "code",
   "execution_count": 3,
   "metadata": {},
   "outputs": [],
   "source": [
    "As = TestApp(globals())"
   ]
  },
  {
   "cell_type": "code",
   "execution_count": 13,
   "metadata": {},
   "outputs": [],
   "source": [
    "def basic():\n",
    "    for n in As.select(slot=True, start=True, center=True, end=True, size=1):\n",
    "        As.perform(\"plain\", n)\n",
    "        As.perform(\"pretty\", n)\n",
    "        As.perform(\"plain\", n, withPassage=False)\n",
    "        As.perform(\"plain\", n, withNodes=True, withTypes=True)\n",
    "        As.perform(\"pretty\", n)\n",
    "        As.perform(\"pretty\", n, withPassage=False)\n",
    "        As.perform(\"pretty\", n, withNodes=True, withTypes=True)"
   ]
  },
  {
   "cell_type": "code",
   "execution_count": 14,
   "metadata": {},
   "outputs": [],
   "source": [
    "As.testSet(\"banks\")"
   ]
  },
  {
   "cell_type": "code",
   "execution_count": 19,
   "metadata": {},
   "outputs": [],
   "source": [
    "As.foreground(\"banks\")"
   ]
  },
  {
   "cell_type": "code",
   "execution_count": 20,
   "metadata": {},
   "outputs": [
    {
     "data": {
      "text/html": [
       "<style>\n",
       "@font-face {\n",
       "  font-family: \"Gentium\";\n",
       "  src:\n",
       "    local(\"GentiumPlus-R.ttf\"),\n",
       "    url(\"https://github.com/annotation/text-fabric/blob/master/tf/server/static/fonts/GentiumPlus-R.woff?raw=true\");\n",
       "}\n",
       "\n",
       "tr.tf, td.tf, th.tf {\n",
       "  text-align: left ! important;\n",
       "}\n",
       "\n",
       "/* neutral text */\n",
       ".txtn,.txtn a:visited,.txtn a:link {\n",
       "    font-family: sans-serif;\n",
       "    font-size: medium;\n",
       "    direction: ltr;\n",
       "    text-decoration: none;\n",
       "}\n",
       "/* transcription text */\n",
       ".txtt,.txtt a:visited,.txtt a:link {\n",
       "    font-family: monospace;\n",
       "    font-size: medium;\n",
       "    direction: ltr;\n",
       "    text-decoration: none;\n",
       "}\n",
       "/* source text */\n",
       ".txto,.txto a:visited,.txto a:link {\n",
       "    font-family: serif;\n",
       "    font-size: medium;\n",
       "    direction: ltr;\n",
       "    text-decoration: none;\n",
       "}\n",
       "/* phonetic text */\n",
       ".txtp,.txtp a:visited,.txtp a:link {\n",
       "    font-family: Gentium, sans-serif;\n",
       "    font-size: large;\n",
       "    direction: ltr;\n",
       "    text-decoration: none;\n",
       "}\n",
       "/* original script text */\n",
       ".txtu,.txtu a:visited,.txtu a:link {\n",
       "    font-family: Gentium, sans-serif;\n",
       "    font-size: large;\n",
       "    text-decoration: none;\n",
       "}\n",
       "/* hebrew */\n",
       ".txtu.hbo,.lex.hbo,.txtu.hbo a:visited,.txtu.hbo a:link {\n",
       "    font-family: \"Ezra SIL\", \"SBL Hebrew\", sans-serif;\n",
       "    font-size: x-large;\n",
       "    direction: rtl;\n",
       "    unicode-bidi: embed;\n",
       "}\n",
       "/* syriac */\n",
       ".txtu.syc,.lex.syc,.txtu.syc a:visited,.txtu.syc a:link {\n",
       "    font-family: \"Estrangelo Edessa\", sans-serif;\n",
       "    font-size: large;\n",
       "    direction: rtl;\n",
       "    unicode-bidi: embed;\n",
       "}\n",
       "/* neo aramaic */\n",
       ".txtu.cld,.lex.cld,.txtu.cld a:visited,.txtu.cld a:link {\n",
       "    font-family: \"CharisSIL-R\", sans-serif;\n",
       "    font-size: medium;\n",
       "    direction: rtl;\n",
       "    unicode-bidi: embed;\n",
       "}\n",
       "/* standard arabic */\n",
       ".txtu.ara,.lex.ara,.txtu.ara a:visited,.txtu.ara a:link {\n",
       "    font-family: \"AmiriQuran\", sans-serif;\n",
       "    font-size: large;\n",
       "    direction: rtl;\n",
       "    unicode-bidi: embed;\n",
       "}\n",
       "/* cuneiform */\n",
       ".txtu.cun,.lex.cun,.txtu.cun a:visited,.txtu.cun a:link {\n",
       "    font-family: Santakku, sans-serif;\n",
       "    font-size: x-large;\n",
       "    direction: ltr;\n",
       "    unicode-bidi: embed;\n",
       "}\n",
       "/* greek */\n",
       ".txtu.grc,.lex.grc,.txtu.grc a:visited,.txtu.grc a:link {\n",
       "    font-family: Gentium, sans-serif;\n",
       "    font-size: medium;\n",
       "    direction: ltr;\n",
       "    unicode-bidi: embed;\n",
       "}\n",
       "a:hover {\n",
       "    text-decoration: underline | important;\n",
       "    color: #0000ff | important;\n",
       "}\n",
       ".ltr {\n",
       "    direction: ltr ! important;\n",
       "}\n",
       ".rtl {\n",
       "    direction: rtl ! important;\n",
       "}\n",
       "span.plain {\n",
       "    display: inline-block;\n",
       "    white-space: pre-wrap;\n",
       "    text-align: start;\n",
       "}\n",
       ".features {\n",
       "    font-family: monospace;\n",
       "    font-size: medium;\n",
       "    font-weight: bold;\n",
       "    color: var(--features);\n",
       "    display: flex;\n",
       "    flex-flow: column nowrap;\n",
       "    justify-content: flex-start;\n",
       "    align-items: flex-start;\n",
       "    align-content: flex-start;\n",
       "    padding: 0.1rem;\n",
       "    margin: 0.1rem;\n",
       "    direction: ltr;\n",
       "}\n",
       ".features div,.features span {\n",
       "    padding: 0;\n",
       "    margin: -0.1rem 0;\n",
       "}\n",
       ".features .f {\n",
       "    font-family: sans-serif;\n",
       "    font-size: x-small;\n",
       "    font-weight: normal;\n",
       "    color: #5555bb;\n",
       "}\n",
       ".features .xft {\n",
       "  color: #000000;\n",
       "  background-color: #eeeeee;\n",
       "  font-size: medium;\n",
       "  margin: 0.1rem 0rem;\n",
       "}\n",
       ".features .xft .f {\n",
       "  color: #000000;\n",
       "  background-color: #eeeeee;\n",
       "  font-style: italic;\n",
       "  font-size: small;\n",
       "  font-weight: normal;\n",
       "}\n",
       ".psg {\n",
       "    font-family: sans-serif;\n",
       "    font-size: small;\n",
       "    font-weight: bold;\n",
       "    color: var(--passage);\n",
       "}\n",
       ".comments {\n",
       "    display: flex;\n",
       "    justify-content: flex-start;\n",
       "    align-items: flex-start;\n",
       "    align-content: flex-start;\n",
       "    flex-flow: column nowrap;\n",
       "}\n",
       ".meta {\n",
       "    display: flex;\n",
       "    justify-content: flex-start;\n",
       "    align-items: flex-start;\n",
       "    align-content: flex-start;\n",
       "    flex-flow: row nowrap;\n",
       "    border: var(--meta-width) solid var(--meta-color);\n",
       "    border-radius: var(--meta-width);\n",
       "}\n",
       ".nd {\n",
       "    font-family: sans-serif;\n",
       "    font-size: x-small;\n",
       "    color: var(--node);\n",
       "    vertical-align: super;\n",
       "}\n",
       ".verse {\n",
       "    display: flex;\n",
       "    flex-flow: row wrap;\n",
       "    direction: rtl;\n",
       "}\n",
       ".vl {\n",
       "    display: flex;\n",
       "    flex-flow: column nowrap;\n",
       "    justify-content: flex-end;\n",
       "    align-items: flex-end;\n",
       "    direction: ltr;\n",
       "    width: 100%;\n",
       "}\n",
       ".vn {\n",
       "  font-size: small !important;\n",
       "  padding-right: 1rem;\n",
       "}\n",
       ".lex {\n",
       "  color: var(--lex-color);;\n",
       "}\n",
       ".children,.children.ltr {\n",
       "    display: flex;\n",
       "    border: 0;\n",
       "    background-color: #ffffff;\n",
       "    justify-content: flex-start;\n",
       "    align-items: flex-start;\n",
       "    align-content: flex-start;\n",
       "}\n",
       ".children.row.rtl {\n",
       "    justify-content: flex-end;\n",
       "    align-items: flex-start;\n",
       "    align-content: flex-start;\n",
       "}\n",
       ".children.col.rtl {\n",
       "    justify-content: flex-start;\n",
       "    align-items: flex-end;\n",
       "    align-content: flex-end;\n",
       "}\n",
       ".children.stretch {\n",
       "    align-items: stretch;\n",
       "}\n",
       ".children.row {\n",
       "    flex-flow: row nowrap;\n",
       "}\n",
       ".children.row.wrap {\n",
       "    flex-flow: row wrap;\n",
       "}\n",
       ".children.col {\n",
       "    flex-flow: column nowrap;\n",
       "}\n",
       ".children.col.wrap {\n",
       "    flex-flow: column wrap;\n",
       "}\n",
       ".contnr {\n",
       "    width: fit-content;\n",
       "    display: flex;\n",
       "    justify-content: flex-start;\n",
       "    align-items: flex-start;\n",
       "    align-content: flex-start;\n",
       "    flex-flow: column nowrap;\n",
       "    background: #ffffff none repeat scroll 0 0;\n",
       "    padding:  0.5rem 0.1rem 0.1rem 0.1rem;\n",
       "    margin: 0.8rem 0.1rem 0.1rem 0.1rem;\n",
       "    border-style: solid;\n",
       "    font-size: small;\n",
       "}\n",
       ".contnr.trm {\n",
       "    background-attachment: local;\n",
       "}\n",
       ".contnr.c0,.lbl.c0 {\n",
       "    border-color: var(--border-color0);\n",
       "    border-width: var(--border-width0);\n",
       "    border-radius: var(--border-width0);\n",
       "}\n",
       ".contnr.c1,.lbl.c1 {\n",
       "    border-color: var(--border-color1);\n",
       "    border-width: var(--border-width1);\n",
       "    border-radius: var(--border-width1);\n",
       "}\n",
       ".contnr.c2,.lbl.c2 {\n",
       "    border-color: var(--border-color2);\n",
       "    border-width: var(--border-width2);\n",
       "    border-radius: var(--border-width2);\n",
       "}\n",
       ".contnr.c3,.lbl.c3 {\n",
       "    border-color: var(--border-color3);\n",
       "    border-width: var(--border-width3);\n",
       "    border-radius: var(--border-width3);\n",
       "}\n",
       ".lbl {\n",
       "    margin-top: -1.2rem;\n",
       "    margin-left: 1rem;\n",
       "    background: #ffffff none repeat scroll 0 0;\n",
       "    padding: 0 0.3rem;\n",
       "    border-style: solid;\n",
       "    display: block;\n",
       "    color: var(--label)\n",
       "}\n",
       ".lbl.trm {\n",
       "    background-attachment: local;\n",
       "    margin-top: 0.1rem;\n",
       "    margin-left: 0.1rem;\n",
       "    padding: 0.1rem 0.1rem;\n",
       "    border-style: none;\n",
       "}\n",
       ".lbl.c0 {\n",
       "    font-size: small;\n",
       "}\n",
       ".lbl.c1 {\n",
       "    font-size: small;\n",
       "}\n",
       ".lbl.c2 {\n",
       "    font-size: normal;\n",
       "}\n",
       ".lbl.c3 {\n",
       "    font-size: normal;\n",
       "}\n",
       ".occs {\n",
       "    font-size: x-small;\n",
       "}\n",
       "\n",
       ":root {\n",
       "\t--node:             hsla(120, 100%,  30%, 1.0  );\n",
       "\t--label:            hsla(  0, 100%,  20%, 1.0  );\n",
       "\t--passage:          hsla(  0, 100%,  25%, 1.0  );\n",
       "\t--features:         hsla(  0,   0%,  30%, 1.0  );\n",
       "  --lex-color:        hsla(220,  90%,  60%, 1.0  );\n",
       "  --meta-color:       hsla(  0,   0%,  90%, 0.7  );\n",
       "  --meta-width:       0.15rem;\n",
       "  --border-color0:    hsla(  0,   0%,  90%, 0.9  );\n",
       "  --border-color1:    hsla(  0,   0%,  80%, 0.9  );\n",
       "  --border-color2:    hsla(  0,   0%,  60%, 0.9  );\n",
       "  --border-color3:    hsla(  0,   0%,  40%, 0.9  );\n",
       "  --border-width0:    0.1rem;\n",
       "  --border-width1:    0.15rem;\n",
       "  --border-width2:    0.2rem;\n",
       "  --border-width2:    0.3rem;\n",
       "}\n",
       ".hl {\n",
       "  background-color: var(--hl-strong);\n",
       "}\n",
       "span.hl {\n",
       "\tbackground-color: var(--hl-strong);\n",
       "\tborder-width: 0;\n",
       "\tborder-radius: 0.1rem;\n",
       "\tborder-style: solid;\n",
       "}\n",
       "div.contnr.hl,div.lbl.hl {\n",
       "    background-color: var(--hl-strong);\n",
       "}\n",
       "\n",
       "span.hlbx {\n",
       "\tborder-color: var(--hl-rim);\n",
       "\tborder-width: 0.2rem;\n",
       "\tborder-style: solid;\n",
       "\tborder-radius: 0.3rem;\n",
       "  padding: 0.2rem;\n",
       "  margin: 0.2rem;\n",
       "}\n",
       "\n",
       "span.plain {\n",
       "  display: inline-block;\n",
       "  white-space: pre-wrap;\n",
       "}\n",
       "\n",
       ":root {\n",
       "\t--hl-strong:        hsla( 60, 100%,  70%, 0.9  );\n",
       "\t--hl-rim:           hsla( 55,  80%,  50%, 1.0  );\n",
       "}\n",
       ".title {\n",
       "    font-family: sans-serif;\n",
       "    font-size: small;\n",
       "    font-weight: bold;\n",
       "    color: #444444;\n",
       "}\n",
       ".text {\n",
       "    font-family: sans-serif;\n",
       "    font-size: x-small;\n",
       "    color: #000000;\n",
       "}\n",
       ".gap {\n",
       "    color: red;\n",
       "}\n",
       "</style>"
      ],
      "text/plain": [
       "<IPython.core.display.HTML object>"
      ]
     },
     "metadata": {},
     "output_type": "display_data"
    },
    {
     "data": {
      "text/markdown": [
       "# banks"
      ],
      "text/plain": [
       "<IPython.core.display.Markdown object>"
      ]
     },
     "metadata": {},
     "output_type": "display_data"
    },
    {
     "data": {
      "text/markdown": [
       "**book** `A.plain(100)`"
      ],
      "text/plain": [
       "<IPython.core.display.Markdown object>"
      ]
     },
     "metadata": {},
     "output_type": "display_data"
    },
    {
     "data": {
      "text/html": [
       "<a href=\"https://nbviewer.jupyter.org/github/annotation/banks/blob/master/programs/convert.ipynb\" title=\"Consider Phlebas\" sec=\"Consider Phlebas\"><span class=\"plain outer   \" ><span class=\"plain \"><a href=\"https://nbviewer.jupyter.org/github/annotation/banks/blob/master/programs/convert.ipynb\" title=\"show this passage online\" sec=\"Consider Phlebas\">Consider Phlebas</a></span></span></a>"
      ],
      "text/plain": [
       "<IPython.core.display.HTML object>"
      ]
     },
     "metadata": {},
     "output_type": "display_data"
    },
    {
     "data": {
      "text/markdown": [
       "**book** `A.plain(100, withPassage=False)`"
      ],
      "text/plain": [
       "<IPython.core.display.Markdown object>"
      ]
     },
     "metadata": {},
     "output_type": "display_data"
    },
    {
     "data": {
      "text/html": [
       "<a href=\"https://nbviewer.jupyter.org/github/annotation/banks/blob/master/programs/convert.ipynb\" title=\"Consider Phlebas\" sec=\"Consider Phlebas\"><span class=\"plain outer   \" ><span class=\"plain \"><a href=\"https://nbviewer.jupyter.org/github/annotation/banks/blob/master/programs/convert.ipynb\" title=\"show this passage online\" sec=\"Consider Phlebas\">Consider Phlebas</a></span></span></a>"
      ],
      "text/plain": [
       "<IPython.core.display.HTML object>"
      ]
     },
     "metadata": {},
     "output_type": "display_data"
    },
    {
     "data": {
      "text/markdown": [
       "**book** `A.plain(100, withNodes=True, withTypes=True)`"
      ],
      "text/plain": [
       "<IPython.core.display.Markdown object>"
      ]
     },
     "metadata": {},
     "output_type": "display_data"
    },
    {
     "data": {
      "text/html": [
       "<a href=\"https://nbviewer.jupyter.org/github/annotation/banks/blob/master/programs/convert.ipynb\" title=\"Consider Phlebas\" sec=\"Consider Phlebas\"><span class=\"plain outer   \" ><span class=\"nd\">book:100</span><span class=\"plain \"><a href=\"https://nbviewer.jupyter.org/github/annotation/banks/blob/master/programs/convert.ipynb\" title=\"show this passage online\" sec=\"Consider Phlebas\">Consider Phlebas</a></span></span></a>"
      ],
      "text/plain": [
       "<IPython.core.display.HTML object>"
      ]
     },
     "metadata": {},
     "output_type": "display_data"
    },
    {
     "data": {
      "text/markdown": [
       "**book** `A.pretty(100)`"
      ],
      "text/plain": [
       "<IPython.core.display.Markdown object>"
      ]
     },
     "metadata": {},
     "output_type": "display_data"
    },
    {
     "data": {
      "text/html": [
       "<div class=\"contnr c3 trm   \" ><div class=\"lbl c3 trm \"><span class=\"nd\">book</span> <a href=\"https://nbviewer.jupyter.org/github/annotation/banks/blob/master/programs/convert.ipynb\" title=\"Consider Phlebas\" sec=\"Consider Phlebas\"><span class=\"txtn\">Consider Phlebas</span></a> </div> </div>"
      ],
      "text/plain": [
       "<IPython.core.display.HTML object>"
      ]
     },
     "metadata": {},
     "output_type": "display_data"
    },
    {
     "data": {
      "text/markdown": [
       "**book** `A.pretty(100, withPassage=False)`"
      ],
      "text/plain": [
       "<IPython.core.display.Markdown object>"
      ]
     },
     "metadata": {},
     "output_type": "display_data"
    },
    {
     "data": {
      "text/html": [
       "<div class=\"contnr c3 trm   \" ><div class=\"lbl c3 trm \"><span class=\"nd\">book</span> <a href=\"https://nbviewer.jupyter.org/github/annotation/banks/blob/master/programs/convert.ipynb\" title=\"Consider Phlebas\" sec=\"Consider Phlebas\"><span class=\"txtn\">Consider Phlebas</span></a> </div> </div>"
      ],
      "text/plain": [
       "<IPython.core.display.HTML object>"
      ]
     },
     "metadata": {},
     "output_type": "display_data"
    },
    {
     "data": {
      "text/markdown": [
       "**book** `A.pretty(100, withNodes=True, withTypes=True)`"
      ],
      "text/plain": [
       "<IPython.core.display.Markdown object>"
      ]
     },
     "metadata": {},
     "output_type": "display_data"
    },
    {
     "data": {
      "text/html": [
       "<div class=\"contnr c3 trm   \" ><div class=\"lbl c3 trm \"><span class=\"nd\">book:100</span> <a href=\"https://nbviewer.jupyter.org/github/annotation/banks/blob/master/programs/convert.ipynb\" title=\"Consider Phlebas\" sec=\"Consider Phlebas\"><span class=\"txtn\">Consider Phlebas</span></a> </div> </div>"
      ],
      "text/plain": [
       "<IPython.core.display.HTML object>"
      ]
     },
     "metadata": {},
     "output_type": "display_data"
    },
    {
     "data": {
      "text/markdown": [
       "**chapter** `A.plain(101)`"
      ],
      "text/plain": [
       "<IPython.core.display.Markdown object>"
      ]
     },
     "metadata": {},
     "output_type": "display_data"
    },
    {
     "data": {
      "text/html": [
       "<a href=\"https://nbviewer.jupyter.org/github/annotation/banks/blob/master/programs/convert.ipynb\" title=\"Consider Phlebas 1\" sec=\"Consider Phlebas 1\"><span class=\"plain outer   \" ><span class=\"plain \"><a href=\"https://nbviewer.jupyter.org/github/annotation/banks/blob/master/programs/convert.ipynb\" title=\"show this passage online\" sec=\"Consider Phlebas 1\">Consider Phlebas 1</a></span></span></a>"
      ],
      "text/plain": [
       "<IPython.core.display.HTML object>"
      ]
     },
     "metadata": {},
     "output_type": "display_data"
    },
    {
     "data": {
      "text/markdown": [
       "**chapter** `A.plain(101, withPassage=False)`"
      ],
      "text/plain": [
       "<IPython.core.display.Markdown object>"
      ]
     },
     "metadata": {},
     "output_type": "display_data"
    },
    {
     "data": {
      "text/html": [
       "<a href=\"https://nbviewer.jupyter.org/github/annotation/banks/blob/master/programs/convert.ipynb\" title=\"Consider Phlebas 1\" sec=\"Consider Phlebas 1\"><span class=\"plain outer   \" ><span class=\"plain \"><a href=\"https://nbviewer.jupyter.org/github/annotation/banks/blob/master/programs/convert.ipynb\" title=\"show this passage online\" sec=\"Consider Phlebas 1\">Consider Phlebas 1</a></span></span></a>"
      ],
      "text/plain": [
       "<IPython.core.display.HTML object>"
      ]
     },
     "metadata": {},
     "output_type": "display_data"
    },
    {
     "data": {
      "text/markdown": [
       "**chapter** `A.plain(101, withNodes=True, withTypes=True)`"
      ],
      "text/plain": [
       "<IPython.core.display.Markdown object>"
      ]
     },
     "metadata": {},
     "output_type": "display_data"
    },
    {
     "data": {
      "text/html": [
       "<a href=\"https://nbviewer.jupyter.org/github/annotation/banks/blob/master/programs/convert.ipynb\" title=\"Consider Phlebas 1\" sec=\"Consider Phlebas 1\"><span class=\"plain outer   \" ><span class=\"nd\">chapter:101</span><span class=\"plain \"><a href=\"https://nbviewer.jupyter.org/github/annotation/banks/blob/master/programs/convert.ipynb\" title=\"show this passage online\" sec=\"Consider Phlebas 1\">Consider Phlebas 1</a></span></span></a>"
      ],
      "text/plain": [
       "<IPython.core.display.HTML object>"
      ]
     },
     "metadata": {},
     "output_type": "display_data"
    },
    {
     "data": {
      "text/markdown": [
       "**chapter** `A.pretty(101)`"
      ],
      "text/plain": [
       "<IPython.core.display.Markdown object>"
      ]
     },
     "metadata": {},
     "output_type": "display_data"
    },
    {
     "data": {
      "text/html": [
       "<div class=\"contnr c3 trm   \" ><div class=\"lbl c3 trm \"><span class=\"nd\">chapter</span> <a href=\"https://nbviewer.jupyter.org/github/annotation/banks/blob/master/programs/convert.ipynb\" title=\"Consider Phlebas 1\" sec=\"Consider Phlebas 1\"><span class=\"txtn\">1</span></a> </div> </div>"
      ],
      "text/plain": [
       "<IPython.core.display.HTML object>"
      ]
     },
     "metadata": {},
     "output_type": "display_data"
    },
    {
     "data": {
      "text/markdown": [
       "**chapter** `A.pretty(101, withPassage=False)`"
      ],
      "text/plain": [
       "<IPython.core.display.Markdown object>"
      ]
     },
     "metadata": {},
     "output_type": "display_data"
    },
    {
     "data": {
      "text/html": [
       "<div class=\"contnr c3 trm   \" ><div class=\"lbl c3 trm \"><span class=\"nd\">chapter</span> <a href=\"https://nbviewer.jupyter.org/github/annotation/banks/blob/master/programs/convert.ipynb\" title=\"Consider Phlebas 1\" sec=\"Consider Phlebas 1\"><span class=\"txtn\">1</span></a> </div> </div>"
      ],
      "text/plain": [
       "<IPython.core.display.HTML object>"
      ]
     },
     "metadata": {},
     "output_type": "display_data"
    },
    {
     "data": {
      "text/markdown": [
       "**chapter** `A.pretty(101, withNodes=True, withTypes=True)`"
      ],
      "text/plain": [
       "<IPython.core.display.Markdown object>"
      ]
     },
     "metadata": {},
     "output_type": "display_data"
    },
    {
     "data": {
      "text/html": [
       "<div class=\"contnr c3 trm   \" ><div class=\"lbl c3 trm \"><span class=\"nd\">chapter:101</span> <a href=\"https://nbviewer.jupyter.org/github/annotation/banks/blob/master/programs/convert.ipynb\" title=\"Consider Phlebas 1\" sec=\"Consider Phlebas 1\"><span class=\"txtn\">1</span></a> </div> </div>"
      ],
      "text/plain": [
       "<IPython.core.display.HTML object>"
      ]
     },
     "metadata": {},
     "output_type": "display_data"
    },
    {
     "data": {
      "text/markdown": [
       "**sentence** `A.plain(115)`"
      ],
      "text/plain": [
       "<IPython.core.display.Markdown object>"
      ]
     },
     "metadata": {},
     "output_type": "display_data"
    },
    {
     "data": {
      "text/html": [
       "<span class=\"psg ltr\"><a href=\"https://nbviewer.jupyter.org/github/annotation/banks/blob/master/programs/convert.ipynb\" title=\"show this passage online\" sec=\"Consider Phlebas 1:1\">Consider Phlebas 1:1</a> </span><span class=\"plain outer   \" ><span class=\"plain    \" ><span class=\"txtu\">Everything </span></span><span class=\"plain    \" ><span class=\"txtu\">about </span></span><span class=\"plain    \" ><span class=\"txtu\">us, </span></span><span class=\"plain    \" ><span class=\"txtu\">everything </span></span><span class=\"plain    \" ><span class=\"txtu\">around </span></span><span class=\"plain    \" ><span class=\"txtu\">us, </span></span><span class=\"plain    \" ><span class=\"txtu\">everything </span></span><span class=\"plain    \" ><span class=\"txtu\">we </span></span><span class=\"plain    \" ><span class=\"txtu\">know </span></span><span class=\"plain    \" ><span class=\"txtu\">and </span></span><span class=\"plain    \" ><span class=\"txtu\">can </span></span><span class=\"plain    \" ><span class=\"txtu\">know </span></span><span class=\"plain    \" ><span class=\"txtu\">of </span></span><span class=\"plain    \" ><span class=\"txtu\">is </span></span><span class=\"plain    \" ><span class=\"txtu\">composed </span></span><span class=\"plain    \" ><span class=\"txtu\">ultimately </span></span><span class=\"plain    \" ><span class=\"txtu\">of </span></span><span class=\"plain    \" ><span class=\"txtu\">patterns </span></span><span class=\"plain    \" ><span class=\"txtu\">of </span></span><span class=\"plain    \" ><span class=\"txtu\">nothing; </span></span><span class=\"plain    \" ><span class=\"txtu\">that’s </span></span><span class=\"plain    \" ><span class=\"txtu\">the </span></span><span class=\"plain    \" ><span class=\"txtu\">bottom </span></span><span class=\"plain    \" ><span class=\"txtu\">line, </span></span><span class=\"plain    \" ><span class=\"txtu\">the </span></span><span class=\"plain    \" ><span class=\"txtu\">final </span></span><span class=\"plain    \" ><span class=\"txtu\">truth. </span></span></span>"
      ],
      "text/plain": [
       "<IPython.core.display.HTML object>"
      ]
     },
     "metadata": {},
     "output_type": "display_data"
    },
    {
     "data": {
      "text/markdown": [
       "**sentence** `A.plain(115, withPassage=False)`"
      ],
      "text/plain": [
       "<IPython.core.display.Markdown object>"
      ]
     },
     "metadata": {},
     "output_type": "display_data"
    },
    {
     "data": {
      "text/html": [
       "<a href=\"https://nbviewer.jupyter.org/github/annotation/banks/blob/master/programs/convert.ipynb\" title=\"Consider Phlebas 1:1\" sec=\"Consider Phlebas 1:1\"><span class=\"plain outer   \" ><span class=\"plain    \" ><span class=\"txtu\">Everything </span></span><span class=\"plain    \" ><span class=\"txtu\">about </span></span><span class=\"plain    \" ><span class=\"txtu\">us, </span></span><span class=\"plain    \" ><span class=\"txtu\">everything </span></span><span class=\"plain    \" ><span class=\"txtu\">around </span></span><span class=\"plain    \" ><span class=\"txtu\">us, </span></span><span class=\"plain    \" ><span class=\"txtu\">everything </span></span><span class=\"plain    \" ><span class=\"txtu\">we </span></span><span class=\"plain    \" ><span class=\"txtu\">know </span></span><span class=\"plain    \" ><span class=\"txtu\">and </span></span><span class=\"plain    \" ><span class=\"txtu\">can </span></span><span class=\"plain    \" ><span class=\"txtu\">know </span></span><span class=\"plain    \" ><span class=\"txtu\">of </span></span><span class=\"plain    \" ><span class=\"txtu\">is </span></span><span class=\"plain    \" ><span class=\"txtu\">composed </span></span><span class=\"plain    \" ><span class=\"txtu\">ultimately </span></span><span class=\"plain    \" ><span class=\"txtu\">of </span></span><span class=\"plain    \" ><span class=\"txtu\">patterns </span></span><span class=\"plain    \" ><span class=\"txtu\">of </span></span><span class=\"plain    \" ><span class=\"txtu\">nothing; </span></span><span class=\"plain    \" ><span class=\"txtu\">that’s </span></span><span class=\"plain    \" ><span class=\"txtu\">the </span></span><span class=\"plain    \" ><span class=\"txtu\">bottom </span></span><span class=\"plain    \" ><span class=\"txtu\">line, </span></span><span class=\"plain    \" ><span class=\"txtu\">the </span></span><span class=\"plain    \" ><span class=\"txtu\">final </span></span><span class=\"plain    \" ><span class=\"txtu\">truth. </span></span></span></a>"
      ],
      "text/plain": [
       "<IPython.core.display.HTML object>"
      ]
     },
     "metadata": {},
     "output_type": "display_data"
    },
    {
     "data": {
      "text/markdown": [
       "**sentence** `A.plain(115, withNodes=True, withTypes=True)`"
      ],
      "text/plain": [
       "<IPython.core.display.Markdown object>"
      ]
     },
     "metadata": {},
     "output_type": "display_data"
    },
    {
     "data": {
      "text/html": [
       "<span class=\"psg ltr\"><a href=\"https://nbviewer.jupyter.org/github/annotation/banks/blob/master/programs/convert.ipynb\" title=\"show this passage online\" sec=\"Consider Phlebas 1:1\">Consider Phlebas 1:1</a> </span><span class=\"plain outer   \" ><span class=\"nd\">sentence:115</span><span class=\"plain    \" ><span class=\"txtu\">Everything </span></span><span class=\"plain    \" ><span class=\"txtu\">about </span></span><span class=\"plain    \" ><span class=\"txtu\">us, </span></span><span class=\"plain    \" ><span class=\"txtu\">everything </span></span><span class=\"plain    \" ><span class=\"txtu\">around </span></span><span class=\"plain    \" ><span class=\"txtu\">us, </span></span><span class=\"plain    \" ><span class=\"txtu\">everything </span></span><span class=\"plain    \" ><span class=\"txtu\">we </span></span><span class=\"plain    \" ><span class=\"txtu\">know </span></span><span class=\"plain    \" ><span class=\"txtu\">and </span></span><span class=\"plain    \" ><span class=\"txtu\">can </span></span><span class=\"plain    \" ><span class=\"txtu\">know </span></span><span class=\"plain    \" ><span class=\"txtu\">of </span></span><span class=\"plain    \" ><span class=\"txtu\">is </span></span><span class=\"plain    \" ><span class=\"txtu\">composed </span></span><span class=\"plain    \" ><span class=\"txtu\">ultimately </span></span><span class=\"plain    \" ><span class=\"txtu\">of </span></span><span class=\"plain    \" ><span class=\"txtu\">patterns </span></span><span class=\"plain    \" ><span class=\"txtu\">of </span></span><span class=\"plain    \" ><span class=\"txtu\">nothing; </span></span><span class=\"plain    \" ><span class=\"txtu\">that’s </span></span><span class=\"plain    \" ><span class=\"txtu\">the </span></span><span class=\"plain    \" ><span class=\"txtu\">bottom </span></span><span class=\"plain    \" ><span class=\"txtu\">line, </span></span><span class=\"plain    \" ><span class=\"txtu\">the </span></span><span class=\"plain    \" ><span class=\"txtu\">final </span></span><span class=\"plain    \" ><span class=\"txtu\">truth. </span></span></span>"
      ],
      "text/plain": [
       "<IPython.core.display.HTML object>"
      ]
     },
     "metadata": {},
     "output_type": "display_data"
    },
    {
     "data": {
      "text/markdown": [
       "**sentence** `A.pretty(115)`"
      ],
      "text/plain": [
       "<IPython.core.display.Markdown object>"
      ]
     },
     "metadata": {},
     "output_type": "display_data"
    },
    {
     "data": {
      "text/html": [
       "<span class=\"psg ltr\"><a href=\"https://nbviewer.jupyter.org/github/annotation/banks/blob/master/programs/convert.ipynb\" title=\"show this passage online\" sec=\"Consider Phlebas 1:1\">Consider Phlebas 1:1</a> </span><div class=\"contnr c2 trm   \" ><div class=\"lbl c2 trm \"><span class=\"nd\">sentence</span> <a href=\"https://nbviewer.jupyter.org/github/annotation/banks/blob/master/programs/convert.ipynb\" title=\"Consider Phlebas 1:1\" sec=\"Consider Phlebas 1:1\"><span class=\"txtn\">1</span></a> </div> </div>"
      ],
      "text/plain": [
       "<IPython.core.display.HTML object>"
      ]
     },
     "metadata": {},
     "output_type": "display_data"
    },
    {
     "data": {
      "text/markdown": [
       "**sentence** `A.pretty(115, withPassage=False)`"
      ],
      "text/plain": [
       "<IPython.core.display.Markdown object>"
      ]
     },
     "metadata": {},
     "output_type": "display_data"
    },
    {
     "data": {
      "text/html": [
       "<div class=\"contnr c2 trm   \" ><div class=\"lbl c2 trm \"><span class=\"nd\">sentence</span> <a href=\"https://nbviewer.jupyter.org/github/annotation/banks/blob/master/programs/convert.ipynb\" title=\"Consider Phlebas 1:1\" sec=\"Consider Phlebas 1:1\"><span class=\"txtn\">1</span></a> </div> </div>"
      ],
      "text/plain": [
       "<IPython.core.display.HTML object>"
      ]
     },
     "metadata": {},
     "output_type": "display_data"
    },
    {
     "data": {
      "text/markdown": [
       "**sentence** `A.pretty(115, withNodes=True, withTypes=True)`"
      ],
      "text/plain": [
       "<IPython.core.display.Markdown object>"
      ]
     },
     "metadata": {},
     "output_type": "display_data"
    },
    {
     "data": {
      "text/html": [
       "<span class=\"psg ltr\"><a href=\"https://nbviewer.jupyter.org/github/annotation/banks/blob/master/programs/convert.ipynb\" title=\"show this passage online\" sec=\"Consider Phlebas 1:1\">Consider Phlebas 1:1</a> </span><div class=\"contnr c2 trm   \" ><div class=\"lbl c2 trm \"><span class=\"nd\">sentence:115</span> <a href=\"https://nbviewer.jupyter.org/github/annotation/banks/blob/master/programs/convert.ipynb\" title=\"Consider Phlebas 1:1\" sec=\"Consider Phlebas 1:1\"><span class=\"txtn\">1</span></a> </div> </div>"
      ],
      "text/plain": [
       "<IPython.core.display.HTML object>"
      ]
     },
     "metadata": {},
     "output_type": "display_data"
    },
    {
     "data": {
      "text/markdown": [
       "**line** `A.plain(103)`"
      ],
      "text/plain": [
       "<IPython.core.display.Markdown object>"
      ]
     },
     "metadata": {},
     "output_type": "display_data"
    },
    {
     "data": {
      "text/html": [
       "<span class=\"psg ltr\"><a href=\"https://nbviewer.jupyter.org/github/annotation/banks/blob/master/programs/convert.ipynb\" title=\"show this passage online\" sec=\"Consider Phlebas 1:1\">Consider Phlebas 1:1</a> </span><span class=\"plain outer   \" ><span class=\"plain    \" ><span class=\"txtu\">Everything </span></span><span class=\"plain    \" ><span class=\"txtu\">about </span></span><span class=\"plain    \" ><span class=\"txtu\">us, </span></span></span>"
      ],
      "text/plain": [
       "<IPython.core.display.HTML object>"
      ]
     },
     "metadata": {},
     "output_type": "display_data"
    },
    {
     "data": {
      "text/markdown": [
       "**line** `A.plain(103, withPassage=False)`"
      ],
      "text/plain": [
       "<IPython.core.display.Markdown object>"
      ]
     },
     "metadata": {},
     "output_type": "display_data"
    },
    {
     "data": {
      "text/html": [
       "<a href=\"https://nbviewer.jupyter.org/github/annotation/banks/blob/master/programs/convert.ipynb\" title=\"Consider Phlebas 1:1\" sec=\"Consider Phlebas 1:1\"><span class=\"plain outer   \" ><span class=\"plain    \" ><span class=\"txtu\">Everything </span></span><span class=\"plain    \" ><span class=\"txtu\">about </span></span><span class=\"plain    \" ><span class=\"txtu\">us, </span></span></span></a>"
      ],
      "text/plain": [
       "<IPython.core.display.HTML object>"
      ]
     },
     "metadata": {},
     "output_type": "display_data"
    },
    {
     "data": {
      "text/markdown": [
       "**line** `A.plain(103, withNodes=True, withTypes=True)`"
      ],
      "text/plain": [
       "<IPython.core.display.Markdown object>"
      ]
     },
     "metadata": {},
     "output_type": "display_data"
    },
    {
     "data": {
      "text/html": [
       "<span class=\"psg ltr\"><a href=\"https://nbviewer.jupyter.org/github/annotation/banks/blob/master/programs/convert.ipynb\" title=\"show this passage online\" sec=\"Consider Phlebas 1:1\">Consider Phlebas 1:1</a> </span><span class=\"plain outer   \" ><span class=\"nd\">line:103</span><span class=\"plain    \" ><span class=\"txtu\">Everything </span></span><span class=\"plain    \" ><span class=\"txtu\">about </span></span><span class=\"plain    \" ><span class=\"txtu\">us, </span></span></span>"
      ],
      "text/plain": [
       "<IPython.core.display.HTML object>"
      ]
     },
     "metadata": {},
     "output_type": "display_data"
    },
    {
     "data": {
      "text/markdown": [
       "**line** `A.pretty(103)`"
      ],
      "text/plain": [
       "<IPython.core.display.Markdown object>"
      ]
     },
     "metadata": {},
     "output_type": "display_data"
    },
    {
     "data": {
      "text/html": [
       "<span class=\"psg ltr\"><a href=\"https://nbviewer.jupyter.org/github/annotation/banks/blob/master/programs/convert.ipynb\" title=\"show this passage online\" sec=\"Consider Phlebas 1:1\">Consider Phlebas 1:1</a> </span><div class=\"contnr c1    \" ><div class=\"lbl c1  \"><span class=\"nd\">line</span> <a href=\"https://nbviewer.jupyter.org/github/annotation/banks/blob/master/programs/convert.ipynb\" title=\"Consider Phlebas 1:1\" sec=\"Consider Phlebas 1:1\"><span class=\"txtn\">1</span></a> </div> <div class=\"children row wrap \"><div class=\"contnr c0 trm   \" ><div class=\"lbl c0 trm \"> <span class=\"txtu\">Everything </span> </div> </div><div class=\"contnr c0 trm   \" ><div class=\"lbl c0 trm \"> <span class=\"txtu\">about </span> </div> </div><div class=\"contnr c0 trm   \" ><div class=\"lbl c0 trm \"> <span class=\"txtu\">us, </span> </div> </div></div></div>"
      ],
      "text/plain": [
       "<IPython.core.display.HTML object>"
      ]
     },
     "metadata": {},
     "output_type": "display_data"
    },
    {
     "data": {
      "text/markdown": [
       "**line** `A.pretty(103, withPassage=False)`"
      ],
      "text/plain": [
       "<IPython.core.display.Markdown object>"
      ]
     },
     "metadata": {},
     "output_type": "display_data"
    },
    {
     "data": {
      "text/html": [
       "<div class=\"contnr c1    \" ><div class=\"lbl c1  \"><span class=\"nd\">line</span> <a href=\"https://nbviewer.jupyter.org/github/annotation/banks/blob/master/programs/convert.ipynb\" title=\"Consider Phlebas 1:1\" sec=\"Consider Phlebas 1:1\"><span class=\"txtn\">1</span></a> </div> <div class=\"children row wrap \"><div class=\"contnr c0 trm   \" ><div class=\"lbl c0 trm \"> <span class=\"txtu\">Everything </span> </div> </div><div class=\"contnr c0 trm   \" ><div class=\"lbl c0 trm \"> <span class=\"txtu\">about </span> </div> </div><div class=\"contnr c0 trm   \" ><div class=\"lbl c0 trm \"> <span class=\"txtu\">us, </span> </div> </div></div></div>"
      ],
      "text/plain": [
       "<IPython.core.display.HTML object>"
      ]
     },
     "metadata": {},
     "output_type": "display_data"
    },
    {
     "data": {
      "text/markdown": [
       "**line** `A.pretty(103, withNodes=True, withTypes=True)`"
      ],
      "text/plain": [
       "<IPython.core.display.Markdown object>"
      ]
     },
     "metadata": {},
     "output_type": "display_data"
    },
    {
     "data": {
      "text/html": [
       "<span class=\"psg ltr\"><a href=\"https://nbviewer.jupyter.org/github/annotation/banks/blob/master/programs/convert.ipynb\" title=\"show this passage online\" sec=\"Consider Phlebas 1:1\">Consider Phlebas 1:1</a> </span><div class=\"contnr c1    \" ><div class=\"lbl c1  \"><span class=\"nd\">line:103</span> <a href=\"https://nbviewer.jupyter.org/github/annotation/banks/blob/master/programs/convert.ipynb\" title=\"Consider Phlebas 1:1\" sec=\"Consider Phlebas 1:1\"><span class=\"txtn\">1</span></a> </div> <div class=\"children row wrap \"><div class=\"contnr c0 trm   \" ><div class=\"lbl c0 trm \"><span class=\"nd\">1</span> <span class=\"txtu\">Everything </span> </div> </div><div class=\"contnr c0 trm   \" ><div class=\"lbl c0 trm \"><span class=\"nd\">2</span> <span class=\"txtu\">about </span> </div> </div><div class=\"contnr c0 trm   \" ><div class=\"lbl c0 trm \"><span class=\"nd\">3</span> <span class=\"txtu\">us, </span> </div> </div></div></div>"
      ],
      "text/plain": [
       "<IPython.core.display.HTML object>"
      ]
     },
     "metadata": {},
     "output_type": "display_data"
    },
    {
     "data": {
      "text/markdown": [
       "**word** `A.plain(1)`"
      ],
      "text/plain": [
       "<IPython.core.display.Markdown object>"
      ]
     },
     "metadata": {},
     "output_type": "display_data"
    },
    {
     "data": {
      "text/html": [
       "<span class=\"psg ltr\"><a href=\"https://nbviewer.jupyter.org/github/annotation/banks/blob/master/programs/convert.ipynb\" title=\"show this passage online\" sec=\"Consider Phlebas 1:1\">Consider Phlebas 1:1</a> </span><span class=\"plain outer   \" ><span class=\"txtu\">Everything </span></span>"
      ],
      "text/plain": [
       "<IPython.core.display.HTML object>"
      ]
     },
     "metadata": {},
     "output_type": "display_data"
    },
    {
     "data": {
      "text/markdown": [
       "**word** `A.plain(1, withPassage=False)`"
      ],
      "text/plain": [
       "<IPython.core.display.Markdown object>"
      ]
     },
     "metadata": {},
     "output_type": "display_data"
    },
    {
     "data": {
      "text/html": [
       "<a href=\"https://nbviewer.jupyter.org/github/annotation/banks/blob/master/programs/convert.ipynb\" title=\"Consider Phlebas 1:1\" sec=\"Consider Phlebas 1:1\"><span class=\"plain outer   \" ><span class=\"txtu\">Everything </span></span></a>"
      ],
      "text/plain": [
       "<IPython.core.display.HTML object>"
      ]
     },
     "metadata": {},
     "output_type": "display_data"
    },
    {
     "data": {
      "text/markdown": [
       "**word** `A.plain(1, withNodes=True, withTypes=True)`"
      ],
      "text/plain": [
       "<IPython.core.display.Markdown object>"
      ]
     },
     "metadata": {},
     "output_type": "display_data"
    },
    {
     "data": {
      "text/html": [
       "<span class=\"psg ltr\"><a href=\"https://nbviewer.jupyter.org/github/annotation/banks/blob/master/programs/convert.ipynb\" title=\"show this passage online\" sec=\"Consider Phlebas 1:1\">Consider Phlebas 1:1</a> </span><span class=\"plain outer   \" ><span class=\"nd\">1</span><span class=\"txtu\">Everything </span></span>"
      ],
      "text/plain": [
       "<IPython.core.display.HTML object>"
      ]
     },
     "metadata": {},
     "output_type": "display_data"
    },
    {
     "data": {
      "text/markdown": [
       "**word** `A.pretty(1)`"
      ],
      "text/plain": [
       "<IPython.core.display.Markdown object>"
      ]
     },
     "metadata": {},
     "output_type": "display_data"
    },
    {
     "data": {
      "text/html": [
       "<span class=\"psg ltr\"><a href=\"https://nbviewer.jupyter.org/github/annotation/banks/blob/master/programs/convert.ipynb\" title=\"show this passage online\" sec=\"Consider Phlebas 1:1\">Consider Phlebas 1:1</a> </span><div class=\"contnr c0 trm   \" ><div class=\"lbl c0 trm \"> <a href=\"https://nbviewer.jupyter.org/github/annotation/banks/blob/master/programs/convert.ipynb\" title=\"Consider Phlebas 1:1\" sec=\"Consider Phlebas 1:1\"><span class=\"txtu\">Everything </span></a> </div> </div>"
      ],
      "text/plain": [
       "<IPython.core.display.HTML object>"
      ]
     },
     "metadata": {},
     "output_type": "display_data"
    },
    {
     "data": {
      "text/markdown": [
       "**word** `A.pretty(1, withPassage=False)`"
      ],
      "text/plain": [
       "<IPython.core.display.Markdown object>"
      ]
     },
     "metadata": {},
     "output_type": "display_data"
    },
    {
     "data": {
      "text/html": [
       "<div class=\"contnr c0 trm   \" ><div class=\"lbl c0 trm \"> <a href=\"https://nbviewer.jupyter.org/github/annotation/banks/blob/master/programs/convert.ipynb\" title=\"Consider Phlebas 1:1\" sec=\"Consider Phlebas 1:1\"><span class=\"txtu\">Everything </span></a> </div> </div>"
      ],
      "text/plain": [
       "<IPython.core.display.HTML object>"
      ]
     },
     "metadata": {},
     "output_type": "display_data"
    },
    {
     "data": {
      "text/markdown": [
       "**word** `A.pretty(1, withNodes=True, withTypes=True)`"
      ],
      "text/plain": [
       "<IPython.core.display.Markdown object>"
      ]
     },
     "metadata": {},
     "output_type": "display_data"
    },
    {
     "data": {
      "text/html": [
       "<span class=\"psg ltr\"><a href=\"https://nbviewer.jupyter.org/github/annotation/banks/blob/master/programs/convert.ipynb\" title=\"show this passage online\" sec=\"Consider Phlebas 1:1\">Consider Phlebas 1:1</a> </span><div class=\"contnr c0 trm   \" ><div class=\"lbl c0 trm \"><span class=\"nd\">1</span> <a href=\"https://nbviewer.jupyter.org/github/annotation/banks/blob/master/programs/convert.ipynb\" title=\"Consider Phlebas 1:1\" sec=\"Consider Phlebas 1:1\"><span class=\"txtu\">Everything </span></a> </div> </div>"
      ],
      "text/plain": [
       "<IPython.core.display.HTML object>"
      ]
     },
     "metadata": {},
     "output_type": "display_data"
    }
   ],
   "source": [
    "As.test(single)"
   ]
  }
 ],
 "metadata": {
  "kernelspec": {
   "display_name": "Python 3",
   "language": "python",
   "name": "python3"
  },
  "language_info": {
   "codemirror_mode": {
    "name": "ipython",
    "version": 3
   },
   "file_extension": ".py",
   "mimetype": "text/x-python",
   "name": "python",
   "nbconvert_exporter": "python",
   "pygments_lexer": "ipython3",
   "version": "3.7.7"
  }
 },
 "nbformat": 4,
 "nbformat_minor": 4
}
