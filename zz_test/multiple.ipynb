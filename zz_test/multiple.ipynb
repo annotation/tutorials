{
 "cells": [
  {
   "cell_type": "code",
   "execution_count": 1,
   "metadata": {},
   "outputs": [],
   "source": [
    "%load_ext autoreload\n",
    "%autoreload 2"
   ]
  },
  {
   "cell_type": "code",
   "execution_count": 2,
   "metadata": {},
   "outputs": [],
   "source": [
    "from itertools import chain\n",
    "from fixture import TestApp"
   ]
  },
  {
   "cell_type": "code",
   "execution_count": 3,
   "metadata": {},
   "outputs": [],
   "source": [
    "As = TestApp(globals())"
   ]
  },
  {
   "cell_type": "code",
   "execution_count": 9,
   "metadata": {},
   "outputs": [],
   "source": [
    "def multiple(start=True, center=False, end=False, size=3):\n",
    "    api = A.api\n",
    "    F = api.F\n",
    "    T = api.T\n",
    "    L = api.L\n",
    "    slotType = F.otype.slotType\n",
    "    info = testInfo[A.appName]\n",
    "\n",
    "    verseType = T.sectionTypes[-1]\n",
    "    nodes = F.otype.s(verseType)\n",
    "    startNodes = nodes[0:size] if start else []\n",
    "    mid = len(nodes) // 2\n",
    "    midb = size // 2\n",
    "    mide = midb + size % 2\n",
    "    midNodes = nodes[mid - midb : mid + mide] if center else []\n",
    "    endNodes = nodes[-size:] if end else []\n",
    "    seen = set()\n",
    "    tuples = []\n",
    "    for n in chain(startNodes, midNodes, endNodes):\n",
    "        if n in seen:\n",
    "            continue\n",
    "        seen.add(n)\n",
    "        slots = L.d(n, otype=slotType)\n",
    "        first = slots[0]\n",
    "        center = slots[len(slots) // 2]\n",
    "        last = slots[-1]\n",
    "        tuples.append((n, first, center, last))\n",
    "    for (seq, tup) in enumerate(tuples):\n",
    "        A.plainTuple(tup, seq)\n",
    "        A.plainTuple(tup, seq, withPassage=False)\n",
    "    A.table(tuples)\n",
    "    A.show(tuples)\n",
    "    A.table(tuples, withPassage=False)\n",
    "    A.show(tuples, withPassage=False, extraFeatures=info[\"extraFeatures\"])"
   ]
  },
  {
   "cell_type": "code",
   "execution_count": 14,
   "metadata": {},
   "outputs": [],
   "source": [
    "As.testSet(\"peshitta\")"
   ]
  },
  {
   "cell_type": "code",
   "execution_count": 10,
   "metadata": {},
   "outputs": [
    {
     "data": {
      "text/markdown": [
       "# multiple"
      ],
      "text/plain": [
       "<IPython.core.display.Markdown object>"
      ]
     },
     "metadata": {},
     "output_type": "display_data"
    },
    {
     "data": {
      "text/markdown": [
       "## peshitta"
      ],
      "text/plain": [
       "<IPython.core.display.Markdown object>"
      ]
     },
     "metadata": {},
     "output_type": "display_data"
    },
    {
     "data": {
      "text/html": [
       "<table><tr class=\"tf\"><th class=\"tf\">n</th><th class=\"tf\">p</th><th class=\"tf\">verse</th><th class=\"tf\">word</th><th class=\"tf\">word</th><th class=\"tf\">word</th></tr><tr class=\"tf\"><td class=\"tf\">0</td><td class=\"tf\"><span class=\"psg ltr\"><a href=\"https://github.com/etcbc/peshitta/blob/master/source/0.1/Genesis\" title=\"show this passage in the Peshitta source\" sec=\"Genesis 1:1\">Genesis 1:1</a></span></td><td class=\"tf\"><span class=\"plain outer rtl  \" ><span class=\"plain rtl\"><a href=\"https://github.com/etcbc/peshitta/blob/master/source/0.1/Genesis\" title=\"show this passage in the Peshitta source\" sec=\"Genesis 1:1\">Genesis 1:1</a></span></span></td><td class=\"tf\"><span class=\"plain outer rtl  hl\" ><span class=\"txtu syc\">ܒܪܫܝܬ </span></span></td><td class=\"tf\"><span class=\"plain outer rtl  hl\" ><span class=\"txtu syc\">ܝܬ </span></span></td><td class=\"tf\"><span class=\"plain outer rtl  hl\" ><span class=\"txtu syc\">ܐܪܥܐ. </span></span></td></tr></table>"
      ],
      "text/plain": [
       "<IPython.core.display.HTML object>"
      ]
     },
     "metadata": {},
     "output_type": "display_data"
    },
    {
     "data": {
      "text/html": [
       "<table><tr class=\"tf\"><th class=\"tf\">n</th><th class=\"tf\">verse</th><th class=\"tf\">word</th><th class=\"tf\">word</th><th class=\"tf\">word</th></tr><tr class=\"tf\"><td class=\"tf\">0</td><td class=\"tf\"><a href=\"https://github.com/etcbc/peshitta/blob/master/source/0.1/Genesis\" title=\"Genesis 1:1\" sec=\"Genesis 1:1\"><span class=\"plain outer rtl  \" ><span class=\"plain rtl\"><a href=\"https://github.com/etcbc/peshitta/blob/master/source/0.1/Genesis\" title=\"show this passage in the Peshitta source\" sec=\"Genesis 1:1\">Genesis 1:1</a></span></span></a></td><td class=\"tf\"><span class=\"plain outer rtl  hl\" ><span class=\"txtu syc\">ܒܪܫܝܬ </span></span></td><td class=\"tf\"><span class=\"plain outer rtl  hl\" ><span class=\"txtu syc\">ܝܬ </span></span></td><td class=\"tf\"><span class=\"plain outer rtl  hl\" ><span class=\"txtu syc\">ܐܪܥܐ. </span></span></td></tr></table>"
      ],
      "text/plain": [
       "<IPython.core.display.HTML object>"
      ]
     },
     "metadata": {},
     "output_type": "display_data"
    },
    {
     "data": {
      "text/html": [
       "<table><tr class=\"tf\"><th class=\"tf\">n</th><th class=\"tf\">p</th><th class=\"tf\">verse</th><th class=\"tf\">word</th><th class=\"tf\">word</th><th class=\"tf\">word</th></tr><tr class=\"tf\"><td class=\"tf\">1</td><td class=\"tf\"><span class=\"psg ltr\"><a href=\"https://github.com/etcbc/peshitta/blob/master/source/0.1/Genesis\" title=\"show this passage in the Peshitta source\" sec=\"Genesis 1:2\">Genesis 1:2</a></span></td><td class=\"tf\"><span class=\"plain outer rtl  \" ><span class=\"plain rtl\"><a href=\"https://github.com/etcbc/peshitta/blob/master/source/0.1/Genesis\" title=\"show this passage in the Peshitta source\" sec=\"Genesis 1:2\">Genesis 1:2</a></span></span></td><td class=\"tf\"><span class=\"plain outer rtl  hl\" ><span class=\"txtu syc\">ܐܪܥܐ </span></span></td><td class=\"tf\"><span class=\"plain outer rtl  hl\" ><span class=\"txtu syc\">ܬܗܘܡܐ. </span></span></td><td class=\"tf\"><span class=\"plain outer rtl  hl\" ><span class=\"txtu syc\">ܡ̈ܝܐ. </span></span></td></tr></table>"
      ],
      "text/plain": [
       "<IPython.core.display.HTML object>"
      ]
     },
     "metadata": {},
     "output_type": "display_data"
    },
    {
     "data": {
      "text/html": [
       "<table><tr class=\"tf\"><th class=\"tf\">n</th><th class=\"tf\">verse</th><th class=\"tf\">word</th><th class=\"tf\">word</th><th class=\"tf\">word</th></tr><tr class=\"tf\"><td class=\"tf\">1</td><td class=\"tf\"><a href=\"https://github.com/etcbc/peshitta/blob/master/source/0.1/Genesis\" title=\"Genesis 1:2\" sec=\"Genesis 1:2\"><span class=\"plain outer rtl  \" ><span class=\"plain rtl\"><a href=\"https://github.com/etcbc/peshitta/blob/master/source/0.1/Genesis\" title=\"show this passage in the Peshitta source\" sec=\"Genesis 1:2\">Genesis 1:2</a></span></span></a></td><td class=\"tf\"><span class=\"plain outer rtl  hl\" ><span class=\"txtu syc\">ܐܪܥܐ </span></span></td><td class=\"tf\"><span class=\"plain outer rtl  hl\" ><span class=\"txtu syc\">ܬܗܘܡܐ. </span></span></td><td class=\"tf\"><span class=\"plain outer rtl  hl\" ><span class=\"txtu syc\">ܡ̈ܝܐ. </span></span></td></tr></table>"
      ],
      "text/plain": [
       "<IPython.core.display.HTML object>"
      ]
     },
     "metadata": {},
     "output_type": "display_data"
    },
    {
     "data": {
      "text/html": [
       "<table><tr class=\"tf\"><th class=\"tf\">n</th><th class=\"tf\">p</th><th class=\"tf\">verse</th><th class=\"tf\">word</th><th class=\"tf\">word</th><th class=\"tf\">word</th></tr><tr class=\"tf\"><td class=\"tf\">2</td><td class=\"tf\"><span class=\"psg ltr\"><a href=\"https://github.com/etcbc/peshitta/blob/master/source/0.1/Genesis\" title=\"show this passage in the Peshitta source\" sec=\"Genesis 1:3\">Genesis 1:3</a></span></td><td class=\"tf\"><span class=\"plain outer rtl  \" ><span class=\"plain rtl\"><a href=\"https://github.com/etcbc/peshitta/blob/master/source/0.1/Genesis\" title=\"show this passage in the Peshitta source\" sec=\"Genesis 1:3\">Genesis 1:3</a></span></span></td><td class=\"tf\"><span class=\"plain outer rtl  hl\" ><span class=\"txtu syc\">ܘܐܡ̣ܪ </span></span></td><td class=\"tf\"><span class=\"plain outer rtl  hl\" ><span class=\"txtu syc\">ܢܘܗܪܐ. </span></span></td><td class=\"tf\"><span class=\"plain outer rtl  hl\" ><span class=\"txtu syc\">ܢܘܗܪܐ. </span></span></td></tr></table>"
      ],
      "text/plain": [
       "<IPython.core.display.HTML object>"
      ]
     },
     "metadata": {},
     "output_type": "display_data"
    },
    {
     "data": {
      "text/html": [
       "<table><tr class=\"tf\"><th class=\"tf\">n</th><th class=\"tf\">verse</th><th class=\"tf\">word</th><th class=\"tf\">word</th><th class=\"tf\">word</th></tr><tr class=\"tf\"><td class=\"tf\">2</td><td class=\"tf\"><a href=\"https://github.com/etcbc/peshitta/blob/master/source/0.1/Genesis\" title=\"Genesis 1:3\" sec=\"Genesis 1:3\"><span class=\"plain outer rtl  \" ><span class=\"plain rtl\"><a href=\"https://github.com/etcbc/peshitta/blob/master/source/0.1/Genesis\" title=\"show this passage in the Peshitta source\" sec=\"Genesis 1:3\">Genesis 1:3</a></span></span></a></td><td class=\"tf\"><span class=\"plain outer rtl  hl\" ><span class=\"txtu syc\">ܘܐܡ̣ܪ </span></span></td><td class=\"tf\"><span class=\"plain outer rtl  hl\" ><span class=\"txtu syc\">ܢܘܗܪܐ. </span></span></td><td class=\"tf\"><span class=\"plain outer rtl  hl\" ><span class=\"txtu syc\">ܢܘܗܪܐ. </span></span></td></tr></table>"
      ],
      "text/plain": [
       "<IPython.core.display.HTML object>"
      ]
     },
     "metadata": {},
     "output_type": "display_data"
    },
    {
     "data": {
      "text/html": [
       "<table><tr class=\"tf\"><th class=\"tf\">n</th><th class=\"tf\">p</th><th class=\"tf\">verse</th><th class=\"tf\">word</th><th class=\"tf\">word</th><th class=\"tf\">word</th></tr><tr class=\"tf\"><td class=\"tf\">3</td><td class=\"tf\"><span class=\"psg ltr\"><a href=\"https://github.com/etcbc/peshitta/blob/master/source/0.1/Isaiah\" title=\"show this passage in the Peshitta source\" sec=\"Isaiah 16:2\">Isaiah 16:2</a></span></td><td class=\"tf\"><span class=\"plain outer rtl  \" ><span class=\"plain rtl\"><a href=\"https://github.com/etcbc/peshitta/blob/master/source/0.1/Isaiah\" title=\"show this passage in the Peshitta source\" sec=\"Isaiah 16:2\">Isaiah 16:2</a></span></span></td><td class=\"tf\"><span class=\"plain outer rtl  hl\" ><span class=\"txtu syc\">ܘܢܗܘܐ </span></span></td><td class=\"tf\"><span class=\"plain outer rtl  hl\" ><span class=\"txtu syc\">ܘܒܢ̈ܬ </span></span></td><td class=\"tf\"><span class=\"plain outer rtl  hl\" ><span class=\"txtu syc\">ܕܐܪܢܘܢ </span></span></td></tr></table>"
      ],
      "text/plain": [
       "<IPython.core.display.HTML object>"
      ]
     },
     "metadata": {},
     "output_type": "display_data"
    },
    {
     "data": {
      "text/html": [
       "<table><tr class=\"tf\"><th class=\"tf\">n</th><th class=\"tf\">verse</th><th class=\"tf\">word</th><th class=\"tf\">word</th><th class=\"tf\">word</th></tr><tr class=\"tf\"><td class=\"tf\">3</td><td class=\"tf\"><a href=\"https://github.com/etcbc/peshitta/blob/master/source/0.1/Isaiah\" title=\"Isaiah 16:2\" sec=\"Isaiah 16:2\"><span class=\"plain outer rtl  \" ><span class=\"plain rtl\"><a href=\"https://github.com/etcbc/peshitta/blob/master/source/0.1/Isaiah\" title=\"show this passage in the Peshitta source\" sec=\"Isaiah 16:2\">Isaiah 16:2</a></span></span></a></td><td class=\"tf\"><span class=\"plain outer rtl  hl\" ><span class=\"txtu syc\">ܘܢܗܘܐ </span></span></td><td class=\"tf\"><span class=\"plain outer rtl  hl\" ><span class=\"txtu syc\">ܘܒܢ̈ܬ </span></span></td><td class=\"tf\"><span class=\"plain outer rtl  hl\" ><span class=\"txtu syc\">ܕܐܪܢܘܢ </span></span></td></tr></table>"
      ],
      "text/plain": [
       "<IPython.core.display.HTML object>"
      ]
     },
     "metadata": {},
     "output_type": "display_data"
    },
    {
     "data": {
      "text/html": [
       "<table><tr class=\"tf\"><th class=\"tf\">n</th><th class=\"tf\">p</th><th class=\"tf\">verse</th><th class=\"tf\">word</th><th class=\"tf\">word</th><th class=\"tf\">word</th></tr><tr class=\"tf\"><td class=\"tf\">4</td><td class=\"tf\"><span class=\"psg ltr\"><a href=\"https://github.com/etcbc/peshitta/blob/master/source/0.1/Isaiah\" title=\"show this passage in the Peshitta source\" sec=\"Isaiah 16:3\">Isaiah 16:3</a></span></td><td class=\"tf\"><span class=\"plain outer rtl  \" ><span class=\"plain rtl\"><a href=\"https://github.com/etcbc/peshitta/blob/master/source/0.1/Isaiah\" title=\"show this passage in the Peshitta source\" sec=\"Isaiah 16:3\">Isaiah 16:3</a></span></span></td><td class=\"tf\"><span class=\"plain outer rtl  hl\" ><span class=\"txtu syc\">ܐܝܬܐ </span></span></td><td class=\"tf\"><span class=\"plain outer rtl  hl\" ><span class=\"txtu syc\">ܛܠܠܟܝ </span></span></td><td class=\"tf\"><span class=\"plain outer rtl  hl\" ><span class=\"txtu syc\">ܬܓܠܝܢ </span></span></td></tr></table>"
      ],
      "text/plain": [
       "<IPython.core.display.HTML object>"
      ]
     },
     "metadata": {},
     "output_type": "display_data"
    },
    {
     "data": {
      "text/html": [
       "<table><tr class=\"tf\"><th class=\"tf\">n</th><th class=\"tf\">verse</th><th class=\"tf\">word</th><th class=\"tf\">word</th><th class=\"tf\">word</th></tr><tr class=\"tf\"><td class=\"tf\">4</td><td class=\"tf\"><a href=\"https://github.com/etcbc/peshitta/blob/master/source/0.1/Isaiah\" title=\"Isaiah 16:3\" sec=\"Isaiah 16:3\"><span class=\"plain outer rtl  \" ><span class=\"plain rtl\"><a href=\"https://github.com/etcbc/peshitta/blob/master/source/0.1/Isaiah\" title=\"show this passage in the Peshitta source\" sec=\"Isaiah 16:3\">Isaiah 16:3</a></span></span></a></td><td class=\"tf\"><span class=\"plain outer rtl  hl\" ><span class=\"txtu syc\">ܐܝܬܐ </span></span></td><td class=\"tf\"><span class=\"plain outer rtl  hl\" ><span class=\"txtu syc\">ܛܠܠܟܝ </span></span></td><td class=\"tf\"><span class=\"plain outer rtl  hl\" ><span class=\"txtu syc\">ܬܓܠܝܢ </span></span></td></tr></table>"
      ],
      "text/plain": [
       "<IPython.core.display.HTML object>"
      ]
     },
     "metadata": {},
     "output_type": "display_data"
    },
    {
     "data": {
      "text/html": [
       "<table><tr class=\"tf\"><th class=\"tf\">n</th><th class=\"tf\">p</th><th class=\"tf\">verse</th><th class=\"tf\">word</th><th class=\"tf\">word</th><th class=\"tf\">word</th></tr><tr class=\"tf\"><td class=\"tf\">5</td><td class=\"tf\"><span class=\"psg ltr\"><a href=\"https://github.com/etcbc/peshitta/blob/master/source/0.1/Isaiah\" title=\"show this passage in the Peshitta source\" sec=\"Isaiah 16:4\">Isaiah 16:4</a></span></td><td class=\"tf\"><span class=\"plain outer rtl  \" ><span class=\"plain rtl\"><a href=\"https://github.com/etcbc/peshitta/blob/master/source/0.1/Isaiah\" title=\"show this passage in the Peshitta source\" sec=\"Isaiah 16:4\">Isaiah 16:4</a></span></span></td><td class=\"tf\"><span class=\"plain outer rtl  hl\" ><span class=\"txtu syc\">ܢܥܡܪܘܢ </span></span></td><td class=\"tf\"><span class=\"plain outer rtl  hl\" ><span class=\"txtu syc\">ܒܙܘܙܐ </span></span></td><td class=\"tf\"><span class=\"plain outer rtl  hl\" ><span class=\"txtu syc\">ܐܪܥܐ </span></span></td></tr></table>"
      ],
      "text/plain": [
       "<IPython.core.display.HTML object>"
      ]
     },
     "metadata": {},
     "output_type": "display_data"
    },
    {
     "data": {
      "text/html": [
       "<table><tr class=\"tf\"><th class=\"tf\">n</th><th class=\"tf\">verse</th><th class=\"tf\">word</th><th class=\"tf\">word</th><th class=\"tf\">word</th></tr><tr class=\"tf\"><td class=\"tf\">5</td><td class=\"tf\"><a href=\"https://github.com/etcbc/peshitta/blob/master/source/0.1/Isaiah\" title=\"Isaiah 16:4\" sec=\"Isaiah 16:4\"><span class=\"plain outer rtl  \" ><span class=\"plain rtl\"><a href=\"https://github.com/etcbc/peshitta/blob/master/source/0.1/Isaiah\" title=\"show this passage in the Peshitta source\" sec=\"Isaiah 16:4\">Isaiah 16:4</a></span></span></a></td><td class=\"tf\"><span class=\"plain outer rtl  hl\" ><span class=\"txtu syc\">ܢܥܡܪܘܢ </span></span></td><td class=\"tf\"><span class=\"plain outer rtl  hl\" ><span class=\"txtu syc\">ܒܙܘܙܐ </span></span></td><td class=\"tf\"><span class=\"plain outer rtl  hl\" ><span class=\"txtu syc\">ܐܪܥܐ </span></span></td></tr></table>"
      ],
      "text/plain": [
       "<IPython.core.display.HTML object>"
      ]
     },
     "metadata": {},
     "output_type": "display_data"
    },
    {
     "data": {
      "text/html": [
       "<table><tr class=\"tf\"><th class=\"tf\">n</th><th class=\"tf\">p</th><th class=\"tf\">verse</th><th class=\"tf\">word</th><th class=\"tf\">word</th><th class=\"tf\">word</th></tr><tr class=\"tf\"><td class=\"tf\">6</td><td class=\"tf\"><span class=\"psg ltr\"><a href=\"https://github.com/etcbc/peshitta/blob/master/source/0.1/Esdras_3\" title=\"show this passage in the Peshitta source\" sec=\"Esdras_3 9:53\">Esdras_3 9:53</a></span></td><td class=\"tf\"><span class=\"plain outer rtl  \" ><span class=\"plain rtl\"><a href=\"https://github.com/etcbc/peshitta/blob/master/source/0.1/Esdras_3\" title=\"show this passage in the Peshitta source\" sec=\"Esdras_3 9:53\">Esdras_3 9:53</a></span></span></td><td class=\"tf\"><span class=\"plain outer rtl  hl\" ><span class=\"txtu syc\">ܘܠܘ̈ܝܐ </span></span></td><td class=\"tf\"><span class=\"plain outer rtl  hl\" ><span class=\"txtu syc\">ܐܡ̇ܪܝܢ </span></span></td><td class=\"tf\"><span class=\"plain outer rtl  hl\" ><span class=\"txtu syc\">ܬܬܥܝܩܘܢ </span></span></td></tr></table>"
      ],
      "text/plain": [
       "<IPython.core.display.HTML object>"
      ]
     },
     "metadata": {},
     "output_type": "display_data"
    },
    {
     "data": {
      "text/html": [
       "<table><tr class=\"tf\"><th class=\"tf\">n</th><th class=\"tf\">verse</th><th class=\"tf\">word</th><th class=\"tf\">word</th><th class=\"tf\">word</th></tr><tr class=\"tf\"><td class=\"tf\">6</td><td class=\"tf\"><a href=\"https://github.com/etcbc/peshitta/blob/master/source/0.1/Esdras_3\" title=\"Esdras_3 9:53\" sec=\"Esdras_3 9:53\"><span class=\"plain outer rtl  \" ><span class=\"plain rtl\"><a href=\"https://github.com/etcbc/peshitta/blob/master/source/0.1/Esdras_3\" title=\"show this passage in the Peshitta source\" sec=\"Esdras_3 9:53\">Esdras_3 9:53</a></span></span></a></td><td class=\"tf\"><span class=\"plain outer rtl  hl\" ><span class=\"txtu syc\">ܘܠܘ̈ܝܐ </span></span></td><td class=\"tf\"><span class=\"plain outer rtl  hl\" ><span class=\"txtu syc\">ܐܡ̇ܪܝܢ </span></span></td><td class=\"tf\"><span class=\"plain outer rtl  hl\" ><span class=\"txtu syc\">ܬܬܥܝܩܘܢ </span></span></td></tr></table>"
      ],
      "text/plain": [
       "<IPython.core.display.HTML object>"
      ]
     },
     "metadata": {},
     "output_type": "display_data"
    },
    {
     "data": {
      "text/html": [
       "<table><tr class=\"tf\"><th class=\"tf\">n</th><th class=\"tf\">p</th><th class=\"tf\">verse</th><th class=\"tf\">word</th><th class=\"tf\">word</th><th class=\"tf\">word</th></tr><tr class=\"tf\"><td class=\"tf\">7</td><td class=\"tf\"><span class=\"psg ltr\"><a href=\"https://github.com/etcbc/peshitta/blob/master/source/0.1/Esdras_3\" title=\"show this passage in the Peshitta source\" sec=\"Esdras_3 9:54\">Esdras_3 9:54</a></span></td><td class=\"tf\"><span class=\"plain outer rtl  \" ><span class=\"plain rtl\"><a href=\"https://github.com/etcbc/peshitta/blob/master/source/0.1/Esdras_3\" title=\"show this passage in the Peshitta source\" sec=\"Esdras_3 9:54\">Esdras_3 9:54</a></span></span></td><td class=\"tf\"><span class=\"plain outer rtl  hl\" ><span class=\"txtu syc\">ܘܐ̇ܙܠܝܢ </span></span></td><td class=\"tf\"><span class=\"plain outer rtl  hl\" ><span class=\"txtu syc\">ܫܘܕܪ̈ܐ </span></span></td><td class=\"tf\"><span class=\"plain outer rtl  hl\" ><span class=\"txtu syc\">ܪܘܪܒܐܝܬ </span></span></td></tr></table>"
      ],
      "text/plain": [
       "<IPython.core.display.HTML object>"
      ]
     },
     "metadata": {},
     "output_type": "display_data"
    },
    {
     "data": {
      "text/html": [
       "<table><tr class=\"tf\"><th class=\"tf\">n</th><th class=\"tf\">verse</th><th class=\"tf\">word</th><th class=\"tf\">word</th><th class=\"tf\">word</th></tr><tr class=\"tf\"><td class=\"tf\">7</td><td class=\"tf\"><a href=\"https://github.com/etcbc/peshitta/blob/master/source/0.1/Esdras_3\" title=\"Esdras_3 9:54\" sec=\"Esdras_3 9:54\"><span class=\"plain outer rtl  \" ><span class=\"plain rtl\"><a href=\"https://github.com/etcbc/peshitta/blob/master/source/0.1/Esdras_3\" title=\"show this passage in the Peshitta source\" sec=\"Esdras_3 9:54\">Esdras_3 9:54</a></span></span></a></td><td class=\"tf\"><span class=\"plain outer rtl  hl\" ><span class=\"txtu syc\">ܘܐ̇ܙܠܝܢ </span></span></td><td class=\"tf\"><span class=\"plain outer rtl  hl\" ><span class=\"txtu syc\">ܫܘܕܪ̈ܐ </span></span></td><td class=\"tf\"><span class=\"plain outer rtl  hl\" ><span class=\"txtu syc\">ܪܘܪܒܐܝܬ </span></span></td></tr></table>"
      ],
      "text/plain": [
       "<IPython.core.display.HTML object>"
      ]
     },
     "metadata": {},
     "output_type": "display_data"
    },
    {
     "data": {
      "text/html": [
       "<table><tr class=\"tf\"><th class=\"tf\">n</th><th class=\"tf\">p</th><th class=\"tf\">verse</th><th class=\"tf\">word</th><th class=\"tf\">word</th><th class=\"tf\">word</th></tr><tr class=\"tf\"><td class=\"tf\">8</td><td class=\"tf\"><span class=\"psg ltr\"><a href=\"https://github.com/etcbc/peshitta/blob/master/source/0.1/Esdras_3\" title=\"show this passage in the Peshitta source\" sec=\"Esdras_3 9:55\">Esdras_3 9:55</a></span></td><td class=\"tf\"><span class=\"plain outer rtl  \" ><span class=\"plain rtl\"><a href=\"https://github.com/etcbc/peshitta/blob/master/source/0.1/Esdras_3\" title=\"show this passage in the Peshitta source\" sec=\"Esdras_3 9:55\">Esdras_3 9:55</a></span></span></td><td class=\"tf\"><span class=\"plain outer rtl  hl\" ><span class=\"txtu syc\">ܡܛܠ </span></span></td><td class=\"tf\"><span class=\"plain outer rtl  hl\" ><span class=\"txtu syc\">ܒܡ̈ܠܐ </span></span></td><td class=\"tf\"><span class=\"plain outer rtl  hl\" ><span class=\"txtu syc\">ܘܐܬܟܢ̣ܫܘ </span></span></td></tr></table>"
      ],
      "text/plain": [
       "<IPython.core.display.HTML object>"
      ]
     },
     "metadata": {},
     "output_type": "display_data"
    },
    {
     "data": {
      "text/html": [
       "<table><tr class=\"tf\"><th class=\"tf\">n</th><th class=\"tf\">verse</th><th class=\"tf\">word</th><th class=\"tf\">word</th><th class=\"tf\">word</th></tr><tr class=\"tf\"><td class=\"tf\">8</td><td class=\"tf\"><a href=\"https://github.com/etcbc/peshitta/blob/master/source/0.1/Esdras_3\" title=\"Esdras_3 9:55\" sec=\"Esdras_3 9:55\"><span class=\"plain outer rtl  \" ><span class=\"plain rtl\"><a href=\"https://github.com/etcbc/peshitta/blob/master/source/0.1/Esdras_3\" title=\"show this passage in the Peshitta source\" sec=\"Esdras_3 9:55\">Esdras_3 9:55</a></span></span></a></td><td class=\"tf\"><span class=\"plain outer rtl  hl\" ><span class=\"txtu syc\">ܡܛܠ </span></span></td><td class=\"tf\"><span class=\"plain outer rtl  hl\" ><span class=\"txtu syc\">ܒܡ̈ܠܐ </span></span></td><td class=\"tf\"><span class=\"plain outer rtl  hl\" ><span class=\"txtu syc\">ܘܐܬܟܢ̣ܫܘ </span></span></td></tr></table>"
      ],
      "text/plain": [
       "<IPython.core.display.HTML object>"
      ]
     },
     "metadata": {},
     "output_type": "display_data"
    },
    {
     "data": {
      "text/html": [
       "<table>\n",
       "<tr class=\"tf\">\n",
       "  <th class=\"tf\">n</th><th class=\"tf\">p</th>\n",
       "  <th class=\"tf\">verse</th><th class=\"tf\">word</th><th class=\"tf\">word</th><th class=\"tf\">word</th>\n",
       "</tr>\n",
       "\n",
       "<tr class=\"tf\"><td class=\"tf\">1</td><td class=\"tf\"><span class=\"psg ltr\"><a href=\"https://github.com/etcbc/peshitta/blob/master/source/0.1/Genesis\" title=\"show this passage in the Peshitta source\" sec=\"Genesis 1:1\">Genesis 1:1</a></span></td><td class=\"tf\"><span class=\"plain outer rtl  \" ><span class=\"plain rtl\"><a href=\"https://github.com/etcbc/peshitta/blob/master/source/0.1/Genesis\" title=\"show this passage in the Peshitta source\" sec=\"Genesis 1:1\">Genesis 1:1</a></span></span></td><td class=\"tf\"><span class=\"plain outer rtl  hl\" ><span class=\"txtu syc\">ܒܪܫܝܬ </span></span></td><td class=\"tf\"><span class=\"plain outer rtl  hl\" ><span class=\"txtu syc\">ܝܬ </span></span></td><td class=\"tf\"><span class=\"plain outer rtl  hl\" ><span class=\"txtu syc\">ܐܪܥܐ. </span></span></td></tr>\n",
       "<tr class=\"tf\"><td class=\"tf\">2</td><td class=\"tf\"><span class=\"psg ltr\"><a href=\"https://github.com/etcbc/peshitta/blob/master/source/0.1/Genesis\" title=\"show this passage in the Peshitta source\" sec=\"Genesis 1:2\">Genesis 1:2</a></span></td><td class=\"tf\"><span class=\"plain outer rtl  \" ><span class=\"plain rtl\"><a href=\"https://github.com/etcbc/peshitta/blob/master/source/0.1/Genesis\" title=\"show this passage in the Peshitta source\" sec=\"Genesis 1:2\">Genesis 1:2</a></span></span></td><td class=\"tf\"><span class=\"plain outer rtl  hl\" ><span class=\"txtu syc\">ܐܪܥܐ </span></span></td><td class=\"tf\"><span class=\"plain outer rtl  hl\" ><span class=\"txtu syc\">ܬܗܘܡܐ. </span></span></td><td class=\"tf\"><span class=\"plain outer rtl  hl\" ><span class=\"txtu syc\">ܡ̈ܝܐ. </span></span></td></tr>\n",
       "<tr class=\"tf\"><td class=\"tf\">3</td><td class=\"tf\"><span class=\"psg ltr\"><a href=\"https://github.com/etcbc/peshitta/blob/master/source/0.1/Genesis\" title=\"show this passage in the Peshitta source\" sec=\"Genesis 1:3\">Genesis 1:3</a></span></td><td class=\"tf\"><span class=\"plain outer rtl  \" ><span class=\"plain rtl\"><a href=\"https://github.com/etcbc/peshitta/blob/master/source/0.1/Genesis\" title=\"show this passage in the Peshitta source\" sec=\"Genesis 1:3\">Genesis 1:3</a></span></span></td><td class=\"tf\"><span class=\"plain outer rtl  hl\" ><span class=\"txtu syc\">ܘܐܡ̣ܪ </span></span></td><td class=\"tf\"><span class=\"plain outer rtl  hl\" ><span class=\"txtu syc\">ܢܘܗܪܐ. </span></span></td><td class=\"tf\"><span class=\"plain outer rtl  hl\" ><span class=\"txtu syc\">ܢܘܗܪܐ. </span></span></td></tr>\n",
       "<tr class=\"tf\"><td class=\"tf\">4</td><td class=\"tf\"><span class=\"psg ltr\"><a href=\"https://github.com/etcbc/peshitta/blob/master/source/0.1/Isaiah\" title=\"show this passage in the Peshitta source\" sec=\"Isaiah 16:2\">Isaiah 16:2</a></span></td><td class=\"tf\"><span class=\"plain outer rtl  \" ><span class=\"plain rtl\"><a href=\"https://github.com/etcbc/peshitta/blob/master/source/0.1/Isaiah\" title=\"show this passage in the Peshitta source\" sec=\"Isaiah 16:2\">Isaiah 16:2</a></span></span></td><td class=\"tf\"><span class=\"plain outer rtl  hl\" ><span class=\"txtu syc\">ܘܢܗܘܐ </span></span></td><td class=\"tf\"><span class=\"plain outer rtl  hl\" ><span class=\"txtu syc\">ܘܒܢ̈ܬ </span></span></td><td class=\"tf\"><span class=\"plain outer rtl  hl\" ><span class=\"txtu syc\">ܕܐܪܢܘܢ </span></span></td></tr>\n",
       "<tr class=\"tf\"><td class=\"tf\">5</td><td class=\"tf\"><span class=\"psg ltr\"><a href=\"https://github.com/etcbc/peshitta/blob/master/source/0.1/Isaiah\" title=\"show this passage in the Peshitta source\" sec=\"Isaiah 16:3\">Isaiah 16:3</a></span></td><td class=\"tf\"><span class=\"plain outer rtl  \" ><span class=\"plain rtl\"><a href=\"https://github.com/etcbc/peshitta/blob/master/source/0.1/Isaiah\" title=\"show this passage in the Peshitta source\" sec=\"Isaiah 16:3\">Isaiah 16:3</a></span></span></td><td class=\"tf\"><span class=\"plain outer rtl  hl\" ><span class=\"txtu syc\">ܐܝܬܐ </span></span></td><td class=\"tf\"><span class=\"plain outer rtl  hl\" ><span class=\"txtu syc\">ܛܠܠܟܝ </span></span></td><td class=\"tf\"><span class=\"plain outer rtl  hl\" ><span class=\"txtu syc\">ܬܓܠܝܢ </span></span></td></tr>\n",
       "<tr class=\"tf\"><td class=\"tf\">6</td><td class=\"tf\"><span class=\"psg ltr\"><a href=\"https://github.com/etcbc/peshitta/blob/master/source/0.1/Isaiah\" title=\"show this passage in the Peshitta source\" sec=\"Isaiah 16:4\">Isaiah 16:4</a></span></td><td class=\"tf\"><span class=\"plain outer rtl  \" ><span class=\"plain rtl\"><a href=\"https://github.com/etcbc/peshitta/blob/master/source/0.1/Isaiah\" title=\"show this passage in the Peshitta source\" sec=\"Isaiah 16:4\">Isaiah 16:4</a></span></span></td><td class=\"tf\"><span class=\"plain outer rtl  hl\" ><span class=\"txtu syc\">ܢܥܡܪܘܢ </span></span></td><td class=\"tf\"><span class=\"plain outer rtl  hl\" ><span class=\"txtu syc\">ܒܙܘܙܐ </span></span></td><td class=\"tf\"><span class=\"plain outer rtl  hl\" ><span class=\"txtu syc\">ܐܪܥܐ </span></span></td></tr>\n",
       "<tr class=\"tf\"><td class=\"tf\">7</td><td class=\"tf\"><span class=\"psg ltr\"><a href=\"https://github.com/etcbc/peshitta/blob/master/source/0.1/Esdras_3\" title=\"show this passage in the Peshitta source\" sec=\"Esdras_3 9:53\">Esdras_3 9:53</a></span></td><td class=\"tf\"><span class=\"plain outer rtl  \" ><span class=\"plain rtl\"><a href=\"https://github.com/etcbc/peshitta/blob/master/source/0.1/Esdras_3\" title=\"show this passage in the Peshitta source\" sec=\"Esdras_3 9:53\">Esdras_3 9:53</a></span></span></td><td class=\"tf\"><span class=\"plain outer rtl  hl\" ><span class=\"txtu syc\">ܘܠܘ̈ܝܐ </span></span></td><td class=\"tf\"><span class=\"plain outer rtl  hl\" ><span class=\"txtu syc\">ܐܡ̇ܪܝܢ </span></span></td><td class=\"tf\"><span class=\"plain outer rtl  hl\" ><span class=\"txtu syc\">ܬܬܥܝܩܘܢ </span></span></td></tr>\n",
       "<tr class=\"tf\"><td class=\"tf\">8</td><td class=\"tf\"><span class=\"psg ltr\"><a href=\"https://github.com/etcbc/peshitta/blob/master/source/0.1/Esdras_3\" title=\"show this passage in the Peshitta source\" sec=\"Esdras_3 9:54\">Esdras_3 9:54</a></span></td><td class=\"tf\"><span class=\"plain outer rtl  \" ><span class=\"plain rtl\"><a href=\"https://github.com/etcbc/peshitta/blob/master/source/0.1/Esdras_3\" title=\"show this passage in the Peshitta source\" sec=\"Esdras_3 9:54\">Esdras_3 9:54</a></span></span></td><td class=\"tf\"><span class=\"plain outer rtl  hl\" ><span class=\"txtu syc\">ܘܐ̇ܙܠܝܢ </span></span></td><td class=\"tf\"><span class=\"plain outer rtl  hl\" ><span class=\"txtu syc\">ܫܘܕܪ̈ܐ </span></span></td><td class=\"tf\"><span class=\"plain outer rtl  hl\" ><span class=\"txtu syc\">ܪܘܪܒܐܝܬ </span></span></td></tr>\n",
       "<tr class=\"tf\"><td class=\"tf\">9</td><td class=\"tf\"><span class=\"psg ltr\"><a href=\"https://github.com/etcbc/peshitta/blob/master/source/0.1/Esdras_3\" title=\"show this passage in the Peshitta source\" sec=\"Esdras_3 9:55\">Esdras_3 9:55</a></span></td><td class=\"tf\"><span class=\"plain outer rtl  \" ><span class=\"plain rtl\"><a href=\"https://github.com/etcbc/peshitta/blob/master/source/0.1/Esdras_3\" title=\"show this passage in the Peshitta source\" sec=\"Esdras_3 9:55\">Esdras_3 9:55</a></span></span></td><td class=\"tf\"><span class=\"plain outer rtl  hl\" ><span class=\"txtu syc\">ܡܛܠ </span></span></td><td class=\"tf\"><span class=\"plain outer rtl  hl\" ><span class=\"txtu syc\">ܒܡ̈ܠܐ </span></span></td><td class=\"tf\"><span class=\"plain outer rtl  hl\" ><span class=\"txtu syc\">ܘܐܬܟܢ̣ܫܘ </span></span></td></tr></table>"
      ],
      "text/plain": [
       "<IPython.core.display.HTML object>"
      ]
     },
     "metadata": {},
     "output_type": "display_data"
    },
    {
     "data": {
      "text/html": [
       "<p><b>result</b> <i>1</i></p>"
      ],
      "text/plain": [
       "<IPython.core.display.HTML object>"
      ]
     },
     "metadata": {},
     "output_type": "display_data"
    },
    {
     "data": {
      "text/html": [
       "<span class=\"psg ltr\"><a href=\"https://github.com/etcbc/peshitta/blob/master/source/0.1/Genesis\" title=\"show this passage in the Peshitta source\" sec=\"Genesis 1:1\">Genesis 1:1</a> </span><div class=\"contnr c2  rtl  \" ><div class=\"lbl c2  \"><span class=\"nd\">verse</span> <a href=\"https://github.com/etcbc/peshitta/blob/master/source/0.1/Genesis\" title=\"Genesis 1:1\" sec=\"Genesis 1:1\"><span class=\"txtn\">1</span></a> </div> <div class=\"children row wrap rtl\"><div class=\"contnr c0 trm rtl  hl\" ><div class=\"lbl c0 trm hl\"> <span class=\"txtu syc\">ܒܪܫܝܬ </span> </div> </div><div class=\"contnr c0 trm rtl  \" ><div class=\"lbl c0 trm \"> <span class=\"txtu syc\">ܒܪܐ </span> </div> </div><div class=\"contnr c0 trm rtl  \" ><div class=\"lbl c0 trm \"> <span class=\"txtu syc\">ܐܠܗܐ. </span> </div> </div><div class=\"contnr c0 trm rtl  hl\" ><div class=\"lbl c0 trm hl\"> <span class=\"txtu syc\">ܝܬ </span> </div> </div><div class=\"contnr c0 trm rtl  \" ><div class=\"lbl c0 trm \"> <span class=\"txtu syc\">ܫܡܝܐ </span> </div> </div><div class=\"contnr c0 trm rtl  \" ><div class=\"lbl c0 trm \"> <span class=\"txtu syc\">ܘܝܬ </span> </div> </div><div class=\"contnr c0 trm rtl  hl\" ><div class=\"lbl c0 trm hl\"> <span class=\"txtu syc\">ܐܪܥܐ. </span> </div> </div></div></div>"
      ],
      "text/plain": [
       "<IPython.core.display.HTML object>"
      ]
     },
     "metadata": {},
     "output_type": "display_data"
    },
    {
     "data": {
      "text/html": [
       "<p><b>result</b> <i>2</i></p>"
      ],
      "text/plain": [
       "<IPython.core.display.HTML object>"
      ]
     },
     "metadata": {},
     "output_type": "display_data"
    },
    {
     "data": {
      "text/html": [
       "<span class=\"psg ltr\"><a href=\"https://github.com/etcbc/peshitta/blob/master/source/0.1/Genesis\" title=\"show this passage in the Peshitta source\" sec=\"Genesis 1:2\">Genesis 1:2</a> </span><div class=\"contnr c2  rtl  \" ><div class=\"lbl c2  \"><span class=\"nd\">verse</span> <a href=\"https://github.com/etcbc/peshitta/blob/master/source/0.1/Genesis\" title=\"Genesis 1:2\" sec=\"Genesis 1:2\"><span class=\"txtn\">2</span></a> </div> <div class=\"children row wrap rtl\"><div class=\"contnr c0 trm rtl  hl\" ><div class=\"lbl c0 trm hl\"> <span class=\"txtu syc\">ܐܪܥܐ </span> </div> </div><div class=\"contnr c0 trm rtl  \" ><div class=\"lbl c0 trm \"> <span class=\"txtu syc\">ܗܘܬ </span> </div> </div><div class=\"contnr c0 trm rtl  \" ><div class=\"lbl c0 trm \"> <span class=\"txtu syc\">ܬܘܗ </span> </div> </div><div class=\"contnr c0 trm rtl  \" ><div class=\"lbl c0 trm \"> <span class=\"txtu syc\">ܘܒܘܗ̇. </span> </div> </div><div class=\"contnr c0 trm rtl  \" ><div class=\"lbl c0 trm \"> <span class=\"txtu syc\">ܘܚܫܘܟܐ </span> </div> </div><div class=\"contnr c0 trm rtl  \" ><div class=\"lbl c0 trm \"> <span class=\"txtu syc\">ܥܠ </span> </div> </div><div class=\"contnr c0 trm rtl  \" ><div class=\"lbl c0 trm \"> <span class=\"txtu syc\">ܐ̈ܦܝ </span> </div> </div><div class=\"contnr c0 trm rtl  hl\" ><div class=\"lbl c0 trm hl\"> <span class=\"txtu syc\">ܬܗܘܡܐ. </span> </div> </div><div class=\"contnr c0 trm rtl  \" ><div class=\"lbl c0 trm \"> <span class=\"txtu syc\">ܘܪܘܚܗ </span> </div> </div><div class=\"contnr c0 trm rtl  \" ><div class=\"lbl c0 trm \"> <span class=\"txtu syc\">ܕܐܠܗܐ </span> </div> </div><div class=\"contnr c0 trm rtl  \" ><div class=\"lbl c0 trm \"> <span class=\"txtu syc\">ܡܪܚܦܐ </span> </div> </div><div class=\"contnr c0 trm rtl  \" ><div class=\"lbl c0 trm \"> <span class=\"txtu syc\">ܥܠ </span> </div> </div><div class=\"contnr c0 trm rtl  \" ><div class=\"lbl c0 trm \"> <span class=\"txtu syc\">ܐ̈ܦܝ </span> </div> </div><div class=\"contnr c0 trm rtl  hl\" ><div class=\"lbl c0 trm hl\"> <span class=\"txtu syc\">ܡ̈ܝܐ. </span> </div> </div></div></div>"
      ],
      "text/plain": [
       "<IPython.core.display.HTML object>"
      ]
     },
     "metadata": {},
     "output_type": "display_data"
    },
    {
     "data": {
      "text/html": [
       "<p><b>result</b> <i>3</i></p>"
      ],
      "text/plain": [
       "<IPython.core.display.HTML object>"
      ]
     },
     "metadata": {},
     "output_type": "display_data"
    },
    {
     "data": {
      "text/html": [
       "<span class=\"psg ltr\"><a href=\"https://github.com/etcbc/peshitta/blob/master/source/0.1/Genesis\" title=\"show this passage in the Peshitta source\" sec=\"Genesis 1:3\">Genesis 1:3</a> </span><div class=\"contnr c2  rtl  \" ><div class=\"lbl c2  \"><span class=\"nd\">verse</span> <a href=\"https://github.com/etcbc/peshitta/blob/master/source/0.1/Genesis\" title=\"Genesis 1:3\" sec=\"Genesis 1:3\"><span class=\"txtn\">3</span></a> </div> <div class=\"children row wrap rtl\"><div class=\"contnr c0 trm rtl  hl\" ><div class=\"lbl c0 trm hl\"> <span class=\"txtu syc\">ܘܐܡ̣ܪ </span> </div> </div><div class=\"contnr c0 trm rtl  \" ><div class=\"lbl c0 trm \"> <span class=\"txtu syc\">ܐܠܗܐ </span> </div> </div><div class=\"contnr c0 trm rtl  \" ><div class=\"lbl c0 trm \"> <span class=\"txtu syc\">ܢܗܘܐ </span> </div> </div><div class=\"contnr c0 trm rtl  hl\" ><div class=\"lbl c0 trm hl\"> <span class=\"txtu syc\">ܢܘܗܪܐ. </span> </div> </div><div class=\"contnr c0 trm rtl  \" ><div class=\"lbl c0 trm \"> <span class=\"txtu syc\">ܘܗܘ̣ܐ </span> </div> </div><div class=\"contnr c0 trm rtl  hl\" ><div class=\"lbl c0 trm hl\"> <span class=\"txtu syc\">ܢܘܗܪܐ. </span> </div> </div></div></div>"
      ],
      "text/plain": [
       "<IPython.core.display.HTML object>"
      ]
     },
     "metadata": {},
     "output_type": "display_data"
    },
    {
     "data": {
      "text/html": [
       "<p><b>result</b> <i>4</i></p>"
      ],
      "text/plain": [
       "<IPython.core.display.HTML object>"
      ]
     },
     "metadata": {},
     "output_type": "display_data"
    },
    {
     "data": {
      "text/html": [
       "<span class=\"psg ltr\"><a href=\"https://github.com/etcbc/peshitta/blob/master/source/0.1/Isaiah\" title=\"show this passage in the Peshitta source\" sec=\"Isaiah 16:2\">Isaiah 16:2</a> </span><div class=\"contnr c2  rtl  \" ><div class=\"lbl c2  \"><span class=\"nd\">verse</span> <a href=\"https://github.com/etcbc/peshitta/blob/master/source/0.1/Isaiah\" title=\"Isaiah 16:2\" sec=\"Isaiah 16:2\"><span class=\"txtn\">2</span></a> </div> <div class=\"children row wrap rtl\"><div class=\"contnr c0 trm rtl  hl\" ><div class=\"lbl c0 trm hl\"> <span class=\"txtu syc\">ܘܢܗܘܐ </span> </div> </div><div class=\"contnr c0 trm rtl  \" ><div class=\"lbl c0 trm \"> <span class=\"txtu syc\">ܐܝܟ </span> </div> </div><div class=\"contnr c0 trm rtl  \" ><div class=\"lbl c0 trm \"> <span class=\"txtu syc\">ܦܪܚܬܐ </span> </div> </div><div class=\"contnr c0 trm rtl  \" ><div class=\"lbl c0 trm \"> <span class=\"txtu syc\">ܕܡܫܢܝܐ </span> </div> </div><div class=\"contnr c0 trm rtl  \" ><div class=\"lbl c0 trm \"> <span class=\"txtu syc\">ܩܢܗ̇ </span> </div> </div><div class=\"contnr c0 trm rtl  hl\" ><div class=\"lbl c0 trm hl\"> <span class=\"txtu syc\">ܘܒܢ̈ܬ </span> </div> </div><div class=\"contnr c0 trm rtl  \" ><div class=\"lbl c0 trm \"> <span class=\"txtu syc\">ܡܘܐܒ </span> </div> </div><div class=\"contnr c0 trm rtl  \" ><div class=\"lbl c0 trm \"> <span class=\"txtu syc\">ܫܒܝ̈ܩܬܐ </span> </div> </div><div class=\"contnr c0 trm rtl  \" ><div class=\"lbl c0 trm \"> <span class=\"txtu syc\">ܢܗ̈ܘܝܢ </span> </div> </div><div class=\"contnr c0 trm rtl  \" ><div class=\"lbl c0 trm \"> <span class=\"txtu syc\">ܒܡܥܒܪܬܐ </span> </div> </div><div class=\"contnr c0 trm rtl  hl\" ><div class=\"lbl c0 trm hl\"> <span class=\"txtu syc\">ܕܐܪܢܘܢ </span> </div> </div></div></div>"
      ],
      "text/plain": [
       "<IPython.core.display.HTML object>"
      ]
     },
     "metadata": {},
     "output_type": "display_data"
    },
    {
     "data": {
      "text/html": [
       "<p><b>result</b> <i>5</i></p>"
      ],
      "text/plain": [
       "<IPython.core.display.HTML object>"
      ]
     },
     "metadata": {},
     "output_type": "display_data"
    },
    {
     "data": {
      "text/html": [
       "<span class=\"psg ltr\"><a href=\"https://github.com/etcbc/peshitta/blob/master/source/0.1/Isaiah\" title=\"show this passage in the Peshitta source\" sec=\"Isaiah 16:3\">Isaiah 16:3</a> </span><div class=\"contnr c2  rtl  \" ><div class=\"lbl c2  \"><span class=\"nd\">verse</span> <a href=\"https://github.com/etcbc/peshitta/blob/master/source/0.1/Isaiah\" title=\"Isaiah 16:3\" sec=\"Isaiah 16:3\"><span class=\"txtn\">3</span></a> </div> <div class=\"children row wrap rtl\"><div class=\"contnr c0 trm rtl  hl\" ><div class=\"lbl c0 trm hl\"> <span class=\"txtu syc\">ܐܝܬܐ </span> </div> </div><div class=\"contnr c0 trm rtl  \" ><div class=\"lbl c0 trm \"> <span class=\"txtu syc\">ܬܪܥܝܬܐ </span> </div> </div><div class=\"contnr c0 trm rtl  \" ><div class=\"lbl c0 trm \"> <span class=\"txtu syc\">ܘܥܒܕܝ </span> </div> </div><div class=\"contnr c0 trm rtl  \" ><div class=\"lbl c0 trm \"> <span class=\"txtu syc\">ܬܘܓܢܐ </span> </div> </div><div class=\"contnr c0 trm rtl  \" ><div class=\"lbl c0 trm \"> <span class=\"txtu syc\">ܣܝܡܝ </span> </div> </div><div class=\"contnr c0 trm rtl  \" ><div class=\"lbl c0 trm \"> <span class=\"txtu syc\">ܐܝܟ </span> </div> </div><div class=\"contnr c0 trm rtl  \" ><div class=\"lbl c0 trm \"> <span class=\"txtu syc\">ܠܠܝܐ </span> </div> </div><div class=\"contnr c0 trm rtl  hl\" ><div class=\"lbl c0 trm hl\"> <span class=\"txtu syc\">ܛܠܠܟܝ </span> </div> </div><div class=\"contnr c0 trm rtl  \" ><div class=\"lbl c0 trm \"> <span class=\"txtu syc\">ܡܨܥܬ </span> </div> </div><div class=\"contnr c0 trm rtl  \" ><div class=\"lbl c0 trm \"> <span class=\"txtu syc\">ܛܗܪܐ </span> </div> </div><div class=\"contnr c0 trm rtl  \" ><div class=\"lbl c0 trm \"> <span class=\"txtu syc\">ܛܫܝ </span> </div> </div><div class=\"contnr c0 trm rtl  \" ><div class=\"lbl c0 trm \"> <span class=\"txtu syc\">ܠܕܛܥ̇ܝܢ </span> </div> </div><div class=\"contnr c0 trm rtl  \" ><div class=\"lbl c0 trm \"> <span class=\"txtu syc\">ܘܠܕܡܒܕܪܝܢ </span> </div> </div><div class=\"contnr c0 trm rtl  \" ><div class=\"lbl c0 trm \"> <span class=\"txtu syc\">ܠܐ </span> </div> </div><div class=\"contnr c0 trm rtl  hl\" ><div class=\"lbl c0 trm hl\"> <span class=\"txtu syc\">ܬܓܠܝܢ </span> </div> </div></div></div>"
      ],
      "text/plain": [
       "<IPython.core.display.HTML object>"
      ]
     },
     "metadata": {},
     "output_type": "display_data"
    },
    {
     "data": {
      "text/html": [
       "<p><b>result</b> <i>6</i></p>"
      ],
      "text/plain": [
       "<IPython.core.display.HTML object>"
      ]
     },
     "metadata": {},
     "output_type": "display_data"
    },
    {
     "data": {
      "text/html": [
       "<span class=\"psg ltr\"><a href=\"https://github.com/etcbc/peshitta/blob/master/source/0.1/Isaiah\" title=\"show this passage in the Peshitta source\" sec=\"Isaiah 16:4\">Isaiah 16:4</a> </span><div class=\"contnr c2  rtl  \" ><div class=\"lbl c2  \"><span class=\"nd\">verse</span> <a href=\"https://github.com/etcbc/peshitta/blob/master/source/0.1/Isaiah\" title=\"Isaiah 16:4\" sec=\"Isaiah 16:4\"><span class=\"txtn\">4</span></a> </div> <div class=\"children row wrap rtl\"><div class=\"contnr c0 trm rtl  hl\" ><div class=\"lbl c0 trm hl\"> <span class=\"txtu syc\">ܢܥܡܪܘܢ </span> </div> </div><div class=\"contnr c0 trm rtl  \" ><div class=\"lbl c0 trm \"> <span class=\"txtu syc\">ܒܟܝ </span> </div> </div><div class=\"contnr c0 trm rtl  \" ><div class=\"lbl c0 trm \"> <span class=\"txtu syc\">ܡܒܕܪ̈ܐ </span> </div> </div><div class=\"contnr c0 trm rtl  \" ><div class=\"lbl c0 trm \"> <span class=\"txtu syc\">ܕܡܘܐܒ </span> </div> </div><div class=\"contnr c0 trm rtl  \" ><div class=\"lbl c0 trm \"> <span class=\"txtu syc\">ܗܘܝ </span> </div> </div><div class=\"contnr c0 trm rtl  \" ><div class=\"lbl c0 trm \"> <span class=\"txtu syc\">ܠܗܘܢ </span> </div> </div><div class=\"contnr c0 trm rtl  \" ><div class=\"lbl c0 trm \"> <span class=\"txtu syc\">ܣܬܪܐ </span> </div> </div><div class=\"contnr c0 trm rtl  \" ><div class=\"lbl c0 trm \"> <span class=\"txtu syc\">ܡܢ </span> </div> </div><div class=\"contnr c0 trm rtl  \" ><div class=\"lbl c0 trm \"> <span class=\"txtu syc\">ܩܕܡ </span> </div> </div><div class=\"contnr c0 trm rtl  hl\" ><div class=\"lbl c0 trm hl\"> <span class=\"txtu syc\">ܒܙܘܙܐ </span> </div> </div><div class=\"contnr c0 trm rtl  \" ><div class=\"lbl c0 trm \"> <span class=\"txtu syc\">ܡܛܠ </span> </div> </div><div class=\"contnr c0 trm rtl  \" ><div class=\"lbl c0 trm \"> <span class=\"txtu syc\">ܕܓܡܪ </span> </div> </div><div class=\"contnr c0 trm rtl  \" ><div class=\"lbl c0 trm \"> <span class=\"txtu syc\">ܕܚܝܚܐ </span> </div> </div><div class=\"contnr c0 trm rtl  \" ><div class=\"lbl c0 trm \"> <span class=\"txtu syc\">ܘܣܦ </span> </div> </div><div class=\"contnr c0 trm rtl  \" ><div class=\"lbl c0 trm \"> <span class=\"txtu syc\">ܒܙܘܙܐ </span> </div> </div><div class=\"contnr c0 trm rtl  \" ><div class=\"lbl c0 trm \"> <span class=\"txtu syc\">ܘܓܡܪ </span> </div> </div><div class=\"contnr c0 trm rtl  \" ><div class=\"lbl c0 trm \"> <span class=\"txtu syc\">ܕܝܘܫܐ </span> </div> </div><div class=\"contnr c0 trm rtl  \" ><div class=\"lbl c0 trm \"> <span class=\"txtu syc\">ܡܢ </span> </div> </div><div class=\"contnr c0 trm rtl  hl\" ><div class=\"lbl c0 trm hl\"> <span class=\"txtu syc\">ܐܪܥܐ </span> </div> </div></div></div>"
      ],
      "text/plain": [
       "<IPython.core.display.HTML object>"
      ]
     },
     "metadata": {},
     "output_type": "display_data"
    },
    {
     "data": {
      "text/html": [
       "<p><b>result</b> <i>7</i></p>"
      ],
      "text/plain": [
       "<IPython.core.display.HTML object>"
      ]
     },
     "metadata": {},
     "output_type": "display_data"
    },
    {
     "data": {
      "text/html": [
       "<span class=\"psg ltr\"><a href=\"https://github.com/etcbc/peshitta/blob/master/source/0.1/Esdras_3\" title=\"show this passage in the Peshitta source\" sec=\"Esdras_3 9:53\">Esdras_3 9:53</a> </span><div class=\"contnr c2  rtl  \" ><div class=\"lbl c2  \"><span class=\"nd\">verse</span> <a href=\"https://github.com/etcbc/peshitta/blob/master/source/0.1/Esdras_3\" title=\"Esdras_3 9:53\" sec=\"Esdras_3 9:53\"><span class=\"txtn\">53</span></a> </div> <div class=\"children row wrap rtl\"><div class=\"contnr c0 trm rtl  hl\" ><div class=\"lbl c0 trm hl\"> <span class=\"txtu syc\">ܘܠܘ̈ܝܐ </span> </div> </div><div class=\"contnr c0 trm rtl  \" ><div class=\"lbl c0 trm \"> <span class=\"txtu syc\">ܦܩܕܝܢ </span> </div> </div><div class=\"contnr c0 trm rtl  \" ><div class=\"lbl c0 trm \"> <span class=\"txtu syc\">ܗܘܘ </span> </div> </div><div class=\"contnr c0 trm rtl  \" ><div class=\"lbl c0 trm \"> <span class=\"txtu syc\">ܠܟܠܗ </span> </div> </div><div class=\"contnr c0 trm rtl  \" ><div class=\"lbl c0 trm \"> <span class=\"txtu syc\">ܟܢܫܐ </span> </div> </div><div class=\"contnr c0 trm rtl  \" ><div class=\"lbl c0 trm \"> <span class=\"txtu syc\">ܟܕ </span> </div> </div><div class=\"contnr c0 trm rtl  hl\" ><div class=\"lbl c0 trm hl\"> <span class=\"txtu syc\">ܐܡ̇ܪܝܢ </span> </div> </div><div class=\"contnr c0 trm rtl  \" ><div class=\"lbl c0 trm \"> <span class=\"txtu syc\">ܝܘܡܐ </span> </div> </div><div class=\"contnr c0 trm rtl  \" ><div class=\"lbl c0 trm \"> <span class=\"txtu syc\">ܗܢܐ </span> </div> </div><div class=\"contnr c0 trm rtl  \" ><div class=\"lbl c0 trm \"> <span class=\"txtu syc\">ܩܕܝܫܐ </span> </div> </div><div class=\"contnr c0 trm rtl  \" ><div class=\"lbl c0 trm \"> <span class=\"txtu syc\">ܗܘ </span> </div> </div><div class=\"contnr c0 trm rtl  \" ><div class=\"lbl c0 trm \"> <span class=\"txtu syc\">ܠܐ </span> </div> </div><div class=\"contnr c0 trm rtl  hl\" ><div class=\"lbl c0 trm hl\"> <span class=\"txtu syc\">ܬܬܥܝܩܘܢ </span> </div> </div></div></div>"
      ],
      "text/plain": [
       "<IPython.core.display.HTML object>"
      ]
     },
     "metadata": {},
     "output_type": "display_data"
    },
    {
     "data": {
      "text/html": [
       "<p><b>result</b> <i>8</i></p>"
      ],
      "text/plain": [
       "<IPython.core.display.HTML object>"
      ]
     },
     "metadata": {},
     "output_type": "display_data"
    },
    {
     "data": {
      "text/html": [
       "<span class=\"psg ltr\"><a href=\"https://github.com/etcbc/peshitta/blob/master/source/0.1/Esdras_3\" title=\"show this passage in the Peshitta source\" sec=\"Esdras_3 9:54\">Esdras_3 9:54</a> </span><div class=\"contnr c2  rtl  \" ><div class=\"lbl c2  \"><span class=\"nd\">verse</span> <a href=\"https://github.com/etcbc/peshitta/blob/master/source/0.1/Esdras_3\" title=\"Esdras_3 9:54\" sec=\"Esdras_3 9:54\"><span class=\"txtn\">54</span></a> </div> <div class=\"children row wrap rtl\"><div class=\"contnr c0 trm rtl  hl\" ><div class=\"lbl c0 trm hl\"> <span class=\"txtu syc\">ܘܐ̇ܙܠܝܢ </span> </div> </div><div class=\"contnr c0 trm rtl  \" ><div class=\"lbl c0 trm \"> <span class=\"txtu syc\">ܗܘܘ </span> </div> </div><div class=\"contnr c0 trm rtl  \" ><div class=\"lbl c0 trm \"> <span class=\"txtu syc\">ܟܠܗܘܢ </span> </div> </div><div class=\"contnr c0 trm rtl  \" ><div class=\"lbl c0 trm \"> <span class=\"txtu syc\">ܠܡܐܟܠ </span> </div> </div><div class=\"contnr c0 trm rtl  \" ><div class=\"lbl c0 trm \"> <span class=\"txtu syc\">ܘܠܡܫܬܐ̣ </span> </div> </div><div class=\"contnr c0 trm rtl  \" ><div class=\"lbl c0 trm \"> <span class=\"txtu syc\">ܘܠܡܬܒܣܡܘ </span> </div> </div><div class=\"contnr c0 trm rtl  \" ><div class=\"lbl c0 trm \"> <span class=\"txtu syc\">ܘܠܡܬܠ </span> </div> </div><div class=\"contnr c0 trm rtl  hl\" ><div class=\"lbl c0 trm hl\"> <span class=\"txtu syc\">ܫܘܕܪ̈ܐ </span> </div> </div><div class=\"contnr c0 trm rtl  \" ><div class=\"lbl c0 trm \"> <span class=\"txtu syc\">ܠܗ̇ܢܘܢ </span> </div> </div><div class=\"contnr c0 trm rtl  \" ><div class=\"lbl c0 trm \"> <span class=\"txtu syc\">ܕܠܐ </span> </div> </div><div class=\"contnr c0 trm rtl  \" ><div class=\"lbl c0 trm \"> <span class=\"txtu syc\">ܐܝܬ </span> </div> </div><div class=\"contnr c0 trm rtl  \" ><div class=\"lbl c0 trm \"> <span class=\"txtu syc\">ܠܗܘܢ </span> </div> </div><div class=\"contnr c0 trm rtl  \" ><div class=\"lbl c0 trm \"> <span class=\"txtu syc\">ܘܠܡܚܕܐ </span> </div> </div><div class=\"contnr c0 trm rtl  hl\" ><div class=\"lbl c0 trm hl\"> <span class=\"txtu syc\">ܪܘܪܒܐܝܬ </span> </div> </div></div></div>"
      ],
      "text/plain": [
       "<IPython.core.display.HTML object>"
      ]
     },
     "metadata": {},
     "output_type": "display_data"
    },
    {
     "data": {
      "text/html": [
       "<p><b>result</b> <i>9</i></p>"
      ],
      "text/plain": [
       "<IPython.core.display.HTML object>"
      ]
     },
     "metadata": {},
     "output_type": "display_data"
    },
    {
     "data": {
      "text/html": [
       "<span class=\"psg ltr\"><a href=\"https://github.com/etcbc/peshitta/blob/master/source/0.1/Esdras_3\" title=\"show this passage in the Peshitta source\" sec=\"Esdras_3 9:55\">Esdras_3 9:55</a> </span><div class=\"contnr c2  rtl  \" ><div class=\"lbl c2  \"><span class=\"nd\">verse</span> <a href=\"https://github.com/etcbc/peshitta/blob/master/source/0.1/Esdras_3\" title=\"Esdras_3 9:55\" sec=\"Esdras_3 9:55\"><span class=\"txtn\">55</span></a> </div> <div class=\"children row wrap rtl\"><div class=\"contnr c0 trm rtl  hl\" ><div class=\"lbl c0 trm hl\"> <span class=\"txtu syc\">ܡܛܠ </span> </div> </div><div class=\"contnr c0 trm rtl  \" ><div class=\"lbl c0 trm \"> <span class=\"txtu syc\">ܓܝܪ </span> </div> </div><div class=\"contnr c0 trm rtl  \" ><div class=\"lbl c0 trm \"> <span class=\"txtu syc\">ܕܐܬܢܦܚܘ </span> </div> </div><div class=\"contnr c0 trm rtl  \" ><div class=\"lbl c0 trm \"> <span class=\"txtu syc\">ܗܘܘ </span> </div> </div><div class=\"contnr c0 trm rtl  hl\" ><div class=\"lbl c0 trm hl\"> <span class=\"txtu syc\">ܒܡ̈ܠܐ </span> </div> </div><div class=\"contnr c0 trm rtl  \" ><div class=\"lbl c0 trm \"> <span class=\"txtu syc\">ܗܠܝܢ </span> </div> </div><div class=\"contnr c0 trm rtl  \" ><div class=\"lbl c0 trm \"> <span class=\"txtu syc\">ܕܝܠܦܘ </span> </div> </div><div class=\"contnr c0 trm rtl  \" ><div class=\"lbl c0 trm \"> <span class=\"txtu syc\">ܗܘܘ </span> </div> </div><div class=\"contnr c0 trm rtl  hl\" ><div class=\"lbl c0 trm hl\"> <span class=\"txtu syc\">ܘܐܬܟܢ̣ܫܘ </span> </div> </div></div></div>"
      ],
      "text/plain": [
       "<IPython.core.display.HTML object>"
      ]
     },
     "metadata": {},
     "output_type": "display_data"
    },
    {
     "data": {
      "text/html": [
       "<table>\n",
       "<tr class=\"tf\">\n",
       "  <th class=\"tf\">n</th>\n",
       "  <th class=\"tf\">verse</th><th class=\"tf\">word</th><th class=\"tf\">word</th><th class=\"tf\">word</th>\n",
       "</tr>\n",
       "\n",
       "<tr class=\"tf\"><td class=\"tf\">1</td><td class=\"tf\"><a href=\"https://github.com/etcbc/peshitta/blob/master/source/0.1/Genesis\" title=\"Genesis 1:1\" sec=\"Genesis 1:1\"><span class=\"plain outer rtl  \" ><span class=\"plain rtl\"><a href=\"https://github.com/etcbc/peshitta/blob/master/source/0.1/Genesis\" title=\"show this passage in the Peshitta source\" sec=\"Genesis 1:1\">Genesis 1:1</a></span></span></a></td><td class=\"tf\"><span class=\"plain outer rtl  hl\" ><span class=\"txtu syc\">ܒܪܫܝܬ </span></span></td><td class=\"tf\"><span class=\"plain outer rtl  hl\" ><span class=\"txtu syc\">ܝܬ </span></span></td><td class=\"tf\"><span class=\"plain outer rtl  hl\" ><span class=\"txtu syc\">ܐܪܥܐ. </span></span></td></tr>\n",
       "<tr class=\"tf\"><td class=\"tf\">2</td><td class=\"tf\"><a href=\"https://github.com/etcbc/peshitta/blob/master/source/0.1/Genesis\" title=\"Genesis 1:2\" sec=\"Genesis 1:2\"><span class=\"plain outer rtl  \" ><span class=\"plain rtl\"><a href=\"https://github.com/etcbc/peshitta/blob/master/source/0.1/Genesis\" title=\"show this passage in the Peshitta source\" sec=\"Genesis 1:2\">Genesis 1:2</a></span></span></a></td><td class=\"tf\"><span class=\"plain outer rtl  hl\" ><span class=\"txtu syc\">ܐܪܥܐ </span></span></td><td class=\"tf\"><span class=\"plain outer rtl  hl\" ><span class=\"txtu syc\">ܬܗܘܡܐ. </span></span></td><td class=\"tf\"><span class=\"plain outer rtl  hl\" ><span class=\"txtu syc\">ܡ̈ܝܐ. </span></span></td></tr>\n",
       "<tr class=\"tf\"><td class=\"tf\">3</td><td class=\"tf\"><a href=\"https://github.com/etcbc/peshitta/blob/master/source/0.1/Genesis\" title=\"Genesis 1:3\" sec=\"Genesis 1:3\"><span class=\"plain outer rtl  \" ><span class=\"plain rtl\"><a href=\"https://github.com/etcbc/peshitta/blob/master/source/0.1/Genesis\" title=\"show this passage in the Peshitta source\" sec=\"Genesis 1:3\">Genesis 1:3</a></span></span></a></td><td class=\"tf\"><span class=\"plain outer rtl  hl\" ><span class=\"txtu syc\">ܘܐܡ̣ܪ </span></span></td><td class=\"tf\"><span class=\"plain outer rtl  hl\" ><span class=\"txtu syc\">ܢܘܗܪܐ. </span></span></td><td class=\"tf\"><span class=\"plain outer rtl  hl\" ><span class=\"txtu syc\">ܢܘܗܪܐ. </span></span></td></tr>\n",
       "<tr class=\"tf\"><td class=\"tf\">4</td><td class=\"tf\"><a href=\"https://github.com/etcbc/peshitta/blob/master/source/0.1/Isaiah\" title=\"Isaiah 16:2\" sec=\"Isaiah 16:2\"><span class=\"plain outer rtl  \" ><span class=\"plain rtl\"><a href=\"https://github.com/etcbc/peshitta/blob/master/source/0.1/Isaiah\" title=\"show this passage in the Peshitta source\" sec=\"Isaiah 16:2\">Isaiah 16:2</a></span></span></a></td><td class=\"tf\"><span class=\"plain outer rtl  hl\" ><span class=\"txtu syc\">ܘܢܗܘܐ </span></span></td><td class=\"tf\"><span class=\"plain outer rtl  hl\" ><span class=\"txtu syc\">ܘܒܢ̈ܬ </span></span></td><td class=\"tf\"><span class=\"plain outer rtl  hl\" ><span class=\"txtu syc\">ܕܐܪܢܘܢ </span></span></td></tr>\n",
       "<tr class=\"tf\"><td class=\"tf\">5</td><td class=\"tf\"><a href=\"https://github.com/etcbc/peshitta/blob/master/source/0.1/Isaiah\" title=\"Isaiah 16:3\" sec=\"Isaiah 16:3\"><span class=\"plain outer rtl  \" ><span class=\"plain rtl\"><a href=\"https://github.com/etcbc/peshitta/blob/master/source/0.1/Isaiah\" title=\"show this passage in the Peshitta source\" sec=\"Isaiah 16:3\">Isaiah 16:3</a></span></span></a></td><td class=\"tf\"><span class=\"plain outer rtl  hl\" ><span class=\"txtu syc\">ܐܝܬܐ </span></span></td><td class=\"tf\"><span class=\"plain outer rtl  hl\" ><span class=\"txtu syc\">ܛܠܠܟܝ </span></span></td><td class=\"tf\"><span class=\"plain outer rtl  hl\" ><span class=\"txtu syc\">ܬܓܠܝܢ </span></span></td></tr>\n",
       "<tr class=\"tf\"><td class=\"tf\">6</td><td class=\"tf\"><a href=\"https://github.com/etcbc/peshitta/blob/master/source/0.1/Isaiah\" title=\"Isaiah 16:4\" sec=\"Isaiah 16:4\"><span class=\"plain outer rtl  \" ><span class=\"plain rtl\"><a href=\"https://github.com/etcbc/peshitta/blob/master/source/0.1/Isaiah\" title=\"show this passage in the Peshitta source\" sec=\"Isaiah 16:4\">Isaiah 16:4</a></span></span></a></td><td class=\"tf\"><span class=\"plain outer rtl  hl\" ><span class=\"txtu syc\">ܢܥܡܪܘܢ </span></span></td><td class=\"tf\"><span class=\"plain outer rtl  hl\" ><span class=\"txtu syc\">ܒܙܘܙܐ </span></span></td><td class=\"tf\"><span class=\"plain outer rtl  hl\" ><span class=\"txtu syc\">ܐܪܥܐ </span></span></td></tr>\n",
       "<tr class=\"tf\"><td class=\"tf\">7</td><td class=\"tf\"><a href=\"https://github.com/etcbc/peshitta/blob/master/source/0.1/Esdras_3\" title=\"Esdras_3 9:53\" sec=\"Esdras_3 9:53\"><span class=\"plain outer rtl  \" ><span class=\"plain rtl\"><a href=\"https://github.com/etcbc/peshitta/blob/master/source/0.1/Esdras_3\" title=\"show this passage in the Peshitta source\" sec=\"Esdras_3 9:53\">Esdras_3 9:53</a></span></span></a></td><td class=\"tf\"><span class=\"plain outer rtl  hl\" ><span class=\"txtu syc\">ܘܠܘ̈ܝܐ </span></span></td><td class=\"tf\"><span class=\"plain outer rtl  hl\" ><span class=\"txtu syc\">ܐܡ̇ܪܝܢ </span></span></td><td class=\"tf\"><span class=\"plain outer rtl  hl\" ><span class=\"txtu syc\">ܬܬܥܝܩܘܢ </span></span></td></tr>\n",
       "<tr class=\"tf\"><td class=\"tf\">8</td><td class=\"tf\"><a href=\"https://github.com/etcbc/peshitta/blob/master/source/0.1/Esdras_3\" title=\"Esdras_3 9:54\" sec=\"Esdras_3 9:54\"><span class=\"plain outer rtl  \" ><span class=\"plain rtl\"><a href=\"https://github.com/etcbc/peshitta/blob/master/source/0.1/Esdras_3\" title=\"show this passage in the Peshitta source\" sec=\"Esdras_3 9:54\">Esdras_3 9:54</a></span></span></a></td><td class=\"tf\"><span class=\"plain outer rtl  hl\" ><span class=\"txtu syc\">ܘܐ̇ܙܠܝܢ </span></span></td><td class=\"tf\"><span class=\"plain outer rtl  hl\" ><span class=\"txtu syc\">ܫܘܕܪ̈ܐ </span></span></td><td class=\"tf\"><span class=\"plain outer rtl  hl\" ><span class=\"txtu syc\">ܪܘܪܒܐܝܬ </span></span></td></tr>\n",
       "<tr class=\"tf\"><td class=\"tf\">9</td><td class=\"tf\"><a href=\"https://github.com/etcbc/peshitta/blob/master/source/0.1/Esdras_3\" title=\"Esdras_3 9:55\" sec=\"Esdras_3 9:55\"><span class=\"plain outer rtl  \" ><span class=\"plain rtl\"><a href=\"https://github.com/etcbc/peshitta/blob/master/source/0.1/Esdras_3\" title=\"show this passage in the Peshitta source\" sec=\"Esdras_3 9:55\">Esdras_3 9:55</a></span></span></a></td><td class=\"tf\"><span class=\"plain outer rtl  hl\" ><span class=\"txtu syc\">ܡܛܠ </span></span></td><td class=\"tf\"><span class=\"plain outer rtl  hl\" ><span class=\"txtu syc\">ܒܡ̈ܠܐ </span></span></td><td class=\"tf\"><span class=\"plain outer rtl  hl\" ><span class=\"txtu syc\">ܘܐܬܟܢ̣ܫܘ </span></span></td></tr></table>"
      ],
      "text/plain": [
       "<IPython.core.display.HTML object>"
      ]
     },
     "metadata": {},
     "output_type": "display_data"
    },
    {
     "data": {
      "text/html": [
       "<p><b>result</b> <i>1</i></p>"
      ],
      "text/plain": [
       "<IPython.core.display.HTML object>"
      ]
     },
     "metadata": {},
     "output_type": "display_data"
    },
    {
     "data": {
      "text/html": [
       "<div class=\"contnr c2  rtl  \" ><div class=\"lbl c2  \"><span class=\"nd\">verse</span> <a href=\"https://github.com/etcbc/peshitta/blob/master/source/0.1/Genesis\" title=\"Genesis 1:1\" sec=\"Genesis 1:1\"><span class=\"txtn\">1</span></a> </div> <div class=\"children row wrap rtl\"><div class=\"contnr c0 trm rtl  hl\" ><div class=\"lbl c0 trm hl\"> <span class=\"txtu syc\">ܒܪܫܝܬ </span> </div> <div class=\"meta\"><div class=\"features\"> <span class=\"word_etcbc xft\"><span class=\"f\">word_etcbc=</span>BRCJT</span></div></div></div><div class=\"contnr c0 trm rtl  \" ><div class=\"lbl c0 trm \"> <span class=\"txtu syc\">ܒܪܐ </span> </div> <div class=\"meta\"><div class=\"features\"> <span class=\"word_etcbc xft\"><span class=\"f\">word_etcbc=</span>BR></span></div></div></div><div class=\"contnr c0 trm rtl  \" ><div class=\"lbl c0 trm \"> <span class=\"txtu syc\">ܐܠܗܐ. </span> </div> <div class=\"meta\"><div class=\"features\"> <span class=\"word_etcbc xft\"><span class=\"f\">word_etcbc=</span>>LH></span></div></div></div><div class=\"contnr c0 trm rtl  hl\" ><div class=\"lbl c0 trm hl\"> <span class=\"txtu syc\">ܝܬ </span> </div> <div class=\"meta\"><div class=\"features\"> <span class=\"word_etcbc xft\"><span class=\"f\">word_etcbc=</span>JT</span></div></div></div><div class=\"contnr c0 trm rtl  \" ><div class=\"lbl c0 trm \"> <span class=\"txtu syc\">ܫܡܝܐ </span> </div> <div class=\"meta\"><div class=\"features\"> <span class=\"word_etcbc xft\"><span class=\"f\">word_etcbc=</span>CMJ></span></div></div></div><div class=\"contnr c0 trm rtl  \" ><div class=\"lbl c0 trm \"> <span class=\"txtu syc\">ܘܝܬ </span> </div> <div class=\"meta\"><div class=\"features\"> <span class=\"word_etcbc xft\"><span class=\"f\">word_etcbc=</span>WJT</span></div></div></div><div class=\"contnr c0 trm rtl  hl\" ><div class=\"lbl c0 trm hl\"> <span class=\"txtu syc\">ܐܪܥܐ. </span> </div> <div class=\"meta\"><div class=\"features\"> <span class=\"word_etcbc xft\"><span class=\"f\">word_etcbc=</span>>R&lt;></span></div></div></div></div></div>"
      ],
      "text/plain": [
       "<IPython.core.display.HTML object>"
      ]
     },
     "metadata": {},
     "output_type": "display_data"
    },
    {
     "data": {
      "text/html": [
       "<p><b>result</b> <i>2</i></p>"
      ],
      "text/plain": [
       "<IPython.core.display.HTML object>"
      ]
     },
     "metadata": {},
     "output_type": "display_data"
    },
    {
     "data": {
      "text/html": [
       "<div class=\"contnr c2  rtl  \" ><div class=\"lbl c2  \"><span class=\"nd\">verse</span> <a href=\"https://github.com/etcbc/peshitta/blob/master/source/0.1/Genesis\" title=\"Genesis 1:2\" sec=\"Genesis 1:2\"><span class=\"txtn\">2</span></a> </div> <div class=\"children row wrap rtl\"><div class=\"contnr c0 trm rtl  hl\" ><div class=\"lbl c0 trm hl\"> <span class=\"txtu syc\">ܐܪܥܐ </span> </div> <div class=\"meta\"><div class=\"features\"> <span class=\"word_etcbc xft\"><span class=\"f\">word_etcbc=</span>>R&lt;></span></div></div></div><div class=\"contnr c0 trm rtl  \" ><div class=\"lbl c0 trm \"> <span class=\"txtu syc\">ܗܘܬ </span> </div> <div class=\"meta\"><div class=\"features\"> <span class=\"word_etcbc xft\"><span class=\"f\">word_etcbc=</span>HWT</span></div></div></div><div class=\"contnr c0 trm rtl  \" ><div class=\"lbl c0 trm \"> <span class=\"txtu syc\">ܬܘܗ </span> </div> <div class=\"meta\"><div class=\"features\"> <span class=\"word_etcbc xft\"><span class=\"f\">word_etcbc=</span>TWH</span></div></div></div><div class=\"contnr c0 trm rtl  \" ><div class=\"lbl c0 trm \"> <span class=\"txtu syc\">ܘܒܘܗ̇. </span> </div> <div class=\"meta\"><div class=\"features\"> <span class=\"word_etcbc xft\"><span class=\"f\">word_etcbc=</span>WBWH^</span></div></div></div><div class=\"contnr c0 trm rtl  \" ><div class=\"lbl c0 trm \"> <span class=\"txtu syc\">ܘܚܫܘܟܐ </span> </div> <div class=\"meta\"><div class=\"features\"> <span class=\"word_etcbc xft\"><span class=\"f\">word_etcbc=</span>WXCWK></span></div></div></div><div class=\"contnr c0 trm rtl  \" ><div class=\"lbl c0 trm \"> <span class=\"txtu syc\">ܥܠ </span> </div> <div class=\"meta\"><div class=\"features\"> <span class=\"word_etcbc xft\"><span class=\"f\">word_etcbc=</span>&lt;L</span></div></div></div><div class=\"contnr c0 trm rtl  \" ><div class=\"lbl c0 trm \"> <span class=\"txtu syc\">ܐ̈ܦܝ </span> </div> <div class=\"meta\"><div class=\"features\"> <span class=\"word_etcbc xft\"><span class=\"f\">word_etcbc=</span>>\"PJ</span></div></div></div><div class=\"contnr c0 trm rtl  hl\" ><div class=\"lbl c0 trm hl\"> <span class=\"txtu syc\">ܬܗܘܡܐ. </span> </div> <div class=\"meta\"><div class=\"features\"> <span class=\"word_etcbc xft\"><span class=\"f\">word_etcbc=</span>THWM></span></div></div></div><div class=\"contnr c0 trm rtl  \" ><div class=\"lbl c0 trm \"> <span class=\"txtu syc\">ܘܪܘܚܗ </span> </div> <div class=\"meta\"><div class=\"features\"> <span class=\"word_etcbc xft\"><span class=\"f\">word_etcbc=</span>WRWXH</span></div></div></div><div class=\"contnr c0 trm rtl  \" ><div class=\"lbl c0 trm \"> <span class=\"txtu syc\">ܕܐܠܗܐ </span> </div> <div class=\"meta\"><div class=\"features\"> <span class=\"word_etcbc xft\"><span class=\"f\">word_etcbc=</span>D>LH></span></div></div></div><div class=\"contnr c0 trm rtl  \" ><div class=\"lbl c0 trm \"> <span class=\"txtu syc\">ܡܪܚܦܐ </span> </div> <div class=\"meta\"><div class=\"features\"> <span class=\"word_etcbc xft\"><span class=\"f\">word_etcbc=</span>MRXP></span></div></div></div><div class=\"contnr c0 trm rtl  \" ><div class=\"lbl c0 trm \"> <span class=\"txtu syc\">ܥܠ </span> </div> <div class=\"meta\"><div class=\"features\"> <span class=\"word_etcbc xft\"><span class=\"f\">word_etcbc=</span>&lt;L</span></div></div></div><div class=\"contnr c0 trm rtl  \" ><div class=\"lbl c0 trm \"> <span class=\"txtu syc\">ܐ̈ܦܝ </span> </div> <div class=\"meta\"><div class=\"features\"> <span class=\"word_etcbc xft\"><span class=\"f\">word_etcbc=</span>>\"PJ</span></div></div></div><div class=\"contnr c0 trm rtl  hl\" ><div class=\"lbl c0 trm hl\"> <span class=\"txtu syc\">ܡ̈ܝܐ. </span> </div> <div class=\"meta\"><div class=\"features\"> <span class=\"word_etcbc xft\"><span class=\"f\">word_etcbc=</span>M\"J></span></div></div></div></div></div>"
      ],
      "text/plain": [
       "<IPython.core.display.HTML object>"
      ]
     },
     "metadata": {},
     "output_type": "display_data"
    },
    {
     "data": {
      "text/html": [
       "<p><b>result</b> <i>3</i></p>"
      ],
      "text/plain": [
       "<IPython.core.display.HTML object>"
      ]
     },
     "metadata": {},
     "output_type": "display_data"
    },
    {
     "data": {
      "text/html": [
       "<div class=\"contnr c2  rtl  \" ><div class=\"lbl c2  \"><span class=\"nd\">verse</span> <a href=\"https://github.com/etcbc/peshitta/blob/master/source/0.1/Genesis\" title=\"Genesis 1:3\" sec=\"Genesis 1:3\"><span class=\"txtn\">3</span></a> </div> <div class=\"children row wrap rtl\"><div class=\"contnr c0 trm rtl  hl\" ><div class=\"lbl c0 trm hl\"> <span class=\"txtu syc\">ܘܐܡ̣ܪ </span> </div> <div class=\"meta\"><div class=\"features\"> <span class=\"word_etcbc xft\"><span class=\"f\">word_etcbc=</span>W>M#R</span></div></div></div><div class=\"contnr c0 trm rtl  \" ><div class=\"lbl c0 trm \"> <span class=\"txtu syc\">ܐܠܗܐ </span> </div> <div class=\"meta\"><div class=\"features\"> <span class=\"word_etcbc xft\"><span class=\"f\">word_etcbc=</span>>LH></span></div></div></div><div class=\"contnr c0 trm rtl  \" ><div class=\"lbl c0 trm \"> <span class=\"txtu syc\">ܢܗܘܐ </span> </div> <div class=\"meta\"><div class=\"features\"> <span class=\"word_etcbc xft\"><span class=\"f\">word_etcbc=</span>NHW></span></div></div></div><div class=\"contnr c0 trm rtl  hl\" ><div class=\"lbl c0 trm hl\"> <span class=\"txtu syc\">ܢܘܗܪܐ. </span> </div> <div class=\"meta\"><div class=\"features\"> <span class=\"word_etcbc xft\"><span class=\"f\">word_etcbc=</span>NWHR></span></div></div></div><div class=\"contnr c0 trm rtl  \" ><div class=\"lbl c0 trm \"> <span class=\"txtu syc\">ܘܗܘ̣ܐ </span> </div> <div class=\"meta\"><div class=\"features\"> <span class=\"word_etcbc xft\"><span class=\"f\">word_etcbc=</span>WHW#></span></div></div></div><div class=\"contnr c0 trm rtl  hl\" ><div class=\"lbl c0 trm hl\"> <span class=\"txtu syc\">ܢܘܗܪܐ. </span> </div> <div class=\"meta\"><div class=\"features\"> <span class=\"word_etcbc xft\"><span class=\"f\">word_etcbc=</span>NWHR></span></div></div></div></div></div>"
      ],
      "text/plain": [
       "<IPython.core.display.HTML object>"
      ]
     },
     "metadata": {},
     "output_type": "display_data"
    },
    {
     "data": {
      "text/html": [
       "<p><b>result</b> <i>4</i></p>"
      ],
      "text/plain": [
       "<IPython.core.display.HTML object>"
      ]
     },
     "metadata": {},
     "output_type": "display_data"
    },
    {
     "data": {
      "text/html": [
       "<div class=\"contnr c2  rtl  \" ><div class=\"lbl c2  \"><span class=\"nd\">verse</span> <a href=\"https://github.com/etcbc/peshitta/blob/master/source/0.1/Isaiah\" title=\"Isaiah 16:2\" sec=\"Isaiah 16:2\"><span class=\"txtn\">2</span></a> </div> <div class=\"children row wrap rtl\"><div class=\"contnr c0 trm rtl  hl\" ><div class=\"lbl c0 trm hl\"> <span class=\"txtu syc\">ܘܢܗܘܐ </span> </div> <div class=\"meta\"><div class=\"features\"> <span class=\"word_etcbc xft\"><span class=\"f\">word_etcbc=</span>WNHW></span></div></div></div><div class=\"contnr c0 trm rtl  \" ><div class=\"lbl c0 trm \"> <span class=\"txtu syc\">ܐܝܟ </span> </div> <div class=\"meta\"><div class=\"features\"> <span class=\"word_etcbc xft\"><span class=\"f\">word_etcbc=</span>>JK</span></div></div></div><div class=\"contnr c0 trm rtl  \" ><div class=\"lbl c0 trm \"> <span class=\"txtu syc\">ܦܪܚܬܐ </span> </div> <div class=\"meta\"><div class=\"features\"> <span class=\"word_etcbc xft\"><span class=\"f\">word_etcbc=</span>PRXT></span></div></div></div><div class=\"contnr c0 trm rtl  \" ><div class=\"lbl c0 trm \"> <span class=\"txtu syc\">ܕܡܫܢܝܐ </span> </div> <div class=\"meta\"><div class=\"features\"> <span class=\"word_etcbc xft\"><span class=\"f\">word_etcbc=</span>DMCNJ></span></div></div></div><div class=\"contnr c0 trm rtl  \" ><div class=\"lbl c0 trm \"> <span class=\"txtu syc\">ܩܢܗ̇ </span> </div> <div class=\"meta\"><div class=\"features\"> <span class=\"word_etcbc xft\"><span class=\"f\">word_etcbc=</span>QNH^</span></div></div></div><div class=\"contnr c0 trm rtl  hl\" ><div class=\"lbl c0 trm hl\"> <span class=\"txtu syc\">ܘܒܢ̈ܬ </span> </div> <div class=\"meta\"><div class=\"features\"> <span class=\"word_etcbc xft\"><span class=\"f\">word_etcbc=</span>WBN\"T</span></div></div></div><div class=\"contnr c0 trm rtl  \" ><div class=\"lbl c0 trm \"> <span class=\"txtu syc\">ܡܘܐܒ </span> </div> <div class=\"meta\"><div class=\"features\"> <span class=\"word_etcbc xft\"><span class=\"f\">word_etcbc=</span>MW>B</span></div></div></div><div class=\"contnr c0 trm rtl  \" ><div class=\"lbl c0 trm \"> <span class=\"txtu syc\">ܫܒܝ̈ܩܬܐ </span> </div> <div class=\"meta\"><div class=\"features\"> <span class=\"word_etcbc xft\"><span class=\"f\">word_etcbc=</span>CBJ\"QT></span></div></div></div><div class=\"contnr c0 trm rtl  \" ><div class=\"lbl c0 trm \"> <span class=\"txtu syc\">ܢܗ̈ܘܝܢ </span> </div> <div class=\"meta\"><div class=\"features\"> <span class=\"word_etcbc xft\"><span class=\"f\">word_etcbc=</span>NH\"WJN</span></div></div></div><div class=\"contnr c0 trm rtl  \" ><div class=\"lbl c0 trm \"> <span class=\"txtu syc\">ܒܡܥܒܪܬܐ </span> </div> <div class=\"meta\"><div class=\"features\"> <span class=\"word_etcbc xft\"><span class=\"f\">word_etcbc=</span>BM&lt;BRT></span></div></div></div><div class=\"contnr c0 trm rtl  hl\" ><div class=\"lbl c0 trm hl\"> <span class=\"txtu syc\">ܕܐܪܢܘܢ </span> </div> <div class=\"meta\"><div class=\"features\"> <span class=\"word_etcbc xft\"><span class=\"f\">word_etcbc=</span>D>RNWN</span></div></div></div></div></div>"
      ],
      "text/plain": [
       "<IPython.core.display.HTML object>"
      ]
     },
     "metadata": {},
     "output_type": "display_data"
    },
    {
     "data": {
      "text/html": [
       "<p><b>result</b> <i>5</i></p>"
      ],
      "text/plain": [
       "<IPython.core.display.HTML object>"
      ]
     },
     "metadata": {},
     "output_type": "display_data"
    },
    {
     "data": {
      "text/html": [
       "<div class=\"contnr c2  rtl  \" ><div class=\"lbl c2  \"><span class=\"nd\">verse</span> <a href=\"https://github.com/etcbc/peshitta/blob/master/source/0.1/Isaiah\" title=\"Isaiah 16:3\" sec=\"Isaiah 16:3\"><span class=\"txtn\">3</span></a> </div> <div class=\"children row wrap rtl\"><div class=\"contnr c0 trm rtl  hl\" ><div class=\"lbl c0 trm hl\"> <span class=\"txtu syc\">ܐܝܬܐ </span> </div> <div class=\"meta\"><div class=\"features\"> <span class=\"word_etcbc xft\"><span class=\"f\">word_etcbc=</span>>JT></span></div></div></div><div class=\"contnr c0 trm rtl  \" ><div class=\"lbl c0 trm \"> <span class=\"txtu syc\">ܬܪܥܝܬܐ </span> </div> <div class=\"meta\"><div class=\"features\"> <span class=\"word_etcbc xft\"><span class=\"f\">word_etcbc=</span>TR&lt;JT></span></div></div></div><div class=\"contnr c0 trm rtl  \" ><div class=\"lbl c0 trm \"> <span class=\"txtu syc\">ܘܥܒܕܝ </span> </div> <div class=\"meta\"><div class=\"features\"> <span class=\"word_etcbc xft\"><span class=\"f\">word_etcbc=</span>W&lt;BDJ</span></div></div></div><div class=\"contnr c0 trm rtl  \" ><div class=\"lbl c0 trm \"> <span class=\"txtu syc\">ܬܘܓܢܐ </span> </div> <div class=\"meta\"><div class=\"features\"> <span class=\"word_etcbc xft\"><span class=\"f\">word_etcbc=</span>TWGN></span></div></div></div><div class=\"contnr c0 trm rtl  \" ><div class=\"lbl c0 trm \"> <span class=\"txtu syc\">ܣܝܡܝ </span> </div> <div class=\"meta\"><div class=\"features\"> <span class=\"word_etcbc xft\"><span class=\"f\">word_etcbc=</span>SJMJ</span></div></div></div><div class=\"contnr c0 trm rtl  \" ><div class=\"lbl c0 trm \"> <span class=\"txtu syc\">ܐܝܟ </span> </div> <div class=\"meta\"><div class=\"features\"> <span class=\"word_etcbc xft\"><span class=\"f\">word_etcbc=</span>>JK</span></div></div></div><div class=\"contnr c0 trm rtl  \" ><div class=\"lbl c0 trm \"> <span class=\"txtu syc\">ܠܠܝܐ </span> </div> <div class=\"meta\"><div class=\"features\"> <span class=\"word_etcbc xft\"><span class=\"f\">word_etcbc=</span>LLJ></span></div></div></div><div class=\"contnr c0 trm rtl  hl\" ><div class=\"lbl c0 trm hl\"> <span class=\"txtu syc\">ܛܠܠܟܝ </span> </div> <div class=\"meta\"><div class=\"features\"> <span class=\"word_etcbc xft\"><span class=\"f\">word_etcbc=</span>VLLKJ</span></div></div></div><div class=\"contnr c0 trm rtl  \" ><div class=\"lbl c0 trm \"> <span class=\"txtu syc\">ܡܨܥܬ </span> </div> <div class=\"meta\"><div class=\"features\"> <span class=\"word_etcbc xft\"><span class=\"f\">word_etcbc=</span>MY&lt;T</span></div></div></div><div class=\"contnr c0 trm rtl  \" ><div class=\"lbl c0 trm \"> <span class=\"txtu syc\">ܛܗܪܐ </span> </div> <div class=\"meta\"><div class=\"features\"> <span class=\"word_etcbc xft\"><span class=\"f\">word_etcbc=</span>VHR></span></div></div></div><div class=\"contnr c0 trm rtl  \" ><div class=\"lbl c0 trm \"> <span class=\"txtu syc\">ܛܫܝ </span> </div> <div class=\"meta\"><div class=\"features\"> <span class=\"word_etcbc xft\"><span class=\"f\">word_etcbc=</span>VCJ</span></div></div></div><div class=\"contnr c0 trm rtl  \" ><div class=\"lbl c0 trm \"> <span class=\"txtu syc\">ܠܕܛܥ̇ܝܢ </span> </div> <div class=\"meta\"><div class=\"features\"> <span class=\"word_etcbc xft\"><span class=\"f\">word_etcbc=</span>LDV&lt;^JN</span></div></div></div><div class=\"contnr c0 trm rtl  \" ><div class=\"lbl c0 trm \"> <span class=\"txtu syc\">ܘܠܕܡܒܕܪܝܢ </span> </div> <div class=\"meta\"><div class=\"features\"> <span class=\"word_etcbc xft\"><span class=\"f\">word_etcbc=</span>WLDMBDRJN</span></div></div></div><div class=\"contnr c0 trm rtl  \" ><div class=\"lbl c0 trm \"> <span class=\"txtu syc\">ܠܐ </span> </div> <div class=\"meta\"><div class=\"features\"> <span class=\"word_etcbc xft\"><span class=\"f\">word_etcbc=</span>L></span></div></div></div><div class=\"contnr c0 trm rtl  hl\" ><div class=\"lbl c0 trm hl\"> <span class=\"txtu syc\">ܬܓܠܝܢ </span> </div> <div class=\"meta\"><div class=\"features\"> <span class=\"word_etcbc xft\"><span class=\"f\">word_etcbc=</span>TGLJN</span></div></div></div></div></div>"
      ],
      "text/plain": [
       "<IPython.core.display.HTML object>"
      ]
     },
     "metadata": {},
     "output_type": "display_data"
    },
    {
     "data": {
      "text/html": [
       "<p><b>result</b> <i>6</i></p>"
      ],
      "text/plain": [
       "<IPython.core.display.HTML object>"
      ]
     },
     "metadata": {},
     "output_type": "display_data"
    },
    {
     "data": {
      "text/html": [
       "<div class=\"contnr c2  rtl  \" ><div class=\"lbl c2  \"><span class=\"nd\">verse</span> <a href=\"https://github.com/etcbc/peshitta/blob/master/source/0.1/Isaiah\" title=\"Isaiah 16:4\" sec=\"Isaiah 16:4\"><span class=\"txtn\">4</span></a> </div> <div class=\"children row wrap rtl\"><div class=\"contnr c0 trm rtl  hl\" ><div class=\"lbl c0 trm hl\"> <span class=\"txtu syc\">ܢܥܡܪܘܢ </span> </div> <div class=\"meta\"><div class=\"features\"> <span class=\"word_etcbc xft\"><span class=\"f\">word_etcbc=</span>N&lt;MRWN</span></div></div></div><div class=\"contnr c0 trm rtl  \" ><div class=\"lbl c0 trm \"> <span class=\"txtu syc\">ܒܟܝ </span> </div> <div class=\"meta\"><div class=\"features\"> <span class=\"word_etcbc xft\"><span class=\"f\">word_etcbc=</span>BKJ</span></div></div></div><div class=\"contnr c0 trm rtl  \" ><div class=\"lbl c0 trm \"> <span class=\"txtu syc\">ܡܒܕܪ̈ܐ </span> </div> <div class=\"meta\"><div class=\"features\"> <span class=\"word_etcbc xft\"><span class=\"f\">word_etcbc=</span>MBDR\"></span></div></div></div><div class=\"contnr c0 trm rtl  \" ><div class=\"lbl c0 trm \"> <span class=\"txtu syc\">ܕܡܘܐܒ </span> </div> <div class=\"meta\"><div class=\"features\"> <span class=\"word_etcbc xft\"><span class=\"f\">word_etcbc=</span>DMW>B</span></div></div></div><div class=\"contnr c0 trm rtl  \" ><div class=\"lbl c0 trm \"> <span class=\"txtu syc\">ܗܘܝ </span> </div> <div class=\"meta\"><div class=\"features\"> <span class=\"word_etcbc xft\"><span class=\"f\">word_etcbc=</span>HWJ</span></div></div></div><div class=\"contnr c0 trm rtl  \" ><div class=\"lbl c0 trm \"> <span class=\"txtu syc\">ܠܗܘܢ </span> </div> <div class=\"meta\"><div class=\"features\"> <span class=\"word_etcbc xft\"><span class=\"f\">word_etcbc=</span>LHWN</span></div></div></div><div class=\"contnr c0 trm rtl  \" ><div class=\"lbl c0 trm \"> <span class=\"txtu syc\">ܣܬܪܐ </span> </div> <div class=\"meta\"><div class=\"features\"> <span class=\"word_etcbc xft\"><span class=\"f\">word_etcbc=</span>STR></span></div></div></div><div class=\"contnr c0 trm rtl  \" ><div class=\"lbl c0 trm \"> <span class=\"txtu syc\">ܡܢ </span> </div> <div class=\"meta\"><div class=\"features\"> <span class=\"word_etcbc xft\"><span class=\"f\">word_etcbc=</span>MN</span></div></div></div><div class=\"contnr c0 trm rtl  \" ><div class=\"lbl c0 trm \"> <span class=\"txtu syc\">ܩܕܡ </span> </div> <div class=\"meta\"><div class=\"features\"> <span class=\"word_etcbc xft\"><span class=\"f\">word_etcbc=</span>QDM</span></div></div></div><div class=\"contnr c0 trm rtl  hl\" ><div class=\"lbl c0 trm hl\"> <span class=\"txtu syc\">ܒܙܘܙܐ </span> </div> <div class=\"meta\"><div class=\"features\"> <span class=\"word_etcbc xft\"><span class=\"f\">word_etcbc=</span>BZWZ></span></div></div></div><div class=\"contnr c0 trm rtl  \" ><div class=\"lbl c0 trm \"> <span class=\"txtu syc\">ܡܛܠ </span> </div> <div class=\"meta\"><div class=\"features\"> <span class=\"word_etcbc xft\"><span class=\"f\">word_etcbc=</span>MVL</span></div></div></div><div class=\"contnr c0 trm rtl  \" ><div class=\"lbl c0 trm \"> <span class=\"txtu syc\">ܕܓܡܪ </span> </div> <div class=\"meta\"><div class=\"features\"> <span class=\"word_etcbc xft\"><span class=\"f\">word_etcbc=</span>DGMR</span></div></div></div><div class=\"contnr c0 trm rtl  \" ><div class=\"lbl c0 trm \"> <span class=\"txtu syc\">ܕܚܝܚܐ </span> </div> <div class=\"meta\"><div class=\"features\"> <span class=\"word_etcbc xft\"><span class=\"f\">word_etcbc=</span>DXJX></span></div></div></div><div class=\"contnr c0 trm rtl  \" ><div class=\"lbl c0 trm \"> <span class=\"txtu syc\">ܘܣܦ </span> </div> <div class=\"meta\"><div class=\"features\"> <span class=\"word_etcbc xft\"><span class=\"f\">word_etcbc=</span>WSP</span></div></div></div><div class=\"contnr c0 trm rtl  \" ><div class=\"lbl c0 trm \"> <span class=\"txtu syc\">ܒܙܘܙܐ </span> </div> <div class=\"meta\"><div class=\"features\"> <span class=\"word_etcbc xft\"><span class=\"f\">word_etcbc=</span>BZWZ></span></div></div></div><div class=\"contnr c0 trm rtl  \" ><div class=\"lbl c0 trm \"> <span class=\"txtu syc\">ܘܓܡܪ </span> </div> <div class=\"meta\"><div class=\"features\"> <span class=\"word_etcbc xft\"><span class=\"f\">word_etcbc=</span>WGMR</span></div></div></div><div class=\"contnr c0 trm rtl  \" ><div class=\"lbl c0 trm \"> <span class=\"txtu syc\">ܕܝܘܫܐ </span> </div> <div class=\"meta\"><div class=\"features\"> <span class=\"word_etcbc xft\"><span class=\"f\">word_etcbc=</span>DJWC></span></div></div></div><div class=\"contnr c0 trm rtl  \" ><div class=\"lbl c0 trm \"> <span class=\"txtu syc\">ܡܢ </span> </div> <div class=\"meta\"><div class=\"features\"> <span class=\"word_etcbc xft\"><span class=\"f\">word_etcbc=</span>MN</span></div></div></div><div class=\"contnr c0 trm rtl  hl\" ><div class=\"lbl c0 trm hl\"> <span class=\"txtu syc\">ܐܪܥܐ </span> </div> <div class=\"meta\"><div class=\"features\"> <span class=\"word_etcbc xft\"><span class=\"f\">word_etcbc=</span>>R&lt;></span></div></div></div></div></div>"
      ],
      "text/plain": [
       "<IPython.core.display.HTML object>"
      ]
     },
     "metadata": {},
     "output_type": "display_data"
    },
    {
     "data": {
      "text/html": [
       "<p><b>result</b> <i>7</i></p>"
      ],
      "text/plain": [
       "<IPython.core.display.HTML object>"
      ]
     },
     "metadata": {},
     "output_type": "display_data"
    },
    {
     "data": {
      "text/html": [
       "<div class=\"contnr c2  rtl  \" ><div class=\"lbl c2  \"><span class=\"nd\">verse</span> <a href=\"https://github.com/etcbc/peshitta/blob/master/source/0.1/Esdras_3\" title=\"Esdras_3 9:53\" sec=\"Esdras_3 9:53\"><span class=\"txtn\">53</span></a> </div> <div class=\"children row wrap rtl\"><div class=\"contnr c0 trm rtl  hl\" ><div class=\"lbl c0 trm hl\"> <span class=\"txtu syc\">ܘܠܘ̈ܝܐ </span> </div> <div class=\"meta\"><div class=\"features\"> <span class=\"word_etcbc xft\"><span class=\"f\">word_etcbc=</span>WLW\"J></span></div></div></div><div class=\"contnr c0 trm rtl  \" ><div class=\"lbl c0 trm \"> <span class=\"txtu syc\">ܦܩܕܝܢ </span> </div> <div class=\"meta\"><div class=\"features\"> <span class=\"word_etcbc xft\"><span class=\"f\">word_etcbc=</span>PQDJN</span></div></div></div><div class=\"contnr c0 trm rtl  \" ><div class=\"lbl c0 trm \"> <span class=\"txtu syc\">ܗܘܘ </span> </div> <div class=\"meta\"><div class=\"features\"> <span class=\"word_etcbc xft\"><span class=\"f\">word_etcbc=</span>HWW</span></div></div></div><div class=\"contnr c0 trm rtl  \" ><div class=\"lbl c0 trm \"> <span class=\"txtu syc\">ܠܟܠܗ </span> </div> <div class=\"meta\"><div class=\"features\"> <span class=\"word_etcbc xft\"><span class=\"f\">word_etcbc=</span>LKLH</span></div></div></div><div class=\"contnr c0 trm rtl  \" ><div class=\"lbl c0 trm \"> <span class=\"txtu syc\">ܟܢܫܐ </span> </div> <div class=\"meta\"><div class=\"features\"> <span class=\"word_etcbc xft\"><span class=\"f\">word_etcbc=</span>KNC></span></div></div></div><div class=\"contnr c0 trm rtl  \" ><div class=\"lbl c0 trm \"> <span class=\"txtu syc\">ܟܕ </span> </div> <div class=\"meta\"><div class=\"features\"> <span class=\"word_etcbc xft\"><span class=\"f\">word_etcbc=</span>KD</span></div></div></div><div class=\"contnr c0 trm rtl  hl\" ><div class=\"lbl c0 trm hl\"> <span class=\"txtu syc\">ܐܡ̇ܪܝܢ </span> </div> <div class=\"meta\"><div class=\"features\"> <span class=\"word_etcbc xft\"><span class=\"f\">word_etcbc=</span>>M^RJN</span></div></div></div><div class=\"contnr c0 trm rtl  \" ><div class=\"lbl c0 trm \"> <span class=\"txtu syc\">ܝܘܡܐ </span> </div> <div class=\"meta\"><div class=\"features\"> <span class=\"word_etcbc xft\"><span class=\"f\">word_etcbc=</span>JWM></span></div></div></div><div class=\"contnr c0 trm rtl  \" ><div class=\"lbl c0 trm \"> <span class=\"txtu syc\">ܗܢܐ </span> </div> <div class=\"meta\"><div class=\"features\"> <span class=\"word_etcbc xft\"><span class=\"f\">word_etcbc=</span>HN></span></div></div></div><div class=\"contnr c0 trm rtl  \" ><div class=\"lbl c0 trm \"> <span class=\"txtu syc\">ܩܕܝܫܐ </span> </div> <div class=\"meta\"><div class=\"features\"> <span class=\"word_etcbc xft\"><span class=\"f\">word_etcbc=</span>QDJC></span></div></div></div><div class=\"contnr c0 trm rtl  \" ><div class=\"lbl c0 trm \"> <span class=\"txtu syc\">ܗܘ </span> </div> <div class=\"meta\"><div class=\"features\"> <span class=\"word_etcbc xft\"><span class=\"f\">word_etcbc=</span>HW</span></div></div></div><div class=\"contnr c0 trm rtl  \" ><div class=\"lbl c0 trm \"> <span class=\"txtu syc\">ܠܐ </span> </div> <div class=\"meta\"><div class=\"features\"> <span class=\"word_etcbc xft\"><span class=\"f\">word_etcbc=</span>L></span></div></div></div><div class=\"contnr c0 trm rtl  hl\" ><div class=\"lbl c0 trm hl\"> <span class=\"txtu syc\">ܬܬܥܝܩܘܢ </span> </div> <div class=\"meta\"><div class=\"features\"> <span class=\"word_etcbc xft\"><span class=\"f\">word_etcbc=</span>TT&lt;JQWN</span></div></div></div></div></div>"
      ],
      "text/plain": [
       "<IPython.core.display.HTML object>"
      ]
     },
     "metadata": {},
     "output_type": "display_data"
    },
    {
     "data": {
      "text/html": [
       "<p><b>result</b> <i>8</i></p>"
      ],
      "text/plain": [
       "<IPython.core.display.HTML object>"
      ]
     },
     "metadata": {},
     "output_type": "display_data"
    },
    {
     "data": {
      "text/html": [
       "<div class=\"contnr c2  rtl  \" ><div class=\"lbl c2  \"><span class=\"nd\">verse</span> <a href=\"https://github.com/etcbc/peshitta/blob/master/source/0.1/Esdras_3\" title=\"Esdras_3 9:54\" sec=\"Esdras_3 9:54\"><span class=\"txtn\">54</span></a> </div> <div class=\"children row wrap rtl\"><div class=\"contnr c0 trm rtl  hl\" ><div class=\"lbl c0 trm hl\"> <span class=\"txtu syc\">ܘܐ̇ܙܠܝܢ </span> </div> <div class=\"meta\"><div class=\"features\"> <span class=\"word_etcbc xft\"><span class=\"f\">word_etcbc=</span>W>^ZLJN</span></div></div></div><div class=\"contnr c0 trm rtl  \" ><div class=\"lbl c0 trm \"> <span class=\"txtu syc\">ܗܘܘ </span> </div> <div class=\"meta\"><div class=\"features\"> <span class=\"word_etcbc xft\"><span class=\"f\">word_etcbc=</span>HWW</span></div></div></div><div class=\"contnr c0 trm rtl  \" ><div class=\"lbl c0 trm \"> <span class=\"txtu syc\">ܟܠܗܘܢ </span> </div> <div class=\"meta\"><div class=\"features\"> <span class=\"word_etcbc xft\"><span class=\"f\">word_etcbc=</span>KLHWN</span></div></div></div><div class=\"contnr c0 trm rtl  \" ><div class=\"lbl c0 trm \"> <span class=\"txtu syc\">ܠܡܐܟܠ </span> </div> <div class=\"meta\"><div class=\"features\"> <span class=\"word_etcbc xft\"><span class=\"f\">word_etcbc=</span>LM>KL</span></div></div></div><div class=\"contnr c0 trm rtl  \" ><div class=\"lbl c0 trm \"> <span class=\"txtu syc\">ܘܠܡܫܬܐ̣ </span> </div> <div class=\"meta\"><div class=\"features\"> <span class=\"word_etcbc xft\"><span class=\"f\">word_etcbc=</span>WLMCT>#</span></div></div></div><div class=\"contnr c0 trm rtl  \" ><div class=\"lbl c0 trm \"> <span class=\"txtu syc\">ܘܠܡܬܒܣܡܘ </span> </div> <div class=\"meta\"><div class=\"features\"> <span class=\"word_etcbc xft\"><span class=\"f\">word_etcbc=</span>WLMTBSMW</span></div></div></div><div class=\"contnr c0 trm rtl  \" ><div class=\"lbl c0 trm \"> <span class=\"txtu syc\">ܘܠܡܬܠ </span> </div> <div class=\"meta\"><div class=\"features\"> <span class=\"word_etcbc xft\"><span class=\"f\">word_etcbc=</span>WLMTL</span></div></div></div><div class=\"contnr c0 trm rtl  hl\" ><div class=\"lbl c0 trm hl\"> <span class=\"txtu syc\">ܫܘܕܪ̈ܐ </span> </div> <div class=\"meta\"><div class=\"features\"> <span class=\"word_etcbc xft\"><span class=\"f\">word_etcbc=</span>CWDR\"></span></div></div></div><div class=\"contnr c0 trm rtl  \" ><div class=\"lbl c0 trm \"> <span class=\"txtu syc\">ܠܗ̇ܢܘܢ </span> </div> <div class=\"meta\"><div class=\"features\"> <span class=\"word_etcbc xft\"><span class=\"f\">word_etcbc=</span>LH^NWN</span></div></div></div><div class=\"contnr c0 trm rtl  \" ><div class=\"lbl c0 trm \"> <span class=\"txtu syc\">ܕܠܐ </span> </div> <div class=\"meta\"><div class=\"features\"> <span class=\"word_etcbc xft\"><span class=\"f\">word_etcbc=</span>DL></span></div></div></div><div class=\"contnr c0 trm rtl  \" ><div class=\"lbl c0 trm \"> <span class=\"txtu syc\">ܐܝܬ </span> </div> <div class=\"meta\"><div class=\"features\"> <span class=\"word_etcbc xft\"><span class=\"f\">word_etcbc=</span>>JT</span></div></div></div><div class=\"contnr c0 trm rtl  \" ><div class=\"lbl c0 trm \"> <span class=\"txtu syc\">ܠܗܘܢ </span> </div> <div class=\"meta\"><div class=\"features\"> <span class=\"word_etcbc xft\"><span class=\"f\">word_etcbc=</span>LHWN</span></div></div></div><div class=\"contnr c0 trm rtl  \" ><div class=\"lbl c0 trm \"> <span class=\"txtu syc\">ܘܠܡܚܕܐ </span> </div> <div class=\"meta\"><div class=\"features\"> <span class=\"word_etcbc xft\"><span class=\"f\">word_etcbc=</span>WLMXD></span></div></div></div><div class=\"contnr c0 trm rtl  hl\" ><div class=\"lbl c0 trm hl\"> <span class=\"txtu syc\">ܪܘܪܒܐܝܬ </span> </div> <div class=\"meta\"><div class=\"features\"> <span class=\"word_etcbc xft\"><span class=\"f\">word_etcbc=</span>RWRB>JT</span></div></div></div></div></div>"
      ],
      "text/plain": [
       "<IPython.core.display.HTML object>"
      ]
     },
     "metadata": {},
     "output_type": "display_data"
    },
    {
     "data": {
      "text/html": [
       "<p><b>result</b> <i>9</i></p>"
      ],
      "text/plain": [
       "<IPython.core.display.HTML object>"
      ]
     },
     "metadata": {},
     "output_type": "display_data"
    },
    {
     "data": {
      "text/html": [
       "<div class=\"contnr c2  rtl  \" ><div class=\"lbl c2  \"><span class=\"nd\">verse</span> <a href=\"https://github.com/etcbc/peshitta/blob/master/source/0.1/Esdras_3\" title=\"Esdras_3 9:55\" sec=\"Esdras_3 9:55\"><span class=\"txtn\">55</span></a> </div> <div class=\"children row wrap rtl\"><div class=\"contnr c0 trm rtl  hl\" ><div class=\"lbl c0 trm hl\"> <span class=\"txtu syc\">ܡܛܠ </span> </div> <div class=\"meta\"><div class=\"features\"> <span class=\"word_etcbc xft\"><span class=\"f\">word_etcbc=</span>MVL</span></div></div></div><div class=\"contnr c0 trm rtl  \" ><div class=\"lbl c0 trm \"> <span class=\"txtu syc\">ܓܝܪ </span> </div> <div class=\"meta\"><div class=\"features\"> <span class=\"word_etcbc xft\"><span class=\"f\">word_etcbc=</span>GJR</span></div></div></div><div class=\"contnr c0 trm rtl  \" ><div class=\"lbl c0 trm \"> <span class=\"txtu syc\">ܕܐܬܢܦܚܘ </span> </div> <div class=\"meta\"><div class=\"features\"> <span class=\"word_etcbc xft\"><span class=\"f\">word_etcbc=</span>D>TNPXW</span></div></div></div><div class=\"contnr c0 trm rtl  \" ><div class=\"lbl c0 trm \"> <span class=\"txtu syc\">ܗܘܘ </span> </div> <div class=\"meta\"><div class=\"features\"> <span class=\"word_etcbc xft\"><span class=\"f\">word_etcbc=</span>HWW</span></div></div></div><div class=\"contnr c0 trm rtl  hl\" ><div class=\"lbl c0 trm hl\"> <span class=\"txtu syc\">ܒܡ̈ܠܐ </span> </div> <div class=\"meta\"><div class=\"features\"> <span class=\"word_etcbc xft\"><span class=\"f\">word_etcbc=</span>BM\"L></span></div></div></div><div class=\"contnr c0 trm rtl  \" ><div class=\"lbl c0 trm \"> <span class=\"txtu syc\">ܗܠܝܢ </span> </div> <div class=\"meta\"><div class=\"features\"> <span class=\"word_etcbc xft\"><span class=\"f\">word_etcbc=</span>HLJN</span></div></div></div><div class=\"contnr c0 trm rtl  \" ><div class=\"lbl c0 trm \"> <span class=\"txtu syc\">ܕܝܠܦܘ </span> </div> <div class=\"meta\"><div class=\"features\"> <span class=\"word_etcbc xft\"><span class=\"f\">word_etcbc=</span>DJLPW</span></div></div></div><div class=\"contnr c0 trm rtl  \" ><div class=\"lbl c0 trm \"> <span class=\"txtu syc\">ܗܘܘ </span> </div> <div class=\"meta\"><div class=\"features\"> <span class=\"word_etcbc xft\"><span class=\"f\">word_etcbc=</span>HWW</span></div></div></div><div class=\"contnr c0 trm rtl  hl\" ><div class=\"lbl c0 trm hl\"> <span class=\"txtu syc\">ܘܐܬܟܢ̣ܫܘ </span> </div> <div class=\"meta\"><div class=\"features\"> <span class=\"word_etcbc xft\"><span class=\"f\">word_etcbc=</span>W>TKN#CW</span></div></div></div></div></div>"
      ],
      "text/plain": [
       "<IPython.core.display.HTML object>"
      ]
     },
     "metadata": {},
     "output_type": "display_data"
    }
   ],
   "source": [
    "As.test(multiple)"
   ]
  }
 ],
 "metadata": {
  "kernelspec": {
   "display_name": "Python 3",
   "language": "python",
   "name": "python3"
  },
  "language_info": {
   "codemirror_mode": {
    "name": "ipython",
    "version": 3
   },
   "file_extension": ".py",
   "mimetype": "text/x-python",
   "name": "python",
   "nbconvert_exporter": "python",
   "pygments_lexer": "ipython3",
   "version": "3.7.7"
  }
 },
 "nbformat": 4,
 "nbformat_minor": 4
}
