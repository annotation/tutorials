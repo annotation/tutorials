{
 "cells": [
  {
   "cell_type": "code",
   "execution_count": 1,
   "metadata": {},
   "outputs": [],
   "source": [
    "%load_ext autoreload\n",
    "%autoreload 2"
   ]
  },
  {
   "cell_type": "code",
   "execution_count": 2,
   "metadata": {},
   "outputs": [],
   "source": [
    "from itertools import chain\n",
    "from tf.applib.helpers import dm\n",
    "from fixture import TestApp"
   ]
  },
  {
   "cell_type": "code",
   "execution_count": 3,
   "metadata": {},
   "outputs": [],
   "source": [
    "As = TestApp()"
   ]
  },
  {
   "cell_type": "code",
   "execution_count": 4,
   "metadata": {},
   "outputs": [
    {
     "name": "stdout",
     "output_type": "stream",
     "text": [
      "Using TF-app in /Users/dirk/github/annotation/app-banks/code:\n",
      "\trepo clone offline under ~/github (local github)\n",
      "Using data in /Users/dirk/github/annotation/banks/tf/0.2:\n",
      "\trepo clone offline under ~/github (local github)\n"
     ]
    },
    {
     "data": {
      "text/html": [
       "<b>Documentation:</b> <a target=\"_blank\" href=\"https://nbviewer.jupyter.org/github/annotation/banks/blob/master/programs/convert.ipynb\" title=\"provenance of Two quotes from Consider Phlebas by Iain M. Banks\">BANKS</a> <a target=\"_blank\" href=\"https://nbviewer.jupyter.org/github/annotation/banks/blob/master/programs/convert.ipynb\" title=\"How TF features represent text\">Character table</a> <a target=\"_blank\" href=\"https://nbviewer.jupyter.org/github/annotation/banks/blob/master/programs/convert.ipynb\" title=\"BANKS feature documentation\">Feature docs</a> <a target=\"_blank\" href=\"https://github.com/annotation/app-banks\" title=\"banks API documentation\">banks API</a> <a target=\"_blank\" href=\"https://annotation.github.io/text-fabric/Api/Fabric/\" title=\"text-fabric-api\">Text-Fabric API 8.0.0</a> <a target=\"_blank\" href=\"https://annotation.github.io/text-fabric/Use/Search/\" title=\"Search Templates Introduction and Reference\">Search Reference</a><details open><summary><b>Loaded features</b>:</summary>\n",
       "<p><b>Two quotes from Consider Phlebas by Iain M. Banks</b>: <a target=\"_blank\" href=\"https://nbviewer.jupyter.org/github/annotation/banks/blob/master/programs/convert.ipynb\" title=\"/Users/dirk/github/annotation/banks/tf/0.2/author.tf\">author</a>  <a target=\"_blank\" href=\"https://nbviewer.jupyter.org/github/annotation/banks/blob/master/programs/convert.ipynb\" title=\"/Users/dirk/github/annotation/banks/tf/0.2/gap.tf\">gap</a>  <a target=\"_blank\" href=\"https://nbviewer.jupyter.org/github/annotation/banks/blob/master/programs/convert.ipynb\" title=\"/Users/dirk/github/annotation/banks/tf/0.2/letters.tf\">letters</a>  <a target=\"_blank\" href=\"https://nbviewer.jupyter.org/github/annotation/banks/blob/master/programs/convert.ipynb\" title=\"/Users/dirk/github/annotation/banks/tf/0.2/number.tf\">number</a>  <a target=\"_blank\" href=\"https://nbviewer.jupyter.org/github/annotation/banks/blob/master/programs/convert.ipynb\" title=\"/Users/dirk/github/annotation/banks/tf/0.2/otype.tf\">otype</a>  <a target=\"_blank\" href=\"https://nbviewer.jupyter.org/github/annotation/banks/blob/master/programs/convert.ipynb\" title=\"/Users/dirk/github/annotation/banks/tf/0.2/punc.tf\">punc</a>  <a target=\"_blank\" href=\"https://nbviewer.jupyter.org/github/annotation/banks/blob/master/programs/convert.ipynb\" title=\"/Users/dirk/github/annotation/banks/tf/0.2/terminator.tf\">terminator</a>  <a target=\"_blank\" href=\"https://nbviewer.jupyter.org/github/annotation/banks/blob/master/programs/convert.ipynb\" title=\"/Users/dirk/github/annotation/banks/tf/0.2/title.tf\">title</a>  <b><i><a target=\"_blank\" href=\"https://nbviewer.jupyter.org/github/annotation/banks/blob/master/programs/convert.ipynb\" title=\"/Users/dirk/github/annotation/banks/tf/0.2/oslots.tf\">oslots</a></i></b> </p></details>"
      ],
      "text/plain": [
       "<IPython.core.display.HTML object>"
      ]
     },
     "metadata": {},
     "output_type": "display_data"
    },
    {
     "data": {
      "text/html": [
       "<style>\n",
       "@font-face {\n",
       "  font-family: \"Gentium\";\n",
       "  src:\n",
       "    local(\"GentiumPlus-R.ttf\"),\n",
       "    url(\"https://github.com/annotation/text-fabric/blob/master/tf/server/static/fonts/GentiumPlus-R.woff?raw=true\");\n",
       "}\n",
       "\n",
       "tr.tf, td.tf, th.tf {\n",
       "  text-align: left ! important;\n",
       "}\n",
       "\n",
       "/* neutral text */\n",
       ".txtn,.txtn a:visited,.txtn a:link {\n",
       "    font-family: sans-serif;\n",
       "    font-size: medium;\n",
       "    direction: ltr;\n",
       "    text-decoration: none;\n",
       "}\n",
       "/* transcription text */\n",
       ".txtt,.txtt a:visited,.txtt a:link {\n",
       "    font-family: monospace;\n",
       "    font-size: medium;\n",
       "    direction: ltr;\n",
       "    text-decoration: none;\n",
       "}\n",
       "/* source text */\n",
       ".txto,.txto a:visited,.txto a:link {\n",
       "    font-family: serif;\n",
       "    font-size: medium;\n",
       "    direction: ltr;\n",
       "    text-decoration: none;\n",
       "}\n",
       "/* phonetic text */\n",
       ".txtp,.txtp a:visited,.txtp a:link {\n",
       "    font-family: Gentium, sans-serif;\n",
       "    font-size: large;\n",
       "    direction: ltr;\n",
       "    text-decoration: none;\n",
       "}\n",
       "/* original script text */\n",
       ".txtu,.txtu a:visited,.txtu a:link {\n",
       "    font-family: Gentium, sans-serif;\n",
       "    font-size: large;\n",
       "    text-decoration: none;\n",
       "}\n",
       "/* hebrew */\n",
       ".txtu.hbo,.lex.hbo,.txtu.hbo a:visited,.txtu.hbo a:link {\n",
       "    font-family: \"Ezra SIL\", \"SBL Hebrew\", sans-serif;\n",
       "    font-size: x-large;\n",
       "    direction: rtl;\n",
       "    unicode-bidi: embed;\n",
       "}\n",
       "/* syriac */\n",
       ".txtu.syc,.lex.syc,.txtu.syc a:visited,.txtu.syc a:link {\n",
       "    font-family: \"Estrangelo Edessa\", sans-serif;\n",
       "    font-size: large;\n",
       "    direction: rtl;\n",
       "    unicode-bidi: embed;\n",
       "}\n",
       "/* neo aramaic */\n",
       ".txtu.cld,.lex.cld,.txtu.cld a:visited,.txtu.cld a:link {\n",
       "    font-family: \"CharisSIL-R\", sans-serif;\n",
       "    font-size: medium;\n",
       "    direction: rtl;\n",
       "    unicode-bidi: embed;\n",
       "}\n",
       "/* standard arabic */\n",
       ".txtu.ara,.lex.ara,.txtu.ara a:visited,.txtu.ara a:link {\n",
       "    font-family: \"AmiriQuran\", sans-serif;\n",
       "    font-size: large;\n",
       "    direction: rtl;\n",
       "    unicode-bidi: embed;\n",
       "}\n",
       "/* cuneiform */\n",
       ".txtu.cun,.lex.cun,.txtu.cun a:visited,.txtu.cun a:link {\n",
       "    font-family: Santakku, sans-serif;\n",
       "    font-size: x-large;\n",
       "    direction: ltr;\n",
       "    unicode-bidi: embed;\n",
       "}\n",
       "/* greek */\n",
       ".txtu.grc,.lex.grc,.txtu.grc a:visited,.txtu.grc a:link {\n",
       "    font-family: Gentium, sans-serif;\n",
       "    font-size: medium;\n",
       "    direction: ltr;\n",
       "    unicode-bidi: embed;\n",
       "}\n",
       "a:hover {\n",
       "    text-decoration: underline | important;\n",
       "    color: #0000ff | important;\n",
       "}\n",
       ".ltr {\n",
       "    direction: ltr ! important;\n",
       "}\n",
       ".rtl {\n",
       "    direction: rtl ! important;\n",
       "}\n",
       "span.plain {\n",
       "    display: inline-block;\n",
       "    white-space: pre-wrap;\n",
       "    text-align: start;\n",
       "}\n",
       ".features {\n",
       "    font-family: monospace;\n",
       "    font-size: medium;\n",
       "    font-weight: bold;\n",
       "    color: var(--features);\n",
       "    display: flex;\n",
       "    flex-flow: column nowrap;\n",
       "    justify-content: flex-start;\n",
       "    align-items: flex-start;\n",
       "    align-content: flex-start;\n",
       "    padding: 0.1rem;\n",
       "    margin: 0.1rem;\n",
       "    direction: ltr;\n",
       "}\n",
       ".features div,.features span {\n",
       "    padding: 0;\n",
       "    margin: -0.1rem 0;\n",
       "}\n",
       ".features .f {\n",
       "    font-family: sans-serif;\n",
       "    font-size: x-small;\n",
       "    font-weight: normal;\n",
       "    color: #5555bb;\n",
       "}\n",
       ".features .xft {\n",
       "  color: #000000;\n",
       "  background-color: #eeeeee;\n",
       "  font-size: medium;\n",
       "  margin: 0.1rem 0rem;\n",
       "}\n",
       ".features .xft .f {\n",
       "  color: #000000;\n",
       "  background-color: #eeeeee;\n",
       "  font-style: italic;\n",
       "  font-size: small;\n",
       "  font-weight: normal;\n",
       "}\n",
       ".psg {\n",
       "    font-family: sans-serif;\n",
       "    font-size: small;\n",
       "    font-weight: bold;\n",
       "    color: var(--passage);\n",
       "}\n",
       ".comments {\n",
       "    display: flex;\n",
       "    justify-content: flex-start;\n",
       "    align-items: flex-start;\n",
       "    align-content: flex-start;\n",
       "    flex-flow: column nowrap;\n",
       "}\n",
       ".meta {\n",
       "    display: flex;\n",
       "    justify-content: flex-start;\n",
       "    align-items: flex-start;\n",
       "    align-content: flex-start;\n",
       "    flex-flow: row nowrap;\n",
       "    border: var(--meta-width) solid var(--meta-color);\n",
       "    border-radius: var(--meta-width);\n",
       "}\n",
       ".nd {\n",
       "    font-family: sans-serif;\n",
       "    font-size: x-small;\n",
       "    color: var(--node);\n",
       "    vertical-align: super;\n",
       "}\n",
       ".verse {\n",
       "    display: flex;\n",
       "    flex-flow: row wrap;\n",
       "    direction: rtl;\n",
       "}\n",
       ".vl {\n",
       "    display: flex;\n",
       "    flex-flow: column nowrap;\n",
       "    justify-content: flex-end;\n",
       "    align-items: flex-end;\n",
       "    direction: ltr;\n",
       "    width: 100%;\n",
       "}\n",
       ".vn {\n",
       "  font-size: small !important;\n",
       "  padding-right: 1rem;\n",
       "}\n",
       ".lex {\n",
       "  color: var(--lex-color);;\n",
       "}\n",
       ".children,.children.ltr {\n",
       "    display: flex;\n",
       "    border: 0;\n",
       "    background-color: #ffffff;\n",
       "    justify-content: flex-start;\n",
       "    align-items: flex-start;\n",
       "    align-content: flex-start;\n",
       "}\n",
       ".children.row.rtl {\n",
       "    justify-content: flex-end;\n",
       "    align-items: flex-start;\n",
       "    align-content: flex-start;\n",
       "}\n",
       ".children.col.rtl {\n",
       "    justify-content: flex-start;\n",
       "    align-items: flex-end;\n",
       "    align-content: flex-end;\n",
       "}\n",
       ".children.stretch {\n",
       "    align-items: stretch;\n",
       "}\n",
       ".children.row {\n",
       "    flex-flow: row nowrap;\n",
       "}\n",
       ".children.row.wrap {\n",
       "    flex-flow: row wrap;\n",
       "}\n",
       ".children.col {\n",
       "    flex-flow: column nowrap;\n",
       "}\n",
       ".children.col.wrap {\n",
       "    flex-flow: column wrap;\n",
       "}\n",
       ".contnr {\n",
       "    width: fit-content;\n",
       "    display: flex;\n",
       "    justify-content: flex-start;\n",
       "    align-items: flex-start;\n",
       "    align-content: flex-start;\n",
       "    flex-flow: column nowrap;\n",
       "    background: #ffffff none repeat scroll 0 0;\n",
       "    padding:  0.5rem 0.1rem 0.1rem 0.1rem;\n",
       "    margin: 0.8rem 0.1rem 0.1rem 0.1rem;\n",
       "    border-style: solid;\n",
       "    font-size: small;\n",
       "}\n",
       ".contnr.trm {\n",
       "    background-attachment: local;\n",
       "}\n",
       ".contnr.c0,.lbl.c0 {\n",
       "    border-color: var(--border-color0);\n",
       "    border-width: var(--border-width0);\n",
       "    border-radius: var(--border-width0);\n",
       "}\n",
       ".contnr.c1,.lbl.c1 {\n",
       "    border-color: var(--border-color1);\n",
       "    border-width: var(--border-width1);\n",
       "    border-radius: var(--border-width1);\n",
       "}\n",
       ".contnr.c2,.lbl.c2 {\n",
       "    border-color: var(--border-color2);\n",
       "    border-width: var(--border-width2);\n",
       "    border-radius: var(--border-width2);\n",
       "}\n",
       ".contnr.c3,.lbl.c3 {\n",
       "    border-color: var(--border-color3);\n",
       "    border-width: var(--border-width3);\n",
       "    border-radius: var(--border-width3);\n",
       "}\n",
       ".lbl {\n",
       "    margin-top: -1.2rem;\n",
       "    margin-left: 1rem;\n",
       "    background: #ffffff none repeat scroll 0 0;\n",
       "    padding: 0 0.3rem;\n",
       "    border-style: solid;\n",
       "    display: block;\n",
       "    color: var(--label)\n",
       "}\n",
       ".lbl.trm {\n",
       "    background-attachment: local;\n",
       "    margin-top: 0.1rem;\n",
       "    margin-left: 0.1rem;\n",
       "    padding: 0.1rem 0.1rem;\n",
       "    border-style: none;\n",
       "}\n",
       ".lbl.c0 {\n",
       "    font-size: small;\n",
       "}\n",
       ".lbl.c1 {\n",
       "    font-size: small;\n",
       "}\n",
       ".lbl.c2 {\n",
       "    font-size: normal;\n",
       "}\n",
       ".lbl.c3 {\n",
       "    font-size: normal;\n",
       "}\n",
       ".occs {\n",
       "    font-size: x-small;\n",
       "}\n",
       "\n",
       ":root {\n",
       "\t--node:             hsla(120, 100%,  30%, 1.0  );\n",
       "\t--label:            hsla(  0, 100%,  20%, 1.0  );\n",
       "\t--passage:          hsla(  0, 100%,  25%, 1.0  );\n",
       "\t--features:         hsla(  0,   0%,  30%, 1.0  );\n",
       "  --lex-color:        hsla(220,  90%,  60%, 1.0  );\n",
       "  --meta-color:       hsla(  0,   0%,  90%, 0.7  );\n",
       "  --meta-width:       0.15rem;\n",
       "  --border-color0:    hsla(  0,   0%,  90%, 0.9  );\n",
       "  --border-color1:    hsla(  0,   0%,  80%, 0.9  );\n",
       "  --border-color2:    hsla(  0,   0%,  60%, 0.9  );\n",
       "  --border-color3:    hsla(  0,   0%,  40%, 0.9  );\n",
       "  --border-width0:    0.1rem;\n",
       "  --border-width1:    0.15rem;\n",
       "  --border-width2:    0.2rem;\n",
       "  --border-width2:    0.3rem;\n",
       "}\n",
       ".hl {\n",
       "  background-color: var(--hl-strong);\n",
       "}\n",
       "span.hl {\n",
       "\tbackground-color: var(--hl-strong);\n",
       "\tborder-width: 0;\n",
       "\tborder-radius: 0.1rem;\n",
       "\tborder-style: solid;\n",
       "}\n",
       "div.contnr.hl,div.lbl.hl {\n",
       "    background-color: var(--hl-strong);\n",
       "}\n",
       "\n",
       "span.hlbx {\n",
       "\tborder-color: var(--hl-rim);\n",
       "\tborder-width: 0.2rem;\n",
       "\tborder-style: solid;\n",
       "\tborder-radius: 0.3rem;\n",
       "  padding: 0.2rem;\n",
       "  margin: 0.2rem;\n",
       "}\n",
       "\n",
       "span.plain {\n",
       "  display: inline-block;\n",
       "  white-space: pre-wrap;\n",
       "}\n",
       "\n",
       ":root {\n",
       "\t--hl-strong:        hsla( 60, 100%,  70%, 0.9  );\n",
       "\t--hl-rim:           hsla( 55,  80%,  50%, 1.0  );\n",
       "}\n",
       ".title {\n",
       "    font-family: sans-serif;\n",
       "    font-size: small;\n",
       "    font-weight: bold;\n",
       "    color: #444444;\n",
       "}\n",
       ".text {\n",
       "    font-family: sans-serif;\n",
       "    font-size: x-small;\n",
       "    color: #000000;\n",
       "}\n",
       ".gap {\n",
       "    color: red;\n",
       "}\n",
       "</style>"
      ],
      "text/plain": [
       "<IPython.core.display.HTML object>"
      ]
     },
     "metadata": {},
     "output_type": "display_data"
    },
    {
     "name": "stdout",
     "output_type": "stream",
     "text": [
      "Using TF-app in /Users/dirk/github/annotation/app-athenaeus/code:\n",
      "\trepo clone offline under ~/github (local github)\n",
      "Using data in /Users/dirk/github/pthu/athenaeus/Athenaeus/Deipnosophistae/tf/1.1:\n",
      "\trepo clone offline under ~/github (local github)\n"
     ]
    },
    {
     "data": {
      "text/html": [
       "<b>Documentation:</b> <a target=\"_blank\" href=\"https://nbviewer.jupyter.org/github/pthu/patristics/blob/master/docs/transcription.md\" title=\"provenance of The Deipnosophistae by Athenaeus\">ATHENAEUS</a> <a target=\"_blank\" href=\"https://nbviewer.jupyter.org/github/pthu/patristics/blob/master/docs/transcription.md\" title=\"How TF features represent text\">Character table</a> <a target=\"_blank\" href=\"https://nbviewer.jupyter.org/github/pthu/patristics/blob/master/docs/transcription.md\" title=\"ATHENAEUS feature documentation\">Feature docs</a> <a target=\"_blank\" href=\"https://github.com/annotation/app-athenaeus\" title=\"athenaeus API documentation\">athenaeus API</a> <a target=\"_blank\" href=\"https://annotation.github.io/text-fabric/Api/Fabric/\" title=\"text-fabric-api\">Text-Fabric API 8.0.0</a> <a target=\"_blank\" href=\"https://annotation.github.io/text-fabric/Use/Search/\" title=\"Search Templates Introduction and Reference\">Search Reference</a><details open><summary><b>Loaded features</b>:</summary>\n",
       "<p><b>The Deipnosophistae by Athenaeus</b>: <a target=\"_blank\" href=\"https://nbviewer.jupyter.org/github/pthu/patristics/blob/master/docs/transcription.md\" title=\"/Users/dirk/github/pthu/athenaeus/Athenaeus/Deipnosophistae/tf/1.1/_book.tf\">_book</a>  <a target=\"_blank\" href=\"https://nbviewer.jupyter.org/github/pthu/patristics/blob/master/docs/transcription.md\" title=\"/Users/dirk/github/pthu/athenaeus/Athenaeus/Deipnosophistae/tf/1.1/_sentence.tf\">_sentence</a>  <a target=\"_blank\" href=\"https://nbviewer.jupyter.org/github/pthu/patristics/blob/master/docs/transcription.md\" title=\"/Users/dirk/github/pthu/athenaeus/Athenaeus/Deipnosophistae/tf/1.1/add.tf\">add</a>  <a target=\"_blank\" href=\"https://nbviewer.jupyter.org/github/pthu/patristics/blob/master/docs/transcription.md\" title=\"/Users/dirk/github/pthu/athenaeus/Athenaeus/Deipnosophistae/tf/1.1/beta_plain.tf\">beta_plain</a>  <a target=\"_blank\" href=\"https://nbviewer.jupyter.org/github/pthu/patristics/blob/master/docs/transcription.md\" title=\"/Users/dirk/github/pthu/athenaeus/Athenaeus/Deipnosophistae/tf/1.1/bibl.tf\">bibl</a>  <a target=\"_blank\" href=\"https://nbviewer.jupyter.org/github/pthu/patristics/blob/master/docs/transcription.md\" title=\"/Users/dirk/github/pthu/athenaeus/Athenaeus/Deipnosophistae/tf/1.1/book.tf\">book</a>  <a target=\"_blank\" href=\"https://nbviewer.jupyter.org/github/pthu/patristics/blob/master/docs/transcription.md\" title=\"/Users/dirk/github/pthu/athenaeus/Athenaeus/Deipnosophistae/tf/1.1/chapter.tf\">chapter</a>  <a target=\"_blank\" href=\"https://nbviewer.jupyter.org/github/pthu/patristics/blob/master/docs/transcription.md\" title=\"/Users/dirk/github/pthu/athenaeus/Athenaeus/Deipnosophistae/tf/1.1/cit.tf\">cit</a>  <a target=\"_blank\" href=\"https://nbviewer.jupyter.org/github/pthu/patristics/blob/master/docs/transcription.md\" title=\"/Users/dirk/github/pthu/athenaeus/Athenaeus/Deipnosophistae/tf/1.1/head.tf\">head</a>  <a target=\"_blank\" href=\"https://nbviewer.jupyter.org/github/pthu/patristics/blob/master/docs/transcription.md\" title=\"/Users/dirk/github/pthu/athenaeus/Athenaeus/Deipnosophistae/tf/1.1/hi.tf\">hi</a>  <a target=\"_blank\" href=\"https://nbviewer.jupyter.org/github/pthu/patristics/blob/master/docs/transcription.md\" title=\"/Users/dirk/github/pthu/athenaeus/Athenaeus/Deipnosophistae/tf/1.1/l.tf\">l</a>  <a target=\"_blank\" href=\"https://nbviewer.jupyter.org/github/pthu/patristics/blob/master/docs/transcription.md\" title=\"/Users/dirk/github/pthu/athenaeus/Athenaeus/Deipnosophistae/tf/1.1/lemma.tf\">lemma</a>  <a target=\"_blank\" href=\"https://nbviewer.jupyter.org/github/pthu/patristics/blob/master/docs/transcription.md\" title=\"/Users/dirk/github/pthu/athenaeus/Athenaeus/Deipnosophistae/tf/1.1/main.tf\">main</a>  <a target=\"_blank\" href=\"https://nbviewer.jupyter.org/github/pthu/patristics/blob/master/docs/transcription.md\" title=\"/Users/dirk/github/pthu/athenaeus/Athenaeus/Deipnosophistae/tf/1.1/norm.tf\">norm</a>  <a target=\"_blank\" href=\"https://nbviewer.jupyter.org/github/pthu/patristics/blob/master/docs/transcription.md\" title=\"/Users/dirk/github/pthu/athenaeus/Athenaeus/Deipnosophistae/tf/1.1/num.tf\">num</a>  <a target=\"_blank\" href=\"https://nbviewer.jupyter.org/github/pthu/patristics/blob/master/docs/transcription.md\" title=\"/Users/dirk/github/pthu/athenaeus/Athenaeus/Deipnosophistae/tf/1.1/orig.tf\">orig</a>  <a target=\"_blank\" href=\"https://nbviewer.jupyter.org/github/pthu/patristics/blob/master/docs/transcription.md\" title=\"/Users/dirk/github/pthu/athenaeus/Athenaeus/Deipnosophistae/tf/1.1/otype.tf\">otype</a>  <a target=\"_blank\" href=\"https://nbviewer.jupyter.org/github/pthu/patristics/blob/master/docs/transcription.md\" title=\"/Users/dirk/github/pthu/athenaeus/Athenaeus/Deipnosophistae/tf/1.1/p.tf\">p</a>  <a target=\"_blank\" href=\"https://nbviewer.jupyter.org/github/pthu/patristics/blob/master/docs/transcription.md\" title=\"/Users/dirk/github/pthu/athenaeus/Athenaeus/Deipnosophistae/tf/1.1/pb.tf\">pb</a>  <a target=\"_blank\" href=\"https://nbviewer.jupyter.org/github/pthu/patristics/blob/master/docs/transcription.md\" title=\"/Users/dirk/github/pthu/athenaeus/Athenaeus/Deipnosophistae/tf/1.1/plain.tf\">plain</a>  <a target=\"_blank\" href=\"https://nbviewer.jupyter.org/github/pthu/patristics/blob/master/docs/transcription.md\" title=\"/Users/dirk/github/pthu/athenaeus/Athenaeus/Deipnosophistae/tf/1.1/post.tf\">post</a>  <a target=\"_blank\" href=\"https://nbviewer.jupyter.org/github/pthu/patristics/blob/master/docs/transcription.md\" title=\"/Users/dirk/github/pthu/athenaeus/Athenaeus/Deipnosophistae/tf/1.1/pre.tf\">pre</a>  <a target=\"_blank\" href=\"https://nbviewer.jupyter.org/github/pthu/patristics/blob/master/docs/transcription.md\" title=\"/Users/dirk/github/pthu/athenaeus/Athenaeus/Deipnosophistae/tf/1.1/quote.tf\">quote</a>  <b><i><a target=\"_blank\" href=\"https://nbviewer.jupyter.org/github/pthu/patristics/blob/master/docs/transcription.md\" title=\"/Users/dirk/github/pthu/athenaeus/Athenaeus/Deipnosophistae/tf/1.1/oslots.tf\">oslots</a></i></b> </p></details>"
      ],
      "text/plain": [
       "<IPython.core.display.HTML object>"
      ]
     },
     "metadata": {},
     "output_type": "display_data"
    },
    {
     "data": {
      "text/html": [
       "<style>\n",
       "@font-face {\n",
       "  font-family: \"Gentium\";\n",
       "  src:\n",
       "    local(\"GentiumPlus-R.ttf\"),\n",
       "    url(\"https://github.com/annotation/text-fabric/blob/master/tf/server/static/fonts/GentiumPlus-R.woff?raw=true\");\n",
       "}\n",
       "\n",
       "tr.tf, td.tf, th.tf {\n",
       "  text-align: left ! important;\n",
       "}\n",
       "\n",
       "/* neutral text */\n",
       ".txtn,.txtn a:visited,.txtn a:link {\n",
       "    font-family: sans-serif;\n",
       "    font-size: medium;\n",
       "    direction: ltr;\n",
       "    text-decoration: none;\n",
       "}\n",
       "/* transcription text */\n",
       ".txtt,.txtt a:visited,.txtt a:link {\n",
       "    font-family: monospace;\n",
       "    font-size: medium;\n",
       "    direction: ltr;\n",
       "    text-decoration: none;\n",
       "}\n",
       "/* source text */\n",
       ".txto,.txto a:visited,.txto a:link {\n",
       "    font-family: serif;\n",
       "    font-size: medium;\n",
       "    direction: ltr;\n",
       "    text-decoration: none;\n",
       "}\n",
       "/* phonetic text */\n",
       ".txtp,.txtp a:visited,.txtp a:link {\n",
       "    font-family: Gentium, sans-serif;\n",
       "    font-size: large;\n",
       "    direction: ltr;\n",
       "    text-decoration: none;\n",
       "}\n",
       "/* original script text */\n",
       ".txtu,.txtu a:visited,.txtu a:link {\n",
       "    font-family: Gentium, sans-serif;\n",
       "    font-size: large;\n",
       "    text-decoration: none;\n",
       "}\n",
       "/* hebrew */\n",
       ".txtu.hbo,.lex.hbo,.txtu.hbo a:visited,.txtu.hbo a:link {\n",
       "    font-family: \"Ezra SIL\", \"SBL Hebrew\", sans-serif;\n",
       "    font-size: x-large;\n",
       "    direction: rtl;\n",
       "    unicode-bidi: embed;\n",
       "}\n",
       "/* syriac */\n",
       ".txtu.syc,.lex.syc,.txtu.syc a:visited,.txtu.syc a:link {\n",
       "    font-family: \"Estrangelo Edessa\", sans-serif;\n",
       "    font-size: large;\n",
       "    direction: rtl;\n",
       "    unicode-bidi: embed;\n",
       "}\n",
       "/* neo aramaic */\n",
       ".txtu.cld,.lex.cld,.txtu.cld a:visited,.txtu.cld a:link {\n",
       "    font-family: \"CharisSIL-R\", sans-serif;\n",
       "    font-size: medium;\n",
       "    direction: rtl;\n",
       "    unicode-bidi: embed;\n",
       "}\n",
       "/* standard arabic */\n",
       ".txtu.ara,.lex.ara,.txtu.ara a:visited,.txtu.ara a:link {\n",
       "    font-family: \"AmiriQuran\", sans-serif;\n",
       "    font-size: large;\n",
       "    direction: rtl;\n",
       "    unicode-bidi: embed;\n",
       "}\n",
       "/* cuneiform */\n",
       ".txtu.cun,.lex.cun,.txtu.cun a:visited,.txtu.cun a:link {\n",
       "    font-family: Santakku, sans-serif;\n",
       "    font-size: x-large;\n",
       "    direction: ltr;\n",
       "    unicode-bidi: embed;\n",
       "}\n",
       "/* greek */\n",
       ".txtu.grc,.lex.grc,.txtu.grc a:visited,.txtu.grc a:link {\n",
       "    font-family: Gentium, sans-serif;\n",
       "    font-size: medium;\n",
       "    direction: ltr;\n",
       "    unicode-bidi: embed;\n",
       "}\n",
       "a:hover {\n",
       "    text-decoration: underline | important;\n",
       "    color: #0000ff | important;\n",
       "}\n",
       ".ltr {\n",
       "    direction: ltr ! important;\n",
       "}\n",
       ".rtl {\n",
       "    direction: rtl ! important;\n",
       "}\n",
       "span.plain {\n",
       "    display: inline-block;\n",
       "    white-space: pre-wrap;\n",
       "    text-align: start;\n",
       "}\n",
       ".features {\n",
       "    font-family: monospace;\n",
       "    font-size: medium;\n",
       "    font-weight: bold;\n",
       "    color: var(--features);\n",
       "    display: flex;\n",
       "    flex-flow: column nowrap;\n",
       "    justify-content: flex-start;\n",
       "    align-items: flex-start;\n",
       "    align-content: flex-start;\n",
       "    padding: 0.1rem;\n",
       "    margin: 0.1rem;\n",
       "    direction: ltr;\n",
       "}\n",
       ".features div,.features span {\n",
       "    padding: 0;\n",
       "    margin: -0.1rem 0;\n",
       "}\n",
       ".features .f {\n",
       "    font-family: sans-serif;\n",
       "    font-size: x-small;\n",
       "    font-weight: normal;\n",
       "    color: #5555bb;\n",
       "}\n",
       ".features .xft {\n",
       "  color: #000000;\n",
       "  background-color: #eeeeee;\n",
       "  font-size: medium;\n",
       "  margin: 0.1rem 0rem;\n",
       "}\n",
       ".features .xft .f {\n",
       "  color: #000000;\n",
       "  background-color: #eeeeee;\n",
       "  font-style: italic;\n",
       "  font-size: small;\n",
       "  font-weight: normal;\n",
       "}\n",
       ".psg {\n",
       "    font-family: sans-serif;\n",
       "    font-size: small;\n",
       "    font-weight: bold;\n",
       "    color: var(--passage);\n",
       "}\n",
       ".comments {\n",
       "    display: flex;\n",
       "    justify-content: flex-start;\n",
       "    align-items: flex-start;\n",
       "    align-content: flex-start;\n",
       "    flex-flow: column nowrap;\n",
       "}\n",
       ".meta {\n",
       "    display: flex;\n",
       "    justify-content: flex-start;\n",
       "    align-items: flex-start;\n",
       "    align-content: flex-start;\n",
       "    flex-flow: row nowrap;\n",
       "    border: var(--meta-width) solid var(--meta-color);\n",
       "    border-radius: var(--meta-width);\n",
       "}\n",
       ".nd {\n",
       "    font-family: sans-serif;\n",
       "    font-size: x-small;\n",
       "    color: var(--node);\n",
       "    vertical-align: super;\n",
       "}\n",
       ".verse {\n",
       "    display: flex;\n",
       "    flex-flow: row wrap;\n",
       "    direction: rtl;\n",
       "}\n",
       ".vl {\n",
       "    display: flex;\n",
       "    flex-flow: column nowrap;\n",
       "    justify-content: flex-end;\n",
       "    align-items: flex-end;\n",
       "    direction: ltr;\n",
       "    width: 100%;\n",
       "}\n",
       ".vn {\n",
       "  font-size: small !important;\n",
       "  padding-right: 1rem;\n",
       "}\n",
       ".lex {\n",
       "  color: var(--lex-color);;\n",
       "}\n",
       ".children,.children.ltr {\n",
       "    display: flex;\n",
       "    border: 0;\n",
       "    background-color: #ffffff;\n",
       "    justify-content: flex-start;\n",
       "    align-items: flex-start;\n",
       "    align-content: flex-start;\n",
       "}\n",
       ".children.row.rtl {\n",
       "    justify-content: flex-end;\n",
       "    align-items: flex-start;\n",
       "    align-content: flex-start;\n",
       "}\n",
       ".children.col.rtl {\n",
       "    justify-content: flex-start;\n",
       "    align-items: flex-end;\n",
       "    align-content: flex-end;\n",
       "}\n",
       ".children.stretch {\n",
       "    align-items: stretch;\n",
       "}\n",
       ".children.row {\n",
       "    flex-flow: row nowrap;\n",
       "}\n",
       ".children.row.wrap {\n",
       "    flex-flow: row wrap;\n",
       "}\n",
       ".children.col {\n",
       "    flex-flow: column nowrap;\n",
       "}\n",
       ".children.col.wrap {\n",
       "    flex-flow: column wrap;\n",
       "}\n",
       ".contnr {\n",
       "    width: fit-content;\n",
       "    display: flex;\n",
       "    justify-content: flex-start;\n",
       "    align-items: flex-start;\n",
       "    align-content: flex-start;\n",
       "    flex-flow: column nowrap;\n",
       "    background: #ffffff none repeat scroll 0 0;\n",
       "    padding:  0.5rem 0.1rem 0.1rem 0.1rem;\n",
       "    margin: 0.8rem 0.1rem 0.1rem 0.1rem;\n",
       "    border-style: solid;\n",
       "    font-size: small;\n",
       "}\n",
       ".contnr.trm {\n",
       "    background-attachment: local;\n",
       "}\n",
       ".contnr.c0,.lbl.c0 {\n",
       "    border-color: var(--border-color0);\n",
       "    border-width: var(--border-width0);\n",
       "    border-radius: var(--border-width0);\n",
       "}\n",
       ".contnr.c1,.lbl.c1 {\n",
       "    border-color: var(--border-color1);\n",
       "    border-width: var(--border-width1);\n",
       "    border-radius: var(--border-width1);\n",
       "}\n",
       ".contnr.c2,.lbl.c2 {\n",
       "    border-color: var(--border-color2);\n",
       "    border-width: var(--border-width2);\n",
       "    border-radius: var(--border-width2);\n",
       "}\n",
       ".contnr.c3,.lbl.c3 {\n",
       "    border-color: var(--border-color3);\n",
       "    border-width: var(--border-width3);\n",
       "    border-radius: var(--border-width3);\n",
       "}\n",
       ".lbl {\n",
       "    margin-top: -1.2rem;\n",
       "    margin-left: 1rem;\n",
       "    background: #ffffff none repeat scroll 0 0;\n",
       "    padding: 0 0.3rem;\n",
       "    border-style: solid;\n",
       "    display: block;\n",
       "    color: var(--label)\n",
       "}\n",
       ".lbl.trm {\n",
       "    background-attachment: local;\n",
       "    margin-top: 0.1rem;\n",
       "    margin-left: 0.1rem;\n",
       "    padding: 0.1rem 0.1rem;\n",
       "    border-style: none;\n",
       "}\n",
       ".lbl.c0 {\n",
       "    font-size: small;\n",
       "}\n",
       ".lbl.c1 {\n",
       "    font-size: small;\n",
       "}\n",
       ".lbl.c2 {\n",
       "    font-size: normal;\n",
       "}\n",
       ".lbl.c3 {\n",
       "    font-size: normal;\n",
       "}\n",
       ".occs {\n",
       "    font-size: x-small;\n",
       "}\n",
       "\n",
       ":root {\n",
       "\t--node:             hsla(120, 100%,  30%, 1.0  );\n",
       "\t--label:            hsla(  0, 100%,  20%, 1.0  );\n",
       "\t--passage:          hsla(  0, 100%,  25%, 1.0  );\n",
       "\t--features:         hsla(  0,   0%,  30%, 1.0  );\n",
       "  --lex-color:        hsla(220,  90%,  60%, 1.0  );\n",
       "  --meta-color:       hsla(  0,   0%,  90%, 0.7  );\n",
       "  --meta-width:       0.15rem;\n",
       "  --border-color0:    hsla(  0,   0%,  90%, 0.9  );\n",
       "  --border-color1:    hsla(  0,   0%,  80%, 0.9  );\n",
       "  --border-color2:    hsla(  0,   0%,  60%, 0.9  );\n",
       "  --border-color3:    hsla(  0,   0%,  40%, 0.9  );\n",
       "  --border-width0:    0.1rem;\n",
       "  --border-width1:    0.15rem;\n",
       "  --border-width2:    0.2rem;\n",
       "  --border-width2:    0.3rem;\n",
       "}\n",
       ".hl {\n",
       "  background-color: var(--hl-strong);\n",
       "}\n",
       "span.hl {\n",
       "\tbackground-color: var(--hl-strong);\n",
       "\tborder-width: 0;\n",
       "\tborder-radius: 0.1rem;\n",
       "\tborder-style: solid;\n",
       "}\n",
       "div.contnr.hl,div.lbl.hl {\n",
       "    background-color: var(--hl-strong);\n",
       "}\n",
       "\n",
       "span.hlbx {\n",
       "\tborder-color: var(--hl-rim);\n",
       "\tborder-width: 0.2rem;\n",
       "\tborder-style: solid;\n",
       "\tborder-radius: 0.3rem;\n",
       "  padding: 0.2rem;\n",
       "  margin: 0.2rem;\n",
       "}\n",
       "\n",
       "span.plain {\n",
       "  display: inline-block;\n",
       "  white-space: pre-wrap;\n",
       "}\n",
       "\n",
       ":root {\n",
       "\t--hl-strong:        hsla( 60, 100%,  70%, 0.9  );\n",
       "\t--hl-rim:           hsla( 55,  80%,  50%, 1.0  );\n",
       "}\n",
       ".title {\n",
       "    font-family: sans-serif;\n",
       "    font-size: small;\n",
       "    font-weight: bold;\n",
       "    color: #444444;\n",
       "}\n",
       ".text {\n",
       "    font-family: sans-serif;\n",
       "    font-size: x-small;\n",
       "    color: #000000;\n",
       "}\n",
       ".gap {\n",
       "    color: red;\n",
       "}\n",
       "</style>"
      ],
      "text/plain": [
       "<IPython.core.display.HTML object>"
      ]
     },
     "metadata": {},
     "output_type": "display_data"
    },
    {
     "name": "stdout",
     "output_type": "stream",
     "text": [
      "Using TF-app in /Users/dirk/github/annotation/app-peshitta/code:\n",
      "\trepo clone offline under ~/github (local github)\n",
      "Using data in /Users/dirk/github/etcbc/peshitta/tf/0.1:\n",
      "\trepo clone offline under ~/github (local github)\n",
      "   |     0.00s Dataset without structure sections in otext:no structure functions in the T-API\n"
     ]
    },
    {
     "data": {
      "text/html": [
       "<b>Documentation:</b> <a target=\"_blank\" href=\"https://github.com/etcbc/peshitta/blob/master/docs\" title=\"provenance of Peshitta (Old Testament)\">PESHITTA</a> <a target=\"_blank\" href=\"https://annotation.github.io/text-fabric/Writing/Syriac\" title=\"('Syriac characters and transcriptions',)\">Character table</a> <a target=\"_blank\" href=\"https://github.com/etcbc/peshitta/blob/master/docs/transcription-0.1.md#transcription.md\" title=\"PESHITTA feature documentation\">Feature docs</a> <a target=\"_blank\" href=\"https://github.com/annotation/app-peshitta\" title=\"peshitta API documentation\">peshitta API</a> <a target=\"_blank\" href=\"https://annotation.github.io/text-fabric/Api/Fabric/\" title=\"text-fabric-api\">Text-Fabric API 8.0.0</a> <a target=\"_blank\" href=\"https://annotation.github.io/text-fabric/Use/Search/\" title=\"Search Templates Introduction and Reference\">Search Reference</a><details open><summary><b>Loaded features</b>:</summary>\n",
       "<p><b>Peshitta (Old Testament)</b>: <a target=\"_blank\" href=\"https://github.com/etcbc/peshitta/blob/master/docs/transcription-0.1.md#book\" title=\"/Users/dirk/github/etcbc/peshitta/tf/0.1/book.tf\">book</a>  <a target=\"_blank\" href=\"https://github.com/etcbc/peshitta/blob/master/docs/transcription-0.1.md#book@ll\" title=\"/Users/dirk/github/etcbc/peshitta/tf/0.1/book@en.tf\">book@ll</a>  <a target=\"_blank\" href=\"https://github.com/etcbc/peshitta/blob/master/docs/transcription-0.1.md#chapter\" title=\"/Users/dirk/github/etcbc/peshitta/tf/0.1/chapter.tf\">chapter</a>  <a target=\"_blank\" href=\"https://github.com/etcbc/peshitta/blob/master/docs/transcription-0.1.md#otype\" title=\"/Users/dirk/github/etcbc/peshitta/tf/0.1/otype.tf\">otype</a>  <a target=\"_blank\" href=\"https://github.com/etcbc/peshitta/blob/master/docs/transcription-0.1.md#trailer\" title=\"/Users/dirk/github/etcbc/peshitta/tf/0.1/trailer.tf\">trailer</a>  <a target=\"_blank\" href=\"https://github.com/etcbc/peshitta/blob/master/docs/transcription-0.1.md#trailer_etcbc\" title=\"/Users/dirk/github/etcbc/peshitta/tf/0.1/trailer_etcbc.tf\">trailer_etcbc</a>  <a target=\"_blank\" href=\"https://github.com/etcbc/peshitta/blob/master/docs/transcription-0.1.md#verse\" title=\"/Users/dirk/github/etcbc/peshitta/tf/0.1/verse.tf\">verse</a>  <a target=\"_blank\" href=\"https://github.com/etcbc/peshitta/blob/master/docs/transcription-0.1.md#witness\" title=\"/Users/dirk/github/etcbc/peshitta/tf/0.1/witness.tf\">witness</a>  <a target=\"_blank\" href=\"https://github.com/etcbc/peshitta/blob/master/docs/transcription-0.1.md#word\" title=\"/Users/dirk/github/etcbc/peshitta/tf/0.1/word.tf\">word</a>  <a target=\"_blank\" href=\"https://github.com/etcbc/peshitta/blob/master/docs/transcription-0.1.md#word_etcbc\" title=\"/Users/dirk/github/etcbc/peshitta/tf/0.1/word_etcbc.tf\">word_etcbc</a>  <b><i><a target=\"_blank\" href=\"https://github.com/etcbc/peshitta/blob/master/docs/transcription-0.1.md#oslots\" title=\"/Users/dirk/github/etcbc/peshitta/tf/0.1/oslots.tf\">oslots</a></i></b> </p></details>"
      ],
      "text/plain": [
       "<IPython.core.display.HTML object>"
      ]
     },
     "metadata": {},
     "output_type": "display_data"
    },
    {
     "data": {
      "text/html": [
       "<style>\n",
       "@font-face {\n",
       "  font-family: \"Gentium\";\n",
       "  src:\n",
       "    local(\"GentiumPlus-R.ttf\"),\n",
       "    url(\"https://github.com/annotation/text-fabric/blob/master/tf/server/static/fonts/GentiumPlus-R.woff?raw=true\");\n",
       "}\n",
       "\n",
       "tr.tf, td.tf, th.tf {\n",
       "  text-align: left ! important;\n",
       "}\n",
       "\n",
       "/* neutral text */\n",
       ".txtn,.txtn a:visited,.txtn a:link {\n",
       "    font-family: sans-serif;\n",
       "    font-size: medium;\n",
       "    direction: ltr;\n",
       "    text-decoration: none;\n",
       "}\n",
       "/* transcription text */\n",
       ".txtt,.txtt a:visited,.txtt a:link {\n",
       "    font-family: monospace;\n",
       "    font-size: medium;\n",
       "    direction: ltr;\n",
       "    text-decoration: none;\n",
       "}\n",
       "/* source text */\n",
       ".txto,.txto a:visited,.txto a:link {\n",
       "    font-family: serif;\n",
       "    font-size: medium;\n",
       "    direction: ltr;\n",
       "    text-decoration: none;\n",
       "}\n",
       "/* phonetic text */\n",
       ".txtp,.txtp a:visited,.txtp a:link {\n",
       "    font-family: Gentium, sans-serif;\n",
       "    font-size: large;\n",
       "    direction: ltr;\n",
       "    text-decoration: none;\n",
       "}\n",
       "/* original script text */\n",
       ".txtu,.txtu a:visited,.txtu a:link {\n",
       "    font-family: Gentium, sans-serif;\n",
       "    font-size: large;\n",
       "    text-decoration: none;\n",
       "}\n",
       "/* hebrew */\n",
       ".txtu.hbo,.lex.hbo,.txtu.hbo a:visited,.txtu.hbo a:link {\n",
       "    font-family: \"Ezra SIL\", \"SBL Hebrew\", sans-serif;\n",
       "    font-size: x-large;\n",
       "    direction: rtl;\n",
       "    unicode-bidi: embed;\n",
       "}\n",
       "/* syriac */\n",
       ".txtu.syc,.lex.syc,.txtu.syc a:visited,.txtu.syc a:link {\n",
       "    font-family: \"Estrangelo Edessa\", sans-serif;\n",
       "    font-size: large;\n",
       "    direction: rtl;\n",
       "    unicode-bidi: embed;\n",
       "}\n",
       "/* neo aramaic */\n",
       ".txtu.cld,.lex.cld,.txtu.cld a:visited,.txtu.cld a:link {\n",
       "    font-family: \"CharisSIL-R\", sans-serif;\n",
       "    font-size: medium;\n",
       "    direction: rtl;\n",
       "    unicode-bidi: embed;\n",
       "}\n",
       "/* standard arabic */\n",
       ".txtu.ara,.lex.ara,.txtu.ara a:visited,.txtu.ara a:link {\n",
       "    font-family: \"AmiriQuran\", sans-serif;\n",
       "    font-size: large;\n",
       "    direction: rtl;\n",
       "    unicode-bidi: embed;\n",
       "}\n",
       "/* cuneiform */\n",
       ".txtu.cun,.lex.cun,.txtu.cun a:visited,.txtu.cun a:link {\n",
       "    font-family: Santakku, sans-serif;\n",
       "    font-size: x-large;\n",
       "    direction: ltr;\n",
       "    unicode-bidi: embed;\n",
       "}\n",
       "/* greek */\n",
       ".txtu.grc,.lex.grc,.txtu.grc a:visited,.txtu.grc a:link {\n",
       "    font-family: Gentium, sans-serif;\n",
       "    font-size: medium;\n",
       "    direction: ltr;\n",
       "    unicode-bidi: embed;\n",
       "}\n",
       "a:hover {\n",
       "    text-decoration: underline | important;\n",
       "    color: #0000ff | important;\n",
       "}\n",
       ".ltr {\n",
       "    direction: ltr ! important;\n",
       "}\n",
       ".rtl {\n",
       "    direction: rtl ! important;\n",
       "}\n",
       "span.plain {\n",
       "    display: inline-block;\n",
       "    white-space: pre-wrap;\n",
       "    text-align: start;\n",
       "}\n",
       ".features {\n",
       "    font-family: monospace;\n",
       "    font-size: medium;\n",
       "    font-weight: bold;\n",
       "    color: var(--features);\n",
       "    display: flex;\n",
       "    flex-flow: column nowrap;\n",
       "    justify-content: flex-start;\n",
       "    align-items: flex-start;\n",
       "    align-content: flex-start;\n",
       "    padding: 0.1rem;\n",
       "    margin: 0.1rem;\n",
       "    direction: ltr;\n",
       "}\n",
       ".features div,.features span {\n",
       "    padding: 0;\n",
       "    margin: -0.1rem 0;\n",
       "}\n",
       ".features .f {\n",
       "    font-family: sans-serif;\n",
       "    font-size: x-small;\n",
       "    font-weight: normal;\n",
       "    color: #5555bb;\n",
       "}\n",
       ".features .xft {\n",
       "  color: #000000;\n",
       "  background-color: #eeeeee;\n",
       "  font-size: medium;\n",
       "  margin: 0.1rem 0rem;\n",
       "}\n",
       ".features .xft .f {\n",
       "  color: #000000;\n",
       "  background-color: #eeeeee;\n",
       "  font-style: italic;\n",
       "  font-size: small;\n",
       "  font-weight: normal;\n",
       "}\n",
       ".psg {\n",
       "    font-family: sans-serif;\n",
       "    font-size: small;\n",
       "    font-weight: bold;\n",
       "    color: var(--passage);\n",
       "}\n",
       ".comments {\n",
       "    display: flex;\n",
       "    justify-content: flex-start;\n",
       "    align-items: flex-start;\n",
       "    align-content: flex-start;\n",
       "    flex-flow: column nowrap;\n",
       "}\n",
       ".meta {\n",
       "    display: flex;\n",
       "    justify-content: flex-start;\n",
       "    align-items: flex-start;\n",
       "    align-content: flex-start;\n",
       "    flex-flow: row nowrap;\n",
       "    border: var(--meta-width) solid var(--meta-color);\n",
       "    border-radius: var(--meta-width);\n",
       "}\n",
       ".nd {\n",
       "    font-family: sans-serif;\n",
       "    font-size: x-small;\n",
       "    color: var(--node);\n",
       "    vertical-align: super;\n",
       "}\n",
       ".verse {\n",
       "    display: flex;\n",
       "    flex-flow: row wrap;\n",
       "    direction: rtl;\n",
       "}\n",
       ".vl {\n",
       "    display: flex;\n",
       "    flex-flow: column nowrap;\n",
       "    justify-content: flex-end;\n",
       "    align-items: flex-end;\n",
       "    direction: ltr;\n",
       "    width: 100%;\n",
       "}\n",
       ".vn {\n",
       "  font-size: small !important;\n",
       "  padding-right: 1rem;\n",
       "}\n",
       ".lex {\n",
       "  color: var(--lex-color);;\n",
       "}\n",
       ".children,.children.ltr {\n",
       "    display: flex;\n",
       "    border: 0;\n",
       "    background-color: #ffffff;\n",
       "    justify-content: flex-start;\n",
       "    align-items: flex-start;\n",
       "    align-content: flex-start;\n",
       "}\n",
       ".children.row.rtl {\n",
       "    justify-content: flex-end;\n",
       "    align-items: flex-start;\n",
       "    align-content: flex-start;\n",
       "}\n",
       ".children.col.rtl {\n",
       "    justify-content: flex-start;\n",
       "    align-items: flex-end;\n",
       "    align-content: flex-end;\n",
       "}\n",
       ".children.stretch {\n",
       "    align-items: stretch;\n",
       "}\n",
       ".children.row {\n",
       "    flex-flow: row nowrap;\n",
       "}\n",
       ".children.row.wrap {\n",
       "    flex-flow: row wrap;\n",
       "}\n",
       ".children.col {\n",
       "    flex-flow: column nowrap;\n",
       "}\n",
       ".children.col.wrap {\n",
       "    flex-flow: column wrap;\n",
       "}\n",
       ".contnr {\n",
       "    width: fit-content;\n",
       "    display: flex;\n",
       "    justify-content: flex-start;\n",
       "    align-items: flex-start;\n",
       "    align-content: flex-start;\n",
       "    flex-flow: column nowrap;\n",
       "    background: #ffffff none repeat scroll 0 0;\n",
       "    padding:  0.5rem 0.1rem 0.1rem 0.1rem;\n",
       "    margin: 0.8rem 0.1rem 0.1rem 0.1rem;\n",
       "    border-style: solid;\n",
       "    font-size: small;\n",
       "}\n",
       ".contnr.trm {\n",
       "    background-attachment: local;\n",
       "}\n",
       ".contnr.c0,.lbl.c0 {\n",
       "    border-color: var(--border-color0);\n",
       "    border-width: var(--border-width0);\n",
       "    border-radius: var(--border-width0);\n",
       "}\n",
       ".contnr.c1,.lbl.c1 {\n",
       "    border-color: var(--border-color1);\n",
       "    border-width: var(--border-width1);\n",
       "    border-radius: var(--border-width1);\n",
       "}\n",
       ".contnr.c2,.lbl.c2 {\n",
       "    border-color: var(--border-color2);\n",
       "    border-width: var(--border-width2);\n",
       "    border-radius: var(--border-width2);\n",
       "}\n",
       ".contnr.c3,.lbl.c3 {\n",
       "    border-color: var(--border-color3);\n",
       "    border-width: var(--border-width3);\n",
       "    border-radius: var(--border-width3);\n",
       "}\n",
       ".lbl {\n",
       "    margin-top: -1.2rem;\n",
       "    margin-left: 1rem;\n",
       "    background: #ffffff none repeat scroll 0 0;\n",
       "    padding: 0 0.3rem;\n",
       "    border-style: solid;\n",
       "    display: block;\n",
       "    color: var(--label)\n",
       "}\n",
       ".lbl.trm {\n",
       "    background-attachment: local;\n",
       "    margin-top: 0.1rem;\n",
       "    margin-left: 0.1rem;\n",
       "    padding: 0.1rem 0.1rem;\n",
       "    border-style: none;\n",
       "}\n",
       ".lbl.c0 {\n",
       "    font-size: small;\n",
       "}\n",
       ".lbl.c1 {\n",
       "    font-size: small;\n",
       "}\n",
       ".lbl.c2 {\n",
       "    font-size: normal;\n",
       "}\n",
       ".lbl.c3 {\n",
       "    font-size: normal;\n",
       "}\n",
       ".occs {\n",
       "    font-size: x-small;\n",
       "}\n",
       "\n",
       ":root {\n",
       "\t--node:             hsla(120, 100%,  30%, 1.0  );\n",
       "\t--label:            hsla(  0, 100%,  20%, 1.0  );\n",
       "\t--passage:          hsla(  0, 100%,  25%, 1.0  );\n",
       "\t--features:         hsla(  0,   0%,  30%, 1.0  );\n",
       "  --lex-color:        hsla(220,  90%,  60%, 1.0  );\n",
       "  --meta-color:       hsla(  0,   0%,  90%, 0.7  );\n",
       "  --meta-width:       0.15rem;\n",
       "  --border-color0:    hsla(  0,   0%,  90%, 0.9  );\n",
       "  --border-color1:    hsla(  0,   0%,  80%, 0.9  );\n",
       "  --border-color2:    hsla(  0,   0%,  60%, 0.9  );\n",
       "  --border-color3:    hsla(  0,   0%,  40%, 0.9  );\n",
       "  --border-width0:    0.1rem;\n",
       "  --border-width1:    0.15rem;\n",
       "  --border-width2:    0.2rem;\n",
       "  --border-width2:    0.3rem;\n",
       "}\n",
       ".hl {\n",
       "  background-color: var(--hl-strong);\n",
       "}\n",
       "span.hl {\n",
       "\tbackground-color: var(--hl-strong);\n",
       "\tborder-width: 0;\n",
       "\tborder-radius: 0.1rem;\n",
       "\tborder-style: solid;\n",
       "}\n",
       "div.contnr.hl,div.lbl.hl {\n",
       "    background-color: var(--hl-strong);\n",
       "}\n",
       "\n",
       "span.hlbx {\n",
       "\tborder-color: var(--hl-rim);\n",
       "\tborder-width: 0.2rem;\n",
       "\tborder-style: solid;\n",
       "\tborder-radius: 0.3rem;\n",
       "  padding: 0.2rem;\n",
       "  margin: 0.2rem;\n",
       "}\n",
       "\n",
       "span.plain {\n",
       "  display: inline-block;\n",
       "  white-space: pre-wrap;\n",
       "}\n",
       "\n",
       ":root {\n",
       "\t--hl-strong:        hsla( 60, 100%,  70%, 0.9  );\n",
       "\t--hl-rim:           hsla( 55,  80%,  50%, 1.0  );\n",
       "}\n",
       "/* nothing */\n",
       "</style>"
      ],
      "text/plain": [
       "<IPython.core.display.HTML object>"
      ]
     },
     "metadata": {},
     "output_type": "display_data"
    }
   ],
   "source": [
    "As.load()"
   ]
  },
  {
   "cell_type": "code",
   "execution_count": 11,
   "metadata": {},
   "outputs": [],
   "source": [
    "def verse(A):\n",
    "    api = A.api\n",
    "    F = api.F\n",
    "    T = api.T\n",
    "\n",
    "    verseType = T.sectionTypes[-1]\n",
    "    firstVerse = F.otype.s(verseType)[0]\n",
    "\n",
    "    dm(f\"##### plain\")\n",
    "    A.plain(n)\n",
    "    dm(f\"##### pretty\")\n",
    "    A.pretty(n)\n",
    "\n",
    "    for tp in F.otype.all:\n",
    "        nodes = F.otype.s(tp)\n",
    "        startNodes = nodes[0:size] if start else []\n",
    "        mid = len(nodes) // 2\n",
    "        midb = size // 2\n",
    "        mide = midb + size % 2\n",
    "        midNodes = nodes[mid - midb : mid + mide] if center else []\n",
    "        endNodes = nodes[-size:] if end else []\n",
    "        dm(f\"### {tp}\")\n",
    "        seen = set()\n",
    "        for n in chain(startNodes, midNodes, endNodes):\n",
    "            if n in seen:\n",
    "                continue\n",
    "            seen.add(n)\n",
    "            dm(f\"#### {n}\")\n",
    "            dm(f\"##### plain\")\n",
    "            A.plain(n)\n",
    "            dm(f\"##### pretty\")\n",
    "            A.pretty(n)\n",
    "            dm(f\"##### plain `withPassage=False`\")\n",
    "            A.plain(n, withPassage=False)\n",
    "            dm(f\"##### pretty `withPassage=False`\")\n",
    "            A.pretty(n, withPassage=False)\n",
    "            dm(f\"##### plain `withNodes=True, withTypes=True`\")\n",
    "            A.plain(n, withNodes=True, withTypes=True)\n",
    "            dm(f\"##### pretty `withNodes=True, withTypes=True`\")\n",
    "            A.pretty(n, withNodes=True, withTypes=True)\n",
    "            dm(f\"##### plain `withPassage=False, withNodes=True, withTypes=True`\")\n",
    "            A.plain(n, withPassage=False, withNodes=True, withTypes=True)\n",
    "            dm(f\"##### pretty `withPassage=False, withNodes=True, withTypes=True`\")\n",
    "            A.pretty(n, withPassage=False, withNodes=True, withTypes=True)"
   ]
  },
  {
   "cell_type": "code",
   "execution_count": 8,
   "metadata": {},
   "outputs": [
    {
     "data": {
      "text/html": [
       "<style>\n",
       "@font-face {\n",
       "  font-family: \"Gentium\";\n",
       "  src:\n",
       "    local(\"GentiumPlus-R.ttf\"),\n",
       "    url(\"https://github.com/annotation/text-fabric/blob/master/tf/server/static/fonts/GentiumPlus-R.woff?raw=true\");\n",
       "}\n",
       "\n",
       "tr.tf, td.tf, th.tf {\n",
       "  text-align: left ! important;\n",
       "}\n",
       "\n",
       "/* neutral text */\n",
       ".txtn,.txtn a:visited,.txtn a:link {\n",
       "    font-family: sans-serif;\n",
       "    font-size: medium;\n",
       "    direction: ltr;\n",
       "    text-decoration: none;\n",
       "}\n",
       "/* transcription text */\n",
       ".txtt,.txtt a:visited,.txtt a:link {\n",
       "    font-family: monospace;\n",
       "    font-size: medium;\n",
       "    direction: ltr;\n",
       "    text-decoration: none;\n",
       "}\n",
       "/* source text */\n",
       ".txto,.txto a:visited,.txto a:link {\n",
       "    font-family: serif;\n",
       "    font-size: medium;\n",
       "    direction: ltr;\n",
       "    text-decoration: none;\n",
       "}\n",
       "/* phonetic text */\n",
       ".txtp,.txtp a:visited,.txtp a:link {\n",
       "    font-family: Gentium, sans-serif;\n",
       "    font-size: large;\n",
       "    direction: ltr;\n",
       "    text-decoration: none;\n",
       "}\n",
       "/* original script text */\n",
       ".txtu,.txtu a:visited,.txtu a:link {\n",
       "    font-family: Gentium, sans-serif;\n",
       "    font-size: large;\n",
       "    text-decoration: none;\n",
       "}\n",
       "/* hebrew */\n",
       ".txtu.hbo,.lex.hbo,.txtu.hbo a:visited,.txtu.hbo a:link {\n",
       "    font-family: \"Ezra SIL\", \"SBL Hebrew\", sans-serif;\n",
       "    font-size: x-large;\n",
       "    direction: rtl;\n",
       "    unicode-bidi: embed;\n",
       "}\n",
       "/* syriac */\n",
       ".txtu.syc,.lex.syc,.txtu.syc a:visited,.txtu.syc a:link {\n",
       "    font-family: \"Estrangelo Edessa\", sans-serif;\n",
       "    font-size: large;\n",
       "    direction: rtl;\n",
       "    unicode-bidi: embed;\n",
       "}\n",
       "/* neo aramaic */\n",
       ".txtu.cld,.lex.cld,.txtu.cld a:visited,.txtu.cld a:link {\n",
       "    font-family: \"CharisSIL-R\", sans-serif;\n",
       "    font-size: medium;\n",
       "    direction: rtl;\n",
       "    unicode-bidi: embed;\n",
       "}\n",
       "/* standard arabic */\n",
       ".txtu.ara,.lex.ara,.txtu.ara a:visited,.txtu.ara a:link {\n",
       "    font-family: \"AmiriQuran\", sans-serif;\n",
       "    font-size: large;\n",
       "    direction: rtl;\n",
       "    unicode-bidi: embed;\n",
       "}\n",
       "/* cuneiform */\n",
       ".txtu.cun,.lex.cun,.txtu.cun a:visited,.txtu.cun a:link {\n",
       "    font-family: Santakku, sans-serif;\n",
       "    font-size: x-large;\n",
       "    direction: ltr;\n",
       "    unicode-bidi: embed;\n",
       "}\n",
       "/* greek */\n",
       ".txtu.grc,.lex.grc,.txtu.grc a:visited,.txtu.grc a:link {\n",
       "    font-family: Gentium, sans-serif;\n",
       "    font-size: medium;\n",
       "    direction: ltr;\n",
       "    unicode-bidi: embed;\n",
       "}\n",
       "a:hover {\n",
       "    text-decoration: underline | important;\n",
       "    color: #0000ff | important;\n",
       "}\n",
       ".ltr {\n",
       "    direction: ltr ! important;\n",
       "}\n",
       ".rtl {\n",
       "    direction: rtl ! important;\n",
       "}\n",
       "span.plain {\n",
       "    display: inline-block;\n",
       "    white-space: pre-wrap;\n",
       "    text-align: start;\n",
       "}\n",
       ".features {\n",
       "    font-family: monospace;\n",
       "    font-size: medium;\n",
       "    font-weight: bold;\n",
       "    color: var(--features);\n",
       "    display: flex;\n",
       "    flex-flow: column nowrap;\n",
       "    justify-content: flex-start;\n",
       "    align-items: flex-start;\n",
       "    align-content: flex-start;\n",
       "    padding: 0.1rem;\n",
       "    margin: 0.1rem;\n",
       "    direction: ltr;\n",
       "}\n",
       ".features div,.features span {\n",
       "    padding: 0;\n",
       "    margin: -0.1rem 0;\n",
       "}\n",
       ".features .f {\n",
       "    font-family: sans-serif;\n",
       "    font-size: x-small;\n",
       "    font-weight: normal;\n",
       "    color: #5555bb;\n",
       "}\n",
       ".features .xft {\n",
       "  color: #000000;\n",
       "  background-color: #eeeeee;\n",
       "  font-size: medium;\n",
       "  margin: 0.1rem 0rem;\n",
       "}\n",
       ".features .xft .f {\n",
       "  color: #000000;\n",
       "  background-color: #eeeeee;\n",
       "  font-style: italic;\n",
       "  font-size: small;\n",
       "  font-weight: normal;\n",
       "}\n",
       ".psg {\n",
       "    font-family: sans-serif;\n",
       "    font-size: small;\n",
       "    font-weight: bold;\n",
       "    color: var(--passage);\n",
       "}\n",
       ".comments {\n",
       "    display: flex;\n",
       "    justify-content: flex-start;\n",
       "    align-items: flex-start;\n",
       "    align-content: flex-start;\n",
       "    flex-flow: column nowrap;\n",
       "}\n",
       ".meta {\n",
       "    display: flex;\n",
       "    justify-content: flex-start;\n",
       "    align-items: flex-start;\n",
       "    align-content: flex-start;\n",
       "    flex-flow: row nowrap;\n",
       "    border: var(--meta-width) solid var(--meta-color);\n",
       "    border-radius: var(--meta-width);\n",
       "}\n",
       ".nd {\n",
       "    font-family: sans-serif;\n",
       "    font-size: x-small;\n",
       "    color: var(--node);\n",
       "    vertical-align: super;\n",
       "}\n",
       ".verse {\n",
       "    display: flex;\n",
       "    flex-flow: row wrap;\n",
       "    direction: rtl;\n",
       "}\n",
       ".vl {\n",
       "    display: flex;\n",
       "    flex-flow: column nowrap;\n",
       "    justify-content: flex-end;\n",
       "    align-items: flex-end;\n",
       "    direction: ltr;\n",
       "    width: 100%;\n",
       "}\n",
       ".vn {\n",
       "  font-size: small !important;\n",
       "  padding-right: 1rem;\n",
       "}\n",
       ".lex {\n",
       "  color: var(--lex-color);;\n",
       "}\n",
       ".children,.children.ltr {\n",
       "    display: flex;\n",
       "    border: 0;\n",
       "    background-color: #ffffff;\n",
       "    justify-content: flex-start;\n",
       "    align-items: flex-start;\n",
       "    align-content: flex-start;\n",
       "}\n",
       ".children.row.rtl {\n",
       "    justify-content: flex-end;\n",
       "    align-items: flex-start;\n",
       "    align-content: flex-start;\n",
       "}\n",
       ".children.col.rtl {\n",
       "    justify-content: flex-start;\n",
       "    align-items: flex-end;\n",
       "    align-content: flex-end;\n",
       "}\n",
       ".children.stretch {\n",
       "    align-items: stretch;\n",
       "}\n",
       ".children.row {\n",
       "    flex-flow: row nowrap;\n",
       "}\n",
       ".children.row.wrap {\n",
       "    flex-flow: row wrap;\n",
       "}\n",
       ".children.col {\n",
       "    flex-flow: column nowrap;\n",
       "}\n",
       ".children.col.wrap {\n",
       "    flex-flow: column wrap;\n",
       "}\n",
       ".contnr {\n",
       "    width: fit-content;\n",
       "    display: flex;\n",
       "    justify-content: flex-start;\n",
       "    align-items: flex-start;\n",
       "    align-content: flex-start;\n",
       "    flex-flow: column nowrap;\n",
       "    background: #ffffff none repeat scroll 0 0;\n",
       "    padding:  0.5rem 0.1rem 0.1rem 0.1rem;\n",
       "    margin: 0.8rem 0.1rem 0.1rem 0.1rem;\n",
       "    border-style: solid;\n",
       "    font-size: small;\n",
       "}\n",
       ".contnr.trm {\n",
       "    background-attachment: local;\n",
       "}\n",
       ".contnr.c0,.lbl.c0 {\n",
       "    border-color: var(--border-color0);\n",
       "    border-width: var(--border-width0);\n",
       "    border-radius: var(--border-width0);\n",
       "}\n",
       ".contnr.c1,.lbl.c1 {\n",
       "    border-color: var(--border-color1);\n",
       "    border-width: var(--border-width1);\n",
       "    border-radius: var(--border-width1);\n",
       "}\n",
       ".contnr.c2,.lbl.c2 {\n",
       "    border-color: var(--border-color2);\n",
       "    border-width: var(--border-width2);\n",
       "    border-radius: var(--border-width2);\n",
       "}\n",
       ".contnr.c3,.lbl.c3 {\n",
       "    border-color: var(--border-color3);\n",
       "    border-width: var(--border-width3);\n",
       "    border-radius: var(--border-width3);\n",
       "}\n",
       ".lbl {\n",
       "    margin-top: -1.2rem;\n",
       "    margin-left: 1rem;\n",
       "    background: #ffffff none repeat scroll 0 0;\n",
       "    padding: 0 0.3rem;\n",
       "    border-style: solid;\n",
       "    display: block;\n",
       "    color: var(--label)\n",
       "}\n",
       ".lbl.trm {\n",
       "    background-attachment: local;\n",
       "    margin-top: 0.1rem;\n",
       "    margin-left: 0.1rem;\n",
       "    padding: 0.1rem 0.1rem;\n",
       "    border-style: none;\n",
       "}\n",
       ".lbl.c0 {\n",
       "    font-size: small;\n",
       "}\n",
       ".lbl.c1 {\n",
       "    font-size: small;\n",
       "}\n",
       ".lbl.c2 {\n",
       "    font-size: normal;\n",
       "}\n",
       ".lbl.c3 {\n",
       "    font-size: normal;\n",
       "}\n",
       ".occs {\n",
       "    font-size: x-small;\n",
       "}\n",
       "\n",
       ":root {\n",
       "\t--node:             hsla(120, 100%,  30%, 1.0  );\n",
       "\t--label:            hsla(  0, 100%,  20%, 1.0  );\n",
       "\t--passage:          hsla(  0, 100%,  25%, 1.0  );\n",
       "\t--features:         hsla(  0,   0%,  30%, 1.0  );\n",
       "  --lex-color:        hsla(220,  90%,  60%, 1.0  );\n",
       "  --meta-color:       hsla(  0,   0%,  90%, 0.7  );\n",
       "  --meta-width:       0.15rem;\n",
       "  --border-color0:    hsla(  0,   0%,  90%, 0.9  );\n",
       "  --border-color1:    hsla(  0,   0%,  80%, 0.9  );\n",
       "  --border-color2:    hsla(  0,   0%,  60%, 0.9  );\n",
       "  --border-color3:    hsla(  0,   0%,  40%, 0.9  );\n",
       "  --border-width0:    0.1rem;\n",
       "  --border-width1:    0.15rem;\n",
       "  --border-width2:    0.2rem;\n",
       "  --border-width2:    0.3rem;\n",
       "}\n",
       ".hl {\n",
       "  background-color: var(--hl-strong);\n",
       "}\n",
       "span.hl {\n",
       "\tbackground-color: var(--hl-strong);\n",
       "\tborder-width: 0;\n",
       "\tborder-radius: 0.1rem;\n",
       "\tborder-style: solid;\n",
       "}\n",
       "div.contnr.hl,div.lbl.hl {\n",
       "    background-color: var(--hl-strong);\n",
       "}\n",
       "\n",
       "span.hlbx {\n",
       "\tborder-color: var(--hl-rim);\n",
       "\tborder-width: 0.2rem;\n",
       "\tborder-style: solid;\n",
       "\tborder-radius: 0.3rem;\n",
       "  padding: 0.2rem;\n",
       "  margin: 0.2rem;\n",
       "}\n",
       "\n",
       "span.plain {\n",
       "  display: inline-block;\n",
       "  white-space: pre-wrap;\n",
       "}\n",
       "\n",
       ":root {\n",
       "\t--hl-strong:        hsla( 60, 100%,  70%, 0.9  );\n",
       "\t--hl-rim:           hsla( 55,  80%,  50%, 1.0  );\n",
       "}\n",
       ".title {\n",
       "    font-family: sans-serif;\n",
       "    font-size: small;\n",
       "    font-weight: bold;\n",
       "    color: #444444;\n",
       "}\n",
       ".text {\n",
       "    font-family: sans-serif;\n",
       "    font-size: x-small;\n",
       "    color: #000000;\n",
       "}\n",
       ".gap {\n",
       "    color: red;\n",
       "}\n",
       "</style>"
      ],
      "text/plain": [
       "<IPython.core.display.HTML object>"
      ]
     },
     "metadata": {},
     "output_type": "display_data"
    },
    {
     "data": {
      "text/html": [
       "<style>\n",
       "@font-face {\n",
       "  font-family: \"Gentium\";\n",
       "  src:\n",
       "    local(\"GentiumPlus-R.ttf\"),\n",
       "    url(\"https://github.com/annotation/text-fabric/blob/master/tf/server/static/fonts/GentiumPlus-R.woff?raw=true\");\n",
       "}\n",
       "\n",
       "tr.tf, td.tf, th.tf {\n",
       "  text-align: left ! important;\n",
       "}\n",
       "\n",
       "/* neutral text */\n",
       ".txtn,.txtn a:visited,.txtn a:link {\n",
       "    font-family: sans-serif;\n",
       "    font-size: medium;\n",
       "    direction: ltr;\n",
       "    text-decoration: none;\n",
       "}\n",
       "/* transcription text */\n",
       ".txtt,.txtt a:visited,.txtt a:link {\n",
       "    font-family: monospace;\n",
       "    font-size: medium;\n",
       "    direction: ltr;\n",
       "    text-decoration: none;\n",
       "}\n",
       "/* source text */\n",
       ".txto,.txto a:visited,.txto a:link {\n",
       "    font-family: serif;\n",
       "    font-size: medium;\n",
       "    direction: ltr;\n",
       "    text-decoration: none;\n",
       "}\n",
       "/* phonetic text */\n",
       ".txtp,.txtp a:visited,.txtp a:link {\n",
       "    font-family: Gentium, sans-serif;\n",
       "    font-size: large;\n",
       "    direction: ltr;\n",
       "    text-decoration: none;\n",
       "}\n",
       "/* original script text */\n",
       ".txtu,.txtu a:visited,.txtu a:link {\n",
       "    font-family: Gentium, sans-serif;\n",
       "    font-size: large;\n",
       "    text-decoration: none;\n",
       "}\n",
       "/* hebrew */\n",
       ".txtu.hbo,.lex.hbo,.txtu.hbo a:visited,.txtu.hbo a:link {\n",
       "    font-family: \"Ezra SIL\", \"SBL Hebrew\", sans-serif;\n",
       "    font-size: x-large;\n",
       "    direction: rtl;\n",
       "    unicode-bidi: embed;\n",
       "}\n",
       "/* syriac */\n",
       ".txtu.syc,.lex.syc,.txtu.syc a:visited,.txtu.syc a:link {\n",
       "    font-family: \"Estrangelo Edessa\", sans-serif;\n",
       "    font-size: large;\n",
       "    direction: rtl;\n",
       "    unicode-bidi: embed;\n",
       "}\n",
       "/* neo aramaic */\n",
       ".txtu.cld,.lex.cld,.txtu.cld a:visited,.txtu.cld a:link {\n",
       "    font-family: \"CharisSIL-R\", sans-serif;\n",
       "    font-size: medium;\n",
       "    direction: rtl;\n",
       "    unicode-bidi: embed;\n",
       "}\n",
       "/* standard arabic */\n",
       ".txtu.ara,.lex.ara,.txtu.ara a:visited,.txtu.ara a:link {\n",
       "    font-family: \"AmiriQuran\", sans-serif;\n",
       "    font-size: large;\n",
       "    direction: rtl;\n",
       "    unicode-bidi: embed;\n",
       "}\n",
       "/* cuneiform */\n",
       ".txtu.cun,.lex.cun,.txtu.cun a:visited,.txtu.cun a:link {\n",
       "    font-family: Santakku, sans-serif;\n",
       "    font-size: x-large;\n",
       "    direction: ltr;\n",
       "    unicode-bidi: embed;\n",
       "}\n",
       "/* greek */\n",
       ".txtu.grc,.lex.grc,.txtu.grc a:visited,.txtu.grc a:link {\n",
       "    font-family: Gentium, sans-serif;\n",
       "    font-size: medium;\n",
       "    direction: ltr;\n",
       "    unicode-bidi: embed;\n",
       "}\n",
       "a:hover {\n",
       "    text-decoration: underline | important;\n",
       "    color: #0000ff | important;\n",
       "}\n",
       ".ltr {\n",
       "    direction: ltr ! important;\n",
       "}\n",
       ".rtl {\n",
       "    direction: rtl ! important;\n",
       "}\n",
       "span.plain {\n",
       "    display: inline-block;\n",
       "    white-space: pre-wrap;\n",
       "    text-align: start;\n",
       "}\n",
       ".features {\n",
       "    font-family: monospace;\n",
       "    font-size: medium;\n",
       "    font-weight: bold;\n",
       "    color: var(--features);\n",
       "    display: flex;\n",
       "    flex-flow: column nowrap;\n",
       "    justify-content: flex-start;\n",
       "    align-items: flex-start;\n",
       "    align-content: flex-start;\n",
       "    padding: 0.1rem;\n",
       "    margin: 0.1rem;\n",
       "    direction: ltr;\n",
       "}\n",
       ".features div,.features span {\n",
       "    padding: 0;\n",
       "    margin: -0.1rem 0;\n",
       "}\n",
       ".features .f {\n",
       "    font-family: sans-serif;\n",
       "    font-size: x-small;\n",
       "    font-weight: normal;\n",
       "    color: #5555bb;\n",
       "}\n",
       ".features .xft {\n",
       "  color: #000000;\n",
       "  background-color: #eeeeee;\n",
       "  font-size: medium;\n",
       "  margin: 0.1rem 0rem;\n",
       "}\n",
       ".features .xft .f {\n",
       "  color: #000000;\n",
       "  background-color: #eeeeee;\n",
       "  font-style: italic;\n",
       "  font-size: small;\n",
       "  font-weight: normal;\n",
       "}\n",
       ".psg {\n",
       "    font-family: sans-serif;\n",
       "    font-size: small;\n",
       "    font-weight: bold;\n",
       "    color: var(--passage);\n",
       "}\n",
       ".comments {\n",
       "    display: flex;\n",
       "    justify-content: flex-start;\n",
       "    align-items: flex-start;\n",
       "    align-content: flex-start;\n",
       "    flex-flow: column nowrap;\n",
       "}\n",
       ".meta {\n",
       "    display: flex;\n",
       "    justify-content: flex-start;\n",
       "    align-items: flex-start;\n",
       "    align-content: flex-start;\n",
       "    flex-flow: row nowrap;\n",
       "    border: var(--meta-width) solid var(--meta-color);\n",
       "    border-radius: var(--meta-width);\n",
       "}\n",
       ".nd {\n",
       "    font-family: sans-serif;\n",
       "    font-size: x-small;\n",
       "    color: var(--node);\n",
       "    vertical-align: super;\n",
       "}\n",
       ".verse {\n",
       "    display: flex;\n",
       "    flex-flow: row wrap;\n",
       "    direction: rtl;\n",
       "}\n",
       ".vl {\n",
       "    display: flex;\n",
       "    flex-flow: column nowrap;\n",
       "    justify-content: flex-end;\n",
       "    align-items: flex-end;\n",
       "    direction: ltr;\n",
       "    width: 100%;\n",
       "}\n",
       ".vn {\n",
       "  font-size: small !important;\n",
       "  padding-right: 1rem;\n",
       "}\n",
       ".lex {\n",
       "  color: var(--lex-color);;\n",
       "}\n",
       ".children,.children.ltr {\n",
       "    display: flex;\n",
       "    border: 0;\n",
       "    background-color: #ffffff;\n",
       "    justify-content: flex-start;\n",
       "    align-items: flex-start;\n",
       "    align-content: flex-start;\n",
       "}\n",
       ".children.row.rtl {\n",
       "    justify-content: flex-end;\n",
       "    align-items: flex-start;\n",
       "    align-content: flex-start;\n",
       "}\n",
       ".children.col.rtl {\n",
       "    justify-content: flex-start;\n",
       "    align-items: flex-end;\n",
       "    align-content: flex-end;\n",
       "}\n",
       ".children.stretch {\n",
       "    align-items: stretch;\n",
       "}\n",
       ".children.row {\n",
       "    flex-flow: row nowrap;\n",
       "}\n",
       ".children.row.wrap {\n",
       "    flex-flow: row wrap;\n",
       "}\n",
       ".children.col {\n",
       "    flex-flow: column nowrap;\n",
       "}\n",
       ".children.col.wrap {\n",
       "    flex-flow: column wrap;\n",
       "}\n",
       ".contnr {\n",
       "    width: fit-content;\n",
       "    display: flex;\n",
       "    justify-content: flex-start;\n",
       "    align-items: flex-start;\n",
       "    align-content: flex-start;\n",
       "    flex-flow: column nowrap;\n",
       "    background: #ffffff none repeat scroll 0 0;\n",
       "    padding:  0.5rem 0.1rem 0.1rem 0.1rem;\n",
       "    margin: 0.8rem 0.1rem 0.1rem 0.1rem;\n",
       "    border-style: solid;\n",
       "    font-size: small;\n",
       "}\n",
       ".contnr.trm {\n",
       "    background-attachment: local;\n",
       "}\n",
       ".contnr.c0,.lbl.c0 {\n",
       "    border-color: var(--border-color0);\n",
       "    border-width: var(--border-width0);\n",
       "    border-radius: var(--border-width0);\n",
       "}\n",
       ".contnr.c1,.lbl.c1 {\n",
       "    border-color: var(--border-color1);\n",
       "    border-width: var(--border-width1);\n",
       "    border-radius: var(--border-width1);\n",
       "}\n",
       ".contnr.c2,.lbl.c2 {\n",
       "    border-color: var(--border-color2);\n",
       "    border-width: var(--border-width2);\n",
       "    border-radius: var(--border-width2);\n",
       "}\n",
       ".contnr.c3,.lbl.c3 {\n",
       "    border-color: var(--border-color3);\n",
       "    border-width: var(--border-width3);\n",
       "    border-radius: var(--border-width3);\n",
       "}\n",
       ".lbl {\n",
       "    margin-top: -1.2rem;\n",
       "    margin-left: 1rem;\n",
       "    background: #ffffff none repeat scroll 0 0;\n",
       "    padding: 0 0.3rem;\n",
       "    border-style: solid;\n",
       "    display: block;\n",
       "    color: var(--label)\n",
       "}\n",
       ".lbl.trm {\n",
       "    background-attachment: local;\n",
       "    margin-top: 0.1rem;\n",
       "    margin-left: 0.1rem;\n",
       "    padding: 0.1rem 0.1rem;\n",
       "    border-style: none;\n",
       "}\n",
       ".lbl.c0 {\n",
       "    font-size: small;\n",
       "}\n",
       ".lbl.c1 {\n",
       "    font-size: small;\n",
       "}\n",
       ".lbl.c2 {\n",
       "    font-size: normal;\n",
       "}\n",
       ".lbl.c3 {\n",
       "    font-size: normal;\n",
       "}\n",
       ".occs {\n",
       "    font-size: x-small;\n",
       "}\n",
       "\n",
       ":root {\n",
       "\t--node:             hsla(120, 100%,  30%, 1.0  );\n",
       "\t--label:            hsla(  0, 100%,  20%, 1.0  );\n",
       "\t--passage:          hsla(  0, 100%,  25%, 1.0  );\n",
       "\t--features:         hsla(  0,   0%,  30%, 1.0  );\n",
       "  --lex-color:        hsla(220,  90%,  60%, 1.0  );\n",
       "  --meta-color:       hsla(  0,   0%,  90%, 0.7  );\n",
       "  --meta-width:       0.15rem;\n",
       "  --border-color0:    hsla(  0,   0%,  90%, 0.9  );\n",
       "  --border-color1:    hsla(  0,   0%,  80%, 0.9  );\n",
       "  --border-color2:    hsla(  0,   0%,  60%, 0.9  );\n",
       "  --border-color3:    hsla(  0,   0%,  40%, 0.9  );\n",
       "  --border-width0:    0.1rem;\n",
       "  --border-width1:    0.15rem;\n",
       "  --border-width2:    0.2rem;\n",
       "  --border-width2:    0.3rem;\n",
       "}\n",
       ".hl {\n",
       "  background-color: var(--hl-strong);\n",
       "}\n",
       "span.hl {\n",
       "\tbackground-color: var(--hl-strong);\n",
       "\tborder-width: 0;\n",
       "\tborder-radius: 0.1rem;\n",
       "\tborder-style: solid;\n",
       "}\n",
       "div.contnr.hl,div.lbl.hl {\n",
       "    background-color: var(--hl-strong);\n",
       "}\n",
       "\n",
       "span.hlbx {\n",
       "\tborder-color: var(--hl-rim);\n",
       "\tborder-width: 0.2rem;\n",
       "\tborder-style: solid;\n",
       "\tborder-radius: 0.3rem;\n",
       "  padding: 0.2rem;\n",
       "  margin: 0.2rem;\n",
       "}\n",
       "\n",
       "span.plain {\n",
       "  display: inline-block;\n",
       "  white-space: pre-wrap;\n",
       "}\n",
       "\n",
       ":root {\n",
       "\t--hl-strong:        hsla( 60, 100%,  70%, 0.9  );\n",
       "\t--hl-rim:           hsla( 55,  80%,  50%, 1.0  );\n",
       "}\n",
       ".title {\n",
       "    font-family: sans-serif;\n",
       "    font-size: small;\n",
       "    font-weight: bold;\n",
       "    color: #444444;\n",
       "}\n",
       ".text {\n",
       "    font-family: sans-serif;\n",
       "    font-size: x-small;\n",
       "    color: #000000;\n",
       "}\n",
       ".gap {\n",
       "    color: red;\n",
       "}\n",
       "</style>"
      ],
      "text/plain": [
       "<IPython.core.display.HTML object>"
      ]
     },
     "metadata": {},
     "output_type": "display_data"
    },
    {
     "data": {
      "text/html": [
       "<style>\n",
       "@font-face {\n",
       "  font-family: \"Estrangelo Edessa\";\n",
       "  src:\n",
       "    local(\"SyrCOMEdessa.otf\"),\n",
       "    url(\"https://github.com/annotation/text-fabric/blob/master/tf/server/static/fonts/SyrCOMEdessa.woff?raw=true\");\n",
       "}\n",
       "\n",
       "tr.tf, td.tf, th.tf {\n",
       "  text-align: left ! important;\n",
       "}\n",
       "\n",
       "/* neutral text */\n",
       ".txtn,.txtn a:visited,.txtn a:link {\n",
       "    font-family: sans-serif;\n",
       "    font-size: medium;\n",
       "    direction: ltr;\n",
       "    text-decoration: none;\n",
       "}\n",
       "/* transcription text */\n",
       ".txtt,.txtt a:visited,.txtt a:link {\n",
       "    font-family: monospace;\n",
       "    font-size: medium;\n",
       "    direction: ltr;\n",
       "    text-decoration: none;\n",
       "}\n",
       "/* source text */\n",
       ".txto,.txto a:visited,.txto a:link {\n",
       "    font-family: serif;\n",
       "    font-size: medium;\n",
       "    direction: ltr;\n",
       "    text-decoration: none;\n",
       "}\n",
       "/* phonetic text */\n",
       ".txtp,.txtp a:visited,.txtp a:link {\n",
       "    font-family: Gentium, sans-serif;\n",
       "    font-size: large;\n",
       "    direction: ltr;\n",
       "    text-decoration: none;\n",
       "}\n",
       "/* original script text */\n",
       ".txtu,.txtu a:visited,.txtu a:link {\n",
       "    font-family: Gentium, sans-serif;\n",
       "    font-size: large;\n",
       "    text-decoration: none;\n",
       "}\n",
       "/* hebrew */\n",
       ".txtu.hbo,.lex.hbo,.txtu.hbo a:visited,.txtu.hbo a:link {\n",
       "    font-family: \"Ezra SIL\", \"SBL Hebrew\", sans-serif;\n",
       "    font-size: x-large;\n",
       "    direction: rtl;\n",
       "    unicode-bidi: embed;\n",
       "}\n",
       "/* syriac */\n",
       ".txtu.syc,.lex.syc,.txtu.syc a:visited,.txtu.syc a:link {\n",
       "    font-family: \"Estrangelo Edessa\", sans-serif;\n",
       "    font-size: large;\n",
       "    direction: rtl;\n",
       "    unicode-bidi: embed;\n",
       "}\n",
       "/* neo aramaic */\n",
       ".txtu.cld,.lex.cld,.txtu.cld a:visited,.txtu.cld a:link {\n",
       "    font-family: \"CharisSIL-R\", sans-serif;\n",
       "    font-size: medium;\n",
       "    direction: rtl;\n",
       "    unicode-bidi: embed;\n",
       "}\n",
       "/* standard arabic */\n",
       ".txtu.ara,.lex.ara,.txtu.ara a:visited,.txtu.ara a:link {\n",
       "    font-family: \"AmiriQuran\", sans-serif;\n",
       "    font-size: large;\n",
       "    direction: rtl;\n",
       "    unicode-bidi: embed;\n",
       "}\n",
       "/* cuneiform */\n",
       ".txtu.cun,.lex.cun,.txtu.cun a:visited,.txtu.cun a:link {\n",
       "    font-family: Santakku, sans-serif;\n",
       "    font-size: x-large;\n",
       "    direction: ltr;\n",
       "    unicode-bidi: embed;\n",
       "}\n",
       "/* greek */\n",
       ".txtu.grc,.lex.grc,.txtu.grc a:visited,.txtu.grc a:link {\n",
       "    font-family: Gentium, sans-serif;\n",
       "    font-size: medium;\n",
       "    direction: ltr;\n",
       "    unicode-bidi: embed;\n",
       "}\n",
       "a:hover {\n",
       "    text-decoration: underline | important;\n",
       "    color: #0000ff | important;\n",
       "}\n",
       ".ltr {\n",
       "    direction: ltr ! important;\n",
       "}\n",
       ".rtl {\n",
       "    direction: rtl ! important;\n",
       "}\n",
       "span.plain {\n",
       "    display: inline-block;\n",
       "    white-space: pre-wrap;\n",
       "    text-align: start;\n",
       "}\n",
       ".features {\n",
       "    font-family: monospace;\n",
       "    font-size: medium;\n",
       "    font-weight: bold;\n",
       "    color: var(--features);\n",
       "    display: flex;\n",
       "    flex-flow: column nowrap;\n",
       "    justify-content: flex-start;\n",
       "    align-items: flex-start;\n",
       "    align-content: flex-start;\n",
       "    padding: 0.1rem;\n",
       "    margin: 0.1rem;\n",
       "    direction: ltr;\n",
       "}\n",
       ".features div,.features span {\n",
       "    padding: 0;\n",
       "    margin: -0.1rem 0;\n",
       "}\n",
       ".features .f {\n",
       "    font-family: sans-serif;\n",
       "    font-size: x-small;\n",
       "    font-weight: normal;\n",
       "    color: #5555bb;\n",
       "}\n",
       ".features .xft {\n",
       "  color: #000000;\n",
       "  background-color: #eeeeee;\n",
       "  font-size: medium;\n",
       "  margin: 0.1rem 0rem;\n",
       "}\n",
       ".features .xft .f {\n",
       "  color: #000000;\n",
       "  background-color: #eeeeee;\n",
       "  font-style: italic;\n",
       "  font-size: small;\n",
       "  font-weight: normal;\n",
       "}\n",
       ".psg {\n",
       "    font-family: sans-serif;\n",
       "    font-size: small;\n",
       "    font-weight: bold;\n",
       "    color: var(--passage);\n",
       "}\n",
       ".comments {\n",
       "    display: flex;\n",
       "    justify-content: flex-start;\n",
       "    align-items: flex-start;\n",
       "    align-content: flex-start;\n",
       "    flex-flow: column nowrap;\n",
       "}\n",
       ".meta {\n",
       "    display: flex;\n",
       "    justify-content: flex-start;\n",
       "    align-items: flex-start;\n",
       "    align-content: flex-start;\n",
       "    flex-flow: row nowrap;\n",
       "    border: var(--meta-width) solid var(--meta-color);\n",
       "    border-radius: var(--meta-width);\n",
       "}\n",
       ".nd {\n",
       "    font-family: sans-serif;\n",
       "    font-size: x-small;\n",
       "    color: var(--node);\n",
       "    vertical-align: super;\n",
       "}\n",
       ".verse {\n",
       "    display: flex;\n",
       "    flex-flow: row wrap;\n",
       "    direction: rtl;\n",
       "}\n",
       ".vl {\n",
       "    display: flex;\n",
       "    flex-flow: column nowrap;\n",
       "    justify-content: flex-end;\n",
       "    align-items: flex-end;\n",
       "    direction: ltr;\n",
       "    width: 100%;\n",
       "}\n",
       ".vn {\n",
       "  font-size: small !important;\n",
       "  padding-right: 1rem;\n",
       "}\n",
       ".lex {\n",
       "  color: var(--lex-color);;\n",
       "}\n",
       ".children,.children.ltr {\n",
       "    display: flex;\n",
       "    border: 0;\n",
       "    background-color: #ffffff;\n",
       "    justify-content: flex-start;\n",
       "    align-items: flex-start;\n",
       "    align-content: flex-start;\n",
       "}\n",
       ".children.row.rtl {\n",
       "    justify-content: flex-end;\n",
       "    align-items: flex-start;\n",
       "    align-content: flex-start;\n",
       "}\n",
       ".children.col.rtl {\n",
       "    justify-content: flex-start;\n",
       "    align-items: flex-end;\n",
       "    align-content: flex-end;\n",
       "}\n",
       ".children.stretch {\n",
       "    align-items: stretch;\n",
       "}\n",
       ".children.row {\n",
       "    flex-flow: row nowrap;\n",
       "}\n",
       ".children.row.wrap {\n",
       "    flex-flow: row wrap;\n",
       "}\n",
       ".children.col {\n",
       "    flex-flow: column nowrap;\n",
       "}\n",
       ".children.col.wrap {\n",
       "    flex-flow: column wrap;\n",
       "}\n",
       ".contnr {\n",
       "    width: fit-content;\n",
       "    display: flex;\n",
       "    justify-content: flex-start;\n",
       "    align-items: flex-start;\n",
       "    align-content: flex-start;\n",
       "    flex-flow: column nowrap;\n",
       "    background: #ffffff none repeat scroll 0 0;\n",
       "    padding:  0.5rem 0.1rem 0.1rem 0.1rem;\n",
       "    margin: 0.8rem 0.1rem 0.1rem 0.1rem;\n",
       "    border-style: solid;\n",
       "    font-size: small;\n",
       "}\n",
       ".contnr.trm {\n",
       "    background-attachment: local;\n",
       "}\n",
       ".contnr.c0,.lbl.c0 {\n",
       "    border-color: var(--border-color0);\n",
       "    border-width: var(--border-width0);\n",
       "    border-radius: var(--border-width0);\n",
       "}\n",
       ".contnr.c1,.lbl.c1 {\n",
       "    border-color: var(--border-color1);\n",
       "    border-width: var(--border-width1);\n",
       "    border-radius: var(--border-width1);\n",
       "}\n",
       ".contnr.c2,.lbl.c2 {\n",
       "    border-color: var(--border-color2);\n",
       "    border-width: var(--border-width2);\n",
       "    border-radius: var(--border-width2);\n",
       "}\n",
       ".contnr.c3,.lbl.c3 {\n",
       "    border-color: var(--border-color3);\n",
       "    border-width: var(--border-width3);\n",
       "    border-radius: var(--border-width3);\n",
       "}\n",
       ".lbl {\n",
       "    margin-top: -1.2rem;\n",
       "    margin-left: 1rem;\n",
       "    background: #ffffff none repeat scroll 0 0;\n",
       "    padding: 0 0.3rem;\n",
       "    border-style: solid;\n",
       "    display: block;\n",
       "    color: var(--label)\n",
       "}\n",
       ".lbl.trm {\n",
       "    background-attachment: local;\n",
       "    margin-top: 0.1rem;\n",
       "    margin-left: 0.1rem;\n",
       "    padding: 0.1rem 0.1rem;\n",
       "    border-style: none;\n",
       "}\n",
       ".lbl.c0 {\n",
       "    font-size: small;\n",
       "}\n",
       ".lbl.c1 {\n",
       "    font-size: small;\n",
       "}\n",
       ".lbl.c2 {\n",
       "    font-size: normal;\n",
       "}\n",
       ".lbl.c3 {\n",
       "    font-size: normal;\n",
       "}\n",
       ".occs {\n",
       "    font-size: x-small;\n",
       "}\n",
       "\n",
       ":root {\n",
       "\t--node:             hsla(120, 100%,  30%, 1.0  );\n",
       "\t--label:            hsla(  0, 100%,  20%, 1.0  );\n",
       "\t--passage:          hsla(  0, 100%,  25%, 1.0  );\n",
       "\t--features:         hsla(  0,   0%,  30%, 1.0  );\n",
       "  --lex-color:        hsla(220,  90%,  60%, 1.0  );\n",
       "  --meta-color:       hsla(  0,   0%,  90%, 0.7  );\n",
       "  --meta-width:       0.15rem;\n",
       "  --border-color0:    hsla(  0,   0%,  90%, 0.9  );\n",
       "  --border-color1:    hsla(  0,   0%,  80%, 0.9  );\n",
       "  --border-color2:    hsla(  0,   0%,  60%, 0.9  );\n",
       "  --border-color3:    hsla(  0,   0%,  40%, 0.9  );\n",
       "  --border-width0:    0.1rem;\n",
       "  --border-width1:    0.15rem;\n",
       "  --border-width2:    0.2rem;\n",
       "  --border-width2:    0.3rem;\n",
       "}\n",
       ".hl {\n",
       "  background-color: var(--hl-strong);\n",
       "}\n",
       "span.hl {\n",
       "\tbackground-color: var(--hl-strong);\n",
       "\tborder-width: 0;\n",
       "\tborder-radius: 0.1rem;\n",
       "\tborder-style: solid;\n",
       "}\n",
       "div.contnr.hl,div.lbl.hl {\n",
       "    background-color: var(--hl-strong);\n",
       "}\n",
       "\n",
       "span.hlbx {\n",
       "\tborder-color: var(--hl-rim);\n",
       "\tborder-width: 0.2rem;\n",
       "\tborder-style: solid;\n",
       "\tborder-radius: 0.3rem;\n",
       "  padding: 0.2rem;\n",
       "  margin: 0.2rem;\n",
       "}\n",
       "\n",
       "span.plain {\n",
       "  display: inline-block;\n",
       "  white-space: pre-wrap;\n",
       "}\n",
       "\n",
       ":root {\n",
       "\t--hl-strong:        hsla( 60, 100%,  70%, 0.9  );\n",
       "\t--hl-rim:           hsla( 55,  80%,  50%, 1.0  );\n",
       "}\n",
       "/* nothing */\n",
       "</style>"
      ],
      "text/plain": [
       "<IPython.core.display.HTML object>"
      ]
     },
     "metadata": {},
     "output_type": "display_data"
    }
   ],
   "source": [
    "As.reload()"
   ]
  },
  {
   "cell_type": "code",
   "execution_count": 6,
   "metadata": {},
   "outputs": [
    {
     "data": {
      "text/html": [
       "<style>\n",
       "@font-face {\n",
       "  font-family: \"Gentium\";\n",
       "  src:\n",
       "    local(\"GentiumPlus-R.ttf\"),\n",
       "    url(\"https://github.com/annotation/text-fabric/blob/master/tf/server/static/fonts/GentiumPlus-R.woff?raw=true\");\n",
       "}\n",
       "\n",
       "tr.tf, td.tf, th.tf {\n",
       "  text-align: left ! important;\n",
       "}\n",
       "\n",
       "/* neutral text */\n",
       ".txtn,.txtn a:visited,.txtn a:link {\n",
       "    font-family: sans-serif;\n",
       "    font-size: medium;\n",
       "    direction: ltr;\n",
       "    text-decoration: none;\n",
       "}\n",
       "/* transcription text */\n",
       ".txtt,.txtt a:visited,.txtt a:link {\n",
       "    font-family: monospace;\n",
       "    font-size: medium;\n",
       "    direction: ltr;\n",
       "    text-decoration: none;\n",
       "}\n",
       "/* source text */\n",
       ".txto,.txto a:visited,.txto a:link {\n",
       "    font-family: serif;\n",
       "    font-size: medium;\n",
       "    direction: ltr;\n",
       "    text-decoration: none;\n",
       "}\n",
       "/* phonetic text */\n",
       ".txtp,.txtp a:visited,.txtp a:link {\n",
       "    font-family: Gentium, sans-serif;\n",
       "    font-size: large;\n",
       "    direction: ltr;\n",
       "    text-decoration: none;\n",
       "}\n",
       "/* original script text */\n",
       ".txtu,.txtu a:visited,.txtu a:link {\n",
       "    font-family: Gentium, sans-serif;\n",
       "    font-size: large;\n",
       "    text-decoration: none;\n",
       "}\n",
       "/* hebrew */\n",
       ".txtu.hbo,.lex.hbo,.txtu.hbo a:visited,.txtu.hbo a:link {\n",
       "    font-family: \"Ezra SIL\", \"SBL Hebrew\", sans-serif;\n",
       "    font-size: x-large;\n",
       "    direction: rtl;\n",
       "    unicode-bidi: embed;\n",
       "}\n",
       "/* syriac */\n",
       ".txtu.syc,.lex.syc,.txtu.syc a:visited,.txtu.syc a:link {\n",
       "    font-family: \"Estrangelo Edessa\", sans-serif;\n",
       "    font-size: large;\n",
       "    direction: rtl;\n",
       "    unicode-bidi: embed;\n",
       "}\n",
       "/* neo aramaic */\n",
       ".txtu.cld,.lex.cld,.txtu.cld a:visited,.txtu.cld a:link {\n",
       "    font-family: \"CharisSIL-R\", sans-serif;\n",
       "    font-size: medium;\n",
       "    direction: rtl;\n",
       "    unicode-bidi: embed;\n",
       "}\n",
       "/* standard arabic */\n",
       ".txtu.ara,.lex.ara,.txtu.ara a:visited,.txtu.ara a:link {\n",
       "    font-family: \"AmiriQuran\", sans-serif;\n",
       "    font-size: large;\n",
       "    direction: rtl;\n",
       "    unicode-bidi: embed;\n",
       "}\n",
       "/* cuneiform */\n",
       ".txtu.cun,.lex.cun,.txtu.cun a:visited,.txtu.cun a:link {\n",
       "    font-family: Santakku, sans-serif;\n",
       "    font-size: x-large;\n",
       "    direction: ltr;\n",
       "    unicode-bidi: embed;\n",
       "}\n",
       "/* greek */\n",
       ".txtu.grc,.lex.grc,.txtu.grc a:visited,.txtu.grc a:link {\n",
       "    font-family: Gentium, sans-serif;\n",
       "    font-size: medium;\n",
       "    direction: ltr;\n",
       "    unicode-bidi: embed;\n",
       "}\n",
       "a:hover {\n",
       "    text-decoration: underline | important;\n",
       "    color: #0000ff | important;\n",
       "}\n",
       ".ltr {\n",
       "    direction: ltr ! important;\n",
       "}\n",
       ".rtl {\n",
       "    direction: rtl ! important;\n",
       "}\n",
       "span.plain {\n",
       "    display: inline-block;\n",
       "    white-space: pre-wrap;\n",
       "    text-align: start;\n",
       "}\n",
       ".features {\n",
       "    font-family: monospace;\n",
       "    font-size: medium;\n",
       "    font-weight: bold;\n",
       "    color: var(--features);\n",
       "    display: flex;\n",
       "    flex-flow: column nowrap;\n",
       "    justify-content: flex-start;\n",
       "    align-items: flex-start;\n",
       "    align-content: flex-start;\n",
       "    padding: 0.1rem;\n",
       "    margin: 0.1rem;\n",
       "    direction: ltr;\n",
       "}\n",
       ".features div,.features span {\n",
       "    padding: 0;\n",
       "    margin: -0.1rem 0;\n",
       "}\n",
       ".features .f {\n",
       "    font-family: sans-serif;\n",
       "    font-size: x-small;\n",
       "    font-weight: normal;\n",
       "    color: #5555bb;\n",
       "}\n",
       ".features .xft {\n",
       "  color: #000000;\n",
       "  background-color: #eeeeee;\n",
       "  font-size: medium;\n",
       "  margin: 0.1rem 0rem;\n",
       "}\n",
       ".features .xft .f {\n",
       "  color: #000000;\n",
       "  background-color: #eeeeee;\n",
       "  font-style: italic;\n",
       "  font-size: small;\n",
       "  font-weight: normal;\n",
       "}\n",
       ".psg {\n",
       "    font-family: sans-serif;\n",
       "    font-size: small;\n",
       "    font-weight: bold;\n",
       "    color: var(--passage);\n",
       "}\n",
       ".comments {\n",
       "    display: flex;\n",
       "    justify-content: flex-start;\n",
       "    align-items: flex-start;\n",
       "    align-content: flex-start;\n",
       "    flex-flow: column nowrap;\n",
       "}\n",
       ".meta {\n",
       "    display: flex;\n",
       "    justify-content: flex-start;\n",
       "    align-items: flex-start;\n",
       "    align-content: flex-start;\n",
       "    flex-flow: row nowrap;\n",
       "    border: var(--meta-width) solid var(--meta-color);\n",
       "    border-radius: var(--meta-width);\n",
       "}\n",
       ".nd {\n",
       "    font-family: sans-serif;\n",
       "    font-size: x-small;\n",
       "    color: var(--node);\n",
       "    vertical-align: super;\n",
       "}\n",
       ".verse {\n",
       "    display: flex;\n",
       "    flex-flow: row wrap;\n",
       "    direction: rtl;\n",
       "}\n",
       ".vl {\n",
       "    display: flex;\n",
       "    flex-flow: column nowrap;\n",
       "    justify-content: flex-end;\n",
       "    align-items: flex-end;\n",
       "    direction: ltr;\n",
       "    width: 100%;\n",
       "}\n",
       ".vn {\n",
       "  font-size: small !important;\n",
       "  padding-right: 1rem;\n",
       "}\n",
       ".lex {\n",
       "  color: var(--lex-color);;\n",
       "}\n",
       ".children,.children.ltr {\n",
       "    display: flex;\n",
       "    border: 0;\n",
       "    background-color: #ffffff;\n",
       "    justify-content: flex-start;\n",
       "    align-items: flex-start;\n",
       "    align-content: flex-start;\n",
       "}\n",
       ".children.row.rtl {\n",
       "    justify-content: flex-end;\n",
       "    align-items: flex-start;\n",
       "    align-content: flex-start;\n",
       "}\n",
       ".children.col.rtl {\n",
       "    justify-content: flex-start;\n",
       "    align-items: flex-end;\n",
       "    align-content: flex-end;\n",
       "}\n",
       ".children.stretch {\n",
       "    align-items: stretch;\n",
       "}\n",
       ".children.row {\n",
       "    flex-flow: row nowrap;\n",
       "}\n",
       ".children.row.wrap {\n",
       "    flex-flow: row wrap;\n",
       "}\n",
       ".children.col {\n",
       "    flex-flow: column nowrap;\n",
       "}\n",
       ".children.col.wrap {\n",
       "    flex-flow: column wrap;\n",
       "}\n",
       ".contnr {\n",
       "    width: fit-content;\n",
       "    display: flex;\n",
       "    justify-content: flex-start;\n",
       "    align-items: flex-start;\n",
       "    align-content: flex-start;\n",
       "    flex-flow: column nowrap;\n",
       "    background: #ffffff none repeat scroll 0 0;\n",
       "    padding:  0.5rem 0.1rem 0.1rem 0.1rem;\n",
       "    margin: 0.8rem 0.1rem 0.1rem 0.1rem;\n",
       "    border-style: solid;\n",
       "    font-size: small;\n",
       "}\n",
       ".contnr.trm {\n",
       "    background-attachment: local;\n",
       "}\n",
       ".contnr.c0,.lbl.c0 {\n",
       "    border-color: var(--border-color0);\n",
       "    border-width: var(--border-width0);\n",
       "    border-radius: var(--border-width0);\n",
       "}\n",
       ".contnr.c1,.lbl.c1 {\n",
       "    border-color: var(--border-color1);\n",
       "    border-width: var(--border-width1);\n",
       "    border-radius: var(--border-width1);\n",
       "}\n",
       ".contnr.c2,.lbl.c2 {\n",
       "    border-color: var(--border-color2);\n",
       "    border-width: var(--border-width2);\n",
       "    border-radius: var(--border-width2);\n",
       "}\n",
       ".contnr.c3,.lbl.c3 {\n",
       "    border-color: var(--border-color3);\n",
       "    border-width: var(--border-width3);\n",
       "    border-radius: var(--border-width3);\n",
       "}\n",
       ".lbl {\n",
       "    margin-top: -1.2rem;\n",
       "    margin-left: 1rem;\n",
       "    background: #ffffff none repeat scroll 0 0;\n",
       "    padding: 0 0.3rem;\n",
       "    border-style: solid;\n",
       "    display: block;\n",
       "    color: var(--label)\n",
       "}\n",
       ".lbl.trm {\n",
       "    background-attachment: local;\n",
       "    margin-top: 0.1rem;\n",
       "    margin-left: 0.1rem;\n",
       "    padding: 0.1rem 0.1rem;\n",
       "    border-style: none;\n",
       "}\n",
       ".lbl.c0 {\n",
       "    font-size: small;\n",
       "}\n",
       ".lbl.c1 {\n",
       "    font-size: small;\n",
       "}\n",
       ".lbl.c2 {\n",
       "    font-size: normal;\n",
       "}\n",
       ".lbl.c3 {\n",
       "    font-size: normal;\n",
       "}\n",
       ".occs {\n",
       "    font-size: x-small;\n",
       "}\n",
       "\n",
       ":root {\n",
       "\t--node:             hsla(120, 100%,  30%, 1.0  );\n",
       "\t--label:            hsla(  0, 100%,  20%, 1.0  );\n",
       "\t--passage:          hsla(  0, 100%,  25%, 1.0  );\n",
       "\t--features:         hsla(  0,   0%,  30%, 1.0  );\n",
       "  --lex-color:        hsla(220,  90%,  60%, 1.0  );\n",
       "  --meta-color:       hsla(  0,   0%,  90%, 0.7  );\n",
       "  --meta-width:       0.15rem;\n",
       "  --border-color0:    hsla(  0,   0%,  90%, 0.9  );\n",
       "  --border-color1:    hsla(  0,   0%,  80%, 0.9  );\n",
       "  --border-color2:    hsla(  0,   0%,  60%, 0.9  );\n",
       "  --border-color3:    hsla(  0,   0%,  40%, 0.9  );\n",
       "  --border-width0:    0.1rem;\n",
       "  --border-width1:    0.15rem;\n",
       "  --border-width2:    0.2rem;\n",
       "  --border-width2:    0.3rem;\n",
       "}\n",
       ".hl {\n",
       "  background-color: var(--hl-strong);\n",
       "}\n",
       "span.hl {\n",
       "\tbackground-color: var(--hl-strong);\n",
       "\tborder-width: 0;\n",
       "\tborder-radius: 0.1rem;\n",
       "\tborder-style: solid;\n",
       "}\n",
       "div.contnr.hl,div.lbl.hl {\n",
       "    background-color: var(--hl-strong);\n",
       "}\n",
       "\n",
       "span.hlbx {\n",
       "\tborder-color: var(--hl-rim);\n",
       "\tborder-width: 0.2rem;\n",
       "\tborder-style: solid;\n",
       "\tborder-radius: 0.3rem;\n",
       "  padding: 0.2rem;\n",
       "  margin: 0.2rem;\n",
       "}\n",
       "\n",
       "span.plain {\n",
       "  display: inline-block;\n",
       "  white-space: pre-wrap;\n",
       "}\n",
       "\n",
       ":root {\n",
       "\t--hl-strong:        hsla( 60, 100%,  70%, 0.9  );\n",
       "\t--hl-rim:           hsla( 55,  80%,  50%, 1.0  );\n",
       "}\n",
       "/* nothing */\n",
       "</style>"
      ],
      "text/plain": [
       "<IPython.core.display.HTML object>"
      ]
     },
     "metadata": {},
     "output_type": "display_data"
    }
   ],
   "source": [
    "As.foreground(\"peshitta\", hoist=globals())"
   ]
  },
  {
   "cell_type": "code",
   "execution_count": 9,
   "metadata": {},
   "outputs": [
    {
     "data": {
      "text/html": [
       "<span class=\"psg ltr\"><a href=\"https://github.com/etcbc/peshitta/blob/master/source/0.1/Genesis\" title=\"show this passage in the Peshitta source\" sec=\"Genesis 1:1\">Genesis 1:1</a> </span><span class=\"plain outer rtl  \" ><span class=\"plain  rtl  \" ><span class=\"txtu syc\">ܒܪܫܝܬ </span></span><span class=\"plain  rtl  \" ><span class=\"txtu syc\">ܒܪܐ </span></span><span class=\"plain  rtl  \" ><span class=\"txtu syc\">ܐܠܗܐ. </span></span><span class=\"plain  rtl  \" ><span class=\"txtu syc\">ܝܬ </span></span><span class=\"plain  rtl  \" ><span class=\"txtu syc\">ܫܡܝܐ </span></span><span class=\"plain  rtl  \" ><span class=\"txtu syc\">ܘܝܬ </span></span><span class=\"plain  rtl  \" ><span class=\"txtu syc\">ܐܪܥܐ. </span></span></span>"
      ],
      "text/plain": [
       "<IPython.core.display.HTML object>"
      ]
     },
     "metadata": {},
     "output_type": "display_data"
    },
    {
     "data": {
      "text/html": [
       "<span class=\"psg ltr\"><a href=\"https://github.com/etcbc/peshitta/blob/master/source/0.1/Genesis\" title=\"show this passage in the Peshitta source\" sec=\"Genesis 1:1\">Genesis 1:1</a> </span><div class=\"contnr c2  rtl  \" ><div class=\"lbl c2  \"><span class=\"nd\">verse</span> <a href=\"https://github.com/etcbc/peshitta/blob/master/source/0.1/Genesis\" title=\"Genesis 1:1\" sec=\"Genesis 1:1\"><span class=\"txtn\">1</span></a> </div> <div class=\"children row wrap rtl\"><div class=\"contnr c0 trm rtl  \" ><div class=\"lbl c0 trm \"> <span class=\"txtu syc\">ܒܪܫܝܬ </span> </div> </div><div class=\"contnr c0 trm rtl  \" ><div class=\"lbl c0 trm \"> <span class=\"txtu syc\">ܒܪܐ </span> </div> </div><div class=\"contnr c0 trm rtl  \" ><div class=\"lbl c0 trm \"> <span class=\"txtu syc\">ܐܠܗܐ. </span> </div> </div><div class=\"contnr c0 trm rtl  \" ><div class=\"lbl c0 trm \"> <span class=\"txtu syc\">ܝܬ </span> </div> </div><div class=\"contnr c0 trm rtl  \" ><div class=\"lbl c0 trm \"> <span class=\"txtu syc\">ܫܡܝܐ </span> </div> </div><div class=\"contnr c0 trm rtl  \" ><div class=\"lbl c0 trm \"> <span class=\"txtu syc\">ܘܝܬ </span> </div> </div><div class=\"contnr c0 trm rtl  \" ><div class=\"lbl c0 trm \"> <span class=\"txtu syc\">ܐܪܥܐ. </span> </div> </div></div></div>"
      ],
      "text/plain": [
       "<IPython.core.display.HTML object>"
      ]
     },
     "metadata": {},
     "output_type": "display_data"
    }
   ],
   "source": [
    "v = F.otype.s(\"verse\")[0]\n",
    "A.plain(v)\n",
    "A.pretty(v)"
   ]
  },
  {
   "cell_type": "code",
   "execution_count": 12,
   "metadata": {},
   "outputs": [
    {
     "data": {
      "text/markdown": [
       "# single"
      ],
      "text/plain": [
       "<IPython.core.display.Markdown object>"
      ]
     },
     "metadata": {},
     "output_type": "display_data"
    },
    {
     "data": {
      "text/markdown": [
       "## peshitta"
      ],
      "text/plain": [
       "<IPython.core.display.Markdown object>"
      ]
     },
     "metadata": {},
     "output_type": "display_data"
    },
    {
     "data": {
      "text/markdown": [
       "### book"
      ],
      "text/plain": [
       "<IPython.core.display.Markdown object>"
      ]
     },
     "metadata": {},
     "output_type": "display_data"
    },
    {
     "data": {
      "text/markdown": [
       "#### 427228"
      ],
      "text/plain": [
       "<IPython.core.display.Markdown object>"
      ]
     },
     "metadata": {},
     "output_type": "display_data"
    },
    {
     "data": {
      "text/markdown": [
       "##### plain"
      ],
      "text/plain": [
       "<IPython.core.display.Markdown object>"
      ]
     },
     "metadata": {},
     "output_type": "display_data"
    },
    {
     "data": {
      "text/html": [
       "<a href=\"https://github.com/etcbc/peshitta/blob/master/source/0.1/Genesis\" title=\"Genesis\" sec=\"Genesis\"><span class=\"plain outer rtl  \" ><span class=\"plain rtl\"><a href=\"https://github.com/etcbc/peshitta/blob/master/source/0.1/Genesis\" title=\"show this passage in the Peshitta source\" sec=\"Genesis\">Genesis</a></span></span></a>"
      ],
      "text/plain": [
       "<IPython.core.display.HTML object>"
      ]
     },
     "metadata": {},
     "output_type": "display_data"
    },
    {
     "data": {
      "text/markdown": [
       "##### pretty"
      ],
      "text/plain": [
       "<IPython.core.display.Markdown object>"
      ]
     },
     "metadata": {},
     "output_type": "display_data"
    },
    {
     "data": {
      "text/html": [
       "<div class=\"contnr c3 trm rtl  \" ><div class=\"lbl c3 trm \"><span class=\"nd\">book</span> <a href=\"https://github.com/etcbc/peshitta/blob/master/source/0.1/Genesis\" title=\"Genesis\" sec=\"Genesis\"><span class=\"txtn\">Gn</span></a> </div> </div>"
      ],
      "text/plain": [
       "<IPython.core.display.HTML object>"
      ]
     },
     "metadata": {},
     "output_type": "display_data"
    },
    {
     "data": {
      "text/markdown": [
       "##### plain `withPassage=False`"
      ],
      "text/plain": [
       "<IPython.core.display.Markdown object>"
      ]
     },
     "metadata": {},
     "output_type": "display_data"
    },
    {
     "data": {
      "text/html": [
       "<a href=\"https://github.com/etcbc/peshitta/blob/master/source/0.1/Genesis\" title=\"Genesis\" sec=\"Genesis\"><span class=\"plain outer rtl  \" ><span class=\"plain rtl\"><a href=\"https://github.com/etcbc/peshitta/blob/master/source/0.1/Genesis\" title=\"show this passage in the Peshitta source\" sec=\"Genesis\">Genesis</a></span></span></a>"
      ],
      "text/plain": [
       "<IPython.core.display.HTML object>"
      ]
     },
     "metadata": {},
     "output_type": "display_data"
    },
    {
     "data": {
      "text/markdown": [
       "##### pretty `withPassage=False`"
      ],
      "text/plain": [
       "<IPython.core.display.Markdown object>"
      ]
     },
     "metadata": {},
     "output_type": "display_data"
    },
    {
     "data": {
      "text/html": [
       "<div class=\"contnr c3 trm rtl  \" ><div class=\"lbl c3 trm \"><span class=\"nd\">book</span> <a href=\"https://github.com/etcbc/peshitta/blob/master/source/0.1/Genesis\" title=\"Genesis\" sec=\"Genesis\"><span class=\"txtn\">Gn</span></a> </div> </div>"
      ],
      "text/plain": [
       "<IPython.core.display.HTML object>"
      ]
     },
     "metadata": {},
     "output_type": "display_data"
    },
    {
     "data": {
      "text/markdown": [
       "##### plain `withNodes=True, withTypes=True`"
      ],
      "text/plain": [
       "<IPython.core.display.Markdown object>"
      ]
     },
     "metadata": {},
     "output_type": "display_data"
    },
    {
     "data": {
      "text/html": [
       "<a href=\"https://github.com/etcbc/peshitta/blob/master/source/0.1/Genesis\" title=\"Genesis\" sec=\"Genesis\"><span class=\"plain outer rtl  \" ><span class=\"nd\">book:427228</span><span class=\"plain rtl\"><a href=\"https://github.com/etcbc/peshitta/blob/master/source/0.1/Genesis\" title=\"show this passage in the Peshitta source\" sec=\"Genesis\">Genesis</a></span></span></a>"
      ],
      "text/plain": [
       "<IPython.core.display.HTML object>"
      ]
     },
     "metadata": {},
     "output_type": "display_data"
    },
    {
     "data": {
      "text/markdown": [
       "##### pretty `withNodes=True, withTypes=True`"
      ],
      "text/plain": [
       "<IPython.core.display.Markdown object>"
      ]
     },
     "metadata": {},
     "output_type": "display_data"
    },
    {
     "data": {
      "text/html": [
       "<div class=\"contnr c3 trm rtl  \" ><div class=\"lbl c3 trm \"><span class=\"nd\">book:427228</span> <a href=\"https://github.com/etcbc/peshitta/blob/master/source/0.1/Genesis\" title=\"Genesis\" sec=\"Genesis\"><span class=\"txtn\">Gn</span></a> </div> </div>"
      ],
      "text/plain": [
       "<IPython.core.display.HTML object>"
      ]
     },
     "metadata": {},
     "output_type": "display_data"
    },
    {
     "data": {
      "text/markdown": [
       "##### plain `withPassage=False, withNodes=True, withTypes=True`"
      ],
      "text/plain": [
       "<IPython.core.display.Markdown object>"
      ]
     },
     "metadata": {},
     "output_type": "display_data"
    },
    {
     "data": {
      "text/html": [
       "<a href=\"https://github.com/etcbc/peshitta/blob/master/source/0.1/Genesis\" title=\"Genesis\" sec=\"Genesis\"><span class=\"plain outer rtl  \" ><span class=\"nd\">book:427228</span><span class=\"plain rtl\"><a href=\"https://github.com/etcbc/peshitta/blob/master/source/0.1/Genesis\" title=\"show this passage in the Peshitta source\" sec=\"Genesis\">Genesis</a></span></span></a>"
      ],
      "text/plain": [
       "<IPython.core.display.HTML object>"
      ]
     },
     "metadata": {},
     "output_type": "display_data"
    },
    {
     "data": {
      "text/markdown": [
       "##### pretty `withPassage=False, withNodes=True, withTypes=True`"
      ],
      "text/plain": [
       "<IPython.core.display.Markdown object>"
      ]
     },
     "metadata": {},
     "output_type": "display_data"
    },
    {
     "data": {
      "text/html": [
       "<div class=\"contnr c3 trm rtl  \" ><div class=\"lbl c3 trm \"><span class=\"nd\">book:427228</span> <a href=\"https://github.com/etcbc/peshitta/blob/master/source/0.1/Genesis\" title=\"Genesis\" sec=\"Genesis\"><span class=\"txtn\">Gn</span></a> </div> </div>"
      ],
      "text/plain": [
       "<IPython.core.display.HTML object>"
      ]
     },
     "metadata": {},
     "output_type": "display_data"
    },
    {
     "data": {
      "text/markdown": [
       "### chapter"
      ],
      "text/plain": [
       "<IPython.core.display.Markdown object>"
      ]
     },
     "metadata": {},
     "output_type": "display_data"
    },
    {
     "data": {
      "text/markdown": [
       "#### 427293"
      ],
      "text/plain": [
       "<IPython.core.display.Markdown object>"
      ]
     },
     "metadata": {},
     "output_type": "display_data"
    },
    {
     "data": {
      "text/markdown": [
       "##### plain"
      ],
      "text/plain": [
       "<IPython.core.display.Markdown object>"
      ]
     },
     "metadata": {},
     "output_type": "display_data"
    },
    {
     "data": {
      "text/html": [
       "<a href=\"https://github.com/etcbc/peshitta/blob/master/source/0.1/Genesis\" title=\"Genesis 1\" sec=\"Genesis 1\"><span class=\"plain outer rtl  \" ><span class=\"plain rtl\"><a href=\"https://github.com/etcbc/peshitta/blob/master/source/0.1/Genesis\" title=\"show this passage in the Peshitta source\" sec=\"Genesis 1\">Genesis 1</a></span></span></a>"
      ],
      "text/plain": [
       "<IPython.core.display.HTML object>"
      ]
     },
     "metadata": {},
     "output_type": "display_data"
    },
    {
     "data": {
      "text/markdown": [
       "##### pretty"
      ],
      "text/plain": [
       "<IPython.core.display.Markdown object>"
      ]
     },
     "metadata": {},
     "output_type": "display_data"
    },
    {
     "data": {
      "text/html": [
       "<div class=\"contnr c3 trm rtl  \" ><div class=\"lbl c3 trm \"><span class=\"nd\">chapter</span> <a href=\"https://github.com/etcbc/peshitta/blob/master/source/0.1/Genesis\" title=\"Genesis 1\" sec=\"Genesis 1\"><span class=\"txtn\">1</span></a> </div> </div>"
      ],
      "text/plain": [
       "<IPython.core.display.HTML object>"
      ]
     },
     "metadata": {},
     "output_type": "display_data"
    },
    {
     "data": {
      "text/markdown": [
       "##### plain `withPassage=False`"
      ],
      "text/plain": [
       "<IPython.core.display.Markdown object>"
      ]
     },
     "metadata": {},
     "output_type": "display_data"
    },
    {
     "data": {
      "text/html": [
       "<a href=\"https://github.com/etcbc/peshitta/blob/master/source/0.1/Genesis\" title=\"Genesis 1\" sec=\"Genesis 1\"><span class=\"plain outer rtl  \" ><span class=\"plain rtl\"><a href=\"https://github.com/etcbc/peshitta/blob/master/source/0.1/Genesis\" title=\"show this passage in the Peshitta source\" sec=\"Genesis 1\">Genesis 1</a></span></span></a>"
      ],
      "text/plain": [
       "<IPython.core.display.HTML object>"
      ]
     },
     "metadata": {},
     "output_type": "display_data"
    },
    {
     "data": {
      "text/markdown": [
       "##### pretty `withPassage=False`"
      ],
      "text/plain": [
       "<IPython.core.display.Markdown object>"
      ]
     },
     "metadata": {},
     "output_type": "display_data"
    },
    {
     "data": {
      "text/html": [
       "<div class=\"contnr c3 trm rtl  \" ><div class=\"lbl c3 trm \"><span class=\"nd\">chapter</span> <a href=\"https://github.com/etcbc/peshitta/blob/master/source/0.1/Genesis\" title=\"Genesis 1\" sec=\"Genesis 1\"><span class=\"txtn\">1</span></a> </div> </div>"
      ],
      "text/plain": [
       "<IPython.core.display.HTML object>"
      ]
     },
     "metadata": {},
     "output_type": "display_data"
    },
    {
     "data": {
      "text/markdown": [
       "##### plain `withNodes=True, withTypes=True`"
      ],
      "text/plain": [
       "<IPython.core.display.Markdown object>"
      ]
     },
     "metadata": {},
     "output_type": "display_data"
    },
    {
     "data": {
      "text/html": [
       "<a href=\"https://github.com/etcbc/peshitta/blob/master/source/0.1/Genesis\" title=\"Genesis 1\" sec=\"Genesis 1\"><span class=\"plain outer rtl  \" ><span class=\"nd\">chapter:427293</span><span class=\"plain rtl\"><a href=\"https://github.com/etcbc/peshitta/blob/master/source/0.1/Genesis\" title=\"show this passage in the Peshitta source\" sec=\"Genesis 1\">Genesis 1</a></span></span></a>"
      ],
      "text/plain": [
       "<IPython.core.display.HTML object>"
      ]
     },
     "metadata": {},
     "output_type": "display_data"
    },
    {
     "data": {
      "text/markdown": [
       "##### pretty `withNodes=True, withTypes=True`"
      ],
      "text/plain": [
       "<IPython.core.display.Markdown object>"
      ]
     },
     "metadata": {},
     "output_type": "display_data"
    },
    {
     "data": {
      "text/html": [
       "<div class=\"contnr c3 trm rtl  \" ><div class=\"lbl c3 trm \"><span class=\"nd\">chapter:427293</span> <a href=\"https://github.com/etcbc/peshitta/blob/master/source/0.1/Genesis\" title=\"Genesis 1\" sec=\"Genesis 1\"><span class=\"txtn\">1</span></a> </div> </div>"
      ],
      "text/plain": [
       "<IPython.core.display.HTML object>"
      ]
     },
     "metadata": {},
     "output_type": "display_data"
    },
    {
     "data": {
      "text/markdown": [
       "##### plain `withPassage=False, withNodes=True, withTypes=True`"
      ],
      "text/plain": [
       "<IPython.core.display.Markdown object>"
      ]
     },
     "metadata": {},
     "output_type": "display_data"
    },
    {
     "data": {
      "text/html": [
       "<a href=\"https://github.com/etcbc/peshitta/blob/master/source/0.1/Genesis\" title=\"Genesis 1\" sec=\"Genesis 1\"><span class=\"plain outer rtl  \" ><span class=\"nd\">chapter:427293</span><span class=\"plain rtl\"><a href=\"https://github.com/etcbc/peshitta/blob/master/source/0.1/Genesis\" title=\"show this passage in the Peshitta source\" sec=\"Genesis 1\">Genesis 1</a></span></span></a>"
      ],
      "text/plain": [
       "<IPython.core.display.HTML object>"
      ]
     },
     "metadata": {},
     "output_type": "display_data"
    },
    {
     "data": {
      "text/markdown": [
       "##### pretty `withPassage=False, withNodes=True, withTypes=True`"
      ],
      "text/plain": [
       "<IPython.core.display.Markdown object>"
      ]
     },
     "metadata": {},
     "output_type": "display_data"
    },
    {
     "data": {
      "text/html": [
       "<div class=\"contnr c3 trm rtl  \" ><div class=\"lbl c3 trm \"><span class=\"nd\">chapter:427293</span> <a href=\"https://github.com/etcbc/peshitta/blob/master/source/0.1/Genesis\" title=\"Genesis 1\" sec=\"Genesis 1\"><span class=\"txtn\">1</span></a> </div> </div>"
      ],
      "text/plain": [
       "<IPython.core.display.HTML object>"
      ]
     },
     "metadata": {},
     "output_type": "display_data"
    },
    {
     "data": {
      "text/markdown": [
       "### verse"
      ],
      "text/plain": [
       "<IPython.core.display.Markdown object>"
      ]
     },
     "metadata": {},
     "output_type": "display_data"
    },
    {
     "data": {
      "text/markdown": [
       "#### 428562"
      ],
      "text/plain": [
       "<IPython.core.display.Markdown object>"
      ]
     },
     "metadata": {},
     "output_type": "display_data"
    },
    {
     "data": {
      "text/markdown": [
       "##### plain"
      ],
      "text/plain": [
       "<IPython.core.display.Markdown object>"
      ]
     },
     "metadata": {},
     "output_type": "display_data"
    },
    {
     "data": {
      "text/html": [
       "<span class=\"psg ltr\"><a href=\"https://github.com/etcbc/peshitta/blob/master/source/0.1/Genesis\" title=\"show this passage in the Peshitta source\" sec=\"Genesis 1:1\">Genesis 1:1</a> </span><span class=\"plain outer rtl  \" ><span class=\"plain  rtl  \" ><span class=\"txtu syc\">ܒܪܫܝܬ </span></span><span class=\"plain  rtl  \" ><span class=\"txtu syc\">ܒܪܐ </span></span><span class=\"plain  rtl  \" ><span class=\"txtu syc\">ܐܠܗܐ. </span></span><span class=\"plain  rtl  \" ><span class=\"txtu syc\">ܝܬ </span></span><span class=\"plain  rtl  \" ><span class=\"txtu syc\">ܫܡܝܐ </span></span><span class=\"plain  rtl  \" ><span class=\"txtu syc\">ܘܝܬ </span></span><span class=\"plain  rtl  \" ><span class=\"txtu syc\">ܐܪܥܐ. </span></span></span>"
      ],
      "text/plain": [
       "<IPython.core.display.HTML object>"
      ]
     },
     "metadata": {},
     "output_type": "display_data"
    },
    {
     "data": {
      "text/markdown": [
       "##### pretty"
      ],
      "text/plain": [
       "<IPython.core.display.Markdown object>"
      ]
     },
     "metadata": {},
     "output_type": "display_data"
    },
    {
     "data": {
      "text/html": [
       "<span class=\"psg ltr\"><a href=\"https://github.com/etcbc/peshitta/blob/master/source/0.1/Genesis\" title=\"show this passage in the Peshitta source\" sec=\"Genesis 1:1\">Genesis 1:1</a> </span><div class=\"contnr c2  rtl  \" ><div class=\"lbl c2  \"><span class=\"nd\">verse</span> <a href=\"https://github.com/etcbc/peshitta/blob/master/source/0.1/Genesis\" title=\"Genesis 1:1\" sec=\"Genesis 1:1\"><span class=\"txtn\">1</span></a> </div> <div class=\"children row wrap rtl\"><div class=\"contnr c0 trm rtl  \" ><div class=\"lbl c0 trm \"> <span class=\"txtu syc\">ܒܪܫܝܬ </span> </div> </div><div class=\"contnr c0 trm rtl  \" ><div class=\"lbl c0 trm \"> <span class=\"txtu syc\">ܒܪܐ </span> </div> </div><div class=\"contnr c0 trm rtl  \" ><div class=\"lbl c0 trm \"> <span class=\"txtu syc\">ܐܠܗܐ. </span> </div> </div><div class=\"contnr c0 trm rtl  \" ><div class=\"lbl c0 trm \"> <span class=\"txtu syc\">ܝܬ </span> </div> </div><div class=\"contnr c0 trm rtl  \" ><div class=\"lbl c0 trm \"> <span class=\"txtu syc\">ܫܡܝܐ </span> </div> </div><div class=\"contnr c0 trm rtl  \" ><div class=\"lbl c0 trm \"> <span class=\"txtu syc\">ܘܝܬ </span> </div> </div><div class=\"contnr c0 trm rtl  \" ><div class=\"lbl c0 trm \"> <span class=\"txtu syc\">ܐܪܥܐ. </span> </div> </div></div></div>"
      ],
      "text/plain": [
       "<IPython.core.display.HTML object>"
      ]
     },
     "metadata": {},
     "output_type": "display_data"
    },
    {
     "data": {
      "text/markdown": [
       "##### plain `withPassage=False`"
      ],
      "text/plain": [
       "<IPython.core.display.Markdown object>"
      ]
     },
     "metadata": {},
     "output_type": "display_data"
    },
    {
     "data": {
      "text/html": [
       "<a href=\"https://github.com/etcbc/peshitta/blob/master/source/0.1/Genesis\" title=\"Genesis 1:1\" sec=\"Genesis 1:1\"><span class=\"plain outer rtl  \" ><span class=\"plain  rtl  \" ><span class=\"txtu syc\">ܒܪܫܝܬ </span></span><span class=\"plain  rtl  \" ><span class=\"txtu syc\">ܒܪܐ </span></span><span class=\"plain  rtl  \" ><span class=\"txtu syc\">ܐܠܗܐ. </span></span><span class=\"plain  rtl  \" ><span class=\"txtu syc\">ܝܬ </span></span><span class=\"plain  rtl  \" ><span class=\"txtu syc\">ܫܡܝܐ </span></span><span class=\"plain  rtl  \" ><span class=\"txtu syc\">ܘܝܬ </span></span><span class=\"plain  rtl  \" ><span class=\"txtu syc\">ܐܪܥܐ. </span></span></span></a>"
      ],
      "text/plain": [
       "<IPython.core.display.HTML object>"
      ]
     },
     "metadata": {},
     "output_type": "display_data"
    },
    {
     "data": {
      "text/markdown": [
       "##### pretty `withPassage=False`"
      ],
      "text/plain": [
       "<IPython.core.display.Markdown object>"
      ]
     },
     "metadata": {},
     "output_type": "display_data"
    },
    {
     "data": {
      "text/html": [
       "<div class=\"contnr c2  rtl  \" ><div class=\"lbl c2  \"><span class=\"nd\">verse</span> <a href=\"https://github.com/etcbc/peshitta/blob/master/source/0.1/Genesis\" title=\"Genesis 1:1\" sec=\"Genesis 1:1\"><span class=\"txtn\">1</span></a> </div> <div class=\"children row wrap rtl\"><div class=\"contnr c0 trm rtl  \" ><div class=\"lbl c0 trm \"> <span class=\"txtu syc\">ܒܪܫܝܬ </span> </div> </div><div class=\"contnr c0 trm rtl  \" ><div class=\"lbl c0 trm \"> <span class=\"txtu syc\">ܒܪܐ </span> </div> </div><div class=\"contnr c0 trm rtl  \" ><div class=\"lbl c0 trm \"> <span class=\"txtu syc\">ܐܠܗܐ. </span> </div> </div><div class=\"contnr c0 trm rtl  \" ><div class=\"lbl c0 trm \"> <span class=\"txtu syc\">ܝܬ </span> </div> </div><div class=\"contnr c0 trm rtl  \" ><div class=\"lbl c0 trm \"> <span class=\"txtu syc\">ܫܡܝܐ </span> </div> </div><div class=\"contnr c0 trm rtl  \" ><div class=\"lbl c0 trm \"> <span class=\"txtu syc\">ܘܝܬ </span> </div> </div><div class=\"contnr c0 trm rtl  \" ><div class=\"lbl c0 trm \"> <span class=\"txtu syc\">ܐܪܥܐ. </span> </div> </div></div></div>"
      ],
      "text/plain": [
       "<IPython.core.display.HTML object>"
      ]
     },
     "metadata": {},
     "output_type": "display_data"
    },
    {
     "data": {
      "text/markdown": [
       "##### plain `withNodes=True, withTypes=True`"
      ],
      "text/plain": [
       "<IPython.core.display.Markdown object>"
      ]
     },
     "metadata": {},
     "output_type": "display_data"
    },
    {
     "data": {
      "text/html": [
       "<span class=\"psg ltr\"><a href=\"https://github.com/etcbc/peshitta/blob/master/source/0.1/Genesis\" title=\"show this passage in the Peshitta source\" sec=\"Genesis 1:1\">Genesis 1:1</a> </span><span class=\"plain outer rtl  \" ><span class=\"nd\">verse:428562</span><span class=\"plain  rtl  \" ><span class=\"txtu syc\">ܒܪܫܝܬ </span></span><span class=\"plain  rtl  \" ><span class=\"txtu syc\">ܒܪܐ </span></span><span class=\"plain  rtl  \" ><span class=\"txtu syc\">ܐܠܗܐ. </span></span><span class=\"plain  rtl  \" ><span class=\"txtu syc\">ܝܬ </span></span><span class=\"plain  rtl  \" ><span class=\"txtu syc\">ܫܡܝܐ </span></span><span class=\"plain  rtl  \" ><span class=\"txtu syc\">ܘܝܬ </span></span><span class=\"plain  rtl  \" ><span class=\"txtu syc\">ܐܪܥܐ. </span></span></span>"
      ],
      "text/plain": [
       "<IPython.core.display.HTML object>"
      ]
     },
     "metadata": {},
     "output_type": "display_data"
    },
    {
     "data": {
      "text/markdown": [
       "##### pretty `withNodes=True, withTypes=True`"
      ],
      "text/plain": [
       "<IPython.core.display.Markdown object>"
      ]
     },
     "metadata": {},
     "output_type": "display_data"
    },
    {
     "data": {
      "text/html": [
       "<span class=\"psg ltr\"><a href=\"https://github.com/etcbc/peshitta/blob/master/source/0.1/Genesis\" title=\"show this passage in the Peshitta source\" sec=\"Genesis 1:1\">Genesis 1:1</a> </span><div class=\"contnr c2  rtl  \" ><div class=\"lbl c2  \"><span class=\"nd\">verse:428562</span> <a href=\"https://github.com/etcbc/peshitta/blob/master/source/0.1/Genesis\" title=\"Genesis 1:1\" sec=\"Genesis 1:1\"><span class=\"txtn\">1</span></a> </div> <div class=\"children row wrap rtl\"><div class=\"contnr c0 trm rtl  \" ><div class=\"lbl c0 trm \"><span class=\"nd\">1</span> <span class=\"txtu syc\">ܒܪܫܝܬ </span> </div> </div><div class=\"contnr c0 trm rtl  \" ><div class=\"lbl c0 trm \"><span class=\"nd\">2</span> <span class=\"txtu syc\">ܒܪܐ </span> </div> </div><div class=\"contnr c0 trm rtl  \" ><div class=\"lbl c0 trm \"><span class=\"nd\">3</span> <span class=\"txtu syc\">ܐܠܗܐ. </span> </div> </div><div class=\"contnr c0 trm rtl  \" ><div class=\"lbl c0 trm \"><span class=\"nd\">4</span> <span class=\"txtu syc\">ܝܬ </span> </div> </div><div class=\"contnr c0 trm rtl  \" ><div class=\"lbl c0 trm \"><span class=\"nd\">5</span> <span class=\"txtu syc\">ܫܡܝܐ </span> </div> </div><div class=\"contnr c0 trm rtl  \" ><div class=\"lbl c0 trm \"><span class=\"nd\">6</span> <span class=\"txtu syc\">ܘܝܬ </span> </div> </div><div class=\"contnr c0 trm rtl  \" ><div class=\"lbl c0 trm \"><span class=\"nd\">7</span> <span class=\"txtu syc\">ܐܪܥܐ. </span> </div> </div></div></div>"
      ],
      "text/plain": [
       "<IPython.core.display.HTML object>"
      ]
     },
     "metadata": {},
     "output_type": "display_data"
    },
    {
     "data": {
      "text/markdown": [
       "##### plain `withPassage=False, withNodes=True, withTypes=True`"
      ],
      "text/plain": [
       "<IPython.core.display.Markdown object>"
      ]
     },
     "metadata": {},
     "output_type": "display_data"
    },
    {
     "data": {
      "text/html": [
       "<a href=\"https://github.com/etcbc/peshitta/blob/master/source/0.1/Genesis\" title=\"Genesis 1:1\" sec=\"Genesis 1:1\"><span class=\"plain outer rtl  \" ><span class=\"nd\">verse:428562</span><span class=\"plain  rtl  \" ><span class=\"txtu syc\">ܒܪܫܝܬ </span></span><span class=\"plain  rtl  \" ><span class=\"txtu syc\">ܒܪܐ </span></span><span class=\"plain  rtl  \" ><span class=\"txtu syc\">ܐܠܗܐ. </span></span><span class=\"plain  rtl  \" ><span class=\"txtu syc\">ܝܬ </span></span><span class=\"plain  rtl  \" ><span class=\"txtu syc\">ܫܡܝܐ </span></span><span class=\"plain  rtl  \" ><span class=\"txtu syc\">ܘܝܬ </span></span><span class=\"plain  rtl  \" ><span class=\"txtu syc\">ܐܪܥܐ. </span></span></span></a>"
      ],
      "text/plain": [
       "<IPython.core.display.HTML object>"
      ]
     },
     "metadata": {},
     "output_type": "display_data"
    },
    {
     "data": {
      "text/markdown": [
       "##### pretty `withPassage=False, withNodes=True, withTypes=True`"
      ],
      "text/plain": [
       "<IPython.core.display.Markdown object>"
      ]
     },
     "metadata": {},
     "output_type": "display_data"
    },
    {
     "data": {
      "text/html": [
       "<div class=\"contnr c2  rtl  \" ><div class=\"lbl c2  \"><span class=\"nd\">verse:428562</span> <a href=\"https://github.com/etcbc/peshitta/blob/master/source/0.1/Genesis\" title=\"Genesis 1:1\" sec=\"Genesis 1:1\"><span class=\"txtn\">1</span></a> </div> <div class=\"children row wrap rtl\"><div class=\"contnr c0 trm rtl  \" ><div class=\"lbl c0 trm \"><span class=\"nd\">1</span> <span class=\"txtu syc\">ܒܪܫܝܬ </span> </div> </div><div class=\"contnr c0 trm rtl  \" ><div class=\"lbl c0 trm \"><span class=\"nd\">2</span> <span class=\"txtu syc\">ܒܪܐ </span> </div> </div><div class=\"contnr c0 trm rtl  \" ><div class=\"lbl c0 trm \"><span class=\"nd\">3</span> <span class=\"txtu syc\">ܐܠܗܐ. </span> </div> </div><div class=\"contnr c0 trm rtl  \" ><div class=\"lbl c0 trm \"><span class=\"nd\">4</span> <span class=\"txtu syc\">ܝܬ </span> </div> </div><div class=\"contnr c0 trm rtl  \" ><div class=\"lbl c0 trm \"><span class=\"nd\">5</span> <span class=\"txtu syc\">ܫܡܝܐ </span> </div> </div><div class=\"contnr c0 trm rtl  \" ><div class=\"lbl c0 trm \"><span class=\"nd\">6</span> <span class=\"txtu syc\">ܘܝܬ </span> </div> </div><div class=\"contnr c0 trm rtl  \" ><div class=\"lbl c0 trm \"><span class=\"nd\">7</span> <span class=\"txtu syc\">ܐܪܥܐ. </span> </div> </div></div></div>"
      ],
      "text/plain": [
       "<IPython.core.display.HTML object>"
      ]
     },
     "metadata": {},
     "output_type": "display_data"
    },
    {
     "data": {
      "text/markdown": [
       "### word"
      ],
      "text/plain": [
       "<IPython.core.display.Markdown object>"
      ]
     },
     "metadata": {},
     "output_type": "display_data"
    },
    {
     "data": {
      "text/markdown": [
       "#### 1"
      ],
      "text/plain": [
       "<IPython.core.display.Markdown object>"
      ]
     },
     "metadata": {},
     "output_type": "display_data"
    },
    {
     "data": {
      "text/markdown": [
       "##### plain"
      ],
      "text/plain": [
       "<IPython.core.display.Markdown object>"
      ]
     },
     "metadata": {},
     "output_type": "display_data"
    },
    {
     "data": {
      "text/html": [
       "<span class=\"psg ltr\"><a href=\"https://github.com/etcbc/peshitta/blob/master/source/0.1/Genesis\" title=\"show this passage in the Peshitta source\" sec=\"Genesis 1:1\">Genesis 1:1</a> </span><span class=\"plain outer rtl  \" ><span class=\"txtu syc\">ܒܪܫܝܬ </span></span>"
      ],
      "text/plain": [
       "<IPython.core.display.HTML object>"
      ]
     },
     "metadata": {},
     "output_type": "display_data"
    },
    {
     "data": {
      "text/markdown": [
       "##### pretty"
      ],
      "text/plain": [
       "<IPython.core.display.Markdown object>"
      ]
     },
     "metadata": {},
     "output_type": "display_data"
    },
    {
     "data": {
      "text/html": [
       "<span class=\"psg ltr\"><a href=\"https://github.com/etcbc/peshitta/blob/master/source/0.1/Genesis\" title=\"show this passage in the Peshitta source\" sec=\"Genesis 1:1\">Genesis 1:1</a> </span><div class=\"contnr c0 trm rtl  \" ><div class=\"lbl c0 trm \"> <a href=\"https://github.com/etcbc/peshitta/blob/master/source/0.1/Genesis\" title=\"Genesis 1:1\" sec=\"Genesis 1:1\"><span class=\"txtu syc\">ܒܪܫܝܬ </span></a> </div> </div>"
      ],
      "text/plain": [
       "<IPython.core.display.HTML object>"
      ]
     },
     "metadata": {},
     "output_type": "display_data"
    },
    {
     "data": {
      "text/markdown": [
       "##### plain `withPassage=False`"
      ],
      "text/plain": [
       "<IPython.core.display.Markdown object>"
      ]
     },
     "metadata": {},
     "output_type": "display_data"
    },
    {
     "data": {
      "text/html": [
       "<a href=\"https://github.com/etcbc/peshitta/blob/master/source/0.1/Genesis\" title=\"Genesis 1:1\" sec=\"Genesis 1:1\"><span class=\"plain outer rtl  \" ><span class=\"txtu syc\">ܒܪܫܝܬ </span></span></a>"
      ],
      "text/plain": [
       "<IPython.core.display.HTML object>"
      ]
     },
     "metadata": {},
     "output_type": "display_data"
    },
    {
     "data": {
      "text/markdown": [
       "##### pretty `withPassage=False`"
      ],
      "text/plain": [
       "<IPython.core.display.Markdown object>"
      ]
     },
     "metadata": {},
     "output_type": "display_data"
    },
    {
     "data": {
      "text/html": [
       "<div class=\"contnr c0 trm rtl  \" ><div class=\"lbl c0 trm \"> <a href=\"https://github.com/etcbc/peshitta/blob/master/source/0.1/Genesis\" title=\"Genesis 1:1\" sec=\"Genesis 1:1\"><span class=\"txtu syc\">ܒܪܫܝܬ </span></a> </div> </div>"
      ],
      "text/plain": [
       "<IPython.core.display.HTML object>"
      ]
     },
     "metadata": {},
     "output_type": "display_data"
    },
    {
     "data": {
      "text/markdown": [
       "##### plain `withNodes=True, withTypes=True`"
      ],
      "text/plain": [
       "<IPython.core.display.Markdown object>"
      ]
     },
     "metadata": {},
     "output_type": "display_data"
    },
    {
     "data": {
      "text/html": [
       "<span class=\"psg ltr\"><a href=\"https://github.com/etcbc/peshitta/blob/master/source/0.1/Genesis\" title=\"show this passage in the Peshitta source\" sec=\"Genesis 1:1\">Genesis 1:1</a> </span><span class=\"plain outer rtl  \" ><span class=\"nd\">1</span><span class=\"txtu syc\">ܒܪܫܝܬ </span></span>"
      ],
      "text/plain": [
       "<IPython.core.display.HTML object>"
      ]
     },
     "metadata": {},
     "output_type": "display_data"
    },
    {
     "data": {
      "text/markdown": [
       "##### pretty `withNodes=True, withTypes=True`"
      ],
      "text/plain": [
       "<IPython.core.display.Markdown object>"
      ]
     },
     "metadata": {},
     "output_type": "display_data"
    },
    {
     "data": {
      "text/html": [
       "<span class=\"psg ltr\"><a href=\"https://github.com/etcbc/peshitta/blob/master/source/0.1/Genesis\" title=\"show this passage in the Peshitta source\" sec=\"Genesis 1:1\">Genesis 1:1</a> </span><div class=\"contnr c0 trm rtl  \" ><div class=\"lbl c0 trm \"><span class=\"nd\">1</span> <a href=\"https://github.com/etcbc/peshitta/blob/master/source/0.1/Genesis\" title=\"Genesis 1:1\" sec=\"Genesis 1:1\"><span class=\"txtu syc\">ܒܪܫܝܬ </span></a> </div> </div>"
      ],
      "text/plain": [
       "<IPython.core.display.HTML object>"
      ]
     },
     "metadata": {},
     "output_type": "display_data"
    },
    {
     "data": {
      "text/markdown": [
       "##### plain `withPassage=False, withNodes=True, withTypes=True`"
      ],
      "text/plain": [
       "<IPython.core.display.Markdown object>"
      ]
     },
     "metadata": {},
     "output_type": "display_data"
    },
    {
     "data": {
      "text/html": [
       "<a href=\"https://github.com/etcbc/peshitta/blob/master/source/0.1/Genesis\" title=\"Genesis 1:1\" sec=\"Genesis 1:1\"><span class=\"plain outer rtl  \" ><span class=\"nd\">1</span><span class=\"txtu syc\">ܒܪܫܝܬ </span></span></a>"
      ],
      "text/plain": [
       "<IPython.core.display.HTML object>"
      ]
     },
     "metadata": {},
     "output_type": "display_data"
    },
    {
     "data": {
      "text/markdown": [
       "##### pretty `withPassage=False, withNodes=True, withTypes=True`"
      ],
      "text/plain": [
       "<IPython.core.display.Markdown object>"
      ]
     },
     "metadata": {},
     "output_type": "display_data"
    },
    {
     "data": {
      "text/html": [
       "<div class=\"contnr c0 trm rtl  \" ><div class=\"lbl c0 trm \"><span class=\"nd\">1</span> <a href=\"https://github.com/etcbc/peshitta/blob/master/source/0.1/Genesis\" title=\"Genesis 1:1\" sec=\"Genesis 1:1\"><span class=\"txtu syc\">ܒܪܫܝܬ </span></a> </div> </div>"
      ],
      "text/plain": [
       "<IPython.core.display.HTML object>"
      ]
     },
     "metadata": {},
     "output_type": "display_data"
    }
   ],
   "source": [
    "As.test(single, apps=\"peshitta\")"
   ]
  }
 ],
 "metadata": {
  "kernelspec": {
   "display_name": "Python 3",
   "language": "python",
   "name": "python3"
  },
  "language_info": {
   "codemirror_mode": {
    "name": "ipython",
    "version": 3
   },
   "file_extension": ".py",
   "mimetype": "text/x-python",
   "name": "python",
   "nbconvert_exporter": "python",
   "pygments_lexer": "ipython3",
   "version": "3.7.7"
  }
 },
 "nbformat": 4,
 "nbformat_minor": 4
}
