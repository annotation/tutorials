{
 "cells": [
  {
   "cell_type": "code",
   "execution_count": 1,
   "metadata": {},
   "outputs": [],
   "source": [
    "%load_ext autoreload\n",
    "%autoreload 2"
   ]
  },
  {
   "cell_type": "code",
   "execution_count": 2,
   "metadata": {},
   "outputs": [],
   "source": [
    "from tf.app import use\n",
    "from fixture import typeShow"
   ]
  },
  {
   "cell_type": "markdown",
   "metadata": {},
   "source": [
    "# DSS (Dead Sea Scrolls)"
   ]
  },
  {
   "cell_type": "code",
   "execution_count": 3,
   "metadata": {},
   "outputs": [
    {
     "data": {
      "text/html": [
       "<b title=\"local github\">TF-app:</b> <span title=\"repo clone offline under ~/github\">~/github/annotation/app-dss/code</span>"
      ],
      "text/plain": [
       "<IPython.core.display.HTML object>"
      ]
     },
     "metadata": {},
     "output_type": "display_data"
    },
    {
     "data": {
      "text/html": [
       "<b title=\"local github\">data:</b> <span title=\"repo clone offline under ~/github\">~/github/etcbc/dss/tf/0.6</span>"
      ],
      "text/plain": [
       "<IPython.core.display.HTML object>"
      ]
     },
     "metadata": {},
     "output_type": "display_data"
    },
    {
     "data": {
      "text/html": [
       "<b title=\"local github\">data:</b> <span title=\"repo clone offline under ~/github\">~/github/etcbc/dss/parallels/tf/0.6</span>"
      ],
      "text/plain": [
       "<IPython.core.display.HTML object>"
      ]
     },
     "metadata": {},
     "output_type": "display_data"
    },
    {
     "data": {
      "text/html": [
       "<b>Text-Fabric:</b> <a target=\"_blank\" href=\"https://annotation.github.io/text-fabric/cheatsheet.html\" title=\"text-fabric-api\">Text-Fabric API 8.3.0</a>, <a target=\"_blank\" href=\"https://github.com/annotation/app-dss\" title=\"dss TF-app\">app-dss</a>, <a target=\"_blank\" href=\"https://annotation.github.io/text-fabric/about/searchusage.html\" title=\"Search Templates Introduction and Reference\">Search Reference</a><br><b>Data:</b> <a target=\"_blank\" href=\"https://github.com/etcbc/dss/blob/master/docs/about.md\" title=\"provenance of Dead Sea Scrolls\">DSS</a>, <a target=\"_blank\" href=\"https://annotation.github.io/text-fabric/writing/hebrew.html\" title=\"How TF features represent text\">Character table</a>, <a target=\"_blank\" href=\"https://github.com/etcbc/dss/blob/master/docs\" title=\"DSS feature documentation\">Feature docs</a><br><b>Features:</b><br><details><summary><b>Parallel Passages</b></summary><b><i><a target=\"_blank\" href=\"https://nbviewer.jupyter.org/github/etcbc/dss/blob/master/programs/parallels.ipynb\" title=\"~/github/etcbc/dss/parallels/tf/0.6/sim.tf\">sim</a></i></b><br></details><details><summary><b>Dead Sea Scrolls</b></summary><a target=\"_blank\" href=\"https://github.com/etcbc/dss/blob/master/docs\" title=\"~/github/etcbc/dss/tf/0.6/after.tf\">after</a><br><a target=\"_blank\" href=\"https://github.com/etcbc/dss/blob/master/docs\" title=\"~/github/etcbc/dss/tf/0.6/alt.tf\">alt</a><br><a target=\"_blank\" href=\"https://github.com/etcbc/dss/blob/master/docs\" title=\"~/github/etcbc/dss/tf/0.6/biblical.tf\">biblical</a><br><a target=\"_blank\" href=\"https://github.com/etcbc/dss/blob/master/docs\" title=\"~/github/etcbc/dss/tf/0.6/book.tf\">book</a><br><a target=\"_blank\" href=\"https://github.com/etcbc/dss/blob/master/docs\" title=\"~/github/etcbc/dss/tf/0.6/chapter.tf\">chapter</a><br><a target=\"_blank\" href=\"https://github.com/etcbc/dss/blob/master/docs\" title=\"~/github/etcbc/dss/tf/0.6/cl.tf\">cl</a><br><a target=\"_blank\" href=\"https://github.com/etcbc/dss/blob/master/docs\" title=\"~/github/etcbc/dss/tf/0.6/cl2.tf\">cl2</a><br><a target=\"_blank\" href=\"https://github.com/etcbc/dss/blob/master/docs\" title=\"~/github/etcbc/dss/tf/0.6/cor.tf\">cor</a><br><a target=\"_blank\" href=\"https://github.com/etcbc/dss/blob/master/docs\" title=\"~/github/etcbc/dss/tf/0.6/fragment.tf\">fragment</a><br><a target=\"_blank\" href=\"https://github.com/etcbc/dss/blob/master/docs\" title=\"~/github/etcbc/dss/tf/0.6/full.tf\">full</a><br><a target=\"_blank\" href=\"https://github.com/etcbc/dss/blob/master/docs\" title=\"~/github/etcbc/dss/tf/0.6/fulle.tf\">fulle</a><br><a target=\"_blank\" href=\"https://github.com/etcbc/dss/blob/master/docs\" title=\"~/github/etcbc/dss/tf/0.6/fullo.tf\">fullo</a><br><a target=\"_blank\" href=\"https://github.com/etcbc/dss/blob/master/docs\" title=\"~/github/etcbc/dss/tf/0.6/glex.tf\">glex</a><br><a target=\"_blank\" href=\"https://github.com/etcbc/dss/blob/master/docs\" title=\"~/github/etcbc/dss/tf/0.6/glexe.tf\">glexe</a><br><a target=\"_blank\" href=\"https://github.com/etcbc/dss/blob/master/docs\" title=\"~/github/etcbc/dss/tf/0.6/glexo.tf\">glexo</a><br><a target=\"_blank\" href=\"https://github.com/etcbc/dss/blob/master/docs\" title=\"~/github/etcbc/dss/tf/0.6/glyph.tf\">glyph</a><br><a target=\"_blank\" href=\"https://github.com/etcbc/dss/blob/master/docs\" title=\"~/github/etcbc/dss/tf/0.6/glyphe.tf\">glyphe</a><br><a target=\"_blank\" href=\"https://github.com/etcbc/dss/blob/master/docs\" title=\"~/github/etcbc/dss/tf/0.6/glypho.tf\">glypho</a><br><a target=\"_blank\" href=\"https://github.com/etcbc/dss/blob/master/docs\" title=\"~/github/etcbc/dss/tf/0.6/gn.tf\">gn</a><br><a target=\"_blank\" href=\"https://github.com/etcbc/dss/blob/master/docs\" title=\"~/github/etcbc/dss/tf/0.6/gn2.tf\">gn2</a><br><a target=\"_blank\" href=\"https://github.com/etcbc/dss/blob/master/docs\" title=\"~/github/etcbc/dss/tf/0.6/gn3.tf\">gn3</a><br><a target=\"_blank\" href=\"https://github.com/etcbc/dss/blob/master/docs\" title=\"~/github/etcbc/dss/tf/0.6/halfverse.tf\">halfverse</a><br><a target=\"_blank\" href=\"https://github.com/etcbc/dss/blob/master/docs\" title=\"~/github/etcbc/dss/tf/0.6/intl.tf\">intl</a><br><a target=\"_blank\" href=\"https://github.com/etcbc/dss/blob/master/docs\" title=\"~/github/etcbc/dss/tf/0.6/lang.tf\">lang</a><br><a target=\"_blank\" href=\"https://github.com/etcbc/dss/blob/master/docs\" title=\"~/github/etcbc/dss/tf/0.6/lex.tf\">lex</a><br><a target=\"_blank\" href=\"https://github.com/etcbc/dss/blob/master/docs\" title=\"~/github/etcbc/dss/tf/0.6/lexe.tf\">lexe</a><br><a target=\"_blank\" href=\"https://github.com/etcbc/dss/blob/master/docs\" title=\"~/github/etcbc/dss/tf/0.6/lexo.tf\">lexo</a><br><a target=\"_blank\" href=\"https://github.com/etcbc/dss/blob/master/docs\" title=\"~/github/etcbc/dss/tf/0.6/line.tf\">line</a><br><a target=\"_blank\" href=\"https://github.com/etcbc/dss/blob/master/docs\" title=\"~/github/etcbc/dss/tf/0.6/md.tf\">md</a><br><a target=\"_blank\" href=\"https://github.com/etcbc/dss/blob/master/docs\" title=\"~/github/etcbc/dss/tf/0.6/merr.tf\">merr</a><br><a target=\"_blank\" href=\"https://github.com/etcbc/dss/blob/master/docs\" title=\"~/github/etcbc/dss/tf/0.6/morpho.tf\">morpho</a><br><a target=\"_blank\" href=\"https://github.com/etcbc/dss/blob/master/docs\" title=\"~/github/etcbc/dss/tf/0.6/nu.tf\">nu</a><br><a target=\"_blank\" href=\"https://github.com/etcbc/dss/blob/master/docs\" title=\"~/github/etcbc/dss/tf/0.6/nu2.tf\">nu2</a><br><a target=\"_blank\" href=\"https://github.com/etcbc/dss/blob/master/docs\" title=\"~/github/etcbc/dss/tf/0.6/nu3.tf\">nu3</a><br><a target=\"_blank\" href=\"https://github.com/etcbc/dss/blob/master/docs\" title=\"~/github/etcbc/dss/tf/0.6/otype.tf\">otype</a><br><a target=\"_blank\" href=\"https://github.com/etcbc/dss/blob/master/docs\" title=\"~/github/etcbc/dss/tf/0.6/ps.tf\">ps</a><br><a target=\"_blank\" href=\"https://github.com/etcbc/dss/blob/master/docs\" title=\"~/github/etcbc/dss/tf/0.6/ps2.tf\">ps2</a><br><a target=\"_blank\" href=\"https://github.com/etcbc/dss/blob/master/docs\" title=\"~/github/etcbc/dss/tf/0.6/ps3.tf\">ps3</a><br><a target=\"_blank\" href=\"https://github.com/etcbc/dss/blob/master/docs\" title=\"~/github/etcbc/dss/tf/0.6/punc.tf\">punc</a><br><a target=\"_blank\" href=\"https://github.com/etcbc/dss/blob/master/docs\" title=\"~/github/etcbc/dss/tf/0.6/punce.tf\">punce</a><br><a target=\"_blank\" href=\"https://github.com/etcbc/dss/blob/master/docs\" title=\"~/github/etcbc/dss/tf/0.6/punco.tf\">punco</a><br><a target=\"_blank\" href=\"https://github.com/etcbc/dss/blob/master/docs\" title=\"~/github/etcbc/dss/tf/0.6/rec.tf\">rec</a><br><a target=\"_blank\" href=\"https://github.com/etcbc/dss/blob/master/docs\" title=\"~/github/etcbc/dss/tf/0.6/rem.tf\">rem</a><br><a target=\"_blank\" href=\"https://github.com/etcbc/dss/blob/master/docs\" title=\"~/github/etcbc/dss/tf/0.6/script.tf\">script</a><br><a target=\"_blank\" href=\"https://github.com/etcbc/dss/blob/master/docs\" title=\"~/github/etcbc/dss/tf/0.6/scroll.tf\">scroll</a><br><a target=\"_blank\" href=\"https://github.com/etcbc/dss/blob/master/docs\" title=\"~/github/etcbc/dss/tf/0.6/sp.tf\">sp</a><br><a target=\"_blank\" href=\"https://github.com/etcbc/dss/blob/master/docs\" title=\"~/github/etcbc/dss/tf/0.6/srcLn.tf\">srcLn</a><br><a target=\"_blank\" href=\"https://github.com/etcbc/dss/blob/master/docs\" title=\"~/github/etcbc/dss/tf/0.6/st.tf\">st</a><br><a target=\"_blank\" href=\"https://github.com/etcbc/dss/blob/master/docs\" title=\"~/github/etcbc/dss/tf/0.6/type.tf\">type</a><br><a target=\"_blank\" href=\"https://github.com/etcbc/dss/blob/master/docs\" title=\"~/github/etcbc/dss/tf/0.6/unc.tf\">unc</a><br><a target=\"_blank\" href=\"https://github.com/etcbc/dss/blob/master/docs\" title=\"~/github/etcbc/dss/tf/0.6/vac.tf\">vac</a><br><a target=\"_blank\" href=\"https://github.com/etcbc/dss/blob/master/docs\" title=\"~/github/etcbc/dss/tf/0.6/verse.tf\">verse</a><br><a target=\"_blank\" href=\"https://github.com/etcbc/dss/blob/master/docs\" title=\"~/github/etcbc/dss/tf/0.6/vs.tf\">vs</a><br><a target=\"_blank\" href=\"https://github.com/etcbc/dss/blob/master/docs\" title=\"~/github/etcbc/dss/tf/0.6/vt.tf\">vt</a><br><b><i><a target=\"_blank\" href=\"https://github.com/etcbc/dss/blob/master/docs\" title=\"~/github/etcbc/dss/tf/0.6/occ.tf\">occ</a></i></b><br><b><i><a target=\"_blank\" href=\"https://github.com/etcbc/dss/blob/master/docs\" title=\"~/github/etcbc/dss/tf/0.6/oslots.tf\">oslots</a></i></b><br></details>"
      ],
      "text/plain": [
       "<IPython.core.display.HTML object>"
      ]
     },
     "metadata": {},
     "output_type": "display_data"
    },
    {
     "data": {
      "text/html": [
       "<style>tr.tf, td.tf, th.tf { text-align: left ! important;}@font-face {\n",
       "  font-family: \"Ezra SIL\";\n",
       "  src: local('Ezra SIL'), local('EzraSIL'),\n",
       "    url('/server/static/fonts/SILEOT.woff') format('woff'),\n",
       "    url('https://github.com/annotation/text-fabric/blob/master/tf/server/static/fonts/SILEOT.woff?raw=true') format('woff');\n",
       "}\n",
       "\n",
       "@font-face {\n",
       "  font-family: \"SBL Hebrew\";\n",
       "  src: local('SBL Hebrew'), local('SBLHebrew'),\n",
       "    url('/server/static/fonts/SBL_Hbrw.woff') format('woff'),\n",
       "    url('https://github.com/annotation/text-fabric/blob/master/tf/server/static/fonts/SBL_Hbrw.woff?raw=true') format('woff');\n",
       "}\n",
       "\n",
       "@font-face {\n",
       "  font-family: \"Estrangelo Edessa\";\n",
       "  src: local('Estrangelo Edessa'), local('EstrangeloEdessa');\n",
       "    url('/server/static/fonts/SyrCOMEdessa.woff') format('woff'),\n",
       "    url('https://github.com/annotation/text-fabric/blob/master/tf/server/static/fonts/SyrCOMEdessa.woff?raw=true') format('woff');\n",
       "}\n",
       "\n",
       "@font-face {\n",
       "  font-family: AmiriQuran;\n",
       "  font-style: normal;\n",
       "  font-weight: 400;\n",
       "  src: local('Amiri Quran'), local('AmiriQuran'),\n",
       "    url('/server/static/fonts/AmiriQuran.woff') format('woff'),\n",
       "    url('https://github.com/annotation/text-fabric/blob/master/tf/server/static/fonts/AmiriQuran.woff?raw=true') format('woff');\n",
       "}\n",
       "\n",
       "@font-face {\n",
       "  font-family: AmiriQuranColored;\n",
       "  font-style: normal;\n",
       "  font-weight: 400;\n",
       "  src: local('Amiri Quran Colored'), local('AmiriQuranColored'),\n",
       "    url('/server/static/fonts/AmiriQuranColored.woff') format('woff'),\n",
       "    url('https://github.com/annotation/text-fabric/blob/master/tf/server/static/fonts/AmiriQuranColored.woff?raw=true') format('woff');\n",
       "}\n",
       "\n",
       "@font-face {\n",
       "  font-family: \"Santakku\";\n",
       "  src: local('Santakku'),\n",
       "    url('/server/static/fonts/Santakku.woff') format('woff'),\n",
       "    url('https://github.com/annotation/text-fabric/blob/master/tf/server/static/fonts/Santakku.woff?raw=true') format('woff');\n",
       "}\n",
       "\n",
       "@font-face {\n",
       "  font-family: \"SantakkuM\";\n",
       "  src: local('SantakkuM'),\n",
       "    url('/server/static/fonts/SantakkuM.woff') format('woff'),\n",
       "    url('https://github.com/annotation/text-fabric/blob/master/tf/server/static/fonts/SantakkuM.woff?raw=true') format('woff');\n",
       "}\n",
       "/* bypassing some classical notebook settings */\n",
       "div#notebook {\n",
       "  line-height: unset;\n",
       "}\n",
       "/* neutral text */\n",
       ".txtn,.txtn a:visited,.txtn a:link {\n",
       "    font-family: sans-serif;\n",
       "    font-size: medium;\n",
       "    direction: ltr;\n",
       "    text-decoration: none;\n",
       "    color: var(--text-color);\n",
       "}\n",
       "/* transcription text */\n",
       ".txtt,.txtt a:visited,.txtt a:link {\n",
       "    font-family: monospace;\n",
       "    font-size: medium;\n",
       "    direction: ltr;\n",
       "    text-decoration: none;\n",
       "    color: var(--text-color);\n",
       "}\n",
       "/* source text */\n",
       ".txto,.txto a:visited,.txto a:link {\n",
       "    font-family: serif;\n",
       "    font-size: medium;\n",
       "    direction: ltr;\n",
       "    text-decoration: none;\n",
       "    color: var(--text-color);\n",
       "}\n",
       "/* phonetic text */\n",
       ".txtp,.txtp a:visited,.txtp a:link {\n",
       "    font-family: Gentium, sans-serif;\n",
       "    font-size: medium;\n",
       "    direction: ltr;\n",
       "    text-decoration: none;\n",
       "    color: var(--text-color);\n",
       "}\n",
       "/* original script text */\n",
       ".txtu,.txtu a:visited,.txtu a:link {\n",
       "    font-family: Gentium, sans-serif;\n",
       "    font-size: medium;\n",
       "    text-decoration: none;\n",
       "    color: var(--text-color);\n",
       "}\n",
       "/* hebrew */\n",
       ".txtu.hbo,.lex.hbo {\n",
       "    font-family: \"Ezra SIL\", \"SBL Hebrew\", sans-serif;\n",
       "    font-size: large;\n",
       "    direction: rtl ! important;\n",
       "    unicode-bidi: embed;\n",
       "}\n",
       "/* syriac */\n",
       ".txtu.syc,.lex.syc {\n",
       "    font-family: \"Estrangelo Edessa\", sans-serif;\n",
       "    font-size: medium;\n",
       "    direction: rtl ! important;\n",
       "    unicode-bidi: embed;\n",
       "}\n",
       "/* neo aramaic */\n",
       ".txtu.cld,.lex.cld {\n",
       "    font-family: \"CharisSIL-R\", sans-serif;\n",
       "    font-size: medium;\n",
       "    direction: ltr ! important;\n",
       "    unicode-bidi: embed;\n",
       "}\n",
       "/* standard arabic */\n",
       ".txtu.ara,.lex.ara {\n",
       "    font-family: \"AmiriQuran\", sans-serif;\n",
       "    font-size: large;\n",
       "    direction: rtl ! important;\n",
       "    unicode-bidi: embed;\n",
       "}\n",
       "/* cuneiform */\n",
       ".txtu.akk,.lex.akk {\n",
       "    font-family: Santakku, sans-serif;\n",
       "    font-size: large;\n",
       "    direction: ltr ! important;\n",
       "    unicode-bidi: embed;\n",
       "}\n",
       "/* greek */\n",
       ".txtu.grc,.lex.grc a:link {\n",
       "    font-family: Gentium, sans-serif;\n",
       "    font-size: medium;\n",
       "    direction: ltr ! important;\n",
       "    unicode-bidi: embed;\n",
       "}\n",
       "a:hover {\n",
       "    text-decoration: underline | important;\n",
       "    color: #0000ff | important;\n",
       "}\n",
       ".ltr {\n",
       "    direction: ltr ! important;\n",
       "}\n",
       ".rtl {\n",
       "    direction: rtl ! important;\n",
       "}\n",
       "span.plain {\n",
       "    display: inline-block;\n",
       "    white-space: pre-wrap;\n",
       "}\n",
       ".features {\n",
       "    font-family: monospace;\n",
       "    font-size: medium;\n",
       "    font-weight: bold;\n",
       "    color: var(--features);\n",
       "    display: flex;\n",
       "    flex-flow: column nowrap;\n",
       "    justify-content: flex-start;\n",
       "    align-items: flex-start;\n",
       "    align-content: flex-start;\n",
       "    padding: 0.1rem;\n",
       "    margin: 0.1rem;\n",
       "    direction: ltr;\n",
       "    border: var(--meta-width) solid var(--meta-color);\n",
       "    border-radius: var(--meta-width);\n",
       "}\n",
       ".features div,.features span {\n",
       "    padding: 0;\n",
       "    margin: -0.1rem 0;\n",
       "}\n",
       ".features .f {\n",
       "    font-family: sans-serif;\n",
       "    font-size: small;\n",
       "    font-weight: normal;\n",
       "    color: #5555bb;\n",
       "}\n",
       ".features .xft {\n",
       "  color: #000000;\n",
       "  background-color: #eeeeee;\n",
       "  font-size: medium;\n",
       "  margin: 0.1rem 0rem;\n",
       "}\n",
       ".features .xft .f {\n",
       "  color: #000000;\n",
       "  background-color: #eeeeee;\n",
       "  font-size: small;\n",
       "  font-weight: normal;\n",
       "}\n",
       ".section {\n",
       "    font-family: sans-serif;\n",
       "    font-size: small;\n",
       "    font-weight: bold;\n",
       "    color: var(--section);\n",
       "    unicode-bidi: embed;\n",
       "    text-align: start;\n",
       "}\n",
       ".structure {\n",
       "    font-family: sans-serif;\n",
       "    font-size: small;\n",
       "    font-weight: bold;\n",
       "    color: var(--structure);\n",
       "    unicode-bidi: embed;\n",
       "    text-align: start;\n",
       "}\n",
       ".comments {\n",
       "    display: flex;\n",
       "    justify-content: flex-start;\n",
       "    align-items: flex-start;\n",
       "    align-content: flex-start;\n",
       "    flex-flow: column nowrap;\n",
       "}\n",
       ".nd, a:link.nd {\n",
       "    font-family: sans-serif;\n",
       "    font-size: small;\n",
       "    color: var(--node);\n",
       "    vertical-align: super;\n",
       "    direction: ltr ! important;\n",
       "    unicode-bidi: embed;\n",
       "}\n",
       ".lex {\n",
       "  color: var(--lex-color);;\n",
       "}\n",
       ".children,.children.ltr {\n",
       "    display: flex;\n",
       "    border: 0;\n",
       "    background-color: #ffffff;\n",
       "    justify-content: flex-start;\n",
       "    align-items: flex-start;\n",
       "    align-content: flex-start;\n",
       "}\n",
       ".children.stretch {\n",
       "    align-items: stretch;\n",
       "}\n",
       ".children.hor {\n",
       "    flex-flow: row nowrap;\n",
       "}\n",
       ".children.hor.wrap {\n",
       "    flex-flow: row wrap;\n",
       "}\n",
       ".children.ver {\n",
       "    flex-flow: column nowrap;\n",
       "}\n",
       ".children.ver.wrap {\n",
       "    flex-flow: column wrap;\n",
       "}\n",
       ".contnr {\n",
       "    width: fit-content;\n",
       "    display: flex;\n",
       "    justify-content: flex-start;\n",
       "    align-items: flex-start;\n",
       "    align-content: flex-start;\n",
       "    flex-flow: column nowrap;\n",
       "    background: #ffffff none repeat scroll 0 0;\n",
       "    padding:  0.5rem 0.1rem 0.1rem 0.1rem;\n",
       "    margin: 0.8rem 0.1rem 0.1rem 0.1rem;\n",
       "    border-style: solid;\n",
       "    font-size: small;\n",
       "}\n",
       ".contnr.trm {\n",
       "    background-attachment: local;\n",
       "}\n",
       ".contnr.cnul {\n",
       "    padding:  0;\n",
       "    margin: 0;\n",
       "    border-style: solid;\n",
       "    font-size: xx-small;\n",
       "}\n",
       ".contnr.cnul,.lbl.cnul {\n",
       "    border-color: var(--border-color-nul);\n",
       "    border-width: var(--border-width-nul);\n",
       "    border-radius: var(--border-width-nul);\n",
       "}\n",
       ".contnr.c0,.lbl.c0 {\n",
       "    border-color: var(--border-color0);\n",
       "    border-width: var(--border-width0);\n",
       "    border-radius: var(--border-width0);\n",
       "}\n",
       ".contnr.c1,.lbl.c1 {\n",
       "    border-color: var(--border-color1);\n",
       "    border-width: var(--border-width1);\n",
       "    border-radius: var(--border-width1);\n",
       "}\n",
       ".contnr.c2,.lbl.c2 {\n",
       "    border-color: var(--border-color2);\n",
       "    border-width: var(--border-width2);\n",
       "    border-radius: var(--border-width2);\n",
       "}\n",
       ".contnr.c3,.lbl.c3 {\n",
       "    border-color: var(--border-color3);\n",
       "    border-width: var(--border-width3);\n",
       "    border-radius: var(--border-width3);\n",
       "}\n",
       ".contnr.c4,.lbl.c4 {\n",
       "    border-color: var(--border-color4);\n",
       "    border-width: var(--border-width4);\n",
       "    border-radius: var(--border-width4);\n",
       "}\n",
       ".plain.l,.contnr.l,.contnr.l>.lbl {\n",
       "    border-left-style: dotted\n",
       "}\n",
       ".plain.r,.contnr.r,.contnr.r>.lbl {\n",
       "    border-right-style: dotted\n",
       "}\n",
       ".plain.lno,.contnr.lno,.contnr.lno>.lbl {\n",
       "    border-left-style: none\n",
       "}\n",
       ".plain.rno,.contnr.rno,.contnr.rno>.lbl {\n",
       "    border-right-style: none\n",
       "}\n",
       ".plain.l {\n",
       "    padding-left: 0.2rem;\n",
       "    margin-left: 0.1rem;\n",
       "    border-width: var(--border-width-plain);\n",
       "}\n",
       ".plain.r {\n",
       "    padding-right: 0.2rem;\n",
       "    margin-right: 0.1rem;\n",
       "    border-width: var(--border-width-plain);\n",
       "}\n",
       ".lbl {\n",
       "    font-family: monospace;\n",
       "    margin-top: -1.2rem;\n",
       "    margin-left: 1rem;\n",
       "    background: #ffffff none repeat scroll 0 0;\n",
       "    padding: 0 0.3rem;\n",
       "    border-style: solid;\n",
       "    display: block;\n",
       "    color: var(--label)\n",
       "}\n",
       ".lbl.trm {\n",
       "    background-attachment: local;\n",
       "    margin-top: 0.1rem;\n",
       "    margin-left: 0.1rem;\n",
       "    padding: 0.1rem 0.1rem;\n",
       "    border-style: none;\n",
       "}\n",
       ".lbl.cnul {\n",
       "    font-size: xx-small;\n",
       "}\n",
       ".lbl.c0 {\n",
       "    font-size: small;\n",
       "}\n",
       ".lbl.c1 {\n",
       "    font-size: small;\n",
       "}\n",
       ".lbl.c2 {\n",
       "    font-size: medium;\n",
       "}\n",
       ".lbl.c3 {\n",
       "    font-size: medium;\n",
       "}\n",
       ".lbl.c4 {\n",
       "    font-size: large;\n",
       "}\n",
       ".occs, a:link.occs {\n",
       "    font-size: small;\n",
       "}\n",
       "\n",
       "/* PROVENANCE */\n",
       "\n",
       "div.prov {\n",
       "\tmargin: 2rem;\n",
       "\tpadding: 1rem;\n",
       "\tborder: 0.1rem solid var(--fog-rim);\n",
       "}\n",
       "div.pline {\n",
       "\tdisplay: flex;\n",
       "\tflex-flow: row nowrap;\n",
       "\tjustify-content: stretch;\n",
       "\talign-items: baseline;\n",
       "}\n",
       "div.p2line {\n",
       "\tmargin-left: 2em;\n",
       "\tdisplay: flex;\n",
       "\tflex-flow: row nowrap;\n",
       "\tjustify-content: stretch;\n",
       "\talign-items: baseline;\n",
       "}\n",
       "div.psline {\n",
       "\tdisplay: flex;\n",
       "\tflex-flow: row nowrap;\n",
       "\tjustify-content: stretch;\n",
       "\talign-items: baseline;\n",
       "\tbackground-color: var(--gold-mist-back);\n",
       "}\n",
       "div.pname {\n",
       "\tflex: 0 0 5rem;\n",
       "\tfont-weight: bold;\n",
       "}\n",
       "div.pval {\n",
       "    flex: 1 1 auto;\n",
       "}\n",
       "\n",
       ":root {\n",
       "\t--node:               hsla(120, 100%,  20%, 1.0  );\n",
       "\t--label:              hsla(  0, 100%,  20%, 1.0  );\n",
       "\t--section:            hsla(  0, 100%,  25%, 1.0  );\n",
       "\t--structure:          hsla(120, 100%,  25%, 1.0  );\n",
       "\t--features:           hsla(  0,   0%,  30%, 1.0  );\n",
       "  --text-color:         hsla( 60,  80%,  10%, 1.0  );\n",
       "  --lex-color:          hsla(220,  90%,  60%, 1.0  );\n",
       "  --meta-color:         hsla(  0,   0%,  90%, 0.7  );\n",
       "  --meta-width:         0.15rem;\n",
       "  --border-color-nul:   hsla(  0,   0%,  90%, 0.5  );\n",
       "  --border-color0:      hsla(  0,   0%,  90%, 0.9  );\n",
       "  --border-color1:      hsla(  0,   0%,  80%, 0.9  );\n",
       "  --border-color2:      hsla(  0,   0%,  70%, 0.9  );\n",
       "  --border-color3:      hsla(  0,   0%,  80%, 0.8  );\n",
       "  --border-color4:      hsla(  0,   0%,  60%, 0.9  );\n",
       "  --border-width-nul:   0.1rem;\n",
       "  --border-width0:      0.1rem;\n",
       "  --border-width1:      0.15rem;\n",
       "  --border-width2:      0.2rem;\n",
       "  --border-width3:      0.3rem;\n",
       "  --border-width4:      0.25rem;\n",
       "  --border-width-plain: 0.1rem;\n",
       "}\n",
       ".hl {\n",
       "  background-color: var(--hl-strong);\n",
       "}\n",
       "span.hl {\n",
       "\tbackground-color: var(--hl-strong);\n",
       "\tborder-width: 0;\n",
       "\tborder-radius: 0.1rem;\n",
       "\tborder-style: solid;\n",
       "}\n",
       "div.contnr.hl,div.lbl.hl {\n",
       "  background-color: var(--hl-strong);\n",
       "}\n",
       "div.contnr.hl {\n",
       "  border-color: var(--hl-rim) ! important;\n",
       "\tborder-width: 0.2rem ! important;\n",
       "}\n",
       "\n",
       "span.hlbx {\n",
       "\tborder-color: var(--hl-rim);\n",
       "\tborder-width: 0.2rem ! important;\n",
       "\tborder-style: solid;\n",
       "\tborder-radius: 0.3rem;\n",
       "  padding: 0.2rem;\n",
       "  margin: 0.2rem;\n",
       "}\n",
       "\n",
       "span.plain {\n",
       "  display: inline-block;\n",
       "  white-space: pre-wrap;\n",
       "}\n",
       "\n",
       ":root {\n",
       "\t--hl-strong:        hsla( 60, 100%,  70%, 0.9  );\n",
       "\t--hl-rim:           hsla( 55,  80%,  50%, 1.0  );\n",
       "}\n",
       ".full,.glyph,.punc {\n",
       "    font-family: \"Ezra SIL\", \"SBL Hebrew\", sans-serif;\n",
       "}\n",
       ".scriptpaleohebrew {\n",
       "    border: 1px dashed navy;\n",
       "}\n",
       ".scriptgreekcapital {\n",
       "    border: 1px dashed brown;\n",
       "}\n",
       ".langa {\n",
       "    text-decoration: underline;\n",
       "}\n",
       ".intl1 {\n",
       "    vertical-align: -0.25em;\n",
       "}\n",
       ".intl2 {\n",
       "    vertical-align: -0.5em;\n",
       "}\n",
       ".langg {\n",
       "    font-family: serif;\n",
       "    text-decoration: underline;\n",
       "}\n",
       ".vac1 {\n",
       "    background-color: #aaaaaa;\n",
       "    border 2pt solid #dd3333;\n",
       "    border-radius: 4pt;\n",
       "}\n",
       ".rem1 {\n",
       "    font-weight: bold;\n",
       "    color: red;\n",
       "    text-decoration: line-through;\n",
       "}\n",
       ".rem2 {\n",
       "    font-weight: bold;\n",
       "    color: maroon;\n",
       "    text-decoration: line-through;\n",
       "}\n",
       ".rec1 {\n",
       "    color: teal;\n",
       "    font-size: 80%;\n",
       "}\n",
       ".cor1 {\n",
       "    font-weight: bold;\n",
       "    color: dodgerblue;\n",
       "    text-decoration: overline;\n",
       "}\n",
       ".cor2 {\n",
       "    font-weight: bold;\n",
       "    color: navy;\n",
       "    text-decoration: overline;\n",
       "}\n",
       ".cor3 {\n",
       "    font-weight: bold;\n",
       "    color: navy;\n",
       "    text-decoration: overline;\n",
       "    vertical-align: super;\n",
       "}\n",
       ".alt1 {\n",
       "    text-decoration: overline;\n",
       "}\n",
       "\n",
       "/* UNSURE: italic*/\n",
       "\n",
       ".unc1 {\n",
       "    font-weight: bold;\n",
       "    color: #888888;\n",
       "}\n",
       ".unc2 {\n",
       "    font-weight: bold;\n",
       "    color: #bbbbbb;\n",
       "}\n",
       ".unc3 {\n",
       "    font-weight: bold;\n",
       "    color: #bbbbbb;\n",
       "    text-shadow: #cccccc 1px 1px;\n",
       "}\n",
       ".unc4 {\n",
       "    font-weight: bold;\n",
       "    color: #dddddd;\n",
       "    text-shadow: #eeeeee 2px 2px;\n",
       "}\n",
       "\n",
       ".empty {\n",
       "  color: #ff0000;\n",
       "}\n",
       "\n",
       "</style>"
      ],
      "text/plain": [
       "<IPython.core.display.HTML object>"
      ]
     },
     "metadata": {},
     "output_type": "display_data"
    },
    {
     "data": {
      "text/html": [
       "<div><b>Text-Fabric API:</b> names <a target=\"_blank\" href=\"https://annotation.github.io/text-fabric/cheatsheet.html\" title=\"doc\">N F E L T S C TF</a> directly usable</div><hr>"
      ],
      "text/plain": [
       "<IPython.core.display.HTML object>"
      ]
     },
     "metadata": {},
     "output_type": "display_data"
    }
   ],
   "source": [
    "A = use(\"dss:clone\", checkout=\"clone\", hoist=globals())"
   ]
  },
  {
   "cell_type": "code",
   "execution_count": null,
   "metadata": {},
   "outputs": [],
   "source": [
    "A.reuse()"
   ]
  },
  {
   "cell_type": "code",
   "execution_count": 4,
   "metadata": {},
   "outputs": [
    {
     "data": {
      "text/markdown": [
       "<details open><summary><b>dss</b> <i>app context</i></summary>\n",
       "\n",
       "<details ><summary>12. childType</summary>\n",
       "\n",
       "\n",
       "*   **`cluster`**: \n",
       "    *   `word`\n",
       "*   **`fragment`**: \n",
       "    *   `line`\n",
       "*   **`line`**: \n",
       "    *   `cluster`\n",
       "*   **`scroll`**: \n",
       "    *   `fragment`\n",
       "*   **`word`**: \n",
       "    *   `sign`\n",
       "\n",
       "</details>\n",
       "<details ><summary>19. descendantType</summary>\n",
       "\n",
       "\n",
       "*   **`cluster`**: \n",
       "    *   `cluster`\n",
       "    *   `sign`\n",
       "    *   `word`\n",
       "*   **`fragment`**: \n",
       "    *   `cluster`\n",
       "    *   `fragment`\n",
       "    *   `line`\n",
       "    *   `sign`\n",
       "    *   `word`\n",
       "*   **`line`**: \n",
       "    *   `cluster`\n",
       "    *   `line`\n",
       "    *   `sign`\n",
       "    *   `word`\n",
       "*   **`scroll`**: \n",
       "    *   `cluster`\n",
       "    *   `fragment`\n",
       "    *   `line`\n",
       "    *   `scroll`\n",
       "    *   `sign`\n",
       "    *   `word`\n",
       "*   **`word`**: \n",
       "    *   `sign`\n",
       "    *   `word`\n",
       "\n",
       "</details>\n",
       "</details>\n"
      ],
      "text/plain": [
       "<IPython.core.display.Markdown object>"
      ]
     },
     "metadata": {},
     "output_type": "display_data"
    }
   ],
   "source": [
    "A.showContext(\"childType\", \"descendantType\")"
   ]
  },
  {
   "cell_type": "code",
   "execution_count": 5,
   "metadata": {},
   "outputs": [],
   "source": [
    "examplefragment = (\"1Q1\", \"f1\")\n",
    "f = T.nodeFromSection(examplefragment)\n",
    "lines = L.d(f, otype=\"line\")\n",
    "words = L.d(f, otype=\"word\")\n",
    "signs = L.d(f, otype=\"sign\")\n",
    "ln = lines[0]"
   ]
  },
  {
   "cell_type": "code",
   "execution_count": 6,
   "metadata": {},
   "outputs": [
    {
     "data": {
      "text/html": [
       "<div class=\"rtl\"><span class=\"section rtl\"><a target=\"_blank\" href=\"https://www.deadseascrolls.org.il/explore-the-archive/search#q='1Q1'\" title=\"Show this scroll in the Leon Levy library\" sec=\"1Q1 f1:1\">1Q1 f1:1</a></span>  <span class=\"txtu hbo\">ו</span><span class=\"txtu hbo\">י</span><span class=\"txtu hbo\">ר</span><span class=\"txtu hbo\">א </span><span class=\"txtu hbo\">א</span><span class=\"txtu hbo\">ל</span><span class=\"txtu hbo\">ה</span><span class=\"txtu hbo\">י</span><span class=\"txtu hbo\">ם </span><span class=\"txtu hbo\">כ</span><span class=\"txtu hbo\">י </span><span class=\"txtu hbo\">ט</span><span class=\"txtu hbo\">ו</span><span class=\"txtu hbo\">ב </span><span class=\"txtu hbo\">׃ </span><span class=\"txtu hbo\">ו</span><span class=\"txtu hbo\">י</span><span class=\"txtu hbo\">ה</span><span class=\"txtu hbo\">י </span><span class=\"txtu hbo\">ע</span><span class=\"txtu hbo\">ר</span><span class=\"txtu hbo\">ב </span><span class=\"txtu hbo\">ו</span><span class=\"txtu hbo\">י</span><span class=\"txtu hbo\">ה</span><span class=\"txtu hbo\">י </span><span class=\"txtu hbo\">ב</span><span class=\"txtu hbo\">ק</span><span class=\"txtu hbo\">ר </span><span class=\"txtu hbo\">י</span><span class=\"txtu hbo\">ו</span><span class=\"txtu hbo\">ם </span><span class=\"txtu hbo\">ר</span><span class=\"txtu hbo\">ב</span><span class=\"txtu hbo\">י</span><span class=\"txtu hbo\">ע</span><span class=\"txtu hbo\">י </span><span class=\"txtu hbo\">׃ </span><span class=\"txtu hbo\">ו</span><span class=\"txtu hbo\">י</span><span class=\"txtu hbo\">א</span><span class=\"txtu hbo\">מ</span><span class=\"txtu hbo\">ר </span></div>"
      ],
      "text/plain": [
       "<IPython.core.display.HTML object>"
      ]
     },
     "metadata": {},
     "output_type": "display_data"
    }
   ],
   "source": [
    "A.plain(ln)"
   ]
  },
  {
   "cell_type": "code",
   "execution_count": 7,
   "metadata": {},
   "outputs": [
    {
     "data": {
      "text/html": [
       "<div class=\"section rtl\"><a target=\"_blank\" href=\"https://www.deadseascrolls.org.il/explore-the-archive/search#q='1Q1'\" title=\"Show this scroll in the Leon Levy library\" sec=\"1Q1 f1:1\">1Q1 f1:1</a></div><div class=\"rtl children\"><div class=\"contnr c3  rtl  \" ><div class=\"lbl c3  \" ><span class=\"nd\">line</span></div><div class=\"children hor wrap rtl\"><div class=\"contnr c2  rtl  \" ><div class=\"lbl c2  \" ><span class=\"nd\">cluster</span></div><div class=\"children hor wrap rtl\"><div class=\"contnr c1 trm rtl  \" ><div class=\"lbl c1 trm \" ><span class=\"nd\">word</span> <a target=\"_blank\" href=\"https://www.deadseascrolls.org.il/explore-the-archive\" title=\"Show this scroll in the Leon Levy library\"><span class=\"txtu hbo\"><span class=\"txtu hbo\">ו</span></span></a></div></div><div class=\"contnr c1 trm rtl  \" ><div class=\"lbl c1 trm \" ><span class=\"nd\">word</span> <a target=\"_blank\" href=\"https://www.deadseascrolls.org.il/explore-the-archive\" title=\"Show this scroll in the Leon Levy library\"><span class=\"txtu hbo\"><span class=\"txtu hbo\">י</span><span class=\"txtu hbo\">ר</span><span class=\"txtu hbo\">א </span></span></a></div></div><div class=\"contnr c1 trm rtl lno \" ><div class=\"lbl c1 trm \" ><span class=\"nd\">word</span> <a target=\"_blank\" href=\"https://www.deadseascrolls.org.il/explore-the-archive\" title=\"Show this scroll in the Leon Levy library\"><span class=\"txtu hbo\"><span class=\"txtu hbo\">א</span><span class=\"txtu hbo\">ל</span></span></a></div></div></div></div><div class=\"contnr c1 trm rtl rno \" ><div class=\"lbl c1 trm \" ><span class=\"nd\">word</span> <a target=\"_blank\" href=\"https://www.deadseascrolls.org.il/explore-the-archive\" title=\"Show this scroll in the Leon Levy library\"><span class=\"txtu hbo\"><span class=\"txtu hbo\">ה</span><span class=\"txtu hbo\">י</span><span class=\"txtu hbo\">ם </span></span></a></div></div><div class=\"contnr c1 trm rtl  \" ><div class=\"lbl c1 trm \" ><span class=\"nd\">word</span> <a target=\"_blank\" href=\"https://www.deadseascrolls.org.il/explore-the-archive\" title=\"Show this scroll in the Leon Levy library\"><span class=\"txtu hbo\"><span class=\"txtu hbo\">כ</span><span class=\"txtu hbo\">י </span></span></a></div></div><div class=\"contnr c2  rtl  \" ><div class=\"lbl c2  \" ><span class=\"nd\">cluster</span></div><div class=\"children hor wrap rtl\"><div class=\"contnr c1 trm rtl  \" ><div class=\"lbl c1 trm \" ><span class=\"nd\">word</span> <a target=\"_blank\" href=\"https://www.deadseascrolls.org.il/explore-the-archive\" title=\"Show this scroll in the Leon Levy library\"><span class=\"txtu hbo\"><span class=\"txtu hbo\">ט</span><span class=\"txtu hbo\">ו</span><span class=\"txtu hbo\">ב </span></span></a></div></div><div class=\"contnr c1 trm rtl  \" ><div class=\"lbl c1 trm \" ><span class=\"nd\">word</span> <span class=\"txtu hbo\"><span class=\"txtu hbo\">׃ </span></span></div></div><div class=\"contnr c1 trm rtl  \" ><div class=\"lbl c1 trm \" ><span class=\"nd\">word</span> <a target=\"_blank\" href=\"https://www.deadseascrolls.org.il/explore-the-archive\" title=\"Show this scroll in the Leon Levy library\"><span class=\"txtu hbo\"><span class=\"txtu hbo\">ו</span></span></a></div></div><div class=\"contnr c1 trm rtl  \" ><div class=\"lbl c1 trm \" ><span class=\"nd\">word</span> <a target=\"_blank\" href=\"https://www.deadseascrolls.org.il/explore-the-archive\" title=\"Show this scroll in the Leon Levy library\"><span class=\"txtu hbo\"><span class=\"txtu hbo\">י</span><span class=\"txtu hbo\">ה</span><span class=\"txtu hbo\">י </span></span></a></div></div><div class=\"contnr c1 trm rtl  \" ><div class=\"lbl c1 trm \" ><span class=\"nd\">word</span> <a target=\"_blank\" href=\"https://www.deadseascrolls.org.il/explore-the-archive\" title=\"Show this scroll in the Leon Levy library\"><span class=\"txtu hbo\"><span class=\"txtu hbo\">ע</span><span class=\"txtu hbo\">ר</span><span class=\"txtu hbo\">ב </span></span></a></div></div><div class=\"contnr c1 trm rtl  \" ><div class=\"lbl c1 trm \" ><span class=\"nd\">word</span> <a target=\"_blank\" href=\"https://www.deadseascrolls.org.il/explore-the-archive\" title=\"Show this scroll in the Leon Levy library\"><span class=\"txtu hbo\"><span class=\"txtu hbo\">ו</span></span></a></div></div><div class=\"contnr c1 trm rtl  \" ><div class=\"lbl c1 trm \" ><span class=\"nd\">word</span> <a target=\"_blank\" href=\"https://www.deadseascrolls.org.il/explore-the-archive\" title=\"Show this scroll in the Leon Levy library\"><span class=\"txtu hbo\"><span class=\"txtu hbo\">י</span><span class=\"txtu hbo\">ה</span><span class=\"txtu hbo\">י </span></span></a></div></div><div class=\"contnr c1 trm rtl  \" ><div class=\"lbl c1 trm \" ><span class=\"nd\">word</span> <a target=\"_blank\" href=\"https://www.deadseascrolls.org.il/explore-the-archive\" title=\"Show this scroll in the Leon Levy library\"><span class=\"txtu hbo\"><span class=\"txtu hbo\">ב</span><span class=\"txtu hbo\">ק</span><span class=\"txtu hbo\">ר </span></span></a></div></div><div class=\"contnr c1 trm rtl  \" ><div class=\"lbl c1 trm \" ><span class=\"nd\">word</span> <a target=\"_blank\" href=\"https://www.deadseascrolls.org.il/explore-the-archive\" title=\"Show this scroll in the Leon Levy library\"><span class=\"txtu hbo\"><span class=\"txtu hbo\">י</span><span class=\"txtu hbo\">ו</span><span class=\"txtu hbo\">ם </span></span></a></div></div><div class=\"contnr c1 trm rtl  \" ><div class=\"lbl c1 trm \" ><span class=\"nd\">word</span> <a target=\"_blank\" href=\"https://www.deadseascrolls.org.il/explore-the-archive\" title=\"Show this scroll in the Leon Levy library\"><span class=\"txtu hbo\"><span class=\"txtu hbo\">ר</span><span class=\"txtu hbo\">ב</span><span class=\"txtu hbo\">י</span><span class=\"txtu hbo\">ע</span><span class=\"txtu hbo\">י </span></span></a></div></div><div class=\"contnr c1 trm rtl  \" ><div class=\"lbl c1 trm \" ><span class=\"nd\">word</span> <span class=\"txtu hbo\"><span class=\"txtu hbo\">׃ </span></span></div></div><div class=\"contnr c1 trm rtl  \" ><div class=\"lbl c1 trm \" ><span class=\"nd\">word</span> <a target=\"_blank\" href=\"https://www.deadseascrolls.org.il/explore-the-archive\" title=\"Show this scroll in the Leon Levy library\"><span class=\"txtu hbo\"><span class=\"txtu hbo\">ו</span></span></a></div></div><div class=\"contnr c1 trm rtl  \" ><div class=\"lbl c1 trm \" ><span class=\"nd\">word</span> <a target=\"_blank\" href=\"https://www.deadseascrolls.org.il/explore-the-archive\" title=\"Show this scroll in the Leon Levy library\"><span class=\"txtu hbo\"><span class=\"txtu hbo\">י</span><span class=\"txtu hbo\">א</span><span class=\"txtu hbo\">מ</span><span class=\"txtu hbo\">ר </span></span></a></div></div></div></div></div></div></div>"
      ],
      "text/plain": [
       "<IPython.core.display.HTML object>"
      ]
     },
     "metadata": {},
     "output_type": "display_data"
    }
   ],
   "source": [
    "A.pretty(ln)"
   ]
  },
  {
   "cell_type": "code",
   "execution_count": 8,
   "metadata": {},
   "outputs": [],
   "source": [
    "lx = F.otype.s(\"lex\")[1]"
   ]
  },
  {
   "cell_type": "code",
   "execution_count": 9,
   "metadata": {},
   "outputs": [
    {
     "data": {
      "text/html": [
       "<div class=\"rtl\"><span class=\"section rtl\"><a target=\"_blank\" href=\"https://www.deadseascrolls.org.il/explore-the-archive\" title=\"Show this scroll in the Leon Levy library\">h-עַתָּה-&lt;AT.@H-oAt;Dh </a></span>  <span class=\"txtu hbo rtl\">h-עַתָּה-&lt;AT.@H-oAt;Dh </span></div>"
      ],
      "text/plain": [
       "<IPython.core.display.HTML object>"
      ]
     },
     "metadata": {},
     "output_type": "display_data"
    }
   ],
   "source": [
    "A.plain(lx)"
   ]
  },
  {
   "cell_type": "code",
   "execution_count": 10,
   "metadata": {},
   "outputs": [
    {
     "data": {
      "text/html": [
       "<div class=\"section rtl\"><a target=\"_blank\" href=\"https://www.deadseascrolls.org.il/explore-the-archive\" title=\"Show this scroll in the Leon Levy library\">h-עַתָּה-&lt;AT.@H-oAt;Dh </a></div><div class=\"rtl children\"><div class=\"contnr c0 trm rtl  \" ><div class=\"lbl c0 trm \" ><span class=\"nd\">lex</span> <span class=\"txtu hbo\">h-עַתָּה-&lt;AT.@H-oAt;Dh </span></div><div class=\"occs\"><a target=\"_blank\" href=\"https://www.deadseascrolls.org.il/explore-the-archive/search#q='CD'\" title=\"Show this scroll in the Leon Levy library\" sec=\"CD 1:1\">CD 1:1</a> - <a target=\"_blank\" href=\"https://www.deadseascrolls.org.il/explore-the-archive/search#q='5/6hev1b'\" title=\"Show this scroll in the Leon Levy library\" sec=\"5/6hev1b f1iv+3:5\">5/6hev1b f1iv+3:5</a></div></div></div>"
      ],
      "text/plain": [
       "<IPython.core.display.HTML object>"
      ]
     },
     "metadata": {},
     "output_type": "display_data"
    }
   ],
   "source": [
    "A.pretty(lx)"
   ]
  },
  {
   "cell_type": "code",
   "execution_count": 11,
   "metadata": {},
   "outputs": [],
   "source": [
    "w = 101\n",
    "fmts = \"\"\"\n",
    "    layout-source-full\n",
    "    layout-trans-full\n",
    "    layout-orig-full\n",
    "\"\"\".strip().split()"
   ]
  },
  {
   "cell_type": "code",
   "execution_count": 12,
   "metadata": {},
   "outputs": [
    {
     "data": {
      "text/html": [
       "<div class=\"ltr\"><span class=\"section ltr\"><a target=\"_blank\" href=\"https://www.deadseascrolls.org.il/explore-the-archive/search#q='CD'\" title=\"Show this scroll in the Leon Levy library\" sec=\"CD 1:3\">CD 1:3</a></span>  <span class=\"txto\">C</span></div>"
      ],
      "text/plain": [
       "<IPython.core.display.HTML object>"
      ]
     },
     "metadata": {},
     "output_type": "display_data"
    },
    {
     "data": {
      "text/html": [
       "<div class=\"ltr\"><span class=\"section ltr\"><a target=\"_blank\" href=\"https://www.deadseascrolls.org.il/explore-the-archive/search#q='CD'\" title=\"Show this scroll in the Leon Levy library\" sec=\"CD 1:3\">CD 1:3</a></span>  <span class=\"txtt\">#</span></div>"
      ],
      "text/plain": [
       "<IPython.core.display.HTML object>"
      ]
     },
     "metadata": {},
     "output_type": "display_data"
    },
    {
     "data": {
      "text/html": [
       "<div class=\"rtl\"><span class=\"section rtl\"><a target=\"_blank\" href=\"https://www.deadseascrolls.org.il/explore-the-archive/search#q='CD'\" title=\"Show this scroll in the Leon Levy library\" sec=\"CD 1:3\">CD 1:3</a></span>  <span class=\"txtu hbo\">ש</span></div>"
      ],
      "text/plain": [
       "<IPython.core.display.HTML object>"
      ]
     },
     "metadata": {},
     "output_type": "display_data"
    }
   ],
   "source": [
    "for fmt in fmts:\n",
    "    A.plain(w, fmt=fmt)"
   ]
  },
  {
   "cell_type": "code",
   "execution_count": 13,
   "metadata": {},
   "outputs": [
    {
     "data": {
      "text/html": [
       "<div class=\"section ltr\"><a target=\"_blank\" href=\"https://www.deadseascrolls.org.il/explore-the-archive/search#q='CD'\" title=\"Show this scroll in the Leon Levy library\" sec=\"CD 1:3\">CD 1:3</a></div><div class=\"ltr children\"><div class=\"contnr c0 trm ltr  \" ><div class=\"lbl c0 trm \" ><span class=\"txto\">C</span></div></div></div>"
      ],
      "text/plain": [
       "<IPython.core.display.HTML object>"
      ]
     },
     "metadata": {},
     "output_type": "display_data"
    },
    {
     "data": {
      "text/html": [
       "<div class=\"section ltr\"><a target=\"_blank\" href=\"https://www.deadseascrolls.org.il/explore-the-archive/search#q='CD'\" title=\"Show this scroll in the Leon Levy library\" sec=\"CD 1:3\">CD 1:3</a></div><div class=\"ltr children\"><div class=\"contnr c0 trm ltr  \" ><div class=\"lbl c0 trm \" ><span class=\"txtt\">#</span></div></div></div>"
      ],
      "text/plain": [
       "<IPython.core.display.HTML object>"
      ]
     },
     "metadata": {},
     "output_type": "display_data"
    },
    {
     "data": {
      "text/html": [
       "<div class=\"section rtl\"><a target=\"_blank\" href=\"https://www.deadseascrolls.org.il/explore-the-archive/search#q='CD'\" title=\"Show this scroll in the Leon Levy library\" sec=\"CD 1:3\">CD 1:3</a></div><div class=\"rtl children\"><div class=\"contnr c0 trm rtl  \" ><div class=\"lbl c0 trm \" ><span class=\"txtu hbo\">ש</span></div></div></div>"
      ],
      "text/plain": [
       "<IPython.core.display.HTML object>"
      ]
     },
     "metadata": {},
     "output_type": "display_data"
    }
   ],
   "source": [
    "for fmt in fmts:\n",
    "    A.pretty(w, fmt=fmt)"
   ]
  },
  {
   "cell_type": "code",
   "execution_count": 14,
   "metadata": {},
   "outputs": [
    {
     "data": {
      "text/markdown": [
       "### scroll 1605868\n"
      ],
      "text/plain": [
       "<IPython.core.display.Markdown object>"
      ]
     },
     "metadata": {},
     "output_type": "display_data"
    },
    {
     "data": {
      "text/html": [
       "<div class=\"rtl\"><span class=\"section rtl\"><a target=\"_blank\" href=\"https://www.deadseascrolls.org.il/explore-the-archive/search#q='CD'\" title=\"Show this scroll in the Leon Levy library\" sec=\"CD\">CD</a></span>  <span class=\"txtu hbo rtl\"><span class=\"section\"> </span></span></div>"
      ],
      "text/plain": [
       "<IPython.core.display.HTML object>"
      ]
     },
     "metadata": {},
     "output_type": "display_data"
    },
    {
     "data": {
      "text/html": [
       "<div class=\"section rtl\"><a target=\"_blank\" href=\"https://www.deadseascrolls.org.il/explore-the-archive/search#q='CD'\" title=\"Show this scroll in the Leon Levy library\" sec=\"CD\">CD</a></div><div class=\"rtl children\"><div class=\"contnr c4 trm rtl  \" ><div class=\"lbl c4 trm \" ><span class=\"txtu hbo\"><span class=\"section\">CD</span></span></div></div></div>"
      ],
      "text/plain": [
       "<IPython.core.display.HTML object>"
      ]
     },
     "metadata": {},
     "output_type": "display_data"
    },
    {
     "data": {
      "text/markdown": [
       "### lex 1542523\n"
      ],
      "text/plain": [
       "<IPython.core.display.Markdown object>"
      ]
     },
     "metadata": {},
     "output_type": "display_data"
    },
    {
     "data": {
      "text/html": [
       "<div class=\"rtl\"><span class=\"section rtl\"><a target=\"_blank\" href=\"https://www.deadseascrolls.org.il/explore-the-archive\" title=\"Show this scroll in the Leon Levy library\">h-וְ-W:-w◊ </a></span>  <span class=\"txtu hbo rtl\">h-וְ-W:-w◊ </span></div>"
      ],
      "text/plain": [
       "<IPython.core.display.HTML object>"
      ]
     },
     "metadata": {},
     "output_type": "display_data"
    },
    {
     "data": {
      "text/html": [
       "<div class=\"section rtl\"><a target=\"_blank\" href=\"https://www.deadseascrolls.org.il/explore-the-archive\" title=\"Show this scroll in the Leon Levy library\">h-וְ-W:-w◊ </a></div><div class=\"rtl children\"><div class=\"contnr c0 trm rtl  \" ><div class=\"lbl c0 trm \" ><span class=\"txtu hbo\">h-וְ-W:-w◊ </span></div><div class='features'><span class=\"lexo \" title=\"lexo\">w◊</span><span class=\"lex \" ><span class=\"f\">lex=</span>וְ</span><span class=\"lexe \" ><span class=\"f\">lexe=</span>W:</span></div><div class=\"occs\"><a target=\"_blank\" href=\"https://www.deadseascrolls.org.il/explore-the-archive/search#q='CD'\" title=\"Show this scroll in the Leon Levy library\" sec=\"CD 1:1\">CD 1:1</a> - <a target=\"_blank\" href=\"https://www.deadseascrolls.org.il/explore-the-archive/search#q='Xjudges'\" title=\"Show this scroll in the Leon Levy library\" sec=\"Xjudges f3_7i:11\">Xjudges f3_7i:11</a></div></div></div>"
      ],
      "text/plain": [
       "<IPython.core.display.HTML object>"
      ]
     },
     "metadata": {},
     "output_type": "display_data"
    },
    {
     "data": {
      "text/markdown": [
       "### fragment 1531341\n"
      ],
      "text/plain": [
       "<IPython.core.display.Markdown object>"
      ]
     },
     "metadata": {},
     "output_type": "display_data"
    },
    {
     "data": {
      "text/html": [
       "<div class=\"rtl\"><span class=\"section rtl\"><a target=\"_blank\" href=\"https://www.deadseascrolls.org.il/explore-the-archive/search#q='CD'\" title=\"Show this scroll in the Leon Levy library\" sec=\"CD 1\">CD 1</a></span>  <span class=\"txtu hbo rtl\"><span class=\"section\"> </span></span></div>"
      ],
      "text/plain": [
       "<IPython.core.display.HTML object>"
      ]
     },
     "metadata": {},
     "output_type": "display_data"
    },
    {
     "data": {
      "text/html": [
       "<div class=\"section rtl\"><a target=\"_blank\" href=\"https://www.deadseascrolls.org.il/explore-the-archive/search#q='CD'\" title=\"Show this scroll in the Leon Levy library\" sec=\"CD 1\">CD 1</a></div><div class=\"rtl children\"><div class=\"contnr c4 trm rtl  \" ><div class=\"lbl c4 trm \" ><span class=\"txtu hbo\"><span class=\"section\">CD 1</span></span></div></div></div>"
      ],
      "text/plain": [
       "<IPython.core.display.HTML object>"
      ]
     },
     "metadata": {},
     "output_type": "display_data"
    },
    {
     "data": {
      "text/markdown": [
       "### line 1552973\n"
      ],
      "text/plain": [
       "<IPython.core.display.Markdown object>"
      ]
     },
     "metadata": {},
     "output_type": "display_data"
    },
    {
     "data": {
      "text/html": [
       "<div class=\"rtl\"><span class=\"section rtl\"><a target=\"_blank\" href=\"https://www.deadseascrolls.org.il/explore-the-archive/search#q='CD'\" title=\"Show this scroll in the Leon Levy library\" sec=\"CD 1:1\">CD 1:1</a></span>  <span class=\"txtu hbo\">  </span><span class=\"txtu hbo\">ו</span><span class=\"txtu hbo\">ע</span><span class=\"txtu hbo\">ת</span><span class=\"txtu hbo\">ה </span><span class=\"txtu hbo\">ש</span><span class=\"txtu hbo\">מ</span><span class=\"txtu hbo\">ע</span><span class=\"txtu hbo\">ו </span><span class=\"txtu hbo\">כ</span><span class=\"txtu hbo\">ל </span><span class=\"txtu hbo\">י</span><span class=\"txtu hbo\">ו</span><span class=\"txtu hbo\">ד</span><span class=\"txtu hbo\">ע</span><span class=\"txtu hbo\">י </span><span class=\"txtu hbo\">צ</span><span class=\"txtu hbo\">ד</span><span class=\"txtu hbo\">ק </span><span class=\"txtu hbo\">ו</span><span class=\"txtu hbo\">ב</span><span class=\"txtu hbo\">י</span><span class=\"txtu hbo\">נ</span><span class=\"txtu hbo\">ו </span><span class=\"txtu hbo\">ב</span><span class=\"txtu hbo\">מ</span><span class=\"txtu hbo\">ע</span><span class=\"txtu hbo\">ש</span><span class=\"txtu hbo\">י </span></div>"
      ],
      "text/plain": [
       "<IPython.core.display.HTML object>"
      ]
     },
     "metadata": {},
     "output_type": "display_data"
    },
    {
     "data": {
      "text/html": [
       "<div class=\"section rtl\"><a target=\"_blank\" href=\"https://www.deadseascrolls.org.il/explore-the-archive/search#q='CD'\" title=\"Show this scroll in the Leon Levy library\" sec=\"CD 1:1\">CD 1:1</a></div><div class=\"rtl children\"><div class=\"contnr c3  rtl  \" ><div class=\"children hor wrap rtl\"><div class=\"contnr c2  rtl  \" ><div class=\"lbl c2  \" ><span class=\"txtu hbo\"><span title=\"type\">vac</span></span></div><div class=\"children hor wrap rtl\"><div class=\"contnr c0 trm rtl  \" ><div class=\"lbl c0 trm \" ><span class=\"txtu hbo\">  </span></div></div></div></div><div class=\"contnr c1  rtl  \" ><div class=\"lbl c1  \" ><a target=\"_blank\" href=\"https://www.deadseascrolls.org.il/explore-the-archive\" title=\"Show this scroll in the Leon Levy library\"><span class=\"txtu hbo\">ו</span></a></div><div class=\"children hor  rtl\"><div class=\"contnr c0 trm rtl  \" ><div class=\"lbl c0 trm \" ><span class=\"txtu hbo\">ו</span></div></div></div></div><div class=\"contnr c1  rtl  \" ><div class=\"lbl c1  \" ><a target=\"_blank\" href=\"https://www.deadseascrolls.org.il/explore-the-archive\" title=\"Show this scroll in the Leon Levy library\"><span class=\"txtu hbo\">עתה </span></a></div><div class=\"children hor  rtl\"><div class=\"contnr c0 trm rtl  \" ><div class=\"lbl c0 trm \" ><span class=\"txtu hbo\">ע</span></div></div><div class=\"contnr c0 trm rtl  \" ><div class=\"lbl c0 trm \" ><span class=\"txtu hbo\">ת</span></div></div><div class=\"contnr c0 trm rtl  \" ><div class=\"lbl c0 trm \" ><span class=\"txtu hbo\">ה </span></div></div></div></div><div class=\"contnr c1  rtl  \" ><div class=\"lbl c1  \" ><a target=\"_blank\" href=\"https://www.deadseascrolls.org.il/explore-the-archive\" title=\"Show this scroll in the Leon Levy library\"><span class=\"txtu hbo\">שמעו </span></a></div><div class=\"children hor  rtl\"><div class=\"contnr c0 trm rtl  \" ><div class=\"lbl c0 trm \" ><span class=\"txtu hbo\">ש</span></div></div><div class=\"contnr c0 trm rtl  \" ><div class=\"lbl c0 trm \" ><span class=\"txtu hbo\">מ</span></div></div><div class=\"contnr c0 trm rtl  \" ><div class=\"lbl c0 trm \" ><span class=\"txtu hbo\">ע</span></div></div><div class=\"contnr c0 trm rtl  \" ><div class=\"lbl c0 trm \" ><span class=\"txtu hbo\">ו </span></div></div></div></div><div class=\"contnr c1  rtl  \" ><div class=\"lbl c1  \" ><a target=\"_blank\" href=\"https://www.deadseascrolls.org.il/explore-the-archive\" title=\"Show this scroll in the Leon Levy library\"><span class=\"txtu hbo\">כל </span></a></div><div class=\"children hor  rtl\"><div class=\"contnr c0 trm rtl  \" ><div class=\"lbl c0 trm \" ><span class=\"txtu hbo\">כ</span></div></div><div class=\"contnr c0 trm rtl  \" ><div class=\"lbl c0 trm \" ><span class=\"txtu hbo\">ל </span></div></div></div></div><div class=\"contnr c1  rtl  \" ><div class=\"lbl c1  \" ><a target=\"_blank\" href=\"https://www.deadseascrolls.org.il/explore-the-archive\" title=\"Show this scroll in the Leon Levy library\"><span class=\"txtu hbo\">יודעי </span></a></div><div class=\"children hor  rtl\"><div class=\"contnr c0 trm rtl  \" ><div class=\"lbl c0 trm \" ><span class=\"txtu hbo\">י</span></div></div><div class=\"contnr c0 trm rtl  \" ><div class=\"lbl c0 trm \" ><span class=\"txtu hbo\">ו</span></div></div><div class=\"contnr c0 trm rtl  \" ><div class=\"lbl c0 trm \" ><span class=\"txtu hbo\">ד</span></div></div><div class=\"contnr c0 trm rtl  \" ><div class=\"lbl c0 trm \" ><span class=\"txtu hbo\">ע</span></div></div><div class=\"contnr c0 trm rtl  \" ><div class=\"lbl c0 trm \" ><span class=\"txtu hbo\">י </span></div></div></div></div><div class=\"contnr c1  rtl  \" ><div class=\"lbl c1  \" ><a target=\"_blank\" href=\"https://www.deadseascrolls.org.il/explore-the-archive\" title=\"Show this scroll in the Leon Levy library\"><span class=\"txtu hbo\">צדק </span></a></div><div class=\"children hor  rtl\"><div class=\"contnr c0 trm rtl  \" ><div class=\"lbl c0 trm \" ><span class=\"txtu hbo\">צ</span></div></div><div class=\"contnr c0 trm rtl  \" ><div class=\"lbl c0 trm \" ><span class=\"txtu hbo\">ד</span></div></div><div class=\"contnr c0 trm rtl  \" ><div class=\"lbl c0 trm \" ><span class=\"txtu hbo\">ק </span></div></div></div></div><div class=\"contnr c1  rtl  \" ><div class=\"lbl c1  \" ><a target=\"_blank\" href=\"https://www.deadseascrolls.org.il/explore-the-archive\" title=\"Show this scroll in the Leon Levy library\"><span class=\"txtu hbo\">ו</span></a></div><div class=\"children hor  rtl\"><div class=\"contnr c0 trm rtl  \" ><div class=\"lbl c0 trm \" ><span class=\"txtu hbo\">ו</span></div></div></div></div><div class=\"contnr c1  rtl  \" ><div class=\"lbl c1  \" ><a target=\"_blank\" href=\"https://www.deadseascrolls.org.il/explore-the-archive\" title=\"Show this scroll in the Leon Levy library\"><span class=\"txtu hbo\">בינו </span></a></div><div class=\"children hor  rtl\"><div class=\"contnr c0 trm rtl  \" ><div class=\"lbl c0 trm \" ><span class=\"txtu hbo\">ב</span></div></div><div class=\"contnr c0 trm rtl  \" ><div class=\"lbl c0 trm \" ><span class=\"txtu hbo\">י</span></div></div><div class=\"contnr c0 trm rtl  \" ><div class=\"lbl c0 trm \" ><span class=\"txtu hbo\">נ</span></div></div><div class=\"contnr c0 trm rtl  \" ><div class=\"lbl c0 trm \" ><span class=\"txtu hbo\">ו </span></div></div></div></div><div class=\"contnr c1  rtl  \" ><div class=\"lbl c1  \" ><a target=\"_blank\" href=\"https://www.deadseascrolls.org.il/explore-the-archive\" title=\"Show this scroll in the Leon Levy library\"><span class=\"txtu hbo\">ב</span></a></div><div class=\"children hor  rtl\"><div class=\"contnr c0 trm rtl  \" ><div class=\"lbl c0 trm \" ><span class=\"txtu hbo\">ב</span></div></div></div></div><div class=\"contnr c1  rtl  \" ><div class=\"lbl c1  \" ><a target=\"_blank\" href=\"https://www.deadseascrolls.org.il/explore-the-archive\" title=\"Show this scroll in the Leon Levy library\"><span class=\"txtu hbo\">מעשי </span></a></div><div class=\"children hor  rtl\"><div class=\"contnr c0 trm rtl  \" ><div class=\"lbl c0 trm \" ><span class=\"txtu hbo\">מ</span></div></div><div class=\"contnr c0 trm rtl  \" ><div class=\"lbl c0 trm \" ><span class=\"txtu hbo\">ע</span></div></div><div class=\"contnr c0 trm rtl  \" ><div class=\"lbl c0 trm \" ><span class=\"txtu hbo\">ש</span></div></div><div class=\"contnr c0 trm rtl  \" ><div class=\"lbl c0 trm \" ><span class=\"txtu hbo\">י </span></div></div></div></div></div></div></div>"
      ],
      "text/plain": [
       "<IPython.core.display.HTML object>"
      ]
     },
     "metadata": {},
     "output_type": "display_data"
    },
    {
     "data": {
      "text/markdown": [
       "### cluster 1430242\n"
      ],
      "text/plain": [
       "<IPython.core.display.Markdown object>"
      ]
     },
     "metadata": {},
     "output_type": "display_data"
    },
    {
     "data": {
      "text/html": [
       "<div class=\"rtl\"><span class=\"section rtl\"><a target=\"_blank\" href=\"https://www.deadseascrolls.org.il/explore-the-archive/search#q='CD'\" title=\"Show this scroll in the Leon Levy library\" sec=\"CD 1:1\">CD 1:1</a></span>  <span class=\"txtu hbo\">  </span></div>"
      ],
      "text/plain": [
       "<IPython.core.display.HTML object>"
      ]
     },
     "metadata": {},
     "output_type": "display_data"
    },
    {
     "data": {
      "text/html": [
       "<div class=\"section rtl\"><a target=\"_blank\" href=\"https://www.deadseascrolls.org.il/explore-the-archive/search#q='CD'\" title=\"Show this scroll in the Leon Levy library\" sec=\"CD 1:1\">CD 1:1</a></div><div class=\"rtl children\"><div class=\"contnr c2  rtl  \" ><div class=\"lbl c2  \" ><span class=\"txtu hbo\"><span title=\"type\">vac</span></span></div><div class=\"children hor wrap rtl\"><div class=\"contnr c0 trm rtl  \" ><div class=\"lbl c0 trm \" ><span class=\"txtu hbo\">  </span></div></div></div></div></div>"
      ],
      "text/plain": [
       "<IPython.core.display.HTML object>"
      ]
     },
     "metadata": {},
     "output_type": "display_data"
    },
    {
     "data": {
      "text/markdown": [
       "### word 1606869\n"
      ],
      "text/plain": [
       "<IPython.core.display.Markdown object>"
      ]
     },
     "metadata": {},
     "output_type": "display_data"
    },
    {
     "data": {
      "text/html": [
       "<div class=\"rtl\"><span class=\"section rtl\"><a target=\"_blank\" href=\"https://www.deadseascrolls.org.il/explore-the-archive/search#q='CD'\" title=\"Show this scroll in the Leon Levy library\" sec=\"CD 1:1\">CD 1:1</a></span>  <span class=\"txtu hbo\">ו</span></div>"
      ],
      "text/plain": [
       "<IPython.core.display.HTML object>"
      ]
     },
     "metadata": {},
     "output_type": "display_data"
    },
    {
     "data": {
      "text/html": [
       "<div class=\"section rtl\"><a target=\"_blank\" href=\"https://www.deadseascrolls.org.il/explore-the-archive/search#q='CD'\" title=\"Show this scroll in the Leon Levy library\" sec=\"CD 1:1\">CD 1:1</a></div><div class=\"rtl children\"><div class=\"contnr c1  rtl  \" ><div class=\"lbl c1  \" ><a target=\"_blank\" href=\"https://www.deadseascrolls.org.il/explore-the-archive\" title=\"Show this scroll in the Leon Levy library\"><span class=\"txtu hbo\">ו</span></a></div><div class='features'><span class=\"sp \" title=\"sp\">ptcl</span><span class=\"lex \" ><span class=\"f\">lex=</span>וְ</span><span class=\"cl \" ><span class=\"f\">cl=</span>conj</span></div><div class=\"children hor  rtl\"><div class=\"contnr c0 trm rtl  \" ><div class=\"lbl c0 trm \" ><span class=\"txtu hbo\">ו</span></div></div></div></div></div>"
      ],
      "text/plain": [
       "<IPython.core.display.HTML object>"
      ]
     },
     "metadata": {},
     "output_type": "display_data"
    },
    {
     "data": {
      "text/markdown": [
       "### sign 1\n"
      ],
      "text/plain": [
       "<IPython.core.display.Markdown object>"
      ]
     },
     "metadata": {},
     "output_type": "display_data"
    },
    {
     "data": {
      "text/html": [
       "<div class=\"rtl\"><span class=\"section rtl\"><a target=\"_blank\" href=\"https://www.deadseascrolls.org.il/explore-the-archive/search#q='CD'\" title=\"Show this scroll in the Leon Levy library\" sec=\"CD 1:1\">CD 1:1</a></span>  <span class=\"txtu hbo\">  </span></div>"
      ],
      "text/plain": [
       "<IPython.core.display.HTML object>"
      ]
     },
     "metadata": {},
     "output_type": "display_data"
    },
    {
     "data": {
      "text/html": [
       "<div class=\"section rtl\"><a target=\"_blank\" href=\"https://www.deadseascrolls.org.il/explore-the-archive/search#q='CD'\" title=\"Show this scroll in the Leon Levy library\" sec=\"CD 1:1\">CD 1:1</a></div><div class=\"rtl children\"><div class=\"contnr c0 trm rtl  \" ><div class=\"lbl c0 trm \" ><span class=\"txtu hbo\">  </span></div></div></div>"
      ],
      "text/plain": [
       "<IPython.core.display.HTML object>"
      ]
     },
     "metadata": {},
     "output_type": "display_data"
    }
   ],
   "source": [
    "typeShow(A, standardFeatures=True, prettyTypes=False, baseTypes=set())"
   ]
  },
  {
   "cell_type": "code",
   "execution_count": 15,
   "metadata": {},
   "outputs": [
    {
     "data": {
      "text/markdown": [
       "### scroll 1605868\n"
      ],
      "text/plain": [
       "<IPython.core.display.Markdown object>"
      ]
     },
     "metadata": {},
     "output_type": "display_data"
    },
    {
     "data": {
      "text/html": [
       "<div class=\"rtl\"><span class=\"section rtl\"><a target=\"_blank\" href=\"https://www.deadseascrolls.org.il/explore-the-archive/search#q='CD'\" title=\"Show this scroll in the Leon Levy library\" sec=\"CD\">CD</a></span>  <span class=\"txtu hbo rtl\"><span class=\"section\"> </span></span></div>"
      ],
      "text/plain": [
       "<IPython.core.display.HTML object>"
      ]
     },
     "metadata": {},
     "output_type": "display_data"
    },
    {
     "data": {
      "text/html": [
       "<div class=\"section rtl\"><a target=\"_blank\" href=\"https://www.deadseascrolls.org.il/explore-the-archive/search#q='CD'\" title=\"Show this scroll in the Leon Levy library\" sec=\"CD\">CD</a></div><div class=\"rtl children\"><div class=\"contnr c4 trm rtl  \" ><div class=\"lbl c4 trm \" ><span class=\"nd\">scroll</span> <span class=\"txtu hbo\"><span class=\"section\">CD</span></span></div></div></div>"
      ],
      "text/plain": [
       "<IPython.core.display.HTML object>"
      ]
     },
     "metadata": {},
     "output_type": "display_data"
    },
    {
     "data": {
      "text/markdown": [
       "### lex 1542523\n"
      ],
      "text/plain": [
       "<IPython.core.display.Markdown object>"
      ]
     },
     "metadata": {},
     "output_type": "display_data"
    },
    {
     "data": {
      "text/html": [
       "<div class=\"rtl\"><span class=\"section rtl\"><a target=\"_blank\" href=\"https://www.deadseascrolls.org.il/explore-the-archive\" title=\"Show this scroll in the Leon Levy library\">h-וְ-W:-w◊ </a></span>  <span class=\"txtu hbo rtl\">h-וְ-W:-w◊ </span></div>"
      ],
      "text/plain": [
       "<IPython.core.display.HTML object>"
      ]
     },
     "metadata": {},
     "output_type": "display_data"
    },
    {
     "data": {
      "text/html": [
       "<div class=\"section rtl\"><a target=\"_blank\" href=\"https://www.deadseascrolls.org.il/explore-the-archive\" title=\"Show this scroll in the Leon Levy library\">h-וְ-W:-w◊ </a></div><div class=\"rtl children\"><div class=\"contnr c0 trm rtl  \" ><div class=\"lbl c0 trm \" ><span class=\"nd\">lex</span> <span class=\"txtu hbo\">h-וְ-W:-w◊ </span></div><div class='features'><span class=\"lexo \" title=\"lexo\">w◊</span><span class=\"lex \" ><span class=\"f\">lex=</span>וְ</span><span class=\"lexe \" ><span class=\"f\">lexe=</span>W:</span></div><div class=\"occs\"><a target=\"_blank\" href=\"https://www.deadseascrolls.org.il/explore-the-archive/search#q='CD'\" title=\"Show this scroll in the Leon Levy library\" sec=\"CD 1:1\">CD 1:1</a> - <a target=\"_blank\" href=\"https://www.deadseascrolls.org.il/explore-the-archive/search#q='Xjudges'\" title=\"Show this scroll in the Leon Levy library\" sec=\"Xjudges f3_7i:11\">Xjudges f3_7i:11</a></div></div></div>"
      ],
      "text/plain": [
       "<IPython.core.display.HTML object>"
      ]
     },
     "metadata": {},
     "output_type": "display_data"
    },
    {
     "data": {
      "text/markdown": [
       "### fragment 1531341\n"
      ],
      "text/plain": [
       "<IPython.core.display.Markdown object>"
      ]
     },
     "metadata": {},
     "output_type": "display_data"
    },
    {
     "data": {
      "text/html": [
       "<div class=\"rtl\"><span class=\"section rtl\"><a target=\"_blank\" href=\"https://www.deadseascrolls.org.il/explore-the-archive/search#q='CD'\" title=\"Show this scroll in the Leon Levy library\" sec=\"CD 1\">CD 1</a></span>  <span class=\"txtu hbo rtl\"><span class=\"section\"> </span></span></div>"
      ],
      "text/plain": [
       "<IPython.core.display.HTML object>"
      ]
     },
     "metadata": {},
     "output_type": "display_data"
    },
    {
     "data": {
      "text/html": [
       "<div class=\"section rtl\"><a target=\"_blank\" href=\"https://www.deadseascrolls.org.il/explore-the-archive/search#q='CD'\" title=\"Show this scroll in the Leon Levy library\" sec=\"CD 1\">CD 1</a></div><div class=\"rtl children\"><div class=\"contnr c4 trm rtl  \" ><div class=\"lbl c4 trm \" ><span class=\"nd\">fragment</span> <span class=\"txtu hbo\"><span class=\"section\">CD 1</span></span></div></div></div>"
      ],
      "text/plain": [
       "<IPython.core.display.HTML object>"
      ]
     },
     "metadata": {},
     "output_type": "display_data"
    },
    {
     "data": {
      "text/markdown": [
       "### line 1552973\n"
      ],
      "text/plain": [
       "<IPython.core.display.Markdown object>"
      ]
     },
     "metadata": {},
     "output_type": "display_data"
    },
    {
     "data": {
      "text/html": [
       "<div class=\"rtl\"><span class=\"section rtl\"><a target=\"_blank\" href=\"https://www.deadseascrolls.org.il/explore-the-archive/search#q='CD'\" title=\"Show this scroll in the Leon Levy library\" sec=\"CD 1:1\">CD 1:1</a></span>  <span class=\"txtu hbo\">  </span><span class=\"txtu hbo\">ו</span><span class=\"txtu hbo\">ע</span><span class=\"txtu hbo\">ת</span><span class=\"txtu hbo\">ה </span><span class=\"txtu hbo\">ש</span><span class=\"txtu hbo\">מ</span><span class=\"txtu hbo\">ע</span><span class=\"txtu hbo\">ו </span><span class=\"txtu hbo\">כ</span><span class=\"txtu hbo\">ל </span><span class=\"txtu hbo\">י</span><span class=\"txtu hbo\">ו</span><span class=\"txtu hbo\">ד</span><span class=\"txtu hbo\">ע</span><span class=\"txtu hbo\">י </span><span class=\"txtu hbo\">צ</span><span class=\"txtu hbo\">ד</span><span class=\"txtu hbo\">ק </span><span class=\"txtu hbo\">ו</span><span class=\"txtu hbo\">ב</span><span class=\"txtu hbo\">י</span><span class=\"txtu hbo\">נ</span><span class=\"txtu hbo\">ו </span><span class=\"txtu hbo\">ב</span><span class=\"txtu hbo\">מ</span><span class=\"txtu hbo\">ע</span><span class=\"txtu hbo\">ש</span><span class=\"txtu hbo\">י </span></div>"
      ],
      "text/plain": [
       "<IPython.core.display.HTML object>"
      ]
     },
     "metadata": {},
     "output_type": "display_data"
    },
    {
     "data": {
      "text/html": [
       "<div class=\"section rtl\"><a target=\"_blank\" href=\"https://www.deadseascrolls.org.il/explore-the-archive/search#q='CD'\" title=\"Show this scroll in the Leon Levy library\" sec=\"CD 1:1\">CD 1:1</a></div><div class=\"rtl children\"><div class=\"contnr c3  rtl  \" ><div class=\"lbl c3  \" ><span class=\"nd\">line</span></div><div class=\"children hor wrap rtl\"><div class=\"contnr c2  rtl  \" ><div class=\"lbl c2  \" ><span class=\"nd\">cluster</span> <span class=\"txtu hbo\"><span title=\"type\">vac</span></span></div><div class=\"children hor wrap rtl\"><div class=\"contnr c0 trm rtl  \" ><div class=\"lbl c0 trm \" ><span class=\"txtu hbo\">  </span></div></div></div></div><div class=\"contnr c1 trm rtl  \" ><div class=\"lbl c1 trm \" ><span class=\"nd\">word</span> <a target=\"_blank\" href=\"https://www.deadseascrolls.org.il/explore-the-archive\" title=\"Show this scroll in the Leon Levy library\"><span class=\"txtu hbo\"><span class=\"txtu hbo\">ו</span></span></a></div></div><div class=\"contnr c1 trm rtl  \" ><div class=\"lbl c1 trm \" ><span class=\"nd\">word</span> <a target=\"_blank\" href=\"https://www.deadseascrolls.org.il/explore-the-archive\" title=\"Show this scroll in the Leon Levy library\"><span class=\"txtu hbo\"><span class=\"txtu hbo\">ע</span><span class=\"txtu hbo\">ת</span><span class=\"txtu hbo\">ה </span></span></a></div></div><div class=\"contnr c1 trm rtl  \" ><div class=\"lbl c1 trm \" ><span class=\"nd\">word</span> <a target=\"_blank\" href=\"https://www.deadseascrolls.org.il/explore-the-archive\" title=\"Show this scroll in the Leon Levy library\"><span class=\"txtu hbo\"><span class=\"txtu hbo\">ש</span><span class=\"txtu hbo\">מ</span><span class=\"txtu hbo\">ע</span><span class=\"txtu hbo\">ו </span></span></a></div></div><div class=\"contnr c1 trm rtl  \" ><div class=\"lbl c1 trm \" ><span class=\"nd\">word</span> <a target=\"_blank\" href=\"https://www.deadseascrolls.org.il/explore-the-archive\" title=\"Show this scroll in the Leon Levy library\"><span class=\"txtu hbo\"><span class=\"txtu hbo\">כ</span><span class=\"txtu hbo\">ל </span></span></a></div></div><div class=\"contnr c1 trm rtl  \" ><div class=\"lbl c1 trm \" ><span class=\"nd\">word</span> <a target=\"_blank\" href=\"https://www.deadseascrolls.org.il/explore-the-archive\" title=\"Show this scroll in the Leon Levy library\"><span class=\"txtu hbo\"><span class=\"txtu hbo\">י</span><span class=\"txtu hbo\">ו</span><span class=\"txtu hbo\">ד</span><span class=\"txtu hbo\">ע</span><span class=\"txtu hbo\">י </span></span></a></div></div><div class=\"contnr c1 trm rtl  \" ><div class=\"lbl c1 trm \" ><span class=\"nd\">word</span> <a target=\"_blank\" href=\"https://www.deadseascrolls.org.il/explore-the-archive\" title=\"Show this scroll in the Leon Levy library\"><span class=\"txtu hbo\"><span class=\"txtu hbo\">צ</span><span class=\"txtu hbo\">ד</span><span class=\"txtu hbo\">ק </span></span></a></div></div><div class=\"contnr c1 trm rtl  \" ><div class=\"lbl c1 trm \" ><span class=\"nd\">word</span> <a target=\"_blank\" href=\"https://www.deadseascrolls.org.il/explore-the-archive\" title=\"Show this scroll in the Leon Levy library\"><span class=\"txtu hbo\"><span class=\"txtu hbo\">ו</span></span></a></div></div><div class=\"contnr c1 trm rtl  \" ><div class=\"lbl c1 trm \" ><span class=\"nd\">word</span> <a target=\"_blank\" href=\"https://www.deadseascrolls.org.il/explore-the-archive\" title=\"Show this scroll in the Leon Levy library\"><span class=\"txtu hbo\"><span class=\"txtu hbo\">ב</span><span class=\"txtu hbo\">י</span><span class=\"txtu hbo\">נ</span><span class=\"txtu hbo\">ו </span></span></a></div></div><div class=\"contnr c1 trm rtl  \" ><div class=\"lbl c1 trm \" ><span class=\"nd\">word</span> <a target=\"_blank\" href=\"https://www.deadseascrolls.org.il/explore-the-archive\" title=\"Show this scroll in the Leon Levy library\"><span class=\"txtu hbo\"><span class=\"txtu hbo\">ב</span></span></a></div></div><div class=\"contnr c1 trm rtl  \" ><div class=\"lbl c1 trm \" ><span class=\"nd\">word</span> <a target=\"_blank\" href=\"https://www.deadseascrolls.org.il/explore-the-archive\" title=\"Show this scroll in the Leon Levy library\"><span class=\"txtu hbo\"><span class=\"txtu hbo\">מ</span><span class=\"txtu hbo\">ע</span><span class=\"txtu hbo\">ש</span><span class=\"txtu hbo\">י </span></span></a></div></div></div></div></div>"
      ],
      "text/plain": [
       "<IPython.core.display.HTML object>"
      ]
     },
     "metadata": {},
     "output_type": "display_data"
    },
    {
     "data": {
      "text/markdown": [
       "### cluster 1430242\n"
      ],
      "text/plain": [
       "<IPython.core.display.Markdown object>"
      ]
     },
     "metadata": {},
     "output_type": "display_data"
    },
    {
     "data": {
      "text/html": [
       "<div class=\"rtl\"><span class=\"section rtl\"><a target=\"_blank\" href=\"https://www.deadseascrolls.org.il/explore-the-archive/search#q='CD'\" title=\"Show this scroll in the Leon Levy library\" sec=\"CD 1:1\">CD 1:1</a></span>  <span class=\"txtu hbo\">  </span></div>"
      ],
      "text/plain": [
       "<IPython.core.display.HTML object>"
      ]
     },
     "metadata": {},
     "output_type": "display_data"
    },
    {
     "data": {
      "text/html": [
       "<div class=\"section rtl\"><a target=\"_blank\" href=\"https://www.deadseascrolls.org.il/explore-the-archive/search#q='CD'\" title=\"Show this scroll in the Leon Levy library\" sec=\"CD 1:1\">CD 1:1</a></div><div class=\"rtl children\"><div class=\"contnr c2  rtl  \" ><div class=\"lbl c2  \" ><span class=\"nd\">cluster</span> <span class=\"txtu hbo\"><span title=\"type\">vac</span></span></div><div class=\"children hor wrap rtl\"><div class=\"contnr c0 trm rtl  \" ><div class=\"lbl c0 trm \" ><span class=\"txtu hbo\">  </span></div></div></div></div></div>"
      ],
      "text/plain": [
       "<IPython.core.display.HTML object>"
      ]
     },
     "metadata": {},
     "output_type": "display_data"
    },
    {
     "data": {
      "text/markdown": [
       "### word 1606869\n"
      ],
      "text/plain": [
       "<IPython.core.display.Markdown object>"
      ]
     },
     "metadata": {},
     "output_type": "display_data"
    },
    {
     "data": {
      "text/html": [
       "<div class=\"rtl\"><span class=\"section rtl\"><a target=\"_blank\" href=\"https://www.deadseascrolls.org.il/explore-the-archive/search#q='CD'\" title=\"Show this scroll in the Leon Levy library\" sec=\"CD 1:1\">CD 1:1</a></span>  <span class=\"txtu hbo\">ו</span></div>"
      ],
      "text/plain": [
       "<IPython.core.display.HTML object>"
      ]
     },
     "metadata": {},
     "output_type": "display_data"
    },
    {
     "data": {
      "text/html": [
       "<div class=\"section rtl\"><a target=\"_blank\" href=\"https://www.deadseascrolls.org.il/explore-the-archive/search#q='CD'\" title=\"Show this scroll in the Leon Levy library\" sec=\"CD 1:1\">CD 1:1</a></div><div class=\"rtl children\"><div class=\"contnr c1 trm rtl  \" ><div class=\"lbl c1 trm \" ><span class=\"nd\">word</span> <a target=\"_blank\" href=\"https://www.deadseascrolls.org.il/explore-the-archive\" title=\"Show this scroll in the Leon Levy library\"><span class=\"txtu hbo\"><span class=\"txtu hbo\">ו</span></span></a></div><div class='features'><span class=\"sp \" title=\"sp\">ptcl</span><span class=\"lex \" ><span class=\"f\">lex=</span>וְ</span><span class=\"cl \" ><span class=\"f\">cl=</span>conj</span></div></div></div>"
      ],
      "text/plain": [
       "<IPython.core.display.HTML object>"
      ]
     },
     "metadata": {},
     "output_type": "display_data"
    },
    {
     "data": {
      "text/markdown": [
       "### sign 1\n"
      ],
      "text/plain": [
       "<IPython.core.display.Markdown object>"
      ]
     },
     "metadata": {},
     "output_type": "display_data"
    },
    {
     "data": {
      "text/html": [
       "<div class=\"rtl\"><span class=\"section rtl\"><a target=\"_blank\" href=\"https://www.deadseascrolls.org.il/explore-the-archive/search#q='CD'\" title=\"Show this scroll in the Leon Levy library\" sec=\"CD 1:1\">CD 1:1</a></span>  <span class=\"txtu hbo\">  </span></div>"
      ],
      "text/plain": [
       "<IPython.core.display.HTML object>"
      ]
     },
     "metadata": {},
     "output_type": "display_data"
    },
    {
     "data": {
      "text/html": [
       "<div class=\"section rtl\"><a target=\"_blank\" href=\"https://www.deadseascrolls.org.il/explore-the-archive/search#q='CD'\" title=\"Show this scroll in the Leon Levy library\" sec=\"CD 1:1\">CD 1:1</a></div><div class=\"rtl children\"><div class=\"contnr c0 trm rtl  \" ><div class=\"lbl c0 trm \" ><span class=\"txtu hbo\">  </span></div></div></div>"
      ],
      "text/plain": [
       "<IPython.core.display.HTML object>"
      ]
     },
     "metadata": {},
     "output_type": "display_data"
    }
   ],
   "source": [
    "typeShow(A, standardFeatures=True, prettyTypes=True)"
   ]
  },
  {
   "cell_type": "code",
   "execution_count": 16,
   "metadata": {},
   "outputs": [
    {
     "data": {
      "text/markdown": [
       "### scroll 1605868\n"
      ],
      "text/plain": [
       "<IPython.core.display.Markdown object>"
      ]
     },
     "metadata": {},
     "output_type": "display_data"
    },
    {
     "data": {
      "text/html": [
       "<div class=\"rtl\"><span class=\"section rtl\"><a target=\"_blank\" href=\"https://www.deadseascrolls.org.il/explore-the-archive/search#q='CD'\" title=\"Show this scroll in the Leon Levy library\" sec=\"CD\">CD</a></span>  <span class=\"txtu hbo rtl\"><span class=\"section\"> </span></span></div>"
      ],
      "text/plain": [
       "<IPython.core.display.HTML object>"
      ]
     },
     "metadata": {},
     "output_type": "display_data"
    },
    {
     "data": {
      "text/html": [
       "<div class=\"section rtl\"><a target=\"_blank\" href=\"https://www.deadseascrolls.org.il/explore-the-archive/search#q='CD'\" title=\"Show this scroll in the Leon Levy library\" sec=\"CD\">CD</a></div><div class=\"rtl children\"><div class=\"contnr c4 trm rtl  \" ><div class=\"lbl c4 trm \" ><span class=\"txtu hbo\"><span class=\"section\">CD</span></span></div></div></div>"
      ],
      "text/plain": [
       "<IPython.core.display.HTML object>"
      ]
     },
     "metadata": {},
     "output_type": "display_data"
    },
    {
     "data": {
      "text/markdown": [
       "### lex 1542523\n"
      ],
      "text/plain": [
       "<IPython.core.display.Markdown object>"
      ]
     },
     "metadata": {},
     "output_type": "display_data"
    },
    {
     "data": {
      "text/html": [
       "<div class=\"rtl\"><span class=\"section rtl\"><a target=\"_blank\" href=\"https://www.deadseascrolls.org.il/explore-the-archive\" title=\"Show this scroll in the Leon Levy library\">h-וְ-W:-w◊ </a></span>  </div>"
      ],
      "text/plain": [
       "<IPython.core.display.HTML object>"
      ]
     },
     "metadata": {},
     "output_type": "display_data"
    },
    {
     "data": {
      "text/html": [
       "<div class=\"section rtl\"><a target=\"_blank\" href=\"https://www.deadseascrolls.org.il/explore-the-archive\" title=\"Show this scroll in the Leon Levy library\">h-וְ-W:-w◊ </a></div><div class=\"rtl children\"><div class=\"contnr c0 trm rtl  \" ><div class=\"occs\"><a target=\"_blank\" href=\"https://www.deadseascrolls.org.il/explore-the-archive/search#q='CD'\" title=\"Show this scroll in the Leon Levy library\" sec=\"CD 1:1\">CD 1:1</a> - <a target=\"_blank\" href=\"https://www.deadseascrolls.org.il/explore-the-archive/search#q='Xjudges'\" title=\"Show this scroll in the Leon Levy library\" sec=\"Xjudges f3_7i:11\">Xjudges f3_7i:11</a></div></div></div>"
      ],
      "text/plain": [
       "<IPython.core.display.HTML object>"
      ]
     },
     "metadata": {},
     "output_type": "display_data"
    },
    {
     "data": {
      "text/markdown": [
       "### fragment 1531341\n"
      ],
      "text/plain": [
       "<IPython.core.display.Markdown object>"
      ]
     },
     "metadata": {},
     "output_type": "display_data"
    },
    {
     "data": {
      "text/html": [
       "<div class=\"rtl\"><span class=\"section rtl\"><a target=\"_blank\" href=\"https://www.deadseascrolls.org.il/explore-the-archive/search#q='CD'\" title=\"Show this scroll in the Leon Levy library\" sec=\"CD 1\">CD 1</a></span>  <span class=\"txtu hbo rtl\"><span class=\"section\"> </span></span></div>"
      ],
      "text/plain": [
       "<IPython.core.display.HTML object>"
      ]
     },
     "metadata": {},
     "output_type": "display_data"
    },
    {
     "data": {
      "text/html": [
       "<div class=\"section rtl\"><a target=\"_blank\" href=\"https://www.deadseascrolls.org.il/explore-the-archive/search#q='CD'\" title=\"Show this scroll in the Leon Levy library\" sec=\"CD 1\">CD 1</a></div><div class=\"rtl children\"><div class=\"contnr c4 trm rtl  \" ><div class=\"lbl c4 trm \" ><span class=\"txtu hbo\"><span class=\"section\">CD 1</span></span></div></div></div>"
      ],
      "text/plain": [
       "<IPython.core.display.HTML object>"
      ]
     },
     "metadata": {},
     "output_type": "display_data"
    },
    {
     "data": {
      "text/markdown": [
       "### line 1552973\n"
      ],
      "text/plain": [
       "<IPython.core.display.Markdown object>"
      ]
     },
     "metadata": {},
     "output_type": "display_data"
    },
    {
     "data": {
      "text/html": [
       "<div class=\"rtl\"><span class=\"section rtl\"><a target=\"_blank\" href=\"https://www.deadseascrolls.org.il/explore-the-archive/search#q='CD'\" title=\"Show this scroll in the Leon Levy library\" sec=\"CD 1:1\">CD 1:1</a></span>  <span class=\"txtu hbo\"><span class=\"vac1 empty\"> </span> </span><span class=\"txtu hbo\">ו</span><span class=\"txtu hbo\">ע</span><span class=\"txtu hbo\">ת</span><span class=\"txtu hbo\">ה </span><span class=\"txtu hbo\">ש</span><span class=\"txtu hbo\">מ</span><span class=\"txtu hbo\">ע</span><span class=\"txtu hbo\">ו </span><span class=\"txtu hbo\">כ</span><span class=\"txtu hbo\">ל </span><span class=\"txtu hbo\">י</span><span class=\"txtu hbo\">ו</span><span class=\"txtu hbo\">ד</span><span class=\"txtu hbo\">ע</span><span class=\"txtu hbo\">י </span><span class=\"txtu hbo\">צ</span><span class=\"txtu hbo\">ד</span><span class=\"txtu hbo\">ק </span><span class=\"txtu hbo\">ו</span><span class=\"txtu hbo\">ב</span><span class=\"txtu hbo\">י</span><span class=\"txtu hbo\">נ</span><span class=\"txtu hbo\">ו </span><span class=\"txtu hbo\">ב</span><span class=\"txtu hbo\">מ</span><span class=\"txtu hbo\">ע</span><span class=\"txtu hbo\">ש</span><span class=\"txtu hbo\">י </span></div>"
      ],
      "text/plain": [
       "<IPython.core.display.HTML object>"
      ]
     },
     "metadata": {},
     "output_type": "display_data"
    },
    {
     "data": {
      "text/html": [
       "<div class=\"section rtl\"><a target=\"_blank\" href=\"https://www.deadseascrolls.org.il/explore-the-archive/search#q='CD'\" title=\"Show this scroll in the Leon Levy library\" sec=\"CD 1:1\">CD 1:1</a></div><div class=\"rtl children\"><div class=\"contnr c3  rtl  \" ><div class=\"children hor wrap rtl\"><div class=\"contnr c2  rtl  \" ><div class=\"children hor wrap rtl\"><div class=\"contnr c0 trm rtl  \" ><div class=\"lbl c0 trm \" ><span class=\"txtu hbo\"><span class=\"vac1 empty\"> </span> </span></div></div></div></div><div class=\"contnr c1  rtl  \" ><div class=\"lbl c1  \" ><a target=\"_blank\" href=\"https://www.deadseascrolls.org.il/explore-the-archive\" title=\"Show this scroll in the Leon Levy library\"><span class=\"txtu hbo\">ו</span></a></div><div class=\"children hor  rtl\"><div class=\"contnr c0 trm rtl  \" ><div class=\"lbl c0 trm \" ><span class=\"txtu hbo\">ו</span></div></div></div></div><div class=\"contnr c1  rtl  \" ><div class=\"lbl c1  \" ><a target=\"_blank\" href=\"https://www.deadseascrolls.org.il/explore-the-archive\" title=\"Show this scroll in the Leon Levy library\"><span class=\"txtu hbo\">עתה </span></a></div><div class=\"children hor  rtl\"><div class=\"contnr c0 trm rtl  \" ><div class=\"lbl c0 trm \" ><span class=\"txtu hbo\">ע</span></div></div><div class=\"contnr c0 trm rtl  \" ><div class=\"lbl c0 trm \" ><span class=\"txtu hbo\">ת</span></div></div><div class=\"contnr c0 trm rtl  \" ><div class=\"lbl c0 trm \" ><span class=\"txtu hbo\">ה </span></div></div></div></div><div class=\"contnr c1  rtl  \" ><div class=\"lbl c1  \" ><a target=\"_blank\" href=\"https://www.deadseascrolls.org.il/explore-the-archive\" title=\"Show this scroll in the Leon Levy library\"><span class=\"txtu hbo\">שמעו </span></a></div><div class=\"children hor  rtl\"><div class=\"contnr c0 trm rtl  \" ><div class=\"lbl c0 trm \" ><span class=\"txtu hbo\">ש</span></div></div><div class=\"contnr c0 trm rtl  \" ><div class=\"lbl c0 trm \" ><span class=\"txtu hbo\">מ</span></div></div><div class=\"contnr c0 trm rtl  \" ><div class=\"lbl c0 trm \" ><span class=\"txtu hbo\">ע</span></div></div><div class=\"contnr c0 trm rtl  \" ><div class=\"lbl c0 trm \" ><span class=\"txtu hbo\">ו </span></div></div></div></div><div class=\"contnr c1  rtl  \" ><div class=\"lbl c1  \" ><a target=\"_blank\" href=\"https://www.deadseascrolls.org.il/explore-the-archive\" title=\"Show this scroll in the Leon Levy library\"><span class=\"txtu hbo\">כל </span></a></div><div class=\"children hor  rtl\"><div class=\"contnr c0 trm rtl  \" ><div class=\"lbl c0 trm \" ><span class=\"txtu hbo\">כ</span></div></div><div class=\"contnr c0 trm rtl  \" ><div class=\"lbl c0 trm \" ><span class=\"txtu hbo\">ל </span></div></div></div></div><div class=\"contnr c1  rtl  \" ><div class=\"lbl c1  \" ><a target=\"_blank\" href=\"https://www.deadseascrolls.org.il/explore-the-archive\" title=\"Show this scroll in the Leon Levy library\"><span class=\"txtu hbo\">יודעי </span></a></div><div class=\"children hor  rtl\"><div class=\"contnr c0 trm rtl  \" ><div class=\"lbl c0 trm \" ><span class=\"txtu hbo\">י</span></div></div><div class=\"contnr c0 trm rtl  \" ><div class=\"lbl c0 trm \" ><span class=\"txtu hbo\">ו</span></div></div><div class=\"contnr c0 trm rtl  \" ><div class=\"lbl c0 trm \" ><span class=\"txtu hbo\">ד</span></div></div><div class=\"contnr c0 trm rtl  \" ><div class=\"lbl c0 trm \" ><span class=\"txtu hbo\">ע</span></div></div><div class=\"contnr c0 trm rtl  \" ><div class=\"lbl c0 trm \" ><span class=\"txtu hbo\">י </span></div></div></div></div><div class=\"contnr c1  rtl  \" ><div class=\"lbl c1  \" ><a target=\"_blank\" href=\"https://www.deadseascrolls.org.il/explore-the-archive\" title=\"Show this scroll in the Leon Levy library\"><span class=\"txtu hbo\">צדק </span></a></div><div class=\"children hor  rtl\"><div class=\"contnr c0 trm rtl  \" ><div class=\"lbl c0 trm \" ><span class=\"txtu hbo\">צ</span></div></div><div class=\"contnr c0 trm rtl  \" ><div class=\"lbl c0 trm \" ><span class=\"txtu hbo\">ד</span></div></div><div class=\"contnr c0 trm rtl  \" ><div class=\"lbl c0 trm \" ><span class=\"txtu hbo\">ק </span></div></div></div></div><div class=\"contnr c1  rtl  \" ><div class=\"lbl c1  \" ><a target=\"_blank\" href=\"https://www.deadseascrolls.org.il/explore-the-archive\" title=\"Show this scroll in the Leon Levy library\"><span class=\"txtu hbo\">ו</span></a></div><div class=\"children hor  rtl\"><div class=\"contnr c0 trm rtl  \" ><div class=\"lbl c0 trm \" ><span class=\"txtu hbo\">ו</span></div></div></div></div><div class=\"contnr c1  rtl  \" ><div class=\"lbl c1  \" ><a target=\"_blank\" href=\"https://www.deadseascrolls.org.il/explore-the-archive\" title=\"Show this scroll in the Leon Levy library\"><span class=\"txtu hbo\">בינו </span></a></div><div class=\"children hor  rtl\"><div class=\"contnr c0 trm rtl  \" ><div class=\"lbl c0 trm \" ><span class=\"txtu hbo\">ב</span></div></div><div class=\"contnr c0 trm rtl  \" ><div class=\"lbl c0 trm \" ><span class=\"txtu hbo\">י</span></div></div><div class=\"contnr c0 trm rtl  \" ><div class=\"lbl c0 trm \" ><span class=\"txtu hbo\">נ</span></div></div><div class=\"contnr c0 trm rtl  \" ><div class=\"lbl c0 trm \" ><span class=\"txtu hbo\">ו </span></div></div></div></div><div class=\"contnr c1  rtl  \" ><div class=\"lbl c1  \" ><a target=\"_blank\" href=\"https://www.deadseascrolls.org.il/explore-the-archive\" title=\"Show this scroll in the Leon Levy library\"><span class=\"txtu hbo\">ב</span></a></div><div class=\"children hor  rtl\"><div class=\"contnr c0 trm rtl  \" ><div class=\"lbl c0 trm \" ><span class=\"txtu hbo\">ב</span></div></div></div></div><div class=\"contnr c1  rtl  \" ><div class=\"lbl c1  \" ><a target=\"_blank\" href=\"https://www.deadseascrolls.org.il/explore-the-archive\" title=\"Show this scroll in the Leon Levy library\"><span class=\"txtu hbo\">מעשי </span></a></div><div class=\"children hor  rtl\"><div class=\"contnr c0 trm rtl  \" ><div class=\"lbl c0 trm \" ><span class=\"txtu hbo\">מ</span></div></div><div class=\"contnr c0 trm rtl  \" ><div class=\"lbl c0 trm \" ><span class=\"txtu hbo\">ע</span></div></div><div class=\"contnr c0 trm rtl  \" ><div class=\"lbl c0 trm \" ><span class=\"txtu hbo\">ש</span></div></div><div class=\"contnr c0 trm rtl  \" ><div class=\"lbl c0 trm \" ><span class=\"txtu hbo\">י </span></div></div></div></div></div></div></div>"
      ],
      "text/plain": [
       "<IPython.core.display.HTML object>"
      ]
     },
     "metadata": {},
     "output_type": "display_data"
    },
    {
     "data": {
      "text/markdown": [
       "### cluster 1430242\n"
      ],
      "text/plain": [
       "<IPython.core.display.Markdown object>"
      ]
     },
     "metadata": {},
     "output_type": "display_data"
    },
    {
     "data": {
      "text/html": [
       "<div class=\"rtl\"><span class=\"section rtl\"><a target=\"_blank\" href=\"https://www.deadseascrolls.org.il/explore-the-archive/search#q='CD'\" title=\"Show this scroll in the Leon Levy library\" sec=\"CD 1:1\">CD 1:1</a></span>  <span class=\"txtu hbo\"><span class=\"vac1 empty\"> </span> </span></div>"
      ],
      "text/plain": [
       "<IPython.core.display.HTML object>"
      ]
     },
     "metadata": {},
     "output_type": "display_data"
    },
    {
     "data": {
      "text/html": [
       "<div class=\"section rtl\"><a target=\"_blank\" href=\"https://www.deadseascrolls.org.il/explore-the-archive/search#q='CD'\" title=\"Show this scroll in the Leon Levy library\" sec=\"CD 1:1\">CD 1:1</a></div><div class=\"rtl children\"><div class=\"contnr c2  rtl  \" ><div class=\"children hor wrap rtl\"><div class=\"contnr c0 trm rtl  \" ><div class=\"lbl c0 trm \" ><span class=\"txtu hbo\"><span class=\"vac1 empty\"> </span> </span></div></div></div></div></div>"
      ],
      "text/plain": [
       "<IPython.core.display.HTML object>"
      ]
     },
     "metadata": {},
     "output_type": "display_data"
    },
    {
     "data": {
      "text/markdown": [
       "### word 1606869\n"
      ],
      "text/plain": [
       "<IPython.core.display.Markdown object>"
      ]
     },
     "metadata": {},
     "output_type": "display_data"
    },
    {
     "data": {
      "text/html": [
       "<div class=\"rtl\"><span class=\"section rtl\"><a target=\"_blank\" href=\"https://www.deadseascrolls.org.il/explore-the-archive/search#q='CD'\" title=\"Show this scroll in the Leon Levy library\" sec=\"CD 1:1\">CD 1:1</a></span>  <span class=\"txtu hbo\">ו</span></div>"
      ],
      "text/plain": [
       "<IPython.core.display.HTML object>"
      ]
     },
     "metadata": {},
     "output_type": "display_data"
    },
    {
     "data": {
      "text/html": [
       "<div class=\"section rtl\"><a target=\"_blank\" href=\"https://www.deadseascrolls.org.il/explore-the-archive/search#q='CD'\" title=\"Show this scroll in the Leon Levy library\" sec=\"CD 1:1\">CD 1:1</a></div><div class=\"rtl children\"><div class=\"contnr c1  rtl  \" ><div class=\"lbl c1  \" ><a target=\"_blank\" href=\"https://www.deadseascrolls.org.il/explore-the-archive\" title=\"Show this scroll in the Leon Levy library\"><span class=\"txtu hbo\">ו</span></a></div><div class=\"children hor  rtl\"><div class=\"contnr c0 trm rtl  \" ><div class=\"lbl c0 trm \" ><span class=\"txtu hbo\">ו</span></div></div></div></div></div>"
      ],
      "text/plain": [
       "<IPython.core.display.HTML object>"
      ]
     },
     "metadata": {},
     "output_type": "display_data"
    },
    {
     "data": {
      "text/markdown": [
       "### sign 1\n"
      ],
      "text/plain": [
       "<IPython.core.display.Markdown object>"
      ]
     },
     "metadata": {},
     "output_type": "display_data"
    },
    {
     "data": {
      "text/html": [
       "<div class=\"rtl\"><span class=\"section rtl\"><a target=\"_blank\" href=\"https://www.deadseascrolls.org.il/explore-the-archive/search#q='CD'\" title=\"Show this scroll in the Leon Levy library\" sec=\"CD 1:1\">CD 1:1</a></span>  <span class=\"txtu hbo\"><span class=\"vac1 empty\"> </span> </span></div>"
      ],
      "text/plain": [
       "<IPython.core.display.HTML object>"
      ]
     },
     "metadata": {},
     "output_type": "display_data"
    },
    {
     "data": {
      "text/html": [
       "<div class=\"section rtl\"><a target=\"_blank\" href=\"https://www.deadseascrolls.org.il/explore-the-archive/search#q='CD'\" title=\"Show this scroll in the Leon Levy library\" sec=\"CD 1:1\">CD 1:1</a></div><div class=\"rtl children\"><div class=\"contnr c0 trm rtl  \" ><div class=\"lbl c0 trm \" ><span class=\"txtu hbo\"><span class=\"vac1 empty\"> </span> </span></div></div></div>"
      ],
      "text/plain": [
       "<IPython.core.display.HTML object>"
      ]
     },
     "metadata": {},
     "output_type": "display_data"
    }
   ],
   "source": [
    "typeShow(\n",
    "    A,\n",
    "    standardFeatures=False,\n",
    "    prettyTypes=False,\n",
    "    fmt=\"layout-orig-full\",\n",
    "    baseTypes=set(),\n",
    ")"
   ]
  }
 ],
 "metadata": {
  "kernelspec": {
   "display_name": "Python 3",
   "language": "python",
   "name": "python3"
  },
  "language_info": {
   "codemirror_mode": {
    "name": "ipython",
    "version": 3
   },
   "file_extension": ".py",
   "mimetype": "text/x-python",
   "name": "python",
   "nbconvert_exporter": "python",
   "pygments_lexer": "ipython3",
   "version": "3.7.7"
  }
 },
 "nbformat": 4,
 "nbformat_minor": 4
}
