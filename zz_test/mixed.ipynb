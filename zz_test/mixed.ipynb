{
 "cells": [
  {
   "cell_type": "code",
   "execution_count": 3,
   "metadata": {
    "lines_to_end_of_cell_marker": 2
   },
   "outputs": [],
   "source": [
    "import os\n",
    "import yaml\n",
    "import pickle\n",
    "from importlib import util\n",
    "from tf.server.command import enSlug, deSlug"
   ]
  },
  {
   "cell_type": "code",
   "execution_count": 4,
   "metadata": {},
   "outputs": [],
   "source": [
    "APPS = \"\"\"\n",
    "    athenaeus\n",
    "    banks\n",
    "    bhsa\n",
    "    default\n",
    "    dss\n",
    "    nena\n",
    "    oldbabylonian\n",
    "    peshitta\n",
    "    quran\n",
    "    syrnt\n",
    "    uruk\n",
    "\n",
    "\"\"\".strip().split()"
   ]
  },
  {
   "cell_type": "code",
   "execution_count": 6,
   "metadata": {},
   "outputs": [],
   "source": [
    "base = os.path.expanduser(\"~/github/annotation/app-\")"
   ]
  },
  {
   "cell_type": "code",
   "execution_count": 9,
   "metadata": {},
   "outputs": [],
   "source": [
    "def findAppConfig(dataSource, appPath):\n",
    "    config = None\n",
    "    appPath = f\"{appPath}/config.py\"\n",
    "\n",
    "    try:\n",
    "        spec = util.spec_from_file_location(f\"tf.apps.{dataSource}.config\", appPath)\n",
    "        config = util.module_from_spec(spec)\n",
    "        spec.loader.exec_module(config)\n",
    "    except Exception as e:\n",
    "        print(f\"findAppConfig: {str(e)}\")\n",
    "        print(f'findAppConfig: Configuration for \"{dataSource}\" not found')\n",
    "    return config"
   ]
  },
  {
   "cell_type": "code",
   "execution_count": 60,
   "metadata": {},
   "outputs": [],
   "source": [
    "def camel(name):\n",
    "    if not name:\n",
    "        return name\n",
    "    temp = name.replace(\"_\", \" \").title().replace(\" \", \"\")\n",
    "    return temp[0].lower() + temp[1:]\n",
    "\n",
    "\n",
    "def configureNames(names, myDir):\n",
    "    result = {camel(key): value for (key, value) in names.items() if key == key.upper()}\n",
    "    for df in [\"excludedFeatures\"]:\n",
    "        if df in result:\n",
    "            del result[df]\n",
    "    for (c, v) in result.items():\n",
    "        if type(v) is set or type(v) is tuple:\n",
    "            result[c] = sorted(v)\n",
    "        if type(v) is dict:\n",
    "            for (sc, sv) in v.items():\n",
    "                if type(sv) is set or type(sv) is tuple:\n",
    "                    result[c][sc] = list(sv)\n",
    "                if type(sv) is dict:\n",
    "                    for (ssc, ssv) in sv.items():\n",
    "                        if type(ssv) is set or type(ssv) is tuple:\n",
    "                            result[c][sc][ssc] = sorted(ssv)\n",
    "    return result\n",
    "\n",
    "\n",
    "def configure(config):\n",
    "    (names, path) = config.deliver()\n",
    "    result = configureNames(names, path)\n",
    "    return result"
   ]
  },
  {
   "cell_type": "code",
   "execution_count": 61,
   "metadata": {},
   "outputs": [],
   "source": [
    "for app in APPS:\n",
    "    appPath = f\"{base}{app}/code\"\n",
    "    config = findAppConfig(app, appPath)\n",
    "    cfg = configure(config)\n",
    "    with open(f\"{base}{app}/code/config.yaml\", \"w\") as f:\n",
    "        yaml.dump(cfg, f)"
   ]
  },
  {
   "cell_type": "code",
   "execution_count": 66,
   "metadata": {},
   "outputs": [],
   "source": [
    "data = (\"x\", (\"y\", 3, 4))"
   ]
  },
  {
   "cell_type": "code",
   "execution_count": 67,
   "metadata": {},
   "outputs": [],
   "source": [
    "e = enSlug(data)"
   ]
  },
  {
   "cell_type": "code",
   "execution_count": 68,
   "metadata": {},
   "outputs": [
    {
     "data": {
      "text/plain": [
       "'gANYAQAAAHhxAFgBAAAAeXEBSwNLBIdxAoZxAy4='"
      ]
     },
     "execution_count": 68,
     "metadata": {},
     "output_type": "execute_result"
    }
   ],
   "source": [
    "e"
   ]
  },
  {
   "cell_type": "code",
   "execution_count": 69,
   "metadata": {},
   "outputs": [],
   "source": [
    "d = deSlug(e)"
   ]
  },
  {
   "cell_type": "code",
   "execution_count": 72,
   "metadata": {},
   "outputs": [
    {
     "data": {
      "text/plain": [
       "('x', ('y', 3, 4))"
      ]
     },
     "execution_count": 72,
     "metadata": {},
     "output_type": "execute_result"
    }
   ],
   "source": [
    "d"
   ]
  },
  {
   "cell_type": "code",
   "execution_count": 78,
   "metadata": {},
   "outputs": [],
   "source": [
    "class AppCurrent:\n",
    "    def __init__(self, specs):\n",
    "        for (k, v) in specs.items():\n",
    "            setattr(self, k, v)"
   ]
  },
  {
   "cell_type": "code",
   "execution_count": 86,
   "metadata": {},
   "outputs": [],
   "source": [
    "ac = AppCurrent(dict(x=3, y={4, 5}))"
   ]
  },
  {
   "cell_type": "code",
   "execution_count": 87,
   "metadata": {},
   "outputs": [],
   "source": [
    "p = pickle.dumps(ac)"
   ]
  },
  {
   "cell_type": "code",
   "execution_count": 88,
   "metadata": {},
   "outputs": [
    {
     "data": {
      "text/plain": [
       "b'\\x80\\x03c__main__\\nAppCurrent\\nq\\x00)\\x81q\\x01}q\\x02(X\\x01\\x00\\x00\\x00xq\\x03K\\x03X\\x01\\x00\\x00\\x00yq\\x04cbuiltins\\nset\\nq\\x05]q\\x06(K\\x04K\\x05e\\x85q\\x07Rq\\x08ub.'"
      ]
     },
     "execution_count": 88,
     "metadata": {},
     "output_type": "execute_result"
    }
   ],
   "source": [
    "p"
   ]
  },
  {
   "cell_type": "code",
   "execution_count": 89,
   "metadata": {},
   "outputs": [],
   "source": [
    "bc = pickle.loads(p)"
   ]
  },
  {
   "cell_type": "code",
   "execution_count": 90,
   "metadata": {},
   "outputs": [
    {
     "data": {
      "text/plain": [
       "<__main__.AppCurrent at 0x7f9fa8745510>"
      ]
     },
     "execution_count": 90,
     "metadata": {},
     "output_type": "execute_result"
    }
   ],
   "source": [
    "bc"
   ]
  },
  {
   "cell_type": "code",
   "execution_count": 91,
   "metadata": {},
   "outputs": [
    {
     "data": {
      "text/plain": [
       "3"
      ]
     },
     "execution_count": 91,
     "metadata": {},
     "output_type": "execute_result"
    }
   ],
   "source": [
    "bc.x"
   ]
  },
  {
   "cell_type": "code",
   "execution_count": 92,
   "metadata": {},
   "outputs": [
    {
     "data": {
      "text/plain": [
       "{4, 5}"
      ]
     },
     "execution_count": 92,
     "metadata": {},
     "output_type": "execute_result"
    }
   ],
   "source": [
    "bc.y"
   ]
  },
  {
   "cell_type": "code",
   "execution_count": 93,
   "metadata": {},
   "outputs": [
    {
     "data": {
      "text/plain": [
       "'/Users/dirk/github/annotation/tutorials/zz_test'"
      ]
     },
     "execution_count": 93,
     "metadata": {},
     "output_type": "execute_result"
    }
   ],
   "source": [
    "os.path.abspath(\"\")"
   ]
  },
  {
   "cell_type": "code",
   "execution_count": 1,
   "metadata": {},
   "outputs": [
    {
     "data": {
      "text/plain": [
       "'aap'"
      ]
     },
     "execution_count": 1,
     "metadata": {},
     "output_type": "execute_result"
    }
   ],
   "source": [
    "x = \"\"\"\\\n",
    "aap\\\n",
    "\"\"\"\n",
    "\n",
    "x"
   ]
  }
 ],
 "metadata": {
  "kernelspec": {
   "display_name": "Python 3",
   "language": "python",
   "name": "python3"
  },
  "language_info": {
   "codemirror_mode": {
    "name": "ipython",
    "version": 3
   },
   "file_extension": ".py",
   "mimetype": "text/x-python",
   "name": "python",
   "nbconvert_exporter": "python",
   "pygments_lexer": "ipython3",
   "version": "3.7.7"
  }
 },
 "nbformat": 4,
 "nbformat_minor": 4
}
