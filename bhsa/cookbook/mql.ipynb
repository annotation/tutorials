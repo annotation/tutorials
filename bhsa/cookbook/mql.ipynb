{
 "cells": [
  {
   "cell_type": "markdown",
   "id": "buried-harvest",
   "metadata": {},
   "source": [
    "We reproduce the MQL queries in the\n",
    "[SHEBANQ tutorial by Bas Meeuse](https://github.com/ETCBC/Tutorials/blob/master/SHEBANQ%20tutorial%202021.pdf)\n",
    "by means of Text-Fabric queries.\n",
    "\n",
    "Here is the\n",
    "[TF Query Guide](https://annotation.github.io/text-fabric/tf/about/searchusage.html)."
   ]
  },
  {
   "cell_type": "code",
   "execution_count": 3,
   "id": "plastic-contractor",
   "metadata": {
    "ExecuteTime": {
     "end_time": "2018-05-11T10:04:07.889266Z",
     "start_time": "2018-05-11T10:04:07.826697Z"
    }
   },
   "outputs": [],
   "source": [
    "from tf.app import use\n",
    "from tf.core.helpers import project"
   ]
  },
  {
   "cell_type": "code",
   "execution_count": 4,
   "id": "neither-montana",
   "metadata": {
    "ExecuteTime": {
     "end_time": "2018-05-11T10:04:21.570164Z",
     "start_time": "2018-05-11T10:04:20.016691Z"
    }
   },
   "outputs": [
    {
     "data": {
      "text/html": [
       "<b title=\"local github\">TF-app:</b> <span title=\"repo clone offline under ~/github\">~/github/annotation/app-bhsa/code</span>"
      ],
      "text/plain": [
       "<IPython.core.display.HTML object>"
      ]
     },
     "metadata": {},
     "output_type": "display_data"
    },
    {
     "data": {
      "text/html": [
       "<b title=\"local github\">data:</b> <span title=\"repo clone offline under ~/github\">~/github/etcbc/bhsa/tf/2017</span>"
      ],
      "text/plain": [
       "<IPython.core.display.HTML object>"
      ]
     },
     "metadata": {},
     "output_type": "display_data"
    },
    {
     "data": {
      "text/html": [
       "<b title=\"local github\">data:</b> <span title=\"repo clone offline under ~/github\">~/github/etcbc/phono/tf/2017</span>"
      ],
      "text/plain": [
       "<IPython.core.display.HTML object>"
      ]
     },
     "metadata": {},
     "output_type": "display_data"
    },
    {
     "data": {
      "text/html": [
       "<b title=\"local github\">data:</b> <span title=\"repo clone offline under ~/github\">~/github/etcbc/parallels/tf/2017</span>"
      ],
      "text/plain": [
       "<IPython.core.display.HTML object>"
      ]
     },
     "metadata": {},
     "output_type": "display_data"
    },
    {
     "data": {
      "text/html": [
       "<b>Text-Fabric:</b> <a target=\"_blank\" href=\"https://annotation.github.io/text-fabric/tf/cheatsheet.html\" title=\"text-fabric-api\">Text-Fabric API 8.4.12</a>, <a target=\"_blank\" href=\"https://github.com/annotation/app-bhsa\" title=\"bhsa TF-app\">app-bhsa v3</a>, <a target=\"_blank\" href=\"https://annotation.github.io/text-fabric/tf/about/searchusage.html\" title=\"Search Templates Introduction and Reference\">Search Reference</a><br><b>Data:</b> <a target=\"_blank\" href=\"https://etcbc.github.io/bhsa/0_home\" title=\"provenance of BHSA = Biblia Hebraica Stuttgartensia Amstelodamensis\">BHSA</a>, <a target=\"_blank\" href=\"https://annotation.github.io/text-fabric/tf/writing/hebrew.html\" title=\"How TF features represent text\">Character table</a>, <a target=\"_blank\" href=\"https://etcbc.github.io/bhsa/features/0_home\" title=\"BHSA feature documentation\">Feature docs</a><br><b>Features:</b><br><details><summary><b>Parallel Passages</b></summary><b><i><a target=\"_blank\" href=\"https://nbviewer.jupyter.org/github/etcbc/parallels/blob/master/programs/parallels.ipynb\" title=\"~/github/etcbc/parallels/tf/2017/crossref.tf\">crossref</a></i></b><br></details><details><summary><b>BHSA = Biblia Hebraica Stuttgartensia Amstelodamensis</b></summary><a target=\"_blank\" href=\"https://etcbc.github.io/bhsa/features/book\" title=\"~/github/etcbc/bhsa/tf/2017/book.tf\">book</a><br><a target=\"_blank\" href=\"https://etcbc.github.io/bhsa/features/book@ll\" title=\"~/github/etcbc/bhsa/tf/2017/book@am.tf\">book@ll</a><br><a target=\"_blank\" href=\"https://etcbc.github.io/bhsa/features/chapter\" title=\"~/github/etcbc/bhsa/tf/2017/chapter.tf\">chapter</a><br><a target=\"_blank\" href=\"https://etcbc.github.io/bhsa/features/code\" title=\"~/github/etcbc/bhsa/tf/2017/code.tf\">code</a><br><a target=\"_blank\" href=\"https://etcbc.github.io/bhsa/features/det\" title=\"~/github/etcbc/bhsa/tf/2017/det.tf\">det</a><br><a target=\"_blank\" href=\"https://etcbc.github.io/bhsa/features/domain\" title=\"~/github/etcbc/bhsa/tf/2017/domain.tf\">domain</a><br><a target=\"_blank\" href=\"https://etcbc.github.io/bhsa/features/freq_lex\" title=\"~/github/etcbc/bhsa/tf/2017/freq_lex.tf\">freq_lex</a><br><a target=\"_blank\" href=\"https://etcbc.github.io/bhsa/features/function\" title=\"~/github/etcbc/bhsa/tf/2017/function.tf\">function</a><br><a target=\"_blank\" href=\"https://etcbc.github.io/bhsa/features/g_cons\" title=\"~/github/etcbc/bhsa/tf/2017/g_cons.tf\">g_cons</a><br><a target=\"_blank\" href=\"https://etcbc.github.io/bhsa/features/g_cons_utf8\" title=\"~/github/etcbc/bhsa/tf/2017/g_cons_utf8.tf\">g_cons_utf8</a><br><a target=\"_blank\" href=\"https://etcbc.github.io/bhsa/features/g_lex\" title=\"~/github/etcbc/bhsa/tf/2017/g_lex.tf\">g_lex</a><br><a target=\"_blank\" href=\"https://etcbc.github.io/bhsa/features/g_lex_utf8\" title=\"~/github/etcbc/bhsa/tf/2017/g_lex_utf8.tf\">g_lex_utf8</a><br><a target=\"_blank\" href=\"https://etcbc.github.io/bhsa/features/g_word\" title=\"~/github/etcbc/bhsa/tf/2017/g_word.tf\">g_word</a><br><a target=\"_blank\" href=\"https://etcbc.github.io/bhsa/features/g_word_utf8\" title=\"~/github/etcbc/bhsa/tf/2017/g_word_utf8.tf\">g_word_utf8</a><br><a target=\"_blank\" href=\"https://etcbc.github.io/bhsa/features/gloss\" title=\"~/github/etcbc/bhsa/tf/2017/gloss.tf\">gloss</a><br><a target=\"_blank\" href=\"https://etcbc.github.io/bhsa/features/gn\" title=\"~/github/etcbc/bhsa/tf/2017/gn.tf\">gn</a><br><a target=\"_blank\" href=\"https://etcbc.github.io/bhsa/features/label\" title=\"~/github/etcbc/bhsa/tf/2017/label.tf\">label</a><br><a target=\"_blank\" href=\"https://etcbc.github.io/bhsa/features/language\" title=\"~/github/etcbc/bhsa/tf/2017/language.tf\">language</a><br><a target=\"_blank\" href=\"https://etcbc.github.io/bhsa/features/lex\" title=\"~/github/etcbc/bhsa/tf/2017/lex.tf\">lex</a><br><a target=\"_blank\" href=\"https://etcbc.github.io/bhsa/features/lex_utf8\" title=\"~/github/etcbc/bhsa/tf/2017/lex_utf8.tf\">lex_utf8</a><br><a target=\"_blank\" href=\"https://etcbc.github.io/bhsa/features/ls\" title=\"~/github/etcbc/bhsa/tf/2017/ls.tf\">ls</a><br><a target=\"_blank\" href=\"https://etcbc.github.io/bhsa/features/nametype\" title=\"~/github/etcbc/bhsa/tf/2017/nametype.tf\">nametype</a><br><a target=\"_blank\" href=\"https://etcbc.github.io/bhsa/features/nme\" title=\"~/github/etcbc/bhsa/tf/2017/nme.tf\">nme</a><br><a target=\"_blank\" href=\"https://etcbc.github.io/bhsa/features/nu\" title=\"~/github/etcbc/bhsa/tf/2017/nu.tf\">nu</a><br><a target=\"_blank\" href=\"https://etcbc.github.io/bhsa/features/number\" title=\"~/github/etcbc/bhsa/tf/2017/number.tf\">number</a><br><a target=\"_blank\" href=\"https://etcbc.github.io/bhsa/features/otype\" title=\"~/github/etcbc/bhsa/tf/2017/otype.tf\">otype</a><br><a target=\"_blank\" href=\"https://etcbc.github.io/bhsa/features/pargr\" title=\"~/github/etcbc/bhsa/tf/2017/pargr.tf\">pargr</a><br><a target=\"_blank\" href=\"https://etcbc.github.io/bhsa/features/pdp\" title=\"~/github/etcbc/bhsa/tf/2017/pdp.tf\">pdp</a><br><a target=\"_blank\" href=\"https://etcbc.github.io/bhsa/features/pfm\" title=\"~/github/etcbc/bhsa/tf/2017/pfm.tf\">pfm</a><br><a target=\"_blank\" href=\"https://etcbc.github.io/bhsa/features/prs\" title=\"~/github/etcbc/bhsa/tf/2017/prs.tf\">prs</a><br><a target=\"_blank\" href=\"https://etcbc.github.io/bhsa/features/prs_gn\" title=\"~/github/etcbc/bhsa/tf/2017/prs_gn.tf\">prs_gn</a><br><a target=\"_blank\" href=\"https://etcbc.github.io/bhsa/features/prs_nu\" title=\"~/github/etcbc/bhsa/tf/2017/prs_nu.tf\">prs_nu</a><br><a target=\"_blank\" href=\"https://etcbc.github.io/bhsa/features/prs_ps\" title=\"~/github/etcbc/bhsa/tf/2017/prs_ps.tf\">prs_ps</a><br><a target=\"_blank\" href=\"https://etcbc.github.io/bhsa/features/ps\" title=\"~/github/etcbc/bhsa/tf/2017/ps.tf\">ps</a><br><a target=\"_blank\" href=\"https://etcbc.github.io/bhsa/features/qere\" title=\"~/github/etcbc/bhsa/tf/2017/qere.tf\">qere</a><br><a target=\"_blank\" href=\"https://etcbc.github.io/bhsa/features/qere_trailer\" title=\"~/github/etcbc/bhsa/tf/2017/qere_trailer.tf\">qere_trailer</a><br><a target=\"_blank\" href=\"https://etcbc.github.io/bhsa/features/qere_trailer_utf8\" title=\"~/github/etcbc/bhsa/tf/2017/qere_trailer_utf8.tf\">qere_trailer_utf8</a><br><a target=\"_blank\" href=\"https://etcbc.github.io/bhsa/features/qere_utf8\" title=\"~/github/etcbc/bhsa/tf/2017/qere_utf8.tf\">qere_utf8</a><br><a target=\"_blank\" href=\"https://etcbc.github.io/bhsa/features/rank_lex\" title=\"~/github/etcbc/bhsa/tf/2017/rank_lex.tf\">rank_lex</a><br><a target=\"_blank\" href=\"https://etcbc.github.io/bhsa/features/rela\" title=\"~/github/etcbc/bhsa/tf/2017/rela.tf\">rela</a><br><a target=\"_blank\" href=\"https://etcbc.github.io/bhsa/features/sp\" title=\"~/github/etcbc/bhsa/tf/2017/sp.tf\">sp</a><br><a target=\"_blank\" href=\"https://etcbc.github.io/bhsa/features/st\" title=\"~/github/etcbc/bhsa/tf/2017/st.tf\">st</a><br><a target=\"_blank\" href=\"https://etcbc.github.io/bhsa/features/tab\" title=\"~/github/etcbc/bhsa/tf/2017/tab.tf\">tab</a><br><a target=\"_blank\" href=\"https://etcbc.github.io/bhsa/features/trailer\" title=\"~/github/etcbc/bhsa/tf/2017/trailer.tf\">trailer</a><br><a target=\"_blank\" href=\"https://etcbc.github.io/bhsa/features/trailer_utf8\" title=\"~/github/etcbc/bhsa/tf/2017/trailer_utf8.tf\">trailer_utf8</a><br><a target=\"_blank\" href=\"https://etcbc.github.io/bhsa/features/txt\" title=\"~/github/etcbc/bhsa/tf/2017/txt.tf\">txt</a><br><a target=\"_blank\" href=\"https://etcbc.github.io/bhsa/features/typ\" title=\"~/github/etcbc/bhsa/tf/2017/typ.tf\">typ</a><br><a target=\"_blank\" href=\"https://etcbc.github.io/bhsa/features/uvf\" title=\"~/github/etcbc/bhsa/tf/2017/uvf.tf\">uvf</a><br><a target=\"_blank\" href=\"https://etcbc.github.io/bhsa/features/vbe\" title=\"~/github/etcbc/bhsa/tf/2017/vbe.tf\">vbe</a><br><a target=\"_blank\" href=\"https://etcbc.github.io/bhsa/features/vbs\" title=\"~/github/etcbc/bhsa/tf/2017/vbs.tf\">vbs</a><br><a target=\"_blank\" href=\"https://etcbc.github.io/bhsa/features/verse\" title=\"~/github/etcbc/bhsa/tf/2017/verse.tf\">verse</a><br><a target=\"_blank\" href=\"https://etcbc.github.io/bhsa/features/voc_lex\" title=\"~/github/etcbc/bhsa/tf/2017/voc_lex.tf\">voc_lex</a><br><a target=\"_blank\" href=\"https://etcbc.github.io/bhsa/features/voc_lex_utf8\" title=\"~/github/etcbc/bhsa/tf/2017/voc_lex_utf8.tf\">voc_lex_utf8</a><br><a target=\"_blank\" href=\"https://etcbc.github.io/bhsa/features/vs\" title=\"~/github/etcbc/bhsa/tf/2017/vs.tf\">vs</a><br><a target=\"_blank\" href=\"https://etcbc.github.io/bhsa/features/vt\" title=\"~/github/etcbc/bhsa/tf/2017/vt.tf\">vt</a><br><b><i><a target=\"_blank\" href=\"https://etcbc.github.io/bhsa/features/mother\" title=\"~/github/etcbc/bhsa/tf/2017/mother.tf\">mother</a></i></b><br><b><i><a target=\"_blank\" href=\"https://etcbc.github.io/bhsa/features/omap@ll\" title=\"~/github/etcbc/bhsa/tf/2017/omap@2016-2017.tf\">omap@ll</a></i></b><br><b><i><a target=\"_blank\" href=\"https://etcbc.github.io/bhsa/features/oslots\" title=\"~/github/etcbc/bhsa/tf/2017/oslots.tf\">oslots</a></i></b><br></details><details><summary><b>Phonetic Transcriptions</b></summary><a target=\"_blank\" href=\"https://nbviewer.jupyter.org/github/etcbc/phono/blob/master/programs/phono.ipynb\" title=\"~/github/etcbc/phono/tf/2017/phono.tf\">phono</a><br><a target=\"_blank\" href=\"https://nbviewer.jupyter.org/github/etcbc/phono/blob/master/programs/phono.ipynb\" title=\"~/github/etcbc/phono/tf/2017/phono_trailer.tf\">phono_trailer</a><br></details>"
      ],
      "text/plain": [
       "<IPython.core.display.HTML object>"
      ]
     },
     "metadata": {},
     "output_type": "display_data"
    },
    {
     "data": {
      "text/html": [
       "<style>tr.tf.ltr, td.tf.ltr, th.tf.ltr { text-align: left ! important;}\n",
       "tr.tf.rtl, td.tf.rtl, th.tf.rtl { text-align: right ! important;}\n",
       "@font-face {\n",
       "  font-family: \"Gentium Plus\";\n",
       "  src: local('Gentium Plus'), local('GentiumPlus'),\n",
       "    url('/server/static/fonts/GentiumPlus-R.woff') format('woff'),\n",
       "    url('https://github.com/annotation/text-fabric/blob/master/tf/server/static/fonts/GentiumPlus-R.woff?raw=true') format('woff');\n",
       "}\n",
       "\n",
       "@font-face {\n",
       "  font-family: \"Ezra SIL\";\n",
       "  src: local('Ezra SIL'), local('EzraSIL'),\n",
       "    url('/server/static/fonts/SILEOT.woff') format('woff'),\n",
       "    url('https://github.com/annotation/text-fabric/blob/master/tf/server/static/fonts/SILEOT.woff?raw=true') format('woff');\n",
       "}\n",
       "\n",
       "@font-face {\n",
       "  font-family: \"SBL Hebrew\";\n",
       "  src: local('SBL Hebrew'), local('SBLHebrew'),\n",
       "    url('/server/static/fonts/SBL_Hbrw.woff') format('woff'),\n",
       "    url('https://github.com/annotation/text-fabric/blob/master/tf/server/static/fonts/SBL_Hbrw.woff?raw=true') format('woff');\n",
       "}\n",
       "\n",
       "@font-face {\n",
       "  font-family: \"Estrangelo Edessa\";\n",
       "  src: local('Estrangelo Edessa'), local('EstrangeloEdessa');\n",
       "    url('/server/static/fonts/SyrCOMEdessa.woff') format('woff'),\n",
       "    url('https://github.com/annotation/text-fabric/blob/master/tf/server/static/fonts/SyrCOMEdessa.woff?raw=true') format('woff');\n",
       "}\n",
       "\n",
       "@font-face {\n",
       "  font-family: AmiriQuran;\n",
       "  font-style: normal;\n",
       "  font-weight: 400;\n",
       "  src: local('Amiri Quran'), local('AmiriQuran'),\n",
       "    url('/server/static/fonts/AmiriQuran.woff') format('woff'),\n",
       "    url('https://github.com/annotation/text-fabric/blob/master/tf/server/static/fonts/AmiriQuran.woff?raw=true') format('woff');\n",
       "}\n",
       "\n",
       "@font-face {\n",
       "  font-family: AmiriQuranColored;\n",
       "  font-style: normal;\n",
       "  font-weight: 400;\n",
       "  src: local('Amiri Quran Colored'), local('AmiriQuranColored'),\n",
       "    url('/server/static/fonts/AmiriQuranColored.woff') format('woff'),\n",
       "    url('https://github.com/annotation/text-fabric/blob/master/tf/server/static/fonts/AmiriQuranColored.woff?raw=true') format('woff');\n",
       "}\n",
       "\n",
       "@font-face {\n",
       "  font-family: \"Santakku\";\n",
       "  src: local('Santakku'),\n",
       "    url('/server/static/fonts/Santakku.woff') format('woff'),\n",
       "    url('https://github.com/annotation/text-fabric/blob/master/tf/server/static/fonts/Santakku.woff?raw=true') format('woff');\n",
       "}\n",
       "\n",
       "@font-face {\n",
       "  font-family: \"SantakkuM\";\n",
       "  src: local('SantakkuM'),\n",
       "    url('/server/static/fonts/SantakkuM.woff') format('woff'),\n",
       "    url('https://github.com/annotation/text-fabric/blob/master/tf/server/static/fonts/SantakkuM.woff?raw=true') format('woff');\n",
       "}\n",
       "/* bypassing some classical notebook settings */\n",
       "div#notebook {\n",
       "  line-height: unset;\n",
       "}\n",
       "/* neutral text */\n",
       ".txtn,.txtn a:visited,.txtn a:link {\n",
       "    font-family: sans-serif;\n",
       "    font-size: medium;\n",
       "    direction: ltr;\n",
       "    unicode-bidi: embed;\n",
       "    text-decoration: none;\n",
       "    color: var(--text-color);\n",
       "}\n",
       "/* transcription text */\n",
       ".txtt,.txtt a:visited,.txtt a:link {\n",
       "    font-family: monospace;\n",
       "    font-size: medium;\n",
       "    direction: ltr;\n",
       "    unicode-bidi: embed;\n",
       "    text-decoration: none;\n",
       "    color: var(--text-color);\n",
       "}\n",
       "/* source text */\n",
       ".txto,.txto a:visited,.txto a:link {\n",
       "    font-family: serif;\n",
       "    font-size: medium;\n",
       "    direction: ltr;\n",
       "    unicode-bidi: embed;\n",
       "    text-decoration: none;\n",
       "    color: var(--text-color);\n",
       "}\n",
       "/* phonetic text */\n",
       ".txtp,.txtp a:visited,.txtp a:link {\n",
       "    font-family: Gentium, sans-serif;\n",
       "    font-size: medium;\n",
       "    direction: ltr;\n",
       "    unicode-bidi: embed;\n",
       "    text-decoration: none;\n",
       "    color: var(--text-color);\n",
       "}\n",
       "/* original script text */\n",
       ".txtu,.txtu a:visited,.txtu a:link {\n",
       "    font-family: Gentium, sans-serif;\n",
       "    font-size: medium;\n",
       "    text-decoration: none;\n",
       "    color: var(--text-color);\n",
       "}\n",
       "/* hebrew */\n",
       ".txtu.hbo,.lex.hbo {\n",
       "    font-family: \"Ezra SIL\", \"SBL Hebrew\", sans-serif;\n",
       "    font-size: large;\n",
       "    direction: rtl ! important;\n",
       "    unicode-bidi: embed;\n",
       "}\n",
       "/* syriac */\n",
       ".txtu.syc,.lex.syc {\n",
       "    font-family: \"Estrangelo Edessa\", sans-serif;\n",
       "    font-size: medium;\n",
       "    direction: rtl ! important;\n",
       "    unicode-bidi: embed;\n",
       "}\n",
       "/* neo aramaic */\n",
       ".txtu.cld,.lex.cld {\n",
       "    font-family: \"CharisSIL-R\", sans-serif;\n",
       "    font-size: medium;\n",
       "    direction: ltr ! important;\n",
       "    unicode-bidi: embed;\n",
       "}\n",
       "/* standard arabic */\n",
       ".txtu.ara,.lex.ara {\n",
       "    font-family: \"AmiriQuran\", sans-serif;\n",
       "    font-size: large;\n",
       "    direction: rtl ! important;\n",
       "    unicode-bidi: embed;\n",
       "}\n",
       "/* cuneiform */\n",
       ".txtu.akk,.lex.akk {\n",
       "    font-family: Santakku, sans-serif;\n",
       "    font-size: large;\n",
       "    direction: ltr ! important;\n",
       "    unicode-bidi: embed;\n",
       "}\n",
       "/* greek */\n",
       ".txtu.grc,.lex.grc a:link {\n",
       "    font-family: Gentium, sans-serif;\n",
       "    font-size: medium;\n",
       "    direction: ltr ! important;\n",
       "    unicode-bidi: embed;\n",
       "}\n",
       "a:hover {\n",
       "    text-decoration: underline | important;\n",
       "    color: #0000ff | important;\n",
       "}\n",
       ".ltr {\n",
       "    direction: ltr ! important;\n",
       "    unicode-bidi: embed;\n",
       "}\n",
       ".rtl {\n",
       "    direction: rtl ! important;\n",
       "    unicode-bidi: embed;\n",
       "}\n",
       ".ubd {\n",
       "    unicode-bidi: embed;\n",
       "}\n",
       ".col {\n",
       "   display: inline-block;\n",
       "}\n",
       ".features {\n",
       "    font-family: monospace;\n",
       "    font-size: medium;\n",
       "    font-weight: bold;\n",
       "    color: var(--features);\n",
       "    display: flex;\n",
       "    flex-flow: column nowrap;\n",
       "    justify-content: flex-start;\n",
       "    align-items: flex-start;\n",
       "    align-content: flex-start;\n",
       "    padding: 2px;\n",
       "    margin: 2px;\n",
       "    direction: ltr;\n",
       "    unicode-bidi: embed;\n",
       "    border: var(--meta-width) solid var(--meta-color);\n",
       "    border-radius: var(--meta-width);\n",
       "}\n",
       ".features div,.features span {\n",
       "    padding: 0;\n",
       "    margin: -2px 0;\n",
       "}\n",
       ".features .f {\n",
       "    font-family: sans-serif;\n",
       "    font-size: small;\n",
       "    font-weight: normal;\n",
       "    color: #5555bb;\n",
       "}\n",
       ".features .xft {\n",
       "  color: #000000;\n",
       "  background-color: #eeeeee;\n",
       "  font-size: medium;\n",
       "  margin: 2px 0px;\n",
       "}\n",
       ".features .xft .f {\n",
       "  color: #000000;\n",
       "  background-color: #eeeeee;\n",
       "  font-size: small;\n",
       "  font-weight: normal;\n",
       "}\n",
       ".tfsechead {\n",
       "    font-family: sans-serif;\n",
       "    font-size: small;\n",
       "    font-weight: bold;\n",
       "    color: var(--tfsechead);\n",
       "    unicode-bidi: embed;\n",
       "    text-align: start;\n",
       "}\n",
       ".structure {\n",
       "    font-family: sans-serif;\n",
       "    font-size: small;\n",
       "    font-weight: bold;\n",
       "    color: var(--structure);\n",
       "    unicode-bidi: embed;\n",
       "    text-align: start;\n",
       "}\n",
       ".comments {\n",
       "    display: flex;\n",
       "    justify-content: flex-start;\n",
       "    align-items: flex-start;\n",
       "    align-content: flex-start;\n",
       "    flex-flow: column nowrap;\n",
       "}\n",
       ".nd, a:link.nd {\n",
       "    font-family: sans-serif;\n",
       "    font-size: small;\n",
       "    color: var(--node);\n",
       "    vertical-align: super;\n",
       "    direction: ltr ! important;\n",
       "    unicode-bidi: embed;\n",
       "}\n",
       ".lex {\n",
       "  color: var(--lex-color);;\n",
       "}\n",
       ".children,.children.ltr {\n",
       "    display: flex;\n",
       "    border: 0;\n",
       "    background-color: #ffffff;\n",
       "    justify-content: flex-start;\n",
       "    align-items: flex-start;\n",
       "    align-content: flex-start;\n",
       "}\n",
       ".children.stretch {\n",
       "    align-items: stretch;\n",
       "}\n",
       ".children.hor {\n",
       "    flex-flow: row nowrap;\n",
       "}\n",
       ".children.hor.wrap {\n",
       "    flex-flow: row wrap;\n",
       "}\n",
       ".children.ver {\n",
       "    flex-flow: column nowrap;\n",
       "}\n",
       ".children.ver.wrap {\n",
       "    flex-flow: column wrap;\n",
       "}\n",
       ".contnr {\n",
       "    width: fit-content;\n",
       "    display: flex;\n",
       "    justify-content: flex-start;\n",
       "    align-items: flex-start;\n",
       "    align-content: flex-start;\n",
       "    flex-flow: column nowrap;\n",
       "    background: #ffffff none repeat scroll 0 0;\n",
       "    padding:  10px 2px 2px 2px;\n",
       "    margin: 16px 2px 2px 2px;\n",
       "    border-style: solid;\n",
       "    font-size: small;\n",
       "}\n",
       ".contnr.trm {\n",
       "    background-attachment: local;\n",
       "}\n",
       ".contnr.cnul {\n",
       "    padding:  0;\n",
       "    margin: 0;\n",
       "    border-style: solid;\n",
       "    font-size: xx-small;\n",
       "}\n",
       ".contnr.cnul,.lbl.cnul {\n",
       "    border-color: var(--border-color-nul);\n",
       "    border-width: var(--border-width-nul);\n",
       "    border-radius: var(--border-width-nul);\n",
       "}\n",
       ".contnr.c0,.lbl.c0 {\n",
       "    border-color: var(--border-color0);\n",
       "    border-width: var(--border-width0);\n",
       "    border-radius: var(--border-width0);\n",
       "}\n",
       ".contnr.c1,.lbl.c1 {\n",
       "    border-color: var(--border-color1);\n",
       "    border-width: var(--border-width1);\n",
       "    border-radius: var(--border-width1);\n",
       "}\n",
       ".contnr.c2,.lbl.c2 {\n",
       "    border-color: var(--border-color2);\n",
       "    border-width: var(--border-width2);\n",
       "    border-radius: var(--border-width2);\n",
       "}\n",
       ".contnr.c3,.lbl.c3 {\n",
       "    border-color: var(--border-color3);\n",
       "    border-width: var(--border-width3);\n",
       "    border-radius: var(--border-width3);\n",
       "}\n",
       ".contnr.c4,.lbl.c4 {\n",
       "    border-color: var(--border-color4);\n",
       "    border-width: var(--border-width4);\n",
       "    border-radius: var(--border-width4);\n",
       "}\n",
       "span.plain {\n",
       "    display: inline-block;\n",
       "    white-space: pre-wrap;\n",
       "}\n",
       ".plain {\n",
       "    background-color: #ffffff;\n",
       "}\n",
       ".plain.l,.contnr.l,.contnr.l>.lbl {\n",
       "    border-left-style: dotted\n",
       "}\n",
       ".plain.r,.contnr.r,.contnr.r>.lbl {\n",
       "    border-right-style: dotted\n",
       "}\n",
       ".plain.lno,.contnr.lno,.contnr.lno>.lbl {\n",
       "    border-left-style: none\n",
       "}\n",
       ".plain.rno,.contnr.rno,.contnr.rno>.lbl {\n",
       "    border-right-style: none\n",
       "}\n",
       ".plain.l {\n",
       "    padding-left: 4px;\n",
       "    margin-left: 2px;\n",
       "    border-width: var(--border-width-plain);\n",
       "}\n",
       ".plain.r {\n",
       "    padding-right: 4px;\n",
       "    margin-right: 2px;\n",
       "    border-width: var(--border-width-plain);\n",
       "}\n",
       ".lbl {\n",
       "    font-family: monospace;\n",
       "    margin-top: -24px;\n",
       "    margin-left: 20px;\n",
       "    background: #ffffff none repeat scroll 0 0;\n",
       "    padding: 0 6px;\n",
       "    border-style: solid;\n",
       "    display: block;\n",
       "    color: var(--label)\n",
       "}\n",
       ".lbl.trm {\n",
       "    background-attachment: local;\n",
       "    margin-top: 2px;\n",
       "    margin-left: 2px;\n",
       "    padding: 2px 2px;\n",
       "    border-style: none;\n",
       "}\n",
       ".lbl.cnul {\n",
       "    font-size: xx-small;\n",
       "}\n",
       ".lbl.c0 {\n",
       "    font-size: small;\n",
       "}\n",
       ".lbl.c1 {\n",
       "    font-size: small;\n",
       "}\n",
       ".lbl.c2 {\n",
       "    font-size: medium;\n",
       "}\n",
       ".lbl.c3 {\n",
       "    font-size: medium;\n",
       "}\n",
       ".lbl.c4 {\n",
       "    font-size: large;\n",
       "}\n",
       ".occs, a:link.occs {\n",
       "    font-size: small;\n",
       "}\n",
       "\n",
       "/* PROVENANCE */\n",
       "\n",
       "div.prov {\n",
       "\tmargin: 40px;\n",
       "\tpadding: 20px;\n",
       "\tborder: 2px solid var(--fog-rim);\n",
       "}\n",
       "div.pline {\n",
       "\tdisplay: flex;\n",
       "\tflex-flow: row nowrap;\n",
       "\tjustify-content: stretch;\n",
       "\talign-items: baseline;\n",
       "}\n",
       "div.p2line {\n",
       "\tmargin-left: 2em;\n",
       "\tdisplay: flex;\n",
       "\tflex-flow: row nowrap;\n",
       "\tjustify-content: stretch;\n",
       "\talign-items: baseline;\n",
       "}\n",
       "div.psline {\n",
       "\tdisplay: flex;\n",
       "\tflex-flow: row nowrap;\n",
       "\tjustify-content: stretch;\n",
       "\talign-items: baseline;\n",
       "\tbackground-color: var(--gold-mist-back);\n",
       "}\n",
       "div.pname {\n",
       "\tflex: 0 0 5rem;\n",
       "\tfont-weight: bold;\n",
       "}\n",
       "div.pval {\n",
       "    flex: 1 1 auto;\n",
       "}\n",
       "\n",
       ":root {\n",
       "\t--node:               hsla(120, 100%,  20%, 1.0  );\n",
       "\t--label:              hsla(  0, 100%,  20%, 1.0  );\n",
       "\t--tfsechead:          hsla(  0, 100%,  25%, 1.0  );\n",
       "\t--structure:          hsla(120, 100%,  25%, 1.0  );\n",
       "\t--features:           hsla(  0,   0%,  30%, 1.0  );\n",
       "  --text-color:         hsla( 60,  80%,  10%, 1.0  );\n",
       "  --lex-color:          hsla(220,  90%,  60%, 1.0  );\n",
       "  --meta-color:         hsla(  0,   0%,  90%, 0.7  );\n",
       "  --meta-width:         3px;\n",
       "  --border-color-nul:   hsla(  0,   0%,  90%, 0.5  );\n",
       "  --border-color0:      hsla(  0,   0%,  90%, 0.9  );\n",
       "  --border-color1:      hsla(  0,   0%,  80%, 0.9  );\n",
       "  --border-color2:      hsla(  0,   0%,  70%, 0.9  );\n",
       "  --border-color3:      hsla(  0,   0%,  80%, 0.8  );\n",
       "  --border-color4:      hsla(  0,   0%,  60%, 0.9  );\n",
       "  --border-width-nul:   2px;\n",
       "  --border-width0:      2px;\n",
       "  --border-width1:      3px;\n",
       "  --border-width2:      4px;\n",
       "  --border-width3:      6px;\n",
       "  --border-width4:      5px;\n",
       "  --border-width-plain: 2px;\n",
       "}\n",
       ".hl {\n",
       "  background-color: var(--hl-strong);\n",
       "}\n",
       "span.hl {\n",
       "\tbackground-color: var(--hl-strong);\n",
       "\tborder-width: 0;\n",
       "\tborder-radius: 2px;\n",
       "\tborder-style: solid;\n",
       "}\n",
       "div.contnr.hl,div.lbl.hl {\n",
       "  background-color: var(--hl-strong);\n",
       "}\n",
       "div.contnr.hl {\n",
       "  border-color: var(--hl-rim) ! important;\n",
       "\tborder-width: 4px ! important;\n",
       "}\n",
       "\n",
       "span.hlbx {\n",
       "\tborder-color: var(--hl-rim);\n",
       "\tborder-width: 4px ! important;\n",
       "\tborder-style: solid;\n",
       "\tborder-radius: 6px;\n",
       "  padding: 4px;\n",
       "  margin: 4px;\n",
       "}\n",
       "\n",
       "span.plain {\n",
       "  display: inline-block;\n",
       "  white-space: pre-wrap;\n",
       "}\n",
       "\n",
       ":root {\n",
       "\t--hl-strong:        hsla( 60, 100%,  70%, 0.9  );\n",
       "\t--hl-rim:           hsla( 55,  80%,  50%, 1.0  );\n",
       "}\n",
       "</style>"
      ],
      "text/plain": [
       "<IPython.core.display.HTML object>"
      ]
     },
     "metadata": {},
     "output_type": "display_data"
    },
    {
     "data": {
      "text/html": [
       "<div><b>Text-Fabric API:</b> names <a target=\"_blank\" href=\"https://annotation.github.io/text-fabric/tf/cheatsheet.html\" title=\"doc\">N F E L T S C TF</a> directly usable</div><hr>"
      ],
      "text/plain": [
       "<IPython.core.display.HTML object>"
      ]
     },
     "metadata": {},
     "output_type": "display_data"
    }
   ],
   "source": [
    "VERSION = '2017'\n",
    "# A = use('bhsa', hoist=globals(), version=VERSION)\n",
    "A = use('bhsa:clone', checkout=\"clone\", hoist=globals(), version=VERSION)"
   ]
  },
  {
   "cell_type": "markdown",
   "id": "trained-charles",
   "metadata": {},
   "source": [
    "# Example 1\n",
    "\n",
    "[Bas Meeuse: Example 1: Moses starts the speech](https://shebanq.ancient-data.org/hebrew/query?version=2017&id=4439)\n",
    "\n",
    "```\n",
    "[clause FOCUS\n",
    "  [word lex = '>MR[' OR lex = 'DBR['] \n",
    "  [phrase function = Subj\n",
    "    [word lex = 'MCH=/']\n",
    "  ]\n",
    "  ..\n",
    "  [phrase function IN (Cmpl)\n",
    "    [word lex = 'JHWH/' OR lex = '>LHJM/']\n",
    "  ]\n",
    "]\n",
    "\n",
    "```\n",
    "\n",
    "**Results**\n",
    "\n",
    "results | verses | words\n",
    "--- | --- | ---\n",
    "8 | 8 | 42"
   ]
  },
  {
   "cell_type": "code",
   "execution_count": 46,
   "id": "departmental-optimization",
   "metadata": {},
   "outputs": [],
   "source": [
    "query = \"\"\"\n",
    "clause\n",
    "  word lex=>MR[|DBR[\n",
    "  <: phrase function=Subj\n",
    "    word lex=MCH=/\n",
    "  < phrase function=Cmpl\n",
    "    word lex=JHWH/|>LHJM/\n",
    "\"\"\""
   ]
  },
  {
   "cell_type": "code",
   "execution_count": 47,
   "id": "stuffed-wesley",
   "metadata": {},
   "outputs": [
    {
     "name": "stdout",
     "output_type": "stream",
     "text": [
      "  1.64s 8 results\n"
     ]
    }
   ],
   "source": [
    "results = A.search(query)"
   ]
  },
  {
   "cell_type": "markdown",
   "id": "divided-university",
   "metadata": {},
   "source": [
    "We need to do some effort to count the distinct verses and focused words in the results.\n",
    "The following function does it.\n",
    "Focus is an iterable of positions in the result tuples that correspond to the `FOCUS` objects\n",
    "in the MQL query."
   ]
  },
  {
   "cell_type": "code",
   "execution_count": 48,
   "id": "metric-penetration",
   "metadata": {},
   "outputs": [],
   "source": [
    "def getTfVerses(results, focus):\n",
    "    verses = set()\n",
    "    words = set()\n",
    "\n",
    "    for result in results:\n",
    "        verse = L.u(result[0], otype=\"verse\")[0]\n",
    "        verses.add(verse)\n",
    "        for pos in focus:\n",
    "            focusNode = result[pos]\n",
    "            if F.otype.v(focusNode) == \"word\":\n",
    "                words.add(focusNode)\n",
    "            else:\n",
    "                for word in L.d(focusNode, otype=\"word\"):\n",
    "                    words.add(word)\n",
    "\n",
    "    verses = sorted(verses)\n",
    "\n",
    "    print(f\"{len(verses):>3} verses\")\n",
    "    print(f\"{len(words):>3} words\")\n",
    "    return verses"
   ]
  },
  {
   "cell_type": "code",
   "execution_count": 50,
   "id": "regulated-residence",
   "metadata": {},
   "outputs": [
    {
     "name": "stdout",
     "output_type": "stream",
     "text": [
      "  8 verses\n",
      " 42 words\n"
     ]
    }
   ],
   "source": [
    "tfVerses = getTfVerses(results, (0,))"
   ]
  },
  {
   "cell_type": "markdown",
   "id": "russian-commons",
   "metadata": {},
   "source": [
    "**The numbers agree exactly**.\n",
    "\n",
    "This is not a rigorous proof that the MQL results are identical to the TF results, but it is a very good indication."
   ]
  },
  {
   "cell_type": "code",
   "execution_count": 51,
   "id": "average-chester",
   "metadata": {},
   "outputs": [
    {
     "data": {
      "text/html": [
       "<table><tr class=\"tf rtl\"><th class=\"tf rtl\">n</th><th class=\"tf rtl\">p</th><th class=\"tf rtl\">clause</th><th class=\"tf\">word</th><th class=\"tf\">phrase</th><th class=\"tf\">word</th><th class=\"tf\">phrase</th><th class=\"tf\">word</th></tr>\n",
       "<tr class=\"tf rtl\"><td class=\"tf rtl\">1</td><td class=\"tf rtl\"><span class=\"tfsechead ltr\"><a target=\"_blank\" href=\"https://shebanq.ancient-data.org/hebrew/text?book=Exodus&amp;chapter=3&amp;verse=11&amp;version=2017&amp;mr=m&amp;qw=q&amp;tp=txt_p&amp;tr=hb&amp;wget=v&amp;qget=v&amp;nget=vt\" title=\"Show this on SHEBANQ\" sec=\"Exodus 3:11\">Exodus 3:11</a></span></td><td class=\"tf rtl\"><span class=\"rtl ubd\"><span class=\"plain rtl  hlbx\" ><span class=\"txtu hbo\">וַ</span><span class=\"plain rtl  hl\" ><span class=\"txtu hbo\">יֹּ֤אמֶר </span></span><span class=\"plain rtl  hlbx\" ><span class=\"plain rtl  hl\" ><span class=\"txtu hbo\">מֹשֶׁה֙ </span></span></span><span class=\"plain rtl  hlbx\" ><span class=\"txtu hbo\">אֶל־</span><span class=\"txtu hbo\">הָ֣</span><span class=\"plain rtl  hl\" ><span class=\"txtu hbo\">אֱלֹהִ֔ים </span></span></span></span></span></td><td class=\"tf rtl\"><span class=\"rtl ubd\"><span class=\"plain rtl  hl\" ><span class=\"txtu hbo\">יֹּ֤אמֶר </span></span></span></td><td class=\"tf rtl\"><span class=\"rtl ubd\"><span class=\"plain rtl  hlbx\" ><span class=\"plain rtl  hl\" ><span class=\"txtu hbo\">מֹשֶׁה֙ </span></span></span></span></td><td class=\"tf rtl\"><span class=\"rtl ubd\"><span class=\"plain rtl  hl\" ><span class=\"txtu hbo\">מֹשֶׁה֙ </span></span></span></td><td class=\"tf rtl\"><span class=\"rtl ubd\"><span class=\"plain rtl  hlbx\" ><span class=\"txtu hbo\">אֶל־</span><span class=\"txtu hbo\">הָ֣</span><span class=\"plain rtl  hl\" ><span class=\"txtu hbo\">אֱלֹהִ֔ים </span></span></span></span></td><td class=\"tf rtl\"><span class=\"rtl ubd\"><span class=\"plain rtl  hl\" ><span class=\"txtu hbo\">אֱלֹהִ֔ים </span></span></span></td></tr>\n",
       "<tr class=\"tf rtl\"><td class=\"tf rtl\">2</td><td class=\"tf rtl\"><span class=\"tfsechead ltr\"><a target=\"_blank\" href=\"https://shebanq.ancient-data.org/hebrew/text?book=Exodus&amp;chapter=3&amp;verse=13&amp;version=2017&amp;mr=m&amp;qw=q&amp;tp=txt_p&amp;tr=hb&amp;wget=v&amp;qget=v&amp;nget=vt\" title=\"Show this on SHEBANQ\" sec=\"Exodus 3:13\">Exodus 3:13</a></span></td><td class=\"tf rtl\"><span class=\"rtl ubd\"><span class=\"plain rtl  hlbx\" ><span class=\"txtu hbo\">וַ</span><span class=\"plain rtl  hl\" ><span class=\"txtu hbo\">יֹּ֨אמֶר </span></span><span class=\"plain rtl  hlbx\" ><span class=\"plain rtl  hl\" ><span class=\"txtu hbo\">מֹשֶׁ֜ה </span></span></span><span class=\"plain rtl  hlbx\" ><span class=\"txtu hbo\">אֶל־</span><span class=\"txtu hbo\">הָֽ</span><span class=\"plain rtl  hl\" ><span class=\"txtu hbo\">אֱלֹהִ֗ים </span></span></span></span></span></td><td class=\"tf rtl\"><span class=\"rtl ubd\"><span class=\"plain rtl  hl\" ><span class=\"txtu hbo\">יֹּ֨אמֶר </span></span></span></td><td class=\"tf rtl\"><span class=\"rtl ubd\"><span class=\"plain rtl  hlbx\" ><span class=\"plain rtl  hl\" ><span class=\"txtu hbo\">מֹשֶׁ֜ה </span></span></span></span></td><td class=\"tf rtl\"><span class=\"rtl ubd\"><span class=\"plain rtl  hl\" ><span class=\"txtu hbo\">מֹשֶׁ֜ה </span></span></span></td><td class=\"tf rtl\"><span class=\"rtl ubd\"><span class=\"plain rtl  hlbx\" ><span class=\"txtu hbo\">אֶל־</span><span class=\"txtu hbo\">הָֽ</span><span class=\"plain rtl  hl\" ><span class=\"txtu hbo\">אֱלֹהִ֗ים </span></span></span></span></td><td class=\"tf rtl\"><span class=\"rtl ubd\"><span class=\"plain rtl  hl\" ><span class=\"txtu hbo\">אֱלֹהִ֗ים </span></span></span></td></tr>\n",
       "<tr class=\"tf rtl\"><td class=\"tf rtl\">3</td><td class=\"tf rtl\"><span class=\"tfsechead ltr\"><a target=\"_blank\" href=\"https://shebanq.ancient-data.org/hebrew/text?book=Exodus&amp;chapter=4&amp;verse=10&amp;version=2017&amp;mr=m&amp;qw=q&amp;tp=txt_p&amp;tr=hb&amp;wget=v&amp;qget=v&amp;nget=vt\" title=\"Show this on SHEBANQ\" sec=\"Exodus 4:10\">Exodus 4:10</a></span></td><td class=\"tf rtl\"><span class=\"rtl ubd\"><span class=\"plain rtl  hlbx\" ><span class=\"txtu hbo\">וַ</span><span class=\"plain rtl  hl\" ><span class=\"txtu hbo\">יֹּ֨אמֶר </span></span><span class=\"plain rtl  hlbx\" ><span class=\"plain rtl  hl\" ><span class=\"txtu hbo\">מֹשֶׁ֣ה </span></span></span><span class=\"plain rtl  hlbx\" ><span class=\"txtu hbo\">אֶל־</span><span class=\"plain rtl  hl\" ><span class=\"txtu hbo\">יְהוָה֮ </span></span></span></span></span></td><td class=\"tf rtl\"><span class=\"rtl ubd\"><span class=\"plain rtl  hl\" ><span class=\"txtu hbo\">יֹּ֨אמֶר </span></span></span></td><td class=\"tf rtl\"><span class=\"rtl ubd\"><span class=\"plain rtl  hlbx\" ><span class=\"plain rtl  hl\" ><span class=\"txtu hbo\">מֹשֶׁ֣ה </span></span></span></span></td><td class=\"tf rtl\"><span class=\"rtl ubd\"><span class=\"plain rtl  hl\" ><span class=\"txtu hbo\">מֹשֶׁ֣ה </span></span></span></td><td class=\"tf rtl\"><span class=\"rtl ubd\"><span class=\"plain rtl  hlbx\" ><span class=\"txtu hbo\">אֶל־</span><span class=\"plain rtl  hl\" ><span class=\"txtu hbo\">יְהוָה֮ </span></span></span></span></td><td class=\"tf rtl\"><span class=\"rtl ubd\"><span class=\"plain rtl  hl\" ><span class=\"txtu hbo\">יְהוָה֮ </span></span></span></td></tr>\n",
       "<tr class=\"tf rtl\"><td class=\"tf rtl\">4</td><td class=\"tf rtl\"><span class=\"tfsechead ltr\"><a target=\"_blank\" href=\"https://shebanq.ancient-data.org/hebrew/text?book=Exodus&amp;chapter=19&amp;verse=23&amp;version=2017&amp;mr=m&amp;qw=q&amp;tp=txt_p&amp;tr=hb&amp;wget=v&amp;qget=v&amp;nget=vt\" title=\"Show this on SHEBANQ\" sec=\"Exodus 19:23\">Exodus 19:23</a></span></td><td class=\"tf rtl\"><span class=\"rtl ubd\"><span class=\"plain rtl  hlbx\" ><span class=\"txtu hbo\">וַ</span><span class=\"plain rtl  hl\" ><span class=\"txtu hbo\">יֹּ֤אמֶר </span></span><span class=\"plain rtl  hlbx\" ><span class=\"plain rtl  hl\" ><span class=\"txtu hbo\">מֹשֶׁה֙ </span></span></span><span class=\"plain rtl  hlbx\" ><span class=\"txtu hbo\">אֶל־</span><span class=\"plain rtl  hl\" ><span class=\"txtu hbo\">יְהוָ֔ה </span></span></span></span></span></td><td class=\"tf rtl\"><span class=\"rtl ubd\"><span class=\"plain rtl  hl\" ><span class=\"txtu hbo\">יֹּ֤אמֶר </span></span></span></td><td class=\"tf rtl\"><span class=\"rtl ubd\"><span class=\"plain rtl  hlbx\" ><span class=\"plain rtl  hl\" ><span class=\"txtu hbo\">מֹשֶׁה֙ </span></span></span></span></td><td class=\"tf rtl\"><span class=\"rtl ubd\"><span class=\"plain rtl  hl\" ><span class=\"txtu hbo\">מֹשֶׁה֙ </span></span></span></td><td class=\"tf rtl\"><span class=\"rtl ubd\"><span class=\"plain rtl  hlbx\" ><span class=\"txtu hbo\">אֶל־</span><span class=\"plain rtl  hl\" ><span class=\"txtu hbo\">יְהוָ֔ה </span></span></span></span></td><td class=\"tf rtl\"><span class=\"rtl ubd\"><span class=\"plain rtl  hl\" ><span class=\"txtu hbo\">יְהוָ֔ה </span></span></span></td></tr>\n",
       "<tr class=\"tf rtl\"><td class=\"tf rtl\">5</td><td class=\"tf rtl\"><span class=\"tfsechead ltr\"><a target=\"_blank\" href=\"https://shebanq.ancient-data.org/hebrew/text?book=Exodus&amp;chapter=33&amp;verse=12&amp;version=2017&amp;mr=m&amp;qw=q&amp;tp=txt_p&amp;tr=hb&amp;wget=v&amp;qget=v&amp;nget=vt\" title=\"Show this on SHEBANQ\" sec=\"Exodus 33:12\">Exodus 33:12</a></span></td><td class=\"tf rtl\"><span class=\"rtl ubd\"><span class=\"plain rtl  hlbx\" ><span class=\"txtu hbo\">וַ</span><span class=\"plain rtl  hl\" ><span class=\"txtu hbo\">יֹּ֨אמֶר </span></span><span class=\"plain rtl  hlbx\" ><span class=\"plain rtl  hl\" ><span class=\"txtu hbo\">מֹשֶׁ֜ה </span></span></span><span class=\"plain rtl  hlbx\" ><span class=\"txtu hbo\">אֶל־</span><span class=\"plain rtl  hl\" ><span class=\"txtu hbo\">יְהוָ֗ה </span></span></span></span></span></td><td class=\"tf rtl\"><span class=\"rtl ubd\"><span class=\"plain rtl  hl\" ><span class=\"txtu hbo\">יֹּ֨אמֶר </span></span></span></td><td class=\"tf rtl\"><span class=\"rtl ubd\"><span class=\"plain rtl  hlbx\" ><span class=\"plain rtl  hl\" ><span class=\"txtu hbo\">מֹשֶׁ֜ה </span></span></span></span></td><td class=\"tf rtl\"><span class=\"rtl ubd\"><span class=\"plain rtl  hl\" ><span class=\"txtu hbo\">מֹשֶׁ֜ה </span></span></span></td><td class=\"tf rtl\"><span class=\"rtl ubd\"><span class=\"plain rtl  hlbx\" ><span class=\"txtu hbo\">אֶל־</span><span class=\"plain rtl  hl\" ><span class=\"txtu hbo\">יְהוָ֗ה </span></span></span></span></td><td class=\"tf rtl\"><span class=\"rtl ubd\"><span class=\"plain rtl  hl\" ><span class=\"txtu hbo\">יְהוָ֗ה </span></span></span></td></tr>\n",
       "<tr class=\"tf rtl\"><td class=\"tf rtl\">6</td><td class=\"tf rtl\"><span class=\"tfsechead ltr\"><a target=\"_blank\" href=\"https://shebanq.ancient-data.org/hebrew/text?book=Numeri&amp;chapter=11&amp;verse=11&amp;version=2017&amp;mr=m&amp;qw=q&amp;tp=txt_p&amp;tr=hb&amp;wget=v&amp;qget=v&amp;nget=vt\" title=\"Show this on SHEBANQ\" sec=\"Numbers 11:11\">Numbers 11:11</a></span></td><td class=\"tf rtl\"><span class=\"rtl ubd\"><span class=\"plain rtl  hlbx\" ><span class=\"txtu hbo\">וַ</span><span class=\"plain rtl  hl\" ><span class=\"txtu hbo\">יֹּ֨אמֶר </span></span><span class=\"plain rtl  hlbx\" ><span class=\"plain rtl  hl\" ><span class=\"txtu hbo\">מֹשֶׁ֜ה </span></span></span><span class=\"plain rtl  hlbx\" ><span class=\"txtu hbo\">אֶל־</span><span class=\"plain rtl  hl\" ><span class=\"txtu hbo\">יְהוָ֗ה </span></span></span></span></span></td><td class=\"tf rtl\"><span class=\"rtl ubd\"><span class=\"plain rtl  hl\" ><span class=\"txtu hbo\">יֹּ֨אמֶר </span></span></span></td><td class=\"tf rtl\"><span class=\"rtl ubd\"><span class=\"plain rtl  hlbx\" ><span class=\"plain rtl  hl\" ><span class=\"txtu hbo\">מֹשֶׁ֜ה </span></span></span></span></td><td class=\"tf rtl\"><span class=\"rtl ubd\"><span class=\"plain rtl  hl\" ><span class=\"txtu hbo\">מֹשֶׁ֜ה </span></span></span></td><td class=\"tf rtl\"><span class=\"rtl ubd\"><span class=\"plain rtl  hlbx\" ><span class=\"txtu hbo\">אֶל־</span><span class=\"plain rtl  hl\" ><span class=\"txtu hbo\">יְהוָ֗ה </span></span></span></span></td><td class=\"tf rtl\"><span class=\"rtl ubd\"><span class=\"plain rtl  hl\" ><span class=\"txtu hbo\">יְהוָ֗ה </span></span></span></td></tr>\n",
       "<tr class=\"tf rtl\"><td class=\"tf rtl\">7</td><td class=\"tf rtl\"><span class=\"tfsechead ltr\"><a target=\"_blank\" href=\"https://shebanq.ancient-data.org/hebrew/text?book=Numeri&amp;chapter=14&amp;verse=13&amp;version=2017&amp;mr=m&amp;qw=q&amp;tp=txt_p&amp;tr=hb&amp;wget=v&amp;qget=v&amp;nget=vt\" title=\"Show this on SHEBANQ\" sec=\"Numbers 14:13\">Numbers 14:13</a></span></td><td class=\"tf rtl\"><span class=\"rtl ubd\"><span class=\"plain rtl  hlbx\" ><span class=\"txtu hbo\">וַ</span><span class=\"plain rtl  hl\" ><span class=\"txtu hbo\">יֹּ֥אמֶר </span></span><span class=\"plain rtl  hlbx\" ><span class=\"plain rtl  hl\" ><span class=\"txtu hbo\">מֹשֶׁ֖ה </span></span></span><span class=\"plain rtl  hlbx\" ><span class=\"txtu hbo\">אֶל־</span><span class=\"plain rtl  hl\" ><span class=\"txtu hbo\">יְהוָ֑ה </span></span></span></span></span></td><td class=\"tf rtl\"><span class=\"rtl ubd\"><span class=\"plain rtl  hl\" ><span class=\"txtu hbo\">יֹּ֥אמֶר </span></span></span></td><td class=\"tf rtl\"><span class=\"rtl ubd\"><span class=\"plain rtl  hlbx\" ><span class=\"plain rtl  hl\" ><span class=\"txtu hbo\">מֹשֶׁ֖ה </span></span></span></span></td><td class=\"tf rtl\"><span class=\"rtl ubd\"><span class=\"plain rtl  hl\" ><span class=\"txtu hbo\">מֹשֶׁ֖ה </span></span></span></td><td class=\"tf rtl\"><span class=\"rtl ubd\"><span class=\"plain rtl  hlbx\" ><span class=\"txtu hbo\">אֶל־</span><span class=\"plain rtl  hl\" ><span class=\"txtu hbo\">יְהוָ֑ה </span></span></span></span></td><td class=\"tf rtl\"><span class=\"rtl ubd\"><span class=\"plain rtl  hl\" ><span class=\"txtu hbo\">יְהוָ֑ה </span></span></span></td></tr>\n",
       "<tr class=\"tf rtl\"><td class=\"tf rtl\">8</td><td class=\"tf rtl\"><span class=\"tfsechead ltr\"><a target=\"_blank\" href=\"https://shebanq.ancient-data.org/hebrew/text?book=Numeri&amp;chapter=27&amp;verse=15&amp;version=2017&amp;mr=m&amp;qw=q&amp;tp=txt_p&amp;tr=hb&amp;wget=v&amp;qget=v&amp;nget=vt\" title=\"Show this on SHEBANQ\" sec=\"Numbers 27:15\">Numbers 27:15</a></span></td><td class=\"tf rtl\"><span class=\"rtl ubd\"><span class=\"plain rtl  hlbx\" ><span class=\"txtu hbo\">וַ</span><span class=\"plain rtl  hl\" ><span class=\"txtu hbo\">יְדַבֵּ֣ר </span></span><span class=\"plain rtl  hlbx\" ><span class=\"plain rtl  hl\" ><span class=\"txtu hbo\">מֹשֶׁ֔ה </span></span></span><span class=\"plain rtl  hlbx\" ><span class=\"txtu hbo\">אֶל־</span><span class=\"plain rtl  hl\" ><span class=\"txtu hbo\">יְהוָ֖ה </span></span></span></span></span></td><td class=\"tf rtl\"><span class=\"rtl ubd\"><span class=\"plain rtl  hl\" ><span class=\"txtu hbo\">יְדַבֵּ֣ר </span></span></span></td><td class=\"tf rtl\"><span class=\"rtl ubd\"><span class=\"plain rtl  hlbx\" ><span class=\"plain rtl  hl\" ><span class=\"txtu hbo\">מֹשֶׁ֔ה </span></span></span></span></td><td class=\"tf rtl\"><span class=\"rtl ubd\"><span class=\"plain rtl  hl\" ><span class=\"txtu hbo\">מֹשֶׁ֔ה </span></span></span></td><td class=\"tf rtl\"><span class=\"rtl ubd\"><span class=\"plain rtl  hlbx\" ><span class=\"txtu hbo\">אֶל־</span><span class=\"plain rtl  hl\" ><span class=\"txtu hbo\">יְהוָ֖ה </span></span></span></span></td><td class=\"tf rtl\"><span class=\"rtl ubd\"><span class=\"plain rtl  hl\" ><span class=\"txtu hbo\">יְהוָ֖ה </span></span></span></td></tr></table>"
      ],
      "text/plain": [
       "<IPython.core.display.HTML object>"
      ]
     },
     "metadata": {},
     "output_type": "display_data"
    }
   ],
   "source": [
    "A.table(results)"
   ]
  },
  {
   "cell_type": "markdown",
   "id": "fabulous-klein",
   "metadata": {},
   "source": [
    "We compute the verses and words involved in the results."
   ]
  },
  {
   "cell_type": "markdown",
   "id": "improved-bubble",
   "metadata": {},
   "source": [
    "# Example 2\n",
    "\n",
    "[Bas Meeuse: Example 2: FJM + prep. L](https://shebanq.ancient-data.org/hebrew/query?version=2017&id=4440)\n",
    "\n",
    "```\n",
    "[clause\n",
    "  [word FOCUS lex = 'FJM[']\n",
    "  ..\n",
    "  [word FOCUS lex = \"L\"]\n",
    "  [word lex <> '<JN/' AND lex <> 'PNH/']\n",
    "]\n",
    "```\n",
    "\n",
    "**Results**\n",
    "\n",
    "results | verses | words\n",
    "--- | --- | ---\n",
    "156 | 136 | 294"
   ]
  },
  {
   "cell_type": "code",
   "execution_count": 53,
   "id": "offshore-tobago",
   "metadata": {},
   "outputs": [],
   "source": [
    "query = \"\"\"\n",
    "clause\n",
    "  word lex=FJM[\n",
    "  < word lex=L\n",
    "  <: word lex#<JN/|PNH/\n",
    "\"\"\""
   ]
  },
  {
   "cell_type": "code",
   "execution_count": 54,
   "id": "pharmaceutical-tablet",
   "metadata": {},
   "outputs": [
    {
     "name": "stdout",
     "output_type": "stream",
     "text": [
      "  1.50s 155 results\n"
     ]
    }
   ],
   "source": [
    "results = A.search(query)"
   ]
  },
  {
   "cell_type": "markdown",
   "id": "hairy-formula",
   "metadata": {},
   "source": [
    "**N.B.:** one result less than in SHEBANQ."
   ]
  },
  {
   "cell_type": "code",
   "execution_count": 55,
   "id": "tired-pavilion",
   "metadata": {},
   "outputs": [
    {
     "name": "stdout",
     "output_type": "stream",
     "text": [
      "135 verses\n",
      "292 words\n"
     ]
    }
   ],
   "source": [
    "tfVerses = getTfVerses(results, (1, 2))"
   ]
  },
  {
   "cell_type": "markdown",
   "id": "after-occurrence",
   "metadata": {},
   "source": [
    "We show the missing result, below we explain how we found it."
   ]
  },
  {
   "cell_type": "code",
   "execution_count": 56,
   "id": "regional-minister",
   "metadata": {},
   "outputs": [
    {
     "data": {
      "text/html": [
       "<table><tr class=\"tf rtl\"><th class=\"tf rtl\">n</th><th class=\"tf rtl\">p</th><th class=\"tf rtl\">clause</th><th class=\"tf\">word</th><th class=\"tf\">word</th><th class=\"tf\">word</th></tr>\n",
       "<tr class=\"tf rtl\"><td class=\"tf rtl\">30</td><td class=\"tf rtl\"><span class=\"tfsechead ltr\"><a target=\"_blank\" href=\"https://shebanq.ancient-data.org/hebrew/text?book=Josua&amp;chapter=7&amp;verse=19&amp;version=2017&amp;mr=m&amp;qw=q&amp;tp=txt_p&amp;tr=hb&amp;wget=v&amp;qget=v&amp;nget=vt\" title=\"Show this on SHEBANQ\" sec=\"Joshua 7:19\">Joshua 7:19</a></span></td><td class=\"tf rtl\"><span class=\"rtl ubd\"><span class=\"plain rtl  hlbx\" ><span class=\"plain rtl  hl\" ><span class=\"txtu hbo\">שִֽׂים־</span></span><span class=\"txtu hbo\">נָ֣א </span><span class=\"txtu hbo\">כָבֹ֗וד </span><span class=\"plain rtl  hl\" ><span class=\"txtu hbo\">לַֽ</span></span><span class=\"plain rtl  hl\" ><span class=\"txtu hbo\">יהוָ֛ה </span></span><span class=\"txtu hbo\">אֱלֹהֵ֥י </span><span class=\"txtu hbo\">יִשְׂרָאֵ֖ל </span></span></span></td><td class=\"tf rtl\"><span class=\"rtl ubd\"><span class=\"plain rtl  hl\" ><span class=\"txtu hbo\">שִֽׂים־</span></span></span></td><td class=\"tf rtl\"><span class=\"rtl ubd\"><span class=\"plain rtl  hl\" ><span class=\"txtu hbo\">לַֽ</span></span></span></td><td class=\"tf rtl\"><span class=\"rtl ubd\"><span class=\"plain rtl  hl\" ><span class=\"txtu hbo\">יהוָ֛ה </span></span></span></td></tr>\n",
       "<tr class=\"tf rtl\"><td class=\"tf rtl\">31</td><td class=\"tf rtl\"><span class=\"tfsechead ltr\"><a target=\"_blank\" href=\"https://shebanq.ancient-data.org/hebrew/text?book=Josua&amp;chapter=8&amp;verse=12&amp;version=2017&amp;mr=m&amp;qw=q&amp;tp=txt_p&amp;tr=hb&amp;wget=v&amp;qget=v&amp;nget=vt\" title=\"Show this on SHEBANQ\" sec=\"Joshua 8:12\">Joshua 8:12</a></span></td><td class=\"tf rtl\"><span class=\"rtl ubd\"><span class=\"plain rtl  hlbx\" ><span class=\"txtu hbo\">וַ</span><span class=\"plain rtl  hl\" ><span class=\"txtu hbo\">יָּ֨שֶׂם </span></span><span class=\"txtu hbo\">אֹותָ֜ם </span><span class=\"txtu hbo\">אֹרֵ֗ב </span><span class=\"txtu hbo\">בֵּ֧ין </span><span class=\"txtu hbo\">בֵּֽית־אֵ֛ל </span><span class=\"txtu hbo\">וּ</span><span class=\"txtu hbo\">בֵ֥ין </span><span class=\"txtu hbo\">הָ</span><span class=\"txtu hbo\">עַ֖י </span><span class=\"txtu hbo\">מִ</span><span class=\"txtu hbo\">יָּ֥ם </span><span class=\"plain rtl  hl\" ><span class=\"txtu hbo\">לָ</span></span><span class=\"plain rtl  hl\" ></span><span class=\"txtu hbo\">עִֽיר׃ </span></span></span></td><td class=\"tf rtl\"><span class=\"rtl ubd\"><span class=\"plain rtl  hl\" ><span class=\"txtu hbo\">יָּ֨שֶׂם </span></span></span></td><td class=\"tf rtl\"><span class=\"rtl ubd\"><span class=\"plain rtl  hl\" ><span class=\"txtu hbo\">לָ</span></span></span></td><td class=\"tf rtl\"><span class=\"rtl ubd\"><span class=\"plain rtl  hl\" ></span></span></td></tr></table>"
      ],
      "text/plain": [
       "<IPython.core.display.HTML object>"
      ]
     },
     "metadata": {},
     "output_type": "display_data"
    }
   ],
   "source": [
    "A.table(results, start=30, end=31)"
   ]
  },
  {
   "cell_type": "markdown",
   "id": "flying-colon",
   "metadata": {},
   "source": [
    "Joshua 8:2 is missing!\n",
    "\n",
    "We expand this verse in SHEBANQ:\n",
    "\n",
    "![josh](images/josh.png)\n",
    "\n",
    "That there is a gap in the clause, right after the word `L` between words 116853 and 116858.\n",
    "In MQL, the adjacency of things is relative to the container it is in.\n",
    "If the container has a gap, the words around the gap are considered adjacent.\n",
    "\n",
    "In this example it means that this part of the query:\n",
    "\n",
    "```\n",
    "  [word FOCUS lex = \"L\"]\n",
    "  [word lex <> '<JN/' AND lex <> 'PNH/']\n",
    "```\n",
    "\n",
    "is matched by words 116853 and 116858.\n",
    "And the MQL query considers those two words as adjacent *within the clause*.\n",
    "\n",
    "In Text-Fabric, adjacency between words is absolute: it is not relative to a container object.\n",
    "The Text-Fabric notion of adjacency is more crude. \n",
    "The reason is that in Text-Fabric, the query does not have to be a tree, where each object has a unique\n",
    "immediate parent object. There could be several parent objects, and each of the parents may have different\n",
    "gaps, and if we had the concept of relative adjacency, our query language would need a way to express that.\n",
    "\n",
    "It has not, and to me it is an open question whether we should complicate search templates in that way.\n",
    "\n",
    "Anyway, as it stands,  there is no obvious workaround to get the exactly the same behaviour as the MQL query.\n",
    "\n",
    "That said, we can try something that comes close:\n",
    "\n",
    "We state that the `L` is is not immediately followed by a word that is `<JN/` or `PNH/`."
   ]
  },
  {
   "cell_type": "code",
   "execution_count": 57,
   "id": "surgical-arizona",
   "metadata": {},
   "outputs": [],
   "source": [
    "query = \"\"\"\n",
    "clause\n",
    "  word lex=FJM[\n",
    "  < word lex=L\n",
    "  /without/\n",
    "  <: w3:word lex=<JN/|PNH/\n",
    "  /-/\n",
    "\"\"\""
   ]
  },
  {
   "cell_type": "code",
   "execution_count": 58,
   "id": "alpine-bunny",
   "metadata": {},
   "outputs": [
    {
     "name": "stdout",
     "output_type": "stream",
     "text": [
      "  0.77s 161 results\n"
     ]
    }
   ],
   "source": [
    "results = A.search(query)"
   ]
  },
  {
   "cell_type": "markdown",
   "id": "damaged-sport",
   "metadata": {},
   "source": [
    "It turns out that we get more results than in SHEBANQ.\n",
    "We first count the verses and words involved in the results."
   ]
  },
  {
   "cell_type": "code",
   "execution_count": 59,
   "id": "wireless-newman",
   "metadata": {},
   "outputs": [
    {
     "name": "stdout",
     "output_type": "stream",
     "text": [
      "139 verses\n",
      "302 words\n"
     ]
    }
   ],
   "source": [
    "tfVerses2 = getTfVerses(results, (1, 2))"
   ]
  },
  {
   "cell_type": "markdown",
   "id": "endangered-change",
   "metadata": {},
   "source": [
    "Here is a result that is not in SHEBANQ (see below how we found it)."
   ]
  },
  {
   "cell_type": "code",
   "execution_count": 60,
   "id": "false-mathematics",
   "metadata": {},
   "outputs": [
    {
     "data": {
      "text/html": [
       "<table><tr class=\"tf rtl\"><th class=\"tf rtl\">n</th><th class=\"tf rtl\">p</th><th class=\"tf rtl\">clause</th><th class=\"tf\">word</th><th class=\"tf\">word</th></tr>\n",
       "<tr class=\"tf rtl\"><td class=\"tf rtl\">3</td><td class=\"tf rtl\"><span class=\"tfsechead ltr\"><a target=\"_blank\" href=\"https://shebanq.ancient-data.org/hebrew/text?book=Genesis&amp;chapter=27&amp;verse=37&amp;version=2017&amp;mr=m&amp;qw=q&amp;tp=txt_p&amp;tr=hb&amp;wget=v&amp;qget=v&amp;nget=vt\" title=\"Show this on SHEBANQ\" sec=\"Genesis 27:37\">Genesis 27:37</a></span></td><td class=\"tf rtl\"><span class=\"rtl ubd\"><span class=\"plain rtl  hlbx\" ><span class=\"txtu hbo\">הֵ֣ן </span><span class=\"txtu hbo\">גְּבִ֞יר </span><span class=\"plain rtl  hl\" ><span class=\"txtu hbo\">שַׂמְתִּ֥יו </span></span><span class=\"plain rtl  hl\" ><span class=\"txtu hbo\">לָךְ֙ </span></span></span></span></td><td class=\"tf rtl\"><span class=\"rtl ubd\"><span class=\"plain rtl  hl\" ><span class=\"txtu hbo\">שַׂמְתִּ֥יו </span></span></span></td><td class=\"tf rtl\"><span class=\"rtl ubd\"><span class=\"plain rtl  hl\" ><span class=\"txtu hbo\">לָךְ֙ </span></span></span></td></tr></table>"
      ],
      "text/plain": [
       "<IPython.core.display.HTML object>"
      ]
     },
     "metadata": {},
     "output_type": "display_data"
    }
   ],
   "source": [
    "A.table(results, start=3, end=3)"
   ]
  },
  {
   "cell_type": "markdown",
   "id": "thermal-cologne",
   "metadata": {},
   "source": [
    "The Genesis 27:37 result has something in common with the Joshua 8:2 result in SHEBANQ that we saw above: the `L` has a pronominal suffix.\n",
    "\n",
    "Here it is also the last word in the clause.\n",
    "So it seems to be an intended result of the MQL query.\n",
    "\n",
    "Let's make a mental shift: what *is* the intention of the MQL query?\n",
    "Here is a bit of query-exegesis, in that the query itself is the object of the exegesis.\n",
    "\n",
    "The MQL query mentions three `[word]` objects, but it puts only the first two of them in `FOCUS`. \n",
    "\n",
    "1. it is not interested in the actual value of the third one;\n",
    "2. the third `[word]` is constrained by a very loose restriction: it can be anything, except two specific values.\n",
    "\n",
    "These two things point to the intended meaning of the query, namely\n",
    "\n",
    "> find a clause with the word `FJM[`, and somewhere after that the word `L`, \n",
    "which is not followed by either the word `<JN/` or the word `PNH/`.\n",
    "\n",
    "This differs subtly from what the query actually says:\n",
    "\n",
    "> find a clause with the word `FJM[`, and somewhere after that the word `L`, \n",
    "which is followed by another word that is not `<JN/` and not `PNH/`.\n",
    "\n",
    "The difference is one of *quantification*.\n",
    "\n",
    "More schematically, the MQL states literally:\n",
    "\n",
    "> there is a **word** after **a** that is not **b** and not **c**\n",
    "\n",
    "But the intention is:\n",
    "\n",
    "> for each **word** after **a** it is not **b** and not **c**"
   ]
  },
  {
   "cell_type": "markdown",
   "id": "actual-archives",
   "metadata": {},
   "source": [
    "MQL also has a concept of quantifier, a bit more limited than in TF, but it suffices in this case: `NOTEXIST`.\n",
    "The query then becomes:\n",
    "\n",
    "```\n",
    "[clause\n",
    "  [word FOCUS lex = 'FJM[']\n",
    "  ..\n",
    "  [word FOCUS lex = \"L\"]\n",
    "  NOTEXIST [word lex = '<JN/' OR lex = 'PNH/']\n",
    "]\n",
    "\n",
    "```\n",
    "\n",
    "See \n",
    "[Dirk Roorda: Example 2: not exist](https://shebanq.ancient-data.org/hebrew/query?version=2017&id=4467)\n",
    "\n",
    "**Results**\n",
    "\n",
    "results | verses | words\n",
    "--- | --- | ---\n",
    "160 | 138 | 300"
   ]
  },
  {
   "cell_type": "markdown",
   "id": "consolidated-stadium",
   "metadata": {},
   "source": [
    "Now we have one result more in Text-Fabric than in SHEBANQ.\n",
    "That is 2 Samuel 14:7, see below."
   ]
  },
  {
   "cell_type": "code",
   "execution_count": 61,
   "id": "demanding-element",
   "metadata": {},
   "outputs": [
    {
     "data": {
      "text/html": [
       "<table><tr class=\"tf rtl\"><th class=\"tf rtl\">n</th><th class=\"tf rtl\">p</th><th class=\"tf rtl\">clause</th><th class=\"tf\">word</th><th class=\"tf\">word</th></tr>\n",
       "<tr class=\"tf rtl\"><td class=\"tf rtl\">58</td><td class=\"tf rtl\"><span class=\"tfsechead ltr\"><a target=\"_blank\" href=\"https://shebanq.ancient-data.org/hebrew/text?book=Samuel_II&amp;chapter=14&amp;verse=7&amp;version=2017&amp;mr=m&amp;qw=q&amp;tp=txt_p&amp;tr=hb&amp;wget=v&amp;qget=v&amp;nget=vt\" title=\"Show this on SHEBANQ\" sec=\"2_Samuel 14:7\">2_Samuel 14:7</a></span></td><td class=\"tf rtl\"><span class=\"rtl ubd\"><span class=\"plain rtl  hlbx\" ><span class=\"txtu hbo\">לְ</span><span class=\"txtu hbo\">בִלְתִּ֧י </span><span class=\"plain rtl  hl\" ><span class=\"txtu hbo\">שִׂים־</span></span><span class=\"plain rtl  hl\" ><span class=\"txtu hbo\">לְ</span></span><span class=\"txtu hbo\">אִישִׁ֛י </span><span class=\"txtu hbo\">שֵׁ֥ם </span><span class=\"txtu hbo\">וּ</span><span class=\"txtu hbo\">שְׁאֵרִ֖ית </span><span class=\"txtu hbo\">עַל־</span><span class=\"txtu hbo\">פְּנֵ֥י </span><span class=\"txtu hbo\">הָ</span><span class=\"txtu hbo\">אֲדָמָֽה׃ פ </span></span></span></td><td class=\"tf rtl\"><span class=\"rtl ubd\"><span class=\"plain rtl  hl\" ><span class=\"txtu hbo\">שִׂים־</span></span></span></td><td class=\"tf rtl\"><span class=\"rtl ubd\"><span class=\"plain rtl  hl\" ><span class=\"txtu hbo\">לְ</span></span></span></td></tr></table>"
      ],
      "text/plain": [
       "<IPython.core.display.HTML object>"
      ]
     },
     "metadata": {},
     "output_type": "display_data"
    }
   ],
   "source": [
    "A.table(results, start=58, end=58)"
   ]
  },
  {
   "cell_type": "markdown",
   "id": "clear-faith",
   "metadata": {},
   "source": [
    "When we look it up in SHEBANQ we find this:\n",
    "\n",
    "![sam](images/sam.png)"
   ]
  },
  {
   "cell_type": "markdown",
   "id": "anonymous-insulin",
   "metadata": {},
   "source": [
    "The thing here is that word 168188 is `PNH/`.\n",
    "It turns out that the `NOTEXIST` operator in MQL quantifies over all words that *follow* from that position.\n",
    "\n",
    "If `NOTEXIST [word properties]` meant that there is no word *at* that position with those properties, all was well for our purposes.\n",
    "But it means that there is no word *from* that position with those properties.\n",
    "\n",
    "So ot turns out: nice idea, but it does not work out in MQL.\n",
    "\n",
    "Now the tide has turned: we have trouble in MQL to find a query that exactly matches our intention, while in TF we can."
   ]
  },
  {
   "cell_type": "markdown",
   "id": "sustained-stroke",
   "metadata": {},
   "source": [
    "Still, there might be problems.\n",
    "\n",
    "If there is a clause, with `L`, then a gap, and then either `<JN/` or `PNH/`,\n",
    "the SHEBANQ query would skip it, but the Text-Fabric query would include it.\n",
    "\n",
    "Let's check in Text-Fabric whether this occurs."
   ]
  },
  {
   "cell_type": "code",
   "execution_count": 62,
   "id": "removed-document",
   "metadata": {},
   "outputs": [],
   "source": [
    "query = \"\"\"\n",
    "clause\n",
    "  clause_atom\n",
    "    word lex=L\n",
    "    :=\n",
    "  < clause_atom\n",
    "    =: word lex=<JN/|PNH/\n",
    "\"\"\""
   ]
  },
  {
   "cell_type": "code",
   "execution_count": 63,
   "id": "static-budget",
   "metadata": {},
   "outputs": [
    {
     "name": "stdout",
     "output_type": "stream",
     "text": [
      "  0.87s 0 results\n"
     ]
    }
   ],
   "source": [
    "results = A.search(query)"
   ]
  },
  {
   "cell_type": "markdown",
   "id": "responsible-composite",
   "metadata": {},
   "source": [
    "Nope.\n",
    "\n",
    "But is this query itself right?\n",
    "Let's look for a known case, namely Joshua 8:2 above."
   ]
  },
  {
   "cell_type": "code",
   "execution_count": 64,
   "id": "retained-october",
   "metadata": {},
   "outputs": [],
   "source": [
    "query = \"\"\"\n",
    "clause\n",
    "  clause_atom\n",
    "    word lex=L\n",
    "    :=\n",
    "  < clause_atom\n",
    "    =: word lex=MN\n",
    "\"\"\""
   ]
  },
  {
   "cell_type": "code",
   "execution_count": 65,
   "id": "smoking-integration",
   "metadata": {},
   "outputs": [
    {
     "name": "stdout",
     "output_type": "stream",
     "text": [
      "  0.88s 2 results\n"
     ]
    }
   ],
   "source": [
    "results = A.search(query)"
   ]
  },
  {
   "cell_type": "code",
   "execution_count": 66,
   "id": "voluntary-price",
   "metadata": {},
   "outputs": [
    {
     "data": {
      "text/html": [
       "<table><tr class=\"tf rtl\"><th class=\"tf rtl\">n</th><th class=\"tf rtl\">p</th><th class=\"tf rtl\">clause</th><th class=\"tf\">clause_atom</th><th class=\"tf\">word</th><th class=\"tf\">clause_atom</th><th class=\"tf\">word</th></tr>\n",
       "<tr class=\"tf rtl\"><td class=\"tf rtl\">1</td><td class=\"tf rtl\"><span class=\"tfsechead ltr\"><a target=\"_blank\" href=\"https://shebanq.ancient-data.org/hebrew/text?book=Josua&amp;chapter=8&amp;verse=2&amp;version=2017&amp;mr=m&amp;qw=q&amp;tp=txt_p&amp;tr=hb&amp;wget=v&amp;qget=v&amp;nget=vt\" title=\"Show this on SHEBANQ\" sec=\"Joshua 8:2\">Joshua 8:2</a></span></td><td class=\"tf rtl\"><span class=\"rtl ubd\"><span class=\"plain rtl l hlbx\" ><span class=\"txtu hbo\">שִׂים־</span><span class=\"plain rtl  hl\" ><span class=\"txtu hbo\">לְךָ֥ </span></span></span><span class=\"plain rtl r hlbx\" ><span class=\"plain rtl  hl\" ><span class=\"txtu hbo\">מֵ</span></span><span class=\"txtu hbo\">אַחֲרֶֽיהָ׃ </span></span></span></td><td class=\"tf rtl\"><span class=\"rtl ubd\"><span class=\"plain rtl  hlbx\" ><span class=\"txtu hbo\">שִׂים־</span><span class=\"plain rtl  hl\" ><span class=\"txtu hbo\">לְךָ֥ </span></span></span></span></td><td class=\"tf rtl\"><span class=\"rtl ubd\"><span class=\"plain rtl  hl\" ><span class=\"txtu hbo\">לְךָ֥ </span></span></span></td><td class=\"tf rtl\"><span class=\"rtl ubd\"><span class=\"plain rtl  hlbx\" ><span class=\"plain rtl  hl\" ><span class=\"txtu hbo\">מֵ</span></span><span class=\"txtu hbo\">אַחֲרֶֽיהָ׃ </span></span></span></td><td class=\"tf rtl\"><span class=\"rtl ubd\"><span class=\"plain rtl  hl\" ><span class=\"txtu hbo\">מֵ</span></span></span></td></tr>\n",
       "<tr class=\"tf rtl\"><td class=\"tf rtl\">2</td><td class=\"tf rtl\"><span class=\"tfsechead ltr\"><a target=\"_blank\" href=\"https://shebanq.ancient-data.org/hebrew/text?book=Hosea&amp;chapter=10&amp;verse=15&amp;version=2017&amp;mr=m&amp;qw=q&amp;tp=txt_p&amp;tr=hb&amp;wget=v&amp;qget=v&amp;nget=vt\" title=\"Show this on SHEBANQ\" sec=\"Hosea 10:15\">Hosea 10:15</a></span></td><td class=\"tf rtl\"><span class=\"rtl ubd\"><span class=\"plain rtl l hlbx\" ><span class=\"txtu hbo\">כָּ֗כָה </span><span class=\"txtu hbo\">עָשָׂ֤ה </span><span class=\"plain rtl  hl\" ><span class=\"txtu hbo\">לָכֶם֙ </span></span></span><span class=\"plain rtl r hlbx\" ><span class=\"plain rtl  hl\" ><span class=\"txtu hbo\">מִ</span></span><span class=\"txtu hbo\">פְּנֵ֖י </span><span class=\"txtu hbo\">רָעַ֣ת </span><span class=\"txtu hbo\">רָֽעַתְכֶ֑ם </span></span></span></td><td class=\"tf rtl\"><span class=\"rtl ubd\"><span class=\"plain rtl  hlbx\" ><span class=\"txtu hbo\">כָּ֗כָה </span><span class=\"txtu hbo\">עָשָׂ֤ה </span><span class=\"plain rtl  hl\" ><span class=\"txtu hbo\">לָכֶם֙ </span></span></span></span></td><td class=\"tf rtl\"><span class=\"rtl ubd\"><span class=\"plain rtl  hl\" ><span class=\"txtu hbo\">לָכֶם֙ </span></span></span></td><td class=\"tf rtl\"><span class=\"rtl ubd\"><span class=\"plain rtl  hlbx\" ><span class=\"plain rtl  hl\" ><span class=\"txtu hbo\">מִ</span></span><span class=\"txtu hbo\">פְּנֵ֖י </span><span class=\"txtu hbo\">רָעַ֣ת </span><span class=\"txtu hbo\">רָֽעַתְכֶ֑ם </span></span></span></td><td class=\"tf rtl\"><span class=\"rtl ubd\"><span class=\"plain rtl  hl\" ><span class=\"txtu hbo\">מִ</span></span></span></td></tr></table>"
      ],
      "text/plain": [
       "<IPython.core.display.HTML object>"
      ]
     },
     "metadata": {},
     "output_type": "display_data"
    }
   ],
   "source": [
    "A.table(results)"
   ]
  },
  {
   "cell_type": "markdown",
   "id": "demonstrated-valuation",
   "metadata": {},
   "source": [
    "Yes, this kind of query finds exactly what we are looking for."
   ]
  },
  {
   "cell_type": "markdown",
   "id": "recognized-terminal",
   "metadata": {},
   "source": [
    "**Conclusion**\n",
    "\n",
    "In Text-Fabric we have found a query with slightly different results.\n",
    "But these results match the intention of the query just a bit better than the original query.\n",
    "\n",
    "We tried to improve the MQL query by using `NOTEXIST`, but that did not work out.\n",
    "\n",
    "However, the TF query might include (contrived) cases that the MQL query would rightfully skip. \n",
    "We can verify whether those cases actually exist by running a separate TF query, and it turns out they do not exist.\n",
    "\n",
    "**Lesson**\n",
    "\n",
    "Whenever an exegesis hinges on the results of a query, check and double check.\n",
    "You probably will have to run multiple queries in SHEBANQ and combine the results.\n",
    "This will quickly get very cumbersome.\n",
    "If that happens, it starts to pay off to use Text-Fabric, where you have more complete power over \n",
    "the computations and their results."
   ]
  },
  {
   "cell_type": "markdown",
   "id": "eleven-peripheral",
   "metadata": {},
   "source": [
    "**Appendix**\n",
    "\n",
    "How did we spot the differences between the results of the MQL query and the TF query?\n",
    "\n",
    "We just fetched the results from SHEBANQ by means of its CSV export and compared them with the TF results,\n",
    "as follows."
   ]
  },
  {
   "cell_type": "markdown",
   "id": "lined-prototype",
   "metadata": {},
   "source": [
    "Read the CSV file, and convert the book/chapter/verse labels to version nodes in TF."
   ]
  },
  {
   "cell_type": "code",
   "execution_count": 67,
   "id": "prospective-southeast",
   "metadata": {},
   "outputs": [],
   "source": [
    "def getShebanqVerses(fileName):\n",
    "    sVerses = set()\n",
    "    with open(fileName) as fh:\n",
    "        for line in fh:\n",
    "            fields = line.rstrip(\"\\n\").split(\"\\t\")[0:3]\n",
    "            sVerses.add(T.nodeFromSection((fields[0], int(fields[1]), int(fields[2])), lang=\"la\"))\n",
    "\n",
    "    sVerses = sorted(sVerses)\n",
    "    print(f\"{len(sVerses)} verses in SHEBANQ\")\n",
    "    return sVerses"
   ]
  },
  {
   "cell_type": "code",
   "execution_count": 68,
   "id": "quarterly-organization",
   "metadata": {},
   "outputs": [
    {
     "name": "stdout",
     "output_type": "stream",
     "text": [
      "136 verses in SHEBANQ\n"
     ]
    }
   ],
   "source": [
    "sVerses = getShebanqVerses(\"mql-ex2.tsv\")"
   ]
  },
  {
   "cell_type": "code",
   "execution_count": 69,
   "id": "human-tobacco",
   "metadata": {},
   "outputs": [
    {
     "name": "stdout",
     "output_type": "stream",
     "text": [
      "138 verses in SHEBANQ\n"
     ]
    }
   ],
   "source": [
    "sVerses2 = getShebanqVerses(\"mql-ex2dr.tsv\")"
   ]
  },
  {
   "cell_type": "markdown",
   "id": "separate-finding",
   "metadata": {},
   "source": [
    "Compare the two lists, and find the first discrepancy."
   ]
  },
  {
   "cell_type": "code",
   "execution_count": 70,
   "id": "intended-catch",
   "metadata": {},
   "outputs": [],
   "source": [
    "def firstDifference(leftVerses, rightVerses):\n",
    "    equal = True\n",
    "    \n",
    "    for (i, lv) in enumerate(leftVerses):\n",
    "        leftVerse = T.sectionFromNode(lv)\n",
    "        if i < len(rightVerses):\n",
    "            rv = rightVerses[i]\n",
    "            if lv == rv:\n",
    "                continue\n",
    "            rightVerse = T.sectionFromNode(rv)\n",
    "            print(f\"DIFFERENCE:\\n{leftVerse}\\n{rightVerse}\")\n",
    "            equal = False\n",
    "            break\n",
    "        else:\n",
    "            print(f\"DIFFERENCE:\\n{leftVerse}\\nno verses left\")\n",
    "            equal = False\n",
    "            break\n",
    "    if equal and len(leftVerses) < len(rightVerses):\n",
    "        rv = rightVerses[len(leftVerses)]\n",
    "        rightVerse = T.sectionFromNode(rv)\n",
    "        print(f\"DIFFERENCE:\\nno verses left\\n{rightVerse}\")\n",
    "        equal = False\n",
    "    if equal:\n",
    "        print(\"EQUAL\")\n",
    "    return equal"
   ]
  },
  {
   "cell_type": "markdown",
   "id": "answering-failing",
   "metadata": {},
   "source": [
    "Find the first difference between the original MQL query and the first TF query:"
   ]
  },
  {
   "cell_type": "code",
   "execution_count": 71,
   "id": "sound-reception",
   "metadata": {},
   "outputs": [
    {
     "name": "stdout",
     "output_type": "stream",
     "text": [
      "DIFFERENCE:\n",
      "('Joshua', 8, 2)\n",
      "('Joshua', 8, 12)\n"
     ]
    },
    {
     "data": {
      "text/plain": [
       "False"
      ]
     },
     "execution_count": 71,
     "metadata": {},
     "output_type": "execute_result"
    }
   ],
   "source": [
    "firstDifference(sVerses, tfVerses)"
   ]
  },
  {
   "cell_type": "markdown",
   "id": "geographic-polish",
   "metadata": {},
   "source": [
    "Find the first difference between the original MQL query and the second TF query (with the quantifier):"
   ]
  },
  {
   "cell_type": "code",
   "execution_count": 72,
   "id": "provincial-efficiency",
   "metadata": {},
   "outputs": [
    {
     "name": "stdout",
     "output_type": "stream",
     "text": [
      "DIFFERENCE:\n",
      "('Genesis', 43, 32)\n",
      "('Genesis', 27, 37)\n"
     ]
    },
    {
     "data": {
      "text/plain": [
       "False"
      ]
     },
     "execution_count": 72,
     "metadata": {},
     "output_type": "execute_result"
    }
   ],
   "source": [
    "firstDifference(sVerses, tfVerses2)"
   ]
  },
  {
   "cell_type": "markdown",
   "id": "finished-compensation",
   "metadata": {},
   "source": [
    "Find the first difference between the improved MQL query and the second TF query (with the quantifier):"
   ]
  },
  {
   "cell_type": "code",
   "execution_count": 73,
   "id": "hollywood-modern",
   "metadata": {},
   "outputs": [
    {
     "name": "stdout",
     "output_type": "stream",
     "text": [
      "DIFFERENCE:\n",
      "('2_Samuel', 23, 5)\n",
      "('2_Samuel', 14, 7)\n"
     ]
    },
    {
     "data": {
      "text/plain": [
       "False"
      ]
     },
     "execution_count": 73,
     "metadata": {},
     "output_type": "execute_result"
    }
   ],
   "source": [
    "firstDifference(sVerses2, tfVerses2)"
   ]
  },
  {
   "cell_type": "markdown",
   "id": "mysterious-postage",
   "metadata": {},
   "source": [
    "# Example 3\n",
    "\n",
    "[Bas Meeuse: Example 3: Whose people?](https://shebanq.ancient-data.org/hebrew/query?version=2017&id=4441)\n",
    "\n",
    "```\n",
    "[phrase_atom FOCUS\n",
    "  [word AS P sp = prps]\n",
    "  ..\n",
    "  [word lex = \"W\" OR lex = \">W\"]\n",
    "  ..\n",
    "  [word prs !~ \"a\" AND prs_ps = P.ps]\n",
    "]\n",
    "```\n",
    "\n",
    "**Results**\n",
    "\n",
    "results | verses | words\n",
    "--- | --- | ---\n",
    "308 | 150 | 685"
   ]
  },
  {
   "cell_type": "code",
   "execution_count": 74,
   "id": "designed-arnold",
   "metadata": {},
   "outputs": [],
   "source": [
    "query = \"\"\"\n",
    "phrase_atom\n",
    "  p:word sp=prps\n",
    "  < word lex=W|>W\n",
    "  < w:word prs#a\n",
    "  \n",
    "p .ps=prs_ps. w\n",
    "\"\"\""
   ]
  },
  {
   "cell_type": "code",
   "execution_count": 75,
   "id": "lucky-specification",
   "metadata": {},
   "outputs": [
    {
     "name": "stdout",
     "output_type": "stream",
     "text": [
      "  1.63s 308 results\n"
     ]
    }
   ],
   "source": [
    "results = A.search(query)"
   ]
  },
  {
   "cell_type": "code",
   "execution_count": 76,
   "id": "wanted-donor",
   "metadata": {},
   "outputs": [
    {
     "name": "stdout",
     "output_type": "stream",
     "text": [
      "150 verses\n",
      "685 words\n"
     ]
    }
   ],
   "source": [
    "tfVerses = getTfVerses(results, (0,))"
   ]
  },
  {
   "cell_type": "markdown",
   "id": "modular-circle",
   "metadata": {},
   "source": [
    "**The numbers agree exactly**."
   ]
  },
  {
   "cell_type": "code",
   "execution_count": 77,
   "id": "discrete-evaluation",
   "metadata": {},
   "outputs": [
    {
     "data": {
      "text/html": [
       "<table><tr class=\"tf rtl\"><th class=\"tf rtl\">n</th><th class=\"tf rtl\">p</th><th class=\"tf rtl\">phrase_atom</th><th class=\"tf\">word</th><th class=\"tf\">word</th><th class=\"tf\">word</th></tr>\n",
       "<tr class=\"tf rtl\"><td class=\"tf rtl\">1</td><td class=\"tf rtl\"><span class=\"tfsechead ltr\"><a target=\"_blank\" href=\"https://shebanq.ancient-data.org/hebrew/text?book=Genesis&amp;chapter=6&amp;verse=18&amp;version=2017&amp;mr=m&amp;qw=q&amp;tp=txt_p&amp;tr=hb&amp;wget=v&amp;qget=v&amp;nget=vt\" title=\"Show this on SHEBANQ\" sec=\"Genesis 6:18\">Genesis 6:18</a></span></td><td class=\"tf rtl\"><span class=\"rtl ubd\"><span class=\"plain rtl  hlbx\" ><span class=\"plain rtl  hl\" ><span class=\"txtu hbo\">אַתָּ֕ה </span></span><span class=\"plain rtl  hl\" ><span class=\"txtu hbo\">וּ</span></span><span class=\"plain rtl  hl\" ><span class=\"txtu hbo\">בָנֶ֛יךָ </span></span><span class=\"txtu hbo\">וְ</span><span class=\"txtu hbo\">אִשְׁתְּךָ֥ </span><span class=\"txtu hbo\">וּ</span><span class=\"txtu hbo\">נְשֵֽׁי־</span><span class=\"txtu hbo\">בָנֶ֖יךָ </span></span></span></td><td class=\"tf rtl\"><span class=\"rtl ubd\"><span class=\"plain rtl  hl\" ><span class=\"txtu hbo\">אַתָּ֕ה </span></span></span></td><td class=\"tf rtl\"><span class=\"rtl ubd\"><span class=\"plain rtl  hl\" ><span class=\"txtu hbo\">וּ</span></span></span></td><td class=\"tf rtl\"><span class=\"rtl ubd\"><span class=\"plain rtl  hl\" ><span class=\"txtu hbo\">בָנֶ֛יךָ </span></span></span></td></tr>\n",
       "<tr class=\"tf rtl\"><td class=\"tf rtl\">2</td><td class=\"tf rtl\"><span class=\"tfsechead ltr\"><a target=\"_blank\" href=\"https://shebanq.ancient-data.org/hebrew/text?book=Genesis&amp;chapter=6&amp;verse=18&amp;version=2017&amp;mr=m&amp;qw=q&amp;tp=txt_p&amp;tr=hb&amp;wget=v&amp;qget=v&amp;nget=vt\" title=\"Show this on SHEBANQ\" sec=\"Genesis 6:18\">Genesis 6:18</a></span></td><td class=\"tf rtl\"><span class=\"rtl ubd\"><span class=\"plain rtl  hlbx\" ><span class=\"plain rtl  hl\" ><span class=\"txtu hbo\">אַתָּ֕ה </span></span><span class=\"plain rtl  hl\" ><span class=\"txtu hbo\">וּ</span></span><span class=\"txtu hbo\">בָנֶ֛יךָ </span><span class=\"txtu hbo\">וְ</span><span class=\"plain rtl  hl\" ><span class=\"txtu hbo\">אִשְׁתְּךָ֥ </span></span><span class=\"txtu hbo\">וּ</span><span class=\"txtu hbo\">נְשֵֽׁי־</span><span class=\"txtu hbo\">בָנֶ֖יךָ </span></span></span></td><td class=\"tf rtl\"><span class=\"rtl ubd\"><span class=\"plain rtl  hl\" ><span class=\"txtu hbo\">אַתָּ֕ה </span></span></span></td><td class=\"tf rtl\"><span class=\"rtl ubd\"><span class=\"plain rtl  hl\" ><span class=\"txtu hbo\">וּ</span></span></span></td><td class=\"tf rtl\"><span class=\"rtl ubd\"><span class=\"plain rtl  hl\" ><span class=\"txtu hbo\">אִשְׁתְּךָ֥ </span></span></span></td></tr>\n",
       "<tr class=\"tf rtl\"><td class=\"tf rtl\">3</td><td class=\"tf rtl\"><span class=\"tfsechead ltr\"><a target=\"_blank\" href=\"https://shebanq.ancient-data.org/hebrew/text?book=Genesis&amp;chapter=6&amp;verse=18&amp;version=2017&amp;mr=m&amp;qw=q&amp;tp=txt_p&amp;tr=hb&amp;wget=v&amp;qget=v&amp;nget=vt\" title=\"Show this on SHEBANQ\" sec=\"Genesis 6:18\">Genesis 6:18</a></span></td><td class=\"tf rtl\"><span class=\"rtl ubd\"><span class=\"plain rtl  hlbx\" ><span class=\"plain rtl  hl\" ><span class=\"txtu hbo\">אַתָּ֕ה </span></span><span class=\"plain rtl  hl\" ><span class=\"txtu hbo\">וּ</span></span><span class=\"txtu hbo\">בָנֶ֛יךָ </span><span class=\"txtu hbo\">וְ</span><span class=\"txtu hbo\">אִשְׁתְּךָ֥ </span><span class=\"txtu hbo\">וּ</span><span class=\"txtu hbo\">נְשֵֽׁי־</span><span class=\"plain rtl  hl\" ><span class=\"txtu hbo\">בָנֶ֖יךָ </span></span></span></span></td><td class=\"tf rtl\"><span class=\"rtl ubd\"><span class=\"plain rtl  hl\" ><span class=\"txtu hbo\">אַתָּ֕ה </span></span></span></td><td class=\"tf rtl\"><span class=\"rtl ubd\"><span class=\"plain rtl  hl\" ><span class=\"txtu hbo\">וּ</span></span></span></td><td class=\"tf rtl\"><span class=\"rtl ubd\"><span class=\"plain rtl  hl\" ><span class=\"txtu hbo\">בָנֶ֖יךָ </span></span></span></td></tr>\n",
       "<tr class=\"tf rtl\"><td class=\"tf rtl\">4</td><td class=\"tf rtl\"><span class=\"tfsechead ltr\"><a target=\"_blank\" href=\"https://shebanq.ancient-data.org/hebrew/text?book=Genesis&amp;chapter=6&amp;verse=18&amp;version=2017&amp;mr=m&amp;qw=q&amp;tp=txt_p&amp;tr=hb&amp;wget=v&amp;qget=v&amp;nget=vt\" title=\"Show this on SHEBANQ\" sec=\"Genesis 6:18\">Genesis 6:18</a></span></td><td class=\"tf rtl\"><span class=\"rtl ubd\"><span class=\"plain rtl  hlbx\" ><span class=\"plain rtl  hl\" ><span class=\"txtu hbo\">אַתָּ֕ה </span></span><span class=\"txtu hbo\">וּ</span><span class=\"txtu hbo\">בָנֶ֛יךָ </span><span class=\"plain rtl  hl\" ><span class=\"txtu hbo\">וְ</span></span><span class=\"plain rtl  hl\" ><span class=\"txtu hbo\">אִשְׁתְּךָ֥ </span></span><span class=\"txtu hbo\">וּ</span><span class=\"txtu hbo\">נְשֵֽׁי־</span><span class=\"txtu hbo\">בָנֶ֖יךָ </span></span></span></td><td class=\"tf rtl\"><span class=\"rtl ubd\"><span class=\"plain rtl  hl\" ><span class=\"txtu hbo\">אַתָּ֕ה </span></span></span></td><td class=\"tf rtl\"><span class=\"rtl ubd\"><span class=\"plain rtl  hl\" ><span class=\"txtu hbo\">וְ</span></span></span></td><td class=\"tf rtl\"><span class=\"rtl ubd\"><span class=\"plain rtl  hl\" ><span class=\"txtu hbo\">אִשְׁתְּךָ֥ </span></span></span></td></tr>\n",
       "<tr class=\"tf rtl\"><td class=\"tf rtl\">5</td><td class=\"tf rtl\"><span class=\"tfsechead ltr\"><a target=\"_blank\" href=\"https://shebanq.ancient-data.org/hebrew/text?book=Genesis&amp;chapter=6&amp;verse=18&amp;version=2017&amp;mr=m&amp;qw=q&amp;tp=txt_p&amp;tr=hb&amp;wget=v&amp;qget=v&amp;nget=vt\" title=\"Show this on SHEBANQ\" sec=\"Genesis 6:18\">Genesis 6:18</a></span></td><td class=\"tf rtl\"><span class=\"rtl ubd\"><span class=\"plain rtl  hlbx\" ><span class=\"plain rtl  hl\" ><span class=\"txtu hbo\">אַתָּ֕ה </span></span><span class=\"txtu hbo\">וּ</span><span class=\"txtu hbo\">בָנֶ֛יךָ </span><span class=\"plain rtl  hl\" ><span class=\"txtu hbo\">וְ</span></span><span class=\"txtu hbo\">אִשְׁתְּךָ֥ </span><span class=\"txtu hbo\">וּ</span><span class=\"txtu hbo\">נְשֵֽׁי־</span><span class=\"plain rtl  hl\" ><span class=\"txtu hbo\">בָנֶ֖יךָ </span></span></span></span></td><td class=\"tf rtl\"><span class=\"rtl ubd\"><span class=\"plain rtl  hl\" ><span class=\"txtu hbo\">אַתָּ֕ה </span></span></span></td><td class=\"tf rtl\"><span class=\"rtl ubd\"><span class=\"plain rtl  hl\" ><span class=\"txtu hbo\">וְ</span></span></span></td><td class=\"tf rtl\"><span class=\"rtl ubd\"><span class=\"plain rtl  hl\" ><span class=\"txtu hbo\">בָנֶ֖יךָ </span></span></span></td></tr></table>"
      ],
      "text/plain": [
       "<IPython.core.display.HTML object>"
      ]
     },
     "metadata": {},
     "output_type": "display_data"
    }
   ],
   "source": [
    "A.table(results, end=5)"
   ]
  },
  {
   "cell_type": "markdown",
   "id": "meaning-easter",
   "metadata": {},
   "source": [
    "# Example 4\n",
    "\n",
    "[Wido van Peursen: Judges 5.1 (Sample query)](https://shebanq.ancient-data.org/hebrew/query?version=2017&id=53)\n",
    "```\n",
    "select all objects where\n",
    "[clause\n",
    "  [phrase FOCUS function=Pred\n",
    "    [word sp=verb AND nu=sg AND gn=f]\n",
    "  ]\n",
    "  ..\n",
    "  [phrase FOCUS function=Subj\n",
    "    [word sp=conj]\n",
    "  ]\n",
    "]\n",
    "```\n",
    "\n",
    "**Results**\n",
    "\n",
    "results | verses | words\n",
    "--- | --- | ---\n",
    "65 | 51 | 315"
   ]
  },
  {
   "cell_type": "code",
   "execution_count": 78,
   "id": "stock-obligation",
   "metadata": {},
   "outputs": [],
   "source": [
    "query = \"\"\"\n",
    "clause\n",
    "  phrase function=Pred\n",
    "    word sp=verb nu=sg gn=f\n",
    "  < phrase function=Subj\n",
    "    word sp=conj\n",
    "\"\"\""
   ]
  },
  {
   "cell_type": "code",
   "execution_count": 79,
   "id": "labeled-travel",
   "metadata": {},
   "outputs": [
    {
     "name": "stdout",
     "output_type": "stream",
     "text": [
      "  1.42s 65 results\n"
     ]
    }
   ],
   "source": [
    "results = A.search(query)"
   ]
  },
  {
   "cell_type": "code",
   "execution_count": 80,
   "id": "italic-playing",
   "metadata": {},
   "outputs": [
    {
     "name": "stdout",
     "output_type": "stream",
     "text": [
      " 51 verses\n",
      "315 words\n"
     ]
    }
   ],
   "source": [
    "tfVerses = getTfVerses(results, (1, 3))"
   ]
  },
  {
   "cell_type": "markdown",
   "id": "dressed-needle",
   "metadata": {},
   "source": [
    "**The numbers agree exactly**."
   ]
  },
  {
   "cell_type": "code",
   "execution_count": 81,
   "id": "parliamentary-kansas",
   "metadata": {},
   "outputs": [
    {
     "data": {
      "text/html": [
       "<table><tr class=\"tf rtl\"><th class=\"tf rtl\">n</th><th class=\"tf rtl\">p</th><th class=\"tf rtl\">clause</th><th class=\"tf\">phrase</th><th class=\"tf\">word</th><th class=\"tf\">phrase</th><th class=\"tf\">word</th></tr>\n",
       "<tr class=\"tf rtl\"><td class=\"tf rtl\">1</td><td class=\"tf rtl\"><span class=\"tfsechead ltr\"><a target=\"_blank\" href=\"https://shebanq.ancient-data.org/hebrew/text?book=Genesis&amp;chapter=24&amp;verse=61&amp;version=2017&amp;mr=m&amp;qw=q&amp;tp=txt_p&amp;tr=hb&amp;wget=v&amp;qget=v&amp;nget=vt\" title=\"Show this on SHEBANQ\" sec=\"Genesis 24:61\">Genesis 24:61</a></span></td><td class=\"tf rtl\"><span class=\"rtl ubd\"><span class=\"plain rtl  hlbx\" ><span class=\"txtu hbo\">וַ</span><span class=\"plain rtl  hlbx\" ><span class=\"plain rtl  hl\" ><span class=\"txtu hbo\">תָּ֨קָם </span></span></span><span class=\"plain rtl  hlbx\" ><span class=\"txtu hbo\">רִבְקָ֜ה </span><span class=\"plain rtl  hl\" ><span class=\"txtu hbo\">וְ</span></span><span class=\"txtu hbo\">נַעֲרֹתֶ֗יהָ </span></span></span></span></td><td class=\"tf rtl\"><span class=\"rtl ubd\"><span class=\"plain rtl  hlbx\" ><span class=\"plain rtl  hl\" ><span class=\"txtu hbo\">תָּ֨קָם </span></span></span></span></td><td class=\"tf rtl\"><span class=\"rtl ubd\"><span class=\"plain rtl  hl\" ><span class=\"txtu hbo\">תָּ֨קָם </span></span></span></td><td class=\"tf rtl\"><span class=\"rtl ubd\"><span class=\"plain rtl  hlbx\" ><span class=\"txtu hbo\">רִבְקָ֜ה </span><span class=\"plain rtl  hl\" ><span class=\"txtu hbo\">וְ</span></span><span class=\"txtu hbo\">נַעֲרֹתֶ֗יהָ </span></span></span></td><td class=\"tf rtl\"><span class=\"rtl ubd\"><span class=\"plain rtl  hl\" ><span class=\"txtu hbo\">וְ</span></span></span></td></tr>\n",
       "<tr class=\"tf rtl\"><td class=\"tf rtl\">2</td><td class=\"tf rtl\"><span class=\"tfsechead ltr\"><a target=\"_blank\" href=\"https://shebanq.ancient-data.org/hebrew/text?book=Genesis&amp;chapter=31&amp;verse=14&amp;version=2017&amp;mr=m&amp;qw=q&amp;tp=txt_p&amp;tr=hb&amp;wget=v&amp;qget=v&amp;nget=vt\" title=\"Show this on SHEBANQ\" sec=\"Genesis 31:14\">Genesis 31:14</a></span></td><td class=\"tf rtl\"><span class=\"rtl ubd\"><span class=\"plain rtl  hlbx\" ><span class=\"txtu hbo\">וַ</span><span class=\"plain rtl  hlbx\" ><span class=\"plain rtl  hl\" ><span class=\"txtu hbo\">תַּ֤עַן </span></span></span><span class=\"plain rtl  hlbx\" ><span class=\"txtu hbo\">רָחֵל֙ </span><span class=\"plain rtl  hl\" ><span class=\"txtu hbo\">וְ</span></span><span class=\"txtu hbo\">לֵאָ֔ה </span></span></span></span></td><td class=\"tf rtl\"><span class=\"rtl ubd\"><span class=\"plain rtl  hlbx\" ><span class=\"plain rtl  hl\" ><span class=\"txtu hbo\">תַּ֤עַן </span></span></span></span></td><td class=\"tf rtl\"><span class=\"rtl ubd\"><span class=\"plain rtl  hl\" ><span class=\"txtu hbo\">תַּ֤עַן </span></span></span></td><td class=\"tf rtl\"><span class=\"rtl ubd\"><span class=\"plain rtl  hlbx\" ><span class=\"txtu hbo\">רָחֵל֙ </span><span class=\"plain rtl  hl\" ><span class=\"txtu hbo\">וְ</span></span><span class=\"txtu hbo\">לֵאָ֔ה </span></span></span></td><td class=\"tf rtl\"><span class=\"rtl ubd\"><span class=\"plain rtl  hl\" ><span class=\"txtu hbo\">וְ</span></span></span></td></tr>\n",
       "<tr class=\"tf rtl\"><td class=\"tf rtl\">3</td><td class=\"tf rtl\"><span class=\"tfsechead ltr\"><a target=\"_blank\" href=\"https://shebanq.ancient-data.org/hebrew/text?book=Genesis&amp;chapter=33&amp;verse=7&amp;version=2017&amp;mr=m&amp;qw=q&amp;tp=txt_p&amp;tr=hb&amp;wget=v&amp;qget=v&amp;nget=vt\" title=\"Show this on SHEBANQ\" sec=\"Genesis 33:7\">Genesis 33:7</a></span></td><td class=\"tf rtl\"><span class=\"rtl ubd\"><span class=\"plain rtl  hlbx\" ><span class=\"txtu hbo\">וַ</span><span class=\"plain rtl  hlbx\" ><span class=\"plain rtl  hl\" ><span class=\"txtu hbo\">תִּגַּ֧שׁ </span></span></span><span class=\"plain rtl  hlbx\" ><span class=\"txtu hbo\">גַּם־</span><span class=\"txtu hbo\">לֵאָ֛ה </span><span class=\"plain rtl  hl\" ><span class=\"txtu hbo\">וִ</span></span><span class=\"txtu hbo\">ילָדֶ֖יהָ </span></span></span></span></td><td class=\"tf rtl\"><span class=\"rtl ubd\"><span class=\"plain rtl  hlbx\" ><span class=\"plain rtl  hl\" ><span class=\"txtu hbo\">תִּגַּ֧שׁ </span></span></span></span></td><td class=\"tf rtl\"><span class=\"rtl ubd\"><span class=\"plain rtl  hl\" ><span class=\"txtu hbo\">תִּגַּ֧שׁ </span></span></span></td><td class=\"tf rtl\"><span class=\"rtl ubd\"><span class=\"plain rtl  hlbx\" ><span class=\"txtu hbo\">גַּם־</span><span class=\"txtu hbo\">לֵאָ֛ה </span><span class=\"plain rtl  hl\" ><span class=\"txtu hbo\">וִ</span></span><span class=\"txtu hbo\">ילָדֶ֖יהָ </span></span></span></td><td class=\"tf rtl\"><span class=\"rtl ubd\"><span class=\"plain rtl  hl\" ><span class=\"txtu hbo\">וִ</span></span></span></td></tr>\n",
       "<tr class=\"tf rtl\"><td class=\"tf rtl\">4</td><td class=\"tf rtl\"><span class=\"tfsechead ltr\"><a target=\"_blank\" href=\"https://shebanq.ancient-data.org/hebrew/text?book=Genesis&amp;chapter=47&amp;verse=13&amp;version=2017&amp;mr=m&amp;qw=q&amp;tp=txt_p&amp;tr=hb&amp;wget=v&amp;qget=v&amp;nget=vt\" title=\"Show this on SHEBANQ\" sec=\"Genesis 47:13\">Genesis 47:13</a></span></td><td class=\"tf rtl\"><span class=\"rtl ubd\"><span class=\"plain rtl  hlbx\" ><span class=\"txtu hbo\">וַ</span><span class=\"plain rtl  hlbx\" ><span class=\"plain rtl  hl\" ><span class=\"txtu hbo\">תֵּ֜לַהּ </span></span></span><span class=\"plain rtl  hlbx\" ><span class=\"txtu hbo\">אֶ֤רֶץ </span><span class=\"txtu hbo\">מִצְרַ֨יִם֙ </span><span class=\"plain rtl  hl\" ><span class=\"txtu hbo\">וְ</span></span><span class=\"txtu hbo\">אֶ֣רֶץ </span><span class=\"txtu hbo\">כְּנַ֔עַן </span></span><span class=\"txtu hbo\">מִ</span><span class=\"txtu hbo\">פְּנֵ֖י </span><span class=\"txtu hbo\">הָ</span><span class=\"txtu hbo\">רָעָֽב׃ </span></span></span></td><td class=\"tf rtl\"><span class=\"rtl ubd\"><span class=\"plain rtl  hlbx\" ><span class=\"plain rtl  hl\" ><span class=\"txtu hbo\">תֵּ֜לַהּ </span></span></span></span></td><td class=\"tf rtl\"><span class=\"rtl ubd\"><span class=\"plain rtl  hl\" ><span class=\"txtu hbo\">תֵּ֜לַהּ </span></span></span></td><td class=\"tf rtl\"><span class=\"rtl ubd\"><span class=\"plain rtl  hlbx\" ><span class=\"txtu hbo\">אֶ֤רֶץ </span><span class=\"txtu hbo\">מִצְרַ֨יִם֙ </span><span class=\"plain rtl  hl\" ><span class=\"txtu hbo\">וְ</span></span><span class=\"txtu hbo\">אֶ֣רֶץ </span><span class=\"txtu hbo\">כְּנַ֔עַן </span></span></span></td><td class=\"tf rtl\"><span class=\"rtl ubd\"><span class=\"plain rtl  hl\" ><span class=\"txtu hbo\">וְ</span></span></span></td></tr>\n",
       "<tr class=\"tf rtl\"><td class=\"tf rtl\">5</td><td class=\"tf rtl\"><span class=\"tfsechead ltr\"><a target=\"_blank\" href=\"https://shebanq.ancient-data.org/hebrew/text?book=Exodus&amp;chapter=15&amp;verse=16&amp;version=2017&amp;mr=m&amp;qw=q&amp;tp=txt_p&amp;tr=hb&amp;wget=v&amp;qget=v&amp;nget=vt\" title=\"Show this on SHEBANQ\" sec=\"Exodus 15:16\">Exodus 15:16</a></span></td><td class=\"tf rtl\"><span class=\"rtl ubd\"><span class=\"plain rtl  hlbx\" ><span class=\"plain rtl  hlbx\" ><span class=\"plain rtl  hl\" ><span class=\"txtu hbo\">תִּפֹּ֨ל </span></span></span><span class=\"txtu hbo\">עֲלֵיהֶ֤ם </span><span class=\"plain rtl  hlbx\" ><span class=\"txtu hbo\">אֵימָ֨תָה֙ </span><span class=\"plain rtl  hl\" ><span class=\"txtu hbo\">וָ</span></span><span class=\"txtu hbo\">פַ֔חַד </span></span></span></span></td><td class=\"tf rtl\"><span class=\"rtl ubd\"><span class=\"plain rtl  hlbx\" ><span class=\"plain rtl  hl\" ><span class=\"txtu hbo\">תִּפֹּ֨ל </span></span></span></span></td><td class=\"tf rtl\"><span class=\"rtl ubd\"><span class=\"plain rtl  hl\" ><span class=\"txtu hbo\">תִּפֹּ֨ל </span></span></span></td><td class=\"tf rtl\"><span class=\"rtl ubd\"><span class=\"plain rtl  hlbx\" ><span class=\"txtu hbo\">אֵימָ֨תָה֙ </span><span class=\"plain rtl  hl\" ><span class=\"txtu hbo\">וָ</span></span><span class=\"txtu hbo\">פַ֔חַד </span></span></span></td><td class=\"tf rtl\"><span class=\"rtl ubd\"><span class=\"plain rtl  hl\" ><span class=\"txtu hbo\">וָ</span></span></span></td></tr></table>"
      ],
      "text/plain": [
       "<IPython.core.display.HTML object>"
      ]
     },
     "metadata": {},
     "output_type": "display_data"
    }
   ],
   "source": [
    "A.table(results, end=5)"
   ]
  },
  {
   "cell_type": "code",
   "execution_count": null,
   "id": "special-exploration",
   "metadata": {},
   "outputs": [],
   "source": []
  }
 ],
 "metadata": {
  "kernelspec": {
   "display_name": "Python 3",
   "language": "python",
   "name": "python3"
  },
  "language_info": {
   "codemirror_mode": {
    "name": "ipython",
    "version": 3
   },
   "file_extension": ".py",
   "mimetype": "text/x-python",
   "name": "python",
   "nbconvert_exporter": "python",
   "pygments_lexer": "ipython3",
   "version": "3.9.2"
  },
  "widgets": {
   "application/vnd.jupyter.widget-state+json": {
    "state": {},
    "version_major": 2,
    "version_minor": 0
   }
  }
 },
 "nbformat": 4,
 "nbformat_minor": 5
}
